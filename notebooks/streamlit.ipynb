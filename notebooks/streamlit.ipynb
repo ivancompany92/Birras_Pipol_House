{
 "cells": [
  {
   "cell_type": "markdown",
   "metadata": {},
   "source": [
    "### Data Vizualization"
   ]
  },
  {
   "cell_type": "code",
   "execution_count": 3,
   "metadata": {},
   "outputs": [],
   "source": [
    "import streamlit as st\n",
    "import pandas as pd"
   ]
  },
  {
   "cell_type": "code",
   "execution_count": 5,
   "metadata": {},
   "outputs": [
    {
     "data": {
      "text/html": [
       "<div>\n",
       "<style scoped>\n",
       "    .dataframe tbody tr th:only-of-type {\n",
       "        vertical-align: middle;\n",
       "    }\n",
       "\n",
       "    .dataframe tbody tr th {\n",
       "        vertical-align: top;\n",
       "    }\n",
       "\n",
       "    .dataframe thead th {\n",
       "        text-align: right;\n",
       "    }\n",
       "</style>\n",
       "<table border=\"1\" class=\"dataframe\">\n",
       "  <thead>\n",
       "    <tr style=\"text-align: right;\">\n",
       "      <th></th>\n",
       "      <th>price</th>\n",
       "      <th>price_liter</th>\n",
       "      <th>title</th>\n",
       "      <th>promotion</th>\n",
       "      <th>brand</th>\n",
       "      <th>container</th>\n",
       "      <th>volumen_unid</th>\n",
       "      <th>quantity_pack</th>\n",
       "      <th>image_url</th>\n",
       "      <th>supermarket</th>\n",
       "      <th>id</th>\n",
       "    </tr>\n",
       "  </thead>\n",
       "  <tbody>\n",
       "    <tr>\n",
       "      <th>0</th>\n",
       "      <td>11.21</td>\n",
       "      <td>1.89</td>\n",
       "      <td>Cerveza Heineken Lager pack de 18 latas de 33 cl.</td>\n",
       "      <td>No promotion</td>\n",
       "      <td>heineken lager</td>\n",
       "      <td>lata</td>\n",
       "      <td>33 cl</td>\n",
       "      <td>18</td>\n",
       "      <td>https://static.carrefour.es/hd_280x_/img_pim_f...</td>\n",
       "      <td>Carrefour</td>\n",
       "      <td>0</td>\n",
       "    </tr>\n",
       "    <tr>\n",
       "      <th>1</th>\n",
       "      <td>14.80</td>\n",
       "      <td>1.60</td>\n",
       "      <td>Cerveza Cruzcampo Pilsen pack de 28 latas de 3...</td>\n",
       "      <td>No promotion</td>\n",
       "      <td>cruzcampo pilsen</td>\n",
       "      <td>lata</td>\n",
       "      <td>33 cl</td>\n",
       "      <td>28</td>\n",
       "      <td>https://static.carrefour.es/hd_280x_/img_pim_f...</td>\n",
       "      <td>Carrefour</td>\n",
       "      <td>1</td>\n",
       "    </tr>\n",
       "    <tr>\n",
       "      <th>2</th>\n",
       "      <td>5.15</td>\n",
       "      <td>1.56</td>\n",
       "      <td>Cerveza El Aguila pack de 10 latas de 33 cl.</td>\n",
       "      <td>No promotion</td>\n",
       "      <td>el aguila</td>\n",
       "      <td>lata</td>\n",
       "      <td>33 cl</td>\n",
       "      <td>10</td>\n",
       "      <td>https://static.carrefour.es/hd_280x_/img_pim_f...</td>\n",
       "      <td>Carrefour</td>\n",
       "      <td>2</td>\n",
       "    </tr>\n",
       "    <tr>\n",
       "      <th>3</th>\n",
       "      <td>0.25</td>\n",
       "      <td>0.76</td>\n",
       "      <td>Cerveza Carrefour Holandesa lata 33 cl.</td>\n",
       "      <td>No promotion</td>\n",
       "      <td>carrefour holandesa</td>\n",
       "      <td>lata</td>\n",
       "      <td>33 cl</td>\n",
       "      <td>1</td>\n",
       "      <td>https://static.carrefour.es/hd_280x_/img_pim_f...</td>\n",
       "      <td>Carrefour</td>\n",
       "      <td>3</td>\n",
       "    </tr>\n",
       "    <tr>\n",
       "      <th>4</th>\n",
       "      <td>14.15</td>\n",
       "      <td>1.53</td>\n",
       "      <td>Cerveza Mahou Clásica pack de 28 latas de 33 cl.</td>\n",
       "      <td>No promotion</td>\n",
       "      <td>mahou clásica</td>\n",
       "      <td>lata</td>\n",
       "      <td>33 cl</td>\n",
       "      <td>28</td>\n",
       "      <td>https://static.carrefour.es/hd_280x_/img_pim_f...</td>\n",
       "      <td>Carrefour</td>\n",
       "      <td>4</td>\n",
       "    </tr>\n",
       "  </tbody>\n",
       "</table>\n",
       "</div>"
      ],
      "text/plain": [
       "   price  price_liter                                              title  \\\n",
       "0  11.21         1.89  Cerveza Heineken Lager pack de 18 latas de 33 cl.   \n",
       "1  14.80         1.60  Cerveza Cruzcampo Pilsen pack de 28 latas de 3...   \n",
       "2   5.15         1.56       Cerveza El Aguila pack de 10 latas de 33 cl.   \n",
       "3   0.25         0.76            Cerveza Carrefour Holandesa lata 33 cl.   \n",
       "4  14.15         1.53   Cerveza Mahou Clásica pack de 28 latas de 33 cl.   \n",
       "\n",
       "      promotion                brand container volumen_unid  quantity_pack  \\\n",
       "0  No promotion       heineken lager      lata        33 cl             18   \n",
       "1  No promotion     cruzcampo pilsen      lata        33 cl             28   \n",
       "2  No promotion            el aguila      lata        33 cl             10   \n",
       "3  No promotion  carrefour holandesa      lata        33 cl              1   \n",
       "4  No promotion        mahou clásica      lata        33 cl             28   \n",
       "\n",
       "                                           image_url supermarket  id  \n",
       "0  https://static.carrefour.es/hd_280x_/img_pim_f...   Carrefour   0  \n",
       "1  https://static.carrefour.es/hd_280x_/img_pim_f...   Carrefour   1  \n",
       "2  https://static.carrefour.es/hd_280x_/img_pim_f...   Carrefour   2  \n",
       "3  https://static.carrefour.es/hd_280x_/img_pim_f...   Carrefour   3  \n",
       "4  https://static.carrefour.es/hd_280x_/img_pim_f...   Carrefour   4  "
      ]
     },
     "execution_count": 5,
     "metadata": {},
     "output_type": "execute_result"
    }
   ],
   "source": [
    "# load dataset\n",
    "\n",
    "data = pd.read_csv('../data/processed/data_beer_total.csv')\n",
    "data.head()"
   ]
  },
  {
   "cell_type": "code",
   "execution_count": 7,
   "metadata": {},
   "outputs": [
    {
     "data": {
      "text/plain": [
       "<streamlit.delta_generator.DeltaGenerator at 0x7f28f8905990>"
      ]
     },
     "execution_count": 7,
     "metadata": {},
     "output_type": "execute_result"
    }
   ],
   "source": [
    "st.title(\"Esto sería un título\")"
   ]
  },
  {
   "cell_type": "code",
   "execution_count": null,
   "metadata": {},
   "outputs": [],
   "source": []
  },
  {
   "cell_type": "code",
   "execution_count": null,
   "metadata": {},
   "outputs": [],
   "source": []
  },
  {
   "cell_type": "code",
   "execution_count": null,
   "metadata": {},
   "outputs": [],
   "source": []
  },
  {
   "cell_type": "code",
   "execution_count": null,
   "metadata": {},
   "outputs": [],
   "source": []
  },
  {
   "cell_type": "code",
   "execution_count": null,
   "metadata": {},
   "outputs": [],
   "source": []
  }
 ],
 "metadata": {
  "kernelspec": {
   "display_name": "Python [conda env:IronHack_env]",
   "language": "python",
   "name": "conda-env-IronHack_env-py"
  },
  "language_info": {
   "codemirror_mode": {
    "name": "ipython",
    "version": 3
   },
   "file_extension": ".py",
   "mimetype": "text/x-python",
   "name": "python",
   "nbconvert_exporter": "python",
   "pygments_lexer": "ipython3",
   "version": "3.7.7"
  }
 },
 "nbformat": 4,
 "nbformat_minor": 4
}
