{
 "cells": [
  {
   "cell_type": "markdown",
   "metadata": {},
   "source": [
    "### model brand"
   ]
  },
  {
   "cell_type": "code",
   "execution_count": 1,
   "metadata": {},
   "outputs": [],
   "source": [
    "import pandas as pd\n",
    "import re\n",
    "import numpy as np"
   ]
  },
  {
   "cell_type": "code",
   "execution_count": 2,
   "metadata": {},
   "outputs": [],
   "source": [
    "def load_df_products(name):\n",
    "    return pd.read_csv(f'../data/processed/data_beer_{name}.csv')"
   ]
  },
  {
   "cell_type": "code",
   "execution_count": 3,
   "metadata": {},
   "outputs": [],
   "source": [
    "data_beer = load_df_products('total')"
   ]
  },
  {
   "cell_type": "code",
   "execution_count": 4,
   "metadata": {},
   "outputs": [
    {
     "data": {
      "text/html": [
       "<div>\n",
       "<style scoped>\n",
       "    .dataframe tbody tr th:only-of-type {\n",
       "        vertical-align: middle;\n",
       "    }\n",
       "\n",
       "    .dataframe tbody tr th {\n",
       "        vertical-align: top;\n",
       "    }\n",
       "\n",
       "    .dataframe thead th {\n",
       "        text-align: right;\n",
       "    }\n",
       "</style>\n",
       "<table border=\"1\" class=\"dataframe\">\n",
       "  <thead>\n",
       "    <tr style=\"text-align: right;\">\n",
       "      <th></th>\n",
       "      <th>price</th>\n",
       "      <th>price_liter</th>\n",
       "      <th>title</th>\n",
       "      <th>promotion</th>\n",
       "      <th>brand</th>\n",
       "      <th>container</th>\n",
       "      <th>volumen_unid</th>\n",
       "      <th>quantity_pack</th>\n",
       "      <th>image_url</th>\n",
       "      <th>supermarket</th>\n",
       "      <th>promotion_check</th>\n",
       "      <th>id</th>\n",
       "      <th>specials</th>\n",
       "    </tr>\n",
       "  </thead>\n",
       "  <tbody>\n",
       "    <tr>\n",
       "      <th>0</th>\n",
       "      <td>8.99</td>\n",
       "      <td>1.51</td>\n",
       "      <td>Cerveza Heineken Lager pack de 18 latas de 33 cl.</td>\n",
       "      <td>No promotion</td>\n",
       "      <td>heineken</td>\n",
       "      <td>lata</td>\n",
       "      <td>33 cl</td>\n",
       "      <td>18</td>\n",
       "      <td>https://static.carrefour.es/hd_280x_/img_pim_f...</td>\n",
       "      <td>Carrefour</td>\n",
       "      <td>no</td>\n",
       "      <td>0</td>\n",
       "      <td>others</td>\n",
       "    </tr>\n",
       "    <tr>\n",
       "      <th>1</th>\n",
       "      <td>14.28</td>\n",
       "      <td>1.55</td>\n",
       "      <td>Cerveza Cruzcampo Pilsen pack de 28 latas de 3...</td>\n",
       "      <td>2ª al -50%</td>\n",
       "      <td>cruzcampo</td>\n",
       "      <td>lata</td>\n",
       "      <td>33 cl</td>\n",
       "      <td>28</td>\n",
       "      <td>https://static.carrefour.es/hd_280x_/img_pim_f...</td>\n",
       "      <td>Carrefour</td>\n",
       "      <td>yes</td>\n",
       "      <td>1</td>\n",
       "      <td>others</td>\n",
       "    </tr>\n",
       "    <tr>\n",
       "      <th>2</th>\n",
       "      <td>5.15</td>\n",
       "      <td>1.56</td>\n",
       "      <td>Cerveza El Aguila pack de 10 latas de 33 cl.</td>\n",
       "      <td>No promotion</td>\n",
       "      <td>el águila</td>\n",
       "      <td>lata</td>\n",
       "      <td>33 cl</td>\n",
       "      <td>10</td>\n",
       "      <td>https://static.carrefour.es/hd_280x_/img_pim_f...</td>\n",
       "      <td>Carrefour</td>\n",
       "      <td>no</td>\n",
       "      <td>2</td>\n",
       "      <td>others</td>\n",
       "    </tr>\n",
       "    <tr>\n",
       "      <th>3</th>\n",
       "      <td>0.25</td>\n",
       "      <td>0.76</td>\n",
       "      <td>Cerveza Carrefour Holandesa lata 33 cl.</td>\n",
       "      <td>3x2</td>\n",
       "      <td>carrefour</td>\n",
       "      <td>lata</td>\n",
       "      <td>33 cl</td>\n",
       "      <td>1</td>\n",
       "      <td>https://static.carrefour.es/hd_280x_/img_pim_f...</td>\n",
       "      <td>Carrefour</td>\n",
       "      <td>yes</td>\n",
       "      <td>3</td>\n",
       "      <td>others</td>\n",
       "    </tr>\n",
       "    <tr>\n",
       "      <th>4</th>\n",
       "      <td>10.64</td>\n",
       "      <td>1.15</td>\n",
       "      <td>Cerveza Mahou Clásica pack de 28 latas de 33 cl.</td>\n",
       "      <td>No promotion</td>\n",
       "      <td>mahou clasica</td>\n",
       "      <td>lata</td>\n",
       "      <td>33 cl</td>\n",
       "      <td>28</td>\n",
       "      <td>https://static.carrefour.es/hd_280x_/img_pim_f...</td>\n",
       "      <td>Carrefour</td>\n",
       "      <td>no</td>\n",
       "      <td>4</td>\n",
       "      <td>others</td>\n",
       "    </tr>\n",
       "  </tbody>\n",
       "</table>\n",
       "</div>"
      ],
      "text/plain": [
       "   price  price_liter                                              title  \\\n",
       "0   8.99         1.51  Cerveza Heineken Lager pack de 18 latas de 33 cl.   \n",
       "1  14.28         1.55  Cerveza Cruzcampo Pilsen pack de 28 latas de 3...   \n",
       "2   5.15         1.56       Cerveza El Aguila pack de 10 latas de 33 cl.   \n",
       "3   0.25         0.76            Cerveza Carrefour Holandesa lata 33 cl.   \n",
       "4  10.64         1.15   Cerveza Mahou Clásica pack de 28 latas de 33 cl.   \n",
       "\n",
       "      promotion          brand container volumen_unid  quantity_pack  \\\n",
       "0  No promotion       heineken      lata        33 cl             18   \n",
       "1    2ª al -50%      cruzcampo      lata        33 cl             28   \n",
       "2  No promotion      el águila      lata        33 cl             10   \n",
       "3           3x2      carrefour      lata        33 cl              1   \n",
       "4  No promotion  mahou clasica      lata        33 cl             28   \n",
       "\n",
       "                                           image_url supermarket  \\\n",
       "0  https://static.carrefour.es/hd_280x_/img_pim_f...   Carrefour   \n",
       "1  https://static.carrefour.es/hd_280x_/img_pim_f...   Carrefour   \n",
       "2  https://static.carrefour.es/hd_280x_/img_pim_f...   Carrefour   \n",
       "3  https://static.carrefour.es/hd_280x_/img_pim_f...   Carrefour   \n",
       "4  https://static.carrefour.es/hd_280x_/img_pim_f...   Carrefour   \n",
       "\n",
       "  promotion_check  id specials  \n",
       "0              no   0   others  \n",
       "1             yes   1   others  \n",
       "2              no   2   others  \n",
       "3             yes   3   others  \n",
       "4              no   4   others  "
      ]
     },
     "execution_count": 4,
     "metadata": {},
     "output_type": "execute_result"
    }
   ],
   "source": [
    "data_beer.head()"
   ]
  },
  {
   "cell_type": "code",
   "execution_count": 21,
   "metadata": {},
   "outputs": [],
   "source": [
    "def change_volume(text):\n",
    "    text = text.lower()\n",
    "    text = text.rstrip()\n",
    "    text = text.lstrip()\n",
    "    number_cl = re.findall('[a-z]+',text)\n",
    "    if len(number_cl)==0:\n",
    "        take_number = re.findall('[0-9]+', text)\n",
    "        return take_number[0] + ' cl'\n",
    "    if text == '33cl':\n",
    "        return '33 cl'\n",
    "    elif text == '50cl':\n",
    "        return '50 cl'\n",
    "    number_c = re.findall('l',text)\n",
    "    if len(number_c) == 0:\n",
    "        return text + 'l'\n",
    "    \n",
    "    return text"
   ]
  },
  {
   "cell_type": "code",
   "execution_count": 22,
   "metadata": {},
   "outputs": [
    {
     "data": {
      "text/plain": [
       "33 cl       911\n",
       "25 cl       233\n",
       "50 cl       184\n",
       "1 l          43\n",
       "75 cl        26\n",
       "35,5 cl      17\n",
       "44 cl        11\n",
       "35,50 cl      9\n",
       "20 cl         8\n",
       "21 cl         7\n",
       "30 cl         5\n",
       "37,5 cl       5\n",
       "37 cl         4\n",
       "5 l           3\n",
       "66 cl         3\n",
       "70 cl         3\n",
       "33,5 cl       3\n",
       "34 cl         2\n",
       "45 cl         2\n",
       "2 l           2\n",
       "35.5 cl       2\n",
       "55 cl         1\n",
       "250 ml        1\n",
       "20,7 cl       1\n",
       "28,5 cl       1\n",
       "33,50 cl      1\n",
       "60 cl         1\n",
       "40 cl         1\n",
       "330 cl        1\n",
       "355 ml        1\n",
       "27,5 cl       1\n",
       "50 ml         1\n",
       "Name: volumen_unid, dtype: int64"
      ]
     },
     "execution_count": 22,
     "metadata": {},
     "output_type": "execute_result"
    }
   ],
   "source": [
    "data_beer['volumen_unid'].apply(change_volume).value_counts()"
   ]
  },
  {
   "cell_type": "code",
   "execution_count": 22,
   "metadata": {},
   "outputs": [
    {
     "data": {
      "text/plain": [
       "0        no\n",
       "1       yes\n",
       "2        no\n",
       "3       yes\n",
       "4        no\n",
       "       ... \n",
       "1585     no\n",
       "1586     no\n",
       "1587     no\n",
       "1588     no\n",
       "1589     no\n",
       "Name: promotion, Length: 1590, dtype: object"
      ]
     },
     "execution_count": 22,
     "metadata": {},
     "output_type": "execute_result"
    }
   ],
   "source": [
    "def promotion_list(text):\n",
    "    if text != 'No promotion':\n",
    "        return 'yes'\n",
    "    else:\n",
    "        return 'no'\n",
    "    \n",
    "data_beer['promotion'].apply(promotion_list)"
   ]
  },
  {
   "cell_type": "code",
   "execution_count": 27,
   "metadata": {},
   "outputs": [
    {
     "data": {
      "text/plain": [
       "0.19"
      ]
     },
     "execution_count": 27,
     "metadata": {},
     "output_type": "execute_result"
    }
   ],
   "source": [
    "data_beer.sort_values('price_liter', inplace=True, ignore_index=True)\n",
    "data_beer['price_liter'][0]"
   ]
  },
  {
   "cell_type": "code",
   "execution_count": 9,
   "metadata": {},
   "outputs": [
    {
     "data": {
      "text/plain": [
       "600"
      ]
     },
     "execution_count": 9,
     "metadata": {},
     "output_type": "execute_result"
    }
   ],
   "source": [
    "data_beer[data_beer['promotion'] != 'No promotion']['promotion'].count()"
   ]
  },
  {
   "cell_type": "code",
   "execution_count": 58,
   "metadata": {},
   "outputs": [],
   "source": [
    "lager ='''ramblers|amstel|dia'''\n",
    "\n",
    "Pilsen='''mahou|heineken'''"
   ]
  },
  {
   "cell_type": "code",
   "execution_count": 26,
   "metadata": {},
   "outputs": [
    {
     "data": {
      "text/plain": [
       "El Corte Ingles    58\n",
       "Carrefour          26\n",
       "Alcampo            19\n",
       "Eroski              5\n",
       "Name: supermarket, dtype: int64"
      ]
     },
     "execution_count": 26,
     "metadata": {},
     "output_type": "execute_result"
    }
   ],
   "source": [
    "def artesana(text):\n",
    "    artesana = re.findall('artesana',text.lower())\n",
    "    if len(artesana)!=0:\n",
    "        return 'Artesana'\n",
    "\n",
    "data_beer['Artesana']=data_beer['title'].apply(artesana)\n",
    "\n",
    "data_beer[data_beer['Artesana']=='Artesana']['supermarket'].value_counts()"
   ]
  },
  {
   "cell_type": "code",
   "execution_count": 27,
   "metadata": {},
   "outputs": [
    {
     "data": {
      "text/plain": [
       "El Corte Ingles    22\n",
       "Alcampo            20\n",
       "Carrefour          17\n",
       "Eroski             12\n",
       "Dia                 1\n",
       "Name: supermarket, dtype: int64"
      ]
     },
     "execution_count": 27,
     "metadata": {},
     "output_type": "execute_result"
    }
   ],
   "source": [
    "def ipa(text):\n",
    "    ipa_beer = re.findall('ipa',text.lower())\n",
    "    if len(ipa_beer)!=0:\n",
    "        return 'IPA'\n",
    "\n",
    "data_beer['IPA']=data_beer['title'].apply(ipa)\n",
    "\n",
    "data_beer[data_beer['IPA']=='IPA']['supermarket'].value_counts()"
   ]
  },
  {
   "cell_type": "code",
   "execution_count": 28,
   "metadata": {},
   "outputs": [
    {
     "data": {
      "text/plain": [
       "El Corte Ingles    30\n",
       "Alcampo            16\n",
       "Carrefour          15\n",
       "Eroski              8\n",
       "Dia                 1\n",
       "Name: supermarket, dtype: int64"
      ]
     },
     "execution_count": 28,
     "metadata": {},
     "output_type": "execute_result"
    }
   ],
   "source": [
    "def oscura(text):\n",
    "    oscura = re.findall('oscura|negra|porter',text.lower())\n",
    "    if len(oscura)!=0:\n",
    "        return 'negra'\n",
    "\n",
    "data_beer['negra']=data_beer['title'].apply(oscura)\n",
    "\n",
    "data_beer[data_beer['negra']=='negra']['supermarket'].value_counts()"
   ]
  },
  {
   "cell_type": "code",
   "execution_count": 29,
   "metadata": {},
   "outputs": [
    {
     "data": {
      "text/plain": [
       "Alcampo            59\n",
       "Carrefour          48\n",
       "El Corte Ingles    48\n",
       "Eroski             35\n",
       "Dia                12\n",
       "Name: supermarket, dtype: int64"
      ]
     },
     "execution_count": 29,
     "metadata": {},
     "output_type": "execute_result"
    }
   ],
   "source": [
    "def sin_alcohol(text):\n",
    "    sin_alcohol = re.findall('[0.,]{3}|sin alcohol',text.lower())\n",
    "    if len(sin_alcohol)!=0:\n",
    "        return 'sin alcohol'\n",
    "\n",
    "data_beer['sin_alcohol']=data_beer['title'].apply(sin_alcohol)\n",
    "\n",
    "data_beer[data_beer['sin_alcohol']=='sin alcohol']['supermarket'].value_counts()"
   ]
  },
  {
   "cell_type": "code",
   "execution_count": 44,
   "metadata": {},
   "outputs": [
    {
     "data": {
      "text/plain": [
       "Alcampo            19\n",
       "Carrefour          18\n",
       "Eroski             13\n",
       "El Corte Ingles    12\n",
       "Dia                 5\n",
       "Name: supermarket, dtype: int64"
      ]
     },
     "execution_count": 44,
     "metadata": {},
     "output_type": "execute_result"
    }
   ],
   "source": [
    "def radler(text):\n",
    "    radler = re.findall('radler', text.lower())\n",
    "    if len(radler) != 0:\n",
    "        return 'radler'\n",
    "\n",
    "data_beer['radler']=data_beer['title'].apply(radler)\n",
    "\n",
    "data_beer[data_beer['radler']=='radler']['supermarket'].value_counts()\n"
   ]
  },
  {
   "cell_type": "code",
   "execution_count": 31,
   "metadata": {},
   "outputs": [
    {
     "data": {
      "text/plain": [
       "Carrefour          8\n",
       "Alcampo            2\n",
       "El Corte Ingles    1\n",
       "Name: supermarket, dtype: int64"
      ]
     },
     "execution_count": 31,
     "metadata": {},
     "output_type": "execute_result"
    }
   ],
   "source": [
    "def eco(text):\n",
    "    eco = re.findall('ecológica|ecologica|eco', text.lower())\n",
    "    if len(eco) != 0:\n",
    "        return 'ecologica'\n",
    "\n",
    "data_beer['eco']=data_beer['title'].apply(eco)\n",
    "\n",
    "data_beer[data_beer['eco']=='ecologica']['supermarket'].value_counts()"
   ]
  },
  {
   "cell_type": "code",
   "execution_count": 32,
   "metadata": {},
   "outputs": [
    {
     "data": {
      "text/plain": [
       "Carrefour          11\n",
       "El Corte Ingles    10\n",
       "Alcampo             9\n",
       "Eroski              5\n",
       "Dia                 1\n",
       "Name: supermarket, dtype: int64"
      ]
     },
     "execution_count": 32,
     "metadata": {},
     "output_type": "execute_result"
    }
   ],
   "source": [
    "def sin_gluten(text):\n",
    "    sin_gluten = re.findall('sin gluten', text.lower())\n",
    "    if len(sin_gluten) != 0:\n",
    "        return 'sin gluten'\n",
    "\n",
    "data_beer['sin_gluten']=data_beer['title'].apply(sin_gluten)\n",
    "\n",
    "data_beer[data_beer['sin_gluten']=='sin gluten']['supermarket'].value_counts()\n"
   ]
  },
  {
   "cell_type": "code",
   "execution_count": 45,
   "metadata": {},
   "outputs": [],
   "source": [
    "def beer_specials(text):\n",
    "    add = ''\n",
    "    art = artesana(text)\n",
    "    if art:\n",
    "        add+=art +' '\n",
    "    ipaa = ipa(text)\n",
    "    if ipaa:\n",
    "        add+=ipaa +' '\n",
    "    osc = oscura(text)\n",
    "    if osc:\n",
    "        add+=osc +' '\n",
    "    sia = sin_alcohol(text)\n",
    "    if sia:\n",
    "        add+=sia +' '\n",
    "    rad = radler(text)\n",
    "    if rad:\n",
    "        add+=rad +' '\n",
    "    sig = sin_gluten(text)\n",
    "    if sig:\n",
    "        add+=sig +' '\n",
    "    ecoo = eco(text)\n",
    "    if ecoo:\n",
    "        add+=ecoo +' '\n",
    "    if len(add)>1:\n",
    "        return add\n",
    "    else:\n",
    "        return 'others'\n"
   ]
  },
  {
   "cell_type": "code",
   "execution_count": 46,
   "metadata": {},
   "outputs": [
    {
     "data": {
      "text/plain": [
       "others                               1068\n",
       "sin alcohol                           172\n",
       "Artesana                               73\n",
       "negra                                  56\n",
       "IPA                                    50\n",
       "radler                                 44\n",
       "sin gluten                             30\n",
       "sin alcohol radler                     22\n",
       "Artesana IPA                           22\n",
       "Artesana negra                         10\n",
       "ecologica                               6\n",
       "negra sin alcohol                       4\n",
       "sin alcohol sin gluten                  3\n",
       "Artesana ecologica                      2\n",
       "sin alcohol sin gluten ecologica        1\n",
       "sin gluten ecologica                    1\n",
       "radler ecologica                        1\n",
       "Artesana sin gluten                     1\n",
       "Name: specials, dtype: int64"
      ]
     },
     "execution_count": 46,
     "metadata": {},
     "output_type": "execute_result"
    }
   ],
   "source": [
    "data_beer['specials']=data_beer['title'].apply(beer_specials)\n",
    "\n",
    "data_beer['specials'].value_counts()\n"
   ]
  },
  {
   "cell_type": "code",
   "execution_count": 47,
   "metadata": {},
   "outputs": [],
   "source": [
    "def change_brand(brand_raw):\n",
    "    names_brands = '''ramblers|amstel|mahou|dia|heineken|san miguel|estrella galicia|voll-damm|1906|budweiser|\n",
    "    |cruzcampo|buckler|dia shandy|desperado|grimbergen|franziskaner|paulaner|corona|guinness|el aguila|\n",
    "    |ambar|alhambra|coronita|leffe|kronenbourg|carlsberg|la salve|warsteiner|mexicana|pacífico|guiness|\n",
    "    |founders|spatem|beck|cubanisto|aurum|keler|woll-damm|aurum|ambar|free damm|ladrón de manzanas|\n",
    "    |brewdog|ipa lagunitas|inedit|daura|oro|estrella damm|damm|complot|corgon gard|judas|olañeta|\n",
    "    |grevensteiner|inedit|chimay|house 13|lorea ipa boga|trappe|mort subite|kirin|urquell|cruz campo|\n",
    "    |malquerida|moretti|clausthaler|affligem|stella artoi|sol|quilmes|daura marzen|turia|boga|\n",
    "    |schöfferhofer|grolsch|la goudale|atkien dunkel|chérie|belzebuth|la virgen|lowenbrau|bulmers|jai alai|\n",
    "    |strongbow|cruz del sur|voll damm|estrella levante|xibeca|victoria|estrella del sur|aliada|moritz|\n",
    "    |brabante|superbock|kirin ichiban|staropramen|waterloo|weltenburger|schwaben|dab|praga|abbot|\n",
    "    |lowenbräu|spaten|hofbräu|dos equis|birra moretti|karmeliet|kwak|gordon|martin's|delirium tremens|veltins|\n",
    "    |pacifico|triple secret des moine|la bière du demon|baltika|molino viejo|cusqueña|cobra|zywiec|barista|\n",
    "    |bischofshof|hoegaarden|schofferhofer|erdinger|konig ludwig|rosita|burro de sancho|\n",
    "    |monkey|arriaca|ladron de manzanas|kopparberg|la sagra|sierra nevada|montseny|maisel & friends|\n",
    "    |tyris|rabiosa|jaira|forastera|cibeles|mulhacen|gredos|ballut|madri chulapo|gastheiz|quijota|\n",
    "    |marijuana|moli balear|dolina|icue|bizantina|bavaria|newcastle|timmermans|modelo|heifer|holbrand|\n",
    "    |rubai|el águila|estrella de galicia|chouffe|peroni|miller|goya|super bock|sam miguel|karamalz|\n",
    "    |skol|budejovicky|wersteiner|duvel|schneider weisse|john smith's|blue moon|rochefort-8|salitos|\n",
    "    |old empire|köning ludwing weissbier|könig ludwig weissbier|blanche de charleroi|ruddles|\n",
    "    |madrí chulapo|abbaye d'aulne|g de goudale|cuzqueña|london pride|wychwood hobgoblin|sureña|\n",
    "    |innis&gunn|intense gold|faxe|bitburger|lindemans|maisel&friends|pearl jet|the one|original intense|\n",
    "    |licher|tennent's|tedeum|enigma|mulhacén|gervensteiner|abbaye du lys|greventeiner|liefmans|rubia 4|\n",
    "    |san sebastian|maisel|carrefour|koenigsbier|polar|coors|kadabra|brooklyn|alsfelder|madriz|presidente|\n",
    "    |fentiman's de jengibre|lammsbräu|riedenburger|benediktinerabtei|iron maiden|old speckled hen|\n",
    "    |ordio minero|rubia dab|corte ingles|thatchers gold'''\n",
    "  \n",
    "    brand = re.findall(names_brands,brand_raw.lower())\n",
    "    if len(brand)>1:\n",
    "        for name in brand:\n",
    "            if len(name)>3:\n",
    "                return name\n",
    "    else:\n",
    "        return brand[0]"
   ]
  },
  {
   "cell_type": "markdown",
   "metadata": {},
   "source": [
    "Welcome beer lovers! \\U0001f37a  \n",
    "In this dashboard you will be able to discover the price of your favorite beer in the following supermarkets:\n",
    "- Carrefour\n",
    "- Alcampo\n",
    "- El Corte ingles\n",
    "- Dia\n",
    "- Eroski "
   ]
  },
  {
   "cell_type": "code",
   "execution_count": 48,
   "metadata": {},
   "outputs": [
    {
     "data": {
      "text/plain": [
       "0        heineken\n",
       "1       cruzcampo\n",
       "2       el aguila\n",
       "3       carrefour\n",
       "4           mahou\n",
       "          ...    \n",
       "1561    cruzcampo\n",
       "1562    la virgen\n",
       "1563        ambar\n",
       "1564    lowenbrau\n",
       "1565     brooklyn\n",
       "Name: title, Length: 1566, dtype: object"
      ]
     },
     "execution_count": 48,
     "metadata": {},
     "output_type": "execute_result"
    }
   ],
   "source": [
    "data_beer['title'].apply(change_brand)"
   ]
  },
  {
   "cell_type": "code",
   "execution_count": 7,
   "metadata": {},
   "outputs": [
    {
     "data": {
      "text/html": [
       "<div>\n",
       "<style scoped>\n",
       "    .dataframe tbody tr th:only-of-type {\n",
       "        vertical-align: middle;\n",
       "    }\n",
       "\n",
       "    .dataframe tbody tr th {\n",
       "        vertical-align: top;\n",
       "    }\n",
       "\n",
       "    .dataframe thead th {\n",
       "        text-align: right;\n",
       "    }\n",
       "</style>\n",
       "<table border=\"1\" class=\"dataframe\">\n",
       "  <thead>\n",
       "    <tr style=\"text-align: right;\">\n",
       "      <th></th>\n",
       "      <th>price</th>\n",
       "      <th>price_liter</th>\n",
       "      <th>title</th>\n",
       "      <th>promotion</th>\n",
       "      <th>brand</th>\n",
       "      <th>container</th>\n",
       "      <th>volumen_unid</th>\n",
       "      <th>quantity_pack</th>\n",
       "      <th>image_url</th>\n",
       "      <th>supermarket</th>\n",
       "      <th>id</th>\n",
       "    </tr>\n",
       "  </thead>\n",
       "  <tbody>\n",
       "    <tr>\n",
       "      <th>0</th>\n",
       "      <td>11.21</td>\n",
       "      <td>1.89</td>\n",
       "      <td>Cerveza Heineken Lager pack de 18 latas de 33 cl.</td>\n",
       "      <td>No promotion</td>\n",
       "      <td>heineken</td>\n",
       "      <td>lata</td>\n",
       "      <td>33 cl</td>\n",
       "      <td>18</td>\n",
       "      <td>https://static.carrefour.es/hd_280x_/img_pim_f...</td>\n",
       "      <td>Carrefour</td>\n",
       "      <td>0</td>\n",
       "    </tr>\n",
       "    <tr>\n",
       "      <th>1</th>\n",
       "      <td>14.80</td>\n",
       "      <td>1.60</td>\n",
       "      <td>Cerveza Cruzcampo Pilsen pack de 28 latas de 3...</td>\n",
       "      <td>No promotion</td>\n",
       "      <td>cruzcampo</td>\n",
       "      <td>lata</td>\n",
       "      <td>33 cl</td>\n",
       "      <td>28</td>\n",
       "      <td>https://static.carrefour.es/hd_280x_/img_pim_f...</td>\n",
       "      <td>Carrefour</td>\n",
       "      <td>1</td>\n",
       "    </tr>\n",
       "    <tr>\n",
       "      <th>2</th>\n",
       "      <td>5.15</td>\n",
       "      <td>1.56</td>\n",
       "      <td>Cerveza El Aguila pack de 10 latas de 33 cl.</td>\n",
       "      <td>No promotion</td>\n",
       "      <td>el aguila</td>\n",
       "      <td>lata</td>\n",
       "      <td>33 cl</td>\n",
       "      <td>10</td>\n",
       "      <td>https://static.carrefour.es/hd_280x_/img_pim_f...</td>\n",
       "      <td>Carrefour</td>\n",
       "      <td>2</td>\n",
       "    </tr>\n",
       "    <tr>\n",
       "      <th>3</th>\n",
       "      <td>0.25</td>\n",
       "      <td>0.76</td>\n",
       "      <td>Cerveza Carrefour Holandesa lata 33 cl.</td>\n",
       "      <td>No promotion</td>\n",
       "      <td>carrefour</td>\n",
       "      <td>lata</td>\n",
       "      <td>33 cl</td>\n",
       "      <td>1</td>\n",
       "      <td>https://static.carrefour.es/hd_280x_/img_pim_f...</td>\n",
       "      <td>Carrefour</td>\n",
       "      <td>3</td>\n",
       "    </tr>\n",
       "    <tr>\n",
       "      <th>4</th>\n",
       "      <td>14.15</td>\n",
       "      <td>1.53</td>\n",
       "      <td>Cerveza Mahou Clásica pack de 28 latas de 33 cl.</td>\n",
       "      <td>No promotion</td>\n",
       "      <td>mahou</td>\n",
       "      <td>lata</td>\n",
       "      <td>33 cl</td>\n",
       "      <td>28</td>\n",
       "      <td>https://static.carrefour.es/hd_280x_/img_pim_f...</td>\n",
       "      <td>Carrefour</td>\n",
       "      <td>4</td>\n",
       "    </tr>\n",
       "  </tbody>\n",
       "</table>\n",
       "</div>"
      ],
      "text/plain": [
       "   price  price_liter                                              title  \\\n",
       "0  11.21         1.89  Cerveza Heineken Lager pack de 18 latas de 33 cl.   \n",
       "1  14.80         1.60  Cerveza Cruzcampo Pilsen pack de 28 latas de 3...   \n",
       "2   5.15         1.56       Cerveza El Aguila pack de 10 latas de 33 cl.   \n",
       "3   0.25         0.76            Cerveza Carrefour Holandesa lata 33 cl.   \n",
       "4  14.15         1.53   Cerveza Mahou Clásica pack de 28 latas de 33 cl.   \n",
       "\n",
       "      promotion      brand container volumen_unid  quantity_pack  \\\n",
       "0  No promotion   heineken      lata        33 cl             18   \n",
       "1  No promotion  cruzcampo      lata        33 cl             28   \n",
       "2  No promotion  el aguila      lata        33 cl             10   \n",
       "3  No promotion  carrefour      lata        33 cl              1   \n",
       "4  No promotion      mahou      lata        33 cl             28   \n",
       "\n",
       "                                           image_url supermarket  id  \n",
       "0  https://static.carrefour.es/hd_280x_/img_pim_f...   Carrefour   0  \n",
       "1  https://static.carrefour.es/hd_280x_/img_pim_f...   Carrefour   1  \n",
       "2  https://static.carrefour.es/hd_280x_/img_pim_f...   Carrefour   2  \n",
       "3  https://static.carrefour.es/hd_280x_/img_pim_f...   Carrefour   3  \n",
       "4  https://static.carrefour.es/hd_280x_/img_pim_f...   Carrefour   4  "
      ]
     },
     "execution_count": 7,
     "metadata": {},
     "output_type": "execute_result"
    }
   ],
   "source": [
    "data_beer['brand'] = data_beer['title'].apply(change_brand)\n",
    "\n",
    "data_beer.head()"
   ]
  },
  {
   "cell_type": "code",
   "execution_count": 8,
   "metadata": {},
   "outputs": [],
   "source": [
    "def mahou_types(title):\n",
    "    title = title.lower()\n",
    "    \n",
    "    sin_gluten = re.findall('sin gluten',title)\n",
    "    if len(sin_gluten)!=0:\n",
    "        return 'mahou sin gluten'\n",
    "    \n",
    "    radler = re.findall('radler',title)\n",
    "    if len(radler)!=0:\n",
    "        sin_alcohol = re.findall('[0.,]{3}|sin alcohol',title)\n",
    "        if len(sin_alcohol)!=0:\n",
    "            return 'mahou radler sin alcohol 0,0%'\n",
    "        else:\n",
    "            return 'mahou radler'\n",
    "    \n",
    "    clasica = re.findall('[clasicá]{7,}',title)\n",
    "    if len(clasica)!=0:\n",
    "        return 'mahou clasica'\n",
    "    \n",
    "    mixta = re.findall('mixta|shandy', title)\n",
    "    if len(mixta)!=0:\n",
    "        return 'mahou mixta'\n",
    "    \n",
    "    sin_alcohol = re.findall('[0.,]{3}|sin alcohol',title)\n",
    "    if len(sin_alcohol)!=0:\n",
    "        return 'mahou sin alcohol 0,0%'\n",
    "    \n",
    "    ipa = re.findall('ipa',title)\n",
    "    if len(ipa)!=0:\n",
    "        return 'mahou ipa'\n",
    "    \n",
    "    maestra = re.findall('maestra',title)\n",
    "    if len(maestra)!=0:\n",
    "        return 'mahou maestra'\n",
    "    \n",
    "    barrica = re.findall('barrica',title)\n",
    "    if len(barrica)!=0:\n",
    "        return 'mahou barrica'\n",
    "    \n",
    "    casimiro = re.findall('casimiro',title)\n",
    "    if len(casimiro)!=0:\n",
    "        return 'mahou casimiro'\n",
    "    \n",
    "    roja = re.findall('mahou',title)\n",
    "    if len(roja)!=0:\n",
    "        return 'mahou 5 estrellas'\n",
    "    "
   ]
  },
  {
   "cell_type": "code",
   "execution_count": 9,
   "metadata": {},
   "outputs": [],
   "source": [
    "def san_miguel_types(title):\n",
    "    title = title.lower()\n",
    "\n",
    "    sin_gluten = re.findall('sin gluten',title)\n",
    "    if len(sin_gluten)!=0:\n",
    "        return 'san miguel sin gluten'\n",
    "    \n",
    "    radler = re.findall('radler',title)\n",
    "    if len(radler)!=0:\n",
    "        sin_alcohol = re.findall('[0.,]{3}|sin alcohol',title)\n",
    "        if len(sin_alcohol)!=0:\n",
    "            return 'san miguel radler sin alcohol 0,0%'\n",
    "        else:\n",
    "            return 'san miguel radler'\n",
    "    \n",
    "    sin_alcohol = re.findall('[0.,]{3}|sin alcohol',title)\n",
    "    if len(sin_alcohol)!=0:\n",
    "        return 'san miguel sin alcohol 0,0%'\n",
    "\n",
    "    ipa = re.findall('ipa',title)\n",
    "    if len(ipa)!=0:\n",
    "        return 'san miguel ipa'\n",
    "\n",
    "    magna = re.findall('magna',title)\n",
    "    if len(magna)!=0:\n",
    "        return 'san miguel magna'\n",
    "\n",
    "    selecta = re.findall('selecta',title)\n",
    "    if len(selecta)!=0:\n",
    "        return 'san miguel selecta'\n",
    "\n",
    "    manila = re.findall('manila',title)\n",
    "    if len(manila)!=0:\n",
    "        return 'san miguel manila'\n",
    "\n",
    "    eco = re.findall('ecológica',title)\n",
    "    if len(eco)!=0:\n",
    "        return 'san miguel ecologica'\n",
    "\n",
    "    premium = re.findall('1516',title)\n",
    "    if len(premium)!=0:\n",
    "        return 'san miguel 1516'\n",
    "\n",
    "    fresca = re.findall('fresca',title)\n",
    "    if len(fresca)!=0:\n",
    "        return 'san miguel fresca'\n",
    "\n",
    "    return 'san miguel'\n",
    "    "
   ]
  },
  {
   "cell_type": "code",
   "execution_count": 10,
   "metadata": {},
   "outputs": [],
   "source": [
    "def amstel_types(title):\n",
    "    title = title.lower()\n",
    "\n",
    "    sin_gluten = re.findall('sin gluten',title)\n",
    "    if len(sin_gluten)!=0:\n",
    "        return 'amstel sin gluten'\n",
    "    \n",
    "    radler = re.findall('radler',title)\n",
    "    if len(radler)!=0:\n",
    "        sin_alcohol = re.findall('[0.,]{3}|sin alcohol',title)\n",
    "        if len(sin_alcohol)!=0:\n",
    "            return 'amstel radler sin alcohol 0,0%'\n",
    "        else:\n",
    "            return 'amstel radler'\n",
    "    \n",
    "    sin_alcohol = re.findall('[0.,]{3}|sin alcohol',title)\n",
    "    if len(sin_alcohol)!=0:\n",
    "        return 'amstel sin alcohol 0,0%'\n",
    "    \n",
    "    oro = re.findall('oro',title)\n",
    "    if len(oro)!=0:\n",
    "        return 'amstel oro'\n",
    "\n",
    "    extra = re.findall('extra',title)\n",
    "    if len(extra)!=0:\n",
    "        return 'amstel extra'\n",
    "    \n",
    "    clasica = re.findall('[clasicá]{7,}',title)\n",
    "    if len(clasica)!=0:\n",
    "        return 'amstel clasica'\n",
    "    \n",
    "    return 'amstel original'\n"
   ]
  },
  {
   "cell_type": "code",
   "execution_count": 11,
   "metadata": {},
   "outputs": [],
   "source": [
    "def cruzacampo_types(title):\n",
    "    title = title.lower()\n",
    "\n",
    "    sin_gluten = re.findall('sin gluten',title)\n",
    "    if len(sin_gluten)!=0:\n",
    "        return 'cruzcampo sin gluten'\n",
    "    \n",
    "    shandy = re.findall('shandy',title)\n",
    "    if len(shandy)!=0:\n",
    "        sin_alcohol = re.findall('[0.,]{3}|sin alcohol',title)\n",
    "        if len(sin_alcohol)!=0:\n",
    "            return 'cruzcampo shandy sin alcohol 0,0%'\n",
    "        else:\n",
    "            return 'cruzcampo shandy'\n",
    "    \n",
    "    sin_alcohol = re.findall('[0.,]{3}|sin alcohol',title)\n",
    "    if len(sin_alcohol)!=0:\n",
    "        return 'cruzcampo sin alcohol 0,0%'\n",
    "    \n",
    "    radler = re.findall('radler',title)\n",
    "    if len(radler)!=0:\n",
    "        return 'cruzcampo radler'\n",
    "    \n",
    "    ipa = re.findall('ipa|andalusian',title)\n",
    "    if len(ipa)!=0:\n",
    "        return 'cruzcampo ipa'\n",
    "    \n",
    "    reserva = re.findall('gran reserva',title)\n",
    "    if len(reserva)!=0:\n",
    "        return 'cruzcampo reserva'\n",
    "\n",
    "    especial = re.findall('especial',title)\n",
    "    if len(especial)!=0:\n",
    "        return 'cruzcampo especial'\n",
    "\n",
    "    radler = re.findall('radler',title)\n",
    "    if len(radler)!=0:\n",
    "        return 'cruzcampo radler'\n",
    "\n",
    "    cruzial = re.findall('cruzial',title)\n",
    "    if len(cruzial)!=0:\n",
    "        return 'cruzcampo cruzial'\n",
    "    \n",
    "    return 'cruzcampo'"
   ]
  },
  {
   "cell_type": "code",
   "execution_count": 12,
   "metadata": {},
   "outputs": [],
   "source": [
    "def ambar_types(title):\n",
    "    title = title.lower()\n",
    "\n",
    "    sin_gluten = re.findall('sin gluten',title)\n",
    "    if len(sin_gluten)!=0:\n",
    "        return 'ambar sin gluten'\n",
    "    \n",
    "    radler = re.findall('radler',title)\n",
    "    if len(radler)!=0:\n",
    "        sin_alcohol = re.findall('[0.,]{3}|sin alcohol',title)\n",
    "        if len(sin_alcohol)!=0:\n",
    "            return 'ambar radler sin alcohol 0,0%'\n",
    "        else:\n",
    "            return 'ambar radler'\n",
    "    \n",
    "    sin_alcohol = re.findall('[0.,]{3}|sin alcohol',title)\n",
    "    if len(sin_alcohol)!=0:\n",
    "        return 'ambar sin alcohol 0,0%'\n",
    "    \n",
    "    export = re.findall('export',title)\n",
    "    if len(export)!=0:\n",
    "        return 'ambar export'\n",
    "\n",
    "    ipa = re.findall('ipa|indian',title)\n",
    "    if len(ipa)!=0:\n",
    "        return 'ambar ipa'\n",
    "\n",
    "    number = re.findall('1900',title)\n",
    "    if len(number)!=0:\n",
    "        return 'ambar 1900' \n",
    "    \n",
    "    ambiciosa = re.findall('ambiciosa',title)\n",
    "    if len(ambiciosa)!=0:\n",
    "        return 'ambar ambiciosa' \n",
    "\n",
    "    pedigree = re.findall('pedigree',title)\n",
    "    if len(pedigree)!=0:\n",
    "        return 'marston’s pedigree' \n",
    "    \n",
    "    return 'ambar'"
   ]
  },
  {
   "cell_type": "code",
   "execution_count": 13,
   "metadata": {},
   "outputs": [],
   "source": [
    "def alhambra_types(title):\n",
    "    title = title.lower()\n",
    "\n",
    "    sin_gluten = re.findall('sin gluten',title)\n",
    "    if len(sin_gluten)!=0:\n",
    "        return 'alhambra sin gluten'\n",
    "    \n",
    "    radler = re.findall('radler',title)\n",
    "    if len(radler)!=0:\n",
    "        sin_alcohol = re.findall('[0.,]{3}|sin alcohol',title)\n",
    "        if len(sin_alcohol)!=0:\n",
    "            return 'alhambra radler sin alcohol 0,0%'\n",
    "        else:\n",
    "            return 'alhambra radler'\n",
    "    \n",
    "    sin_alcohol = re.findall('[0.,]{3}|sin alcohol',title)\n",
    "    if len(sin_alcohol)!=0:\n",
    "        return 'alhambra sin alcohol 0,0%'\n",
    "    \n",
    "    number = re.findall('1925',title)\n",
    "    if len(number)!=0:\n",
    "        return 'alhambra 1925'\n",
    "\n",
    "    ipa = re.findall('ipa',title)\n",
    "    if len(ipa)!=0:\n",
    "        return 'alhambra ipa'\n",
    "    \n",
    "    roja = re.findall('roja',title)\n",
    "    if len(roja)!=0:\n",
    "        return 'alhambra roja'\n",
    "\n",
    "    granadino = re.findall('granadino',title)\n",
    "    if len(granadino)!=0:\n",
    "        return 'alhambra gran granadino'\n",
    "    \n",
    "    baltic = re.findall('baltic',title)\n",
    "    if len(baltic)!=0:\n",
    "        return 'alhambra baltic porter'\n",
    "\n",
    "    envejecida = re.findall('envejecida',title)\n",
    "    if len(envejecida)!=0:\n",
    "        return 'alhambra envejecida'\n",
    "    \n",
    "    especial = re.findall('especial',title)\n",
    "    if len(especial)!=0:\n",
    "        return 'alhambra especial'\n",
    "    \n",
    "    return 'alhambra'"
   ]
  },
  {
   "cell_type": "code",
   "execution_count": 14,
   "metadata": {},
   "outputs": [],
   "source": [
    "def heineken_types(title):\n",
    "    title = title.lower()\n",
    "    \n",
    "    sin_alcohol = re.findall('[0.,]{3}|sin alcohol',title)\n",
    "    if len(sin_alcohol)!=0:\n",
    "        return 'heineken sin alcohol 0,0%'\n",
    "    \n",
    "    return 'heineken'"
   ]
  },
  {
   "cell_type": "code",
   "execution_count": 15,
   "metadata": {},
   "outputs": [],
   "source": [
    "def estrella_galicia_types(title):\n",
    "    title = title.lower()\n",
    "\n",
    "    sin_gluten = re.findall('sin gluten',title)\n",
    "    if len(sin_gluten)!=0:\n",
    "        return 'estrella galicia sin gluten'\n",
    "    \n",
    "    sin_alcohol = re.findall('[0.,]{3}|sin alcohol',title)\n",
    "    if len(sin_alcohol)!=0:\n",
    "        return 'estrella galicia sin alcohol 0,0%'\n",
    "    \n",
    "    return 'estrella galicia'\n",
    "\n",
    "def estrella_1906_types(title):\n",
    "    title = title.lower()\n",
    "    \n",
    "    red = re.findall('red',title)\n",
    "    if len(red)!=0:\n",
    "        return 'estrella galicia 1906 red'\n",
    "    \n",
    "    return 'estrella galicia 1906'\n",
    "    \n",
    "    "
   ]
  },
  {
   "cell_type": "code",
   "execution_count": 16,
   "metadata": {},
   "outputs": [],
   "source": [
    "def carrefour_types(title):\n",
    "    title = title.lower()\n",
    "\n",
    "    radler = re.findall('radler',title)\n",
    "    if len(radler)!=0:\n",
    "        sin_alcohol = re.findall('[0.,]{3}|sin alcohol',title)\n",
    "        if len(sin_alcohol)!=0:\n",
    "            return 'carrefour radler sin alcohol 0,0%'\n",
    "        else:\n",
    "            return 'carrefour radler'\n",
    "        \n",
    "    sin_alcohol = re.findall('[0.,]{3}|sin alcohol',title)\n",
    "    if len(sin_alcohol)!=0:\n",
    "        return 'carrefour sin alcohol 0,0%'\n",
    "    \n",
    "    shandy = re.findall('shandy',title)\n",
    "    if len(shandy)!=0:\n",
    "        return 'carrefour shandy'\n",
    "\n",
    "    pils = re.findall('pils',title)\n",
    "    if len(pils)!=0:\n",
    "        return 'carrefour pils'\n",
    "\n",
    "    abadia = re.findall('abad',title)\n",
    "    if len(pils)!=0:\n",
    "        return 'carrefour abadia'\n",
    "\n",
    "    negra = re.findall('negra',title)\n",
    "    if len(negra)!=0:\n",
    "        return 'carrefour negra'\n",
    "    \n",
    "    especial = re.findall('especial',title)\n",
    "    if len(especial)!=0:\n",
    "        return 'carrefour especial'\n",
    "\n",
    "    extra = re.findall('extra',title)\n",
    "    if len(extra)!=0:\n",
    "        return 'carrefour extra'\n",
    "    \n",
    "    return 'carrefour'\n"
   ]
  },
  {
   "cell_type": "code",
   "execution_count": 17,
   "metadata": {},
   "outputs": [],
   "source": [
    "def duplicate_brand_error(info):\n",
    "    data = info[0]\n",
    "    title = info[1]\n",
    "    \n",
    "    if data == 'guiness':\n",
    "        return 'guinness'\n",
    "    elif data == 'voll damm':\n",
    "        return 'voll-damm'\n",
    "    elif data == 'schofferhofer':\n",
    "        return 'schöfferhofer'\n",
    "    elif data == 'ladron de manzanas':\n",
    "        return 'ladrón de manzanas'\n",
    "    elif data == 'el aguila':\n",
    "        return 'el águila'\n",
    "    elif data == 'superbock':\n",
    "        return 'super bock'\n",
    "    elif data == 'madri chulapo':\n",
    "        return 'madrí chulapo'\n",
    "    elif data == ('maisel' or 'maisel&friends'):\n",
    "        return 'maisel & friends'\n",
    "    elif data == 'köning ludwing weissbier':\n",
    "        return 'könig ludwig weissbier'\n",
    "    #dividimos las grandes marcas por sus tipos(mejorar modelo)\n",
    "    elif (data == 'sam miguel') or (data == 'san miguel'):\n",
    "        return san_miguel_types(title)\n",
    "    elif (data == 'cruz campo') or (data == 'cruzcampo'):\n",
    "        return cruzacampo_types(title)\n",
    "    elif (data == 'estrella de galicia') or (data == 'estrella galicia'):\n",
    "        return estrella_galicia_types(title)\n",
    "    elif data == '1906':\n",
    "        return estrella_1906_types(title)    \n",
    "    elif data == 'mahou':\n",
    "        return mahou_types(title)\n",
    "    elif data == 'amstel':\n",
    "        return amstel_types(title)\n",
    "    elif data == 'ambar':\n",
    "        return ambar_types(title)\n",
    "    elif data == 'alhambra':\n",
    "        return alhambra_types(title)\n",
    "    elif data == 'heineken':\n",
    "        return heineken_types(title)\n",
    "    elif data == 'carrefour':\n",
    "        return carrefour_types(title)\n",
    "    else:\n",
    "        return data"
   ]
  },
  {
   "cell_type": "code",
   "execution_count": 18,
   "metadata": {},
   "outputs": [],
   "source": [
    "data_beer['brand'] = data_beer[['brand','title']].apply(duplicate_brand_error, axis=1)"
   ]
  },
  {
   "cell_type": "code",
   "execution_count": 19,
   "metadata": {},
   "outputs": [],
   "source": [
    "data_beer_clean = data_beer"
   ]
  },
  {
   "cell_type": "code",
   "execution_count": 45,
   "metadata": {},
   "outputs": [],
   "source": [
    "data_beer_clean.to_csv(f'../data/processed/data_beer_clean.csv', index=False)"
   ]
  },
  {
   "cell_type": "code",
   "execution_count": 50,
   "metadata": {},
   "outputs": [
    {
     "ename": "KeyError",
     "evalue": "0",
     "output_type": "error",
     "traceback": [
      "\u001b[0;31m---------------------------------------------------------------------------\u001b[0m",
      "\u001b[0;31mKeyError\u001b[0m                                  Traceback (most recent call last)",
      "\u001b[0;32m<ipython-input-50-a00af6183b10>\u001b[0m in \u001b[0;36m<module>\u001b[0;34m\u001b[0m\n\u001b[0;32m----> 1\u001b[0;31m \u001b[0mdata_beer\u001b[0m\u001b[0;34m[\u001b[0m\u001b[0mdata_beer\u001b[0m\u001b[0;34m[\u001b[0m\u001b[0;34m'container'\u001b[0m\u001b[0;34m]\u001b[0m\u001b[0;34m==\u001b[0m\u001b[0;34m'No specified'\u001b[0m\u001b[0;34m]\u001b[0m\u001b[0;34m[\u001b[0m\u001b[0;34m'image_url'\u001b[0m\u001b[0;34m]\u001b[0m\u001b[0;34m[\u001b[0m\u001b[0;36m0\u001b[0m\u001b[0;34m]\u001b[0m\u001b[0;34m\u001b[0m\u001b[0;34m\u001b[0m\u001b[0m\n\u001b[0m",
      "\u001b[0;32m~/miniconda3/envs/IronHack_env/lib/python3.7/site-packages/pandas/core/series.py\u001b[0m in \u001b[0;36m__getitem__\u001b[0;34m(self, key)\u001b[0m\n\u001b[1;32m    869\u001b[0m         \u001b[0mkey\u001b[0m \u001b[0;34m=\u001b[0m \u001b[0mcom\u001b[0m\u001b[0;34m.\u001b[0m\u001b[0mapply_if_callable\u001b[0m\u001b[0;34m(\u001b[0m\u001b[0mkey\u001b[0m\u001b[0;34m,\u001b[0m \u001b[0mself\u001b[0m\u001b[0;34m)\u001b[0m\u001b[0;34m\u001b[0m\u001b[0;34m\u001b[0m\u001b[0m\n\u001b[1;32m    870\u001b[0m         \u001b[0;32mtry\u001b[0m\u001b[0;34m:\u001b[0m\u001b[0;34m\u001b[0m\u001b[0;34m\u001b[0m\u001b[0m\n\u001b[0;32m--> 871\u001b[0;31m             \u001b[0mresult\u001b[0m \u001b[0;34m=\u001b[0m \u001b[0mself\u001b[0m\u001b[0;34m.\u001b[0m\u001b[0mindex\u001b[0m\u001b[0;34m.\u001b[0m\u001b[0mget_value\u001b[0m\u001b[0;34m(\u001b[0m\u001b[0mself\u001b[0m\u001b[0;34m,\u001b[0m \u001b[0mkey\u001b[0m\u001b[0;34m)\u001b[0m\u001b[0;34m\u001b[0m\u001b[0;34m\u001b[0m\u001b[0m\n\u001b[0m\u001b[1;32m    872\u001b[0m \u001b[0;34m\u001b[0m\u001b[0m\n\u001b[1;32m    873\u001b[0m             \u001b[0;32mif\u001b[0m \u001b[0;32mnot\u001b[0m \u001b[0mis_scalar\u001b[0m\u001b[0;34m(\u001b[0m\u001b[0mresult\u001b[0m\u001b[0;34m)\u001b[0m\u001b[0;34m:\u001b[0m\u001b[0;34m\u001b[0m\u001b[0;34m\u001b[0m\u001b[0m\n",
      "\u001b[0;32m~/miniconda3/envs/IronHack_env/lib/python3.7/site-packages/pandas/core/indexes/base.py\u001b[0m in \u001b[0;36mget_value\u001b[0;34m(self, series, key)\u001b[0m\n\u001b[1;32m   4402\u001b[0m         \u001b[0mk\u001b[0m \u001b[0;34m=\u001b[0m \u001b[0mself\u001b[0m\u001b[0;34m.\u001b[0m\u001b[0m_convert_scalar_indexer\u001b[0m\u001b[0;34m(\u001b[0m\u001b[0mk\u001b[0m\u001b[0;34m,\u001b[0m \u001b[0mkind\u001b[0m\u001b[0;34m=\u001b[0m\u001b[0;34m\"getitem\"\u001b[0m\u001b[0;34m)\u001b[0m\u001b[0;34m\u001b[0m\u001b[0;34m\u001b[0m\u001b[0m\n\u001b[1;32m   4403\u001b[0m         \u001b[0;32mtry\u001b[0m\u001b[0;34m:\u001b[0m\u001b[0;34m\u001b[0m\u001b[0;34m\u001b[0m\u001b[0m\n\u001b[0;32m-> 4404\u001b[0;31m             \u001b[0;32mreturn\u001b[0m \u001b[0mself\u001b[0m\u001b[0;34m.\u001b[0m\u001b[0m_engine\u001b[0m\u001b[0;34m.\u001b[0m\u001b[0mget_value\u001b[0m\u001b[0;34m(\u001b[0m\u001b[0ms\u001b[0m\u001b[0;34m,\u001b[0m \u001b[0mk\u001b[0m\u001b[0;34m,\u001b[0m \u001b[0mtz\u001b[0m\u001b[0;34m=\u001b[0m\u001b[0mgetattr\u001b[0m\u001b[0;34m(\u001b[0m\u001b[0mseries\u001b[0m\u001b[0;34m.\u001b[0m\u001b[0mdtype\u001b[0m\u001b[0;34m,\u001b[0m \u001b[0;34m\"tz\"\u001b[0m\u001b[0;34m,\u001b[0m \u001b[0;32mNone\u001b[0m\u001b[0;34m)\u001b[0m\u001b[0;34m)\u001b[0m\u001b[0;34m\u001b[0m\u001b[0;34m\u001b[0m\u001b[0m\n\u001b[0m\u001b[1;32m   4405\u001b[0m         \u001b[0;32mexcept\u001b[0m \u001b[0mKeyError\u001b[0m \u001b[0;32mas\u001b[0m \u001b[0me1\u001b[0m\u001b[0;34m:\u001b[0m\u001b[0;34m\u001b[0m\u001b[0;34m\u001b[0m\u001b[0m\n\u001b[1;32m   4406\u001b[0m             \u001b[0;32mif\u001b[0m \u001b[0mlen\u001b[0m\u001b[0;34m(\u001b[0m\u001b[0mself\u001b[0m\u001b[0;34m)\u001b[0m \u001b[0;34m>\u001b[0m \u001b[0;36m0\u001b[0m \u001b[0;32mand\u001b[0m \u001b[0;34m(\u001b[0m\u001b[0mself\u001b[0m\u001b[0;34m.\u001b[0m\u001b[0mholds_integer\u001b[0m\u001b[0;34m(\u001b[0m\u001b[0;34m)\u001b[0m \u001b[0;32mor\u001b[0m \u001b[0mself\u001b[0m\u001b[0;34m.\u001b[0m\u001b[0mis_boolean\u001b[0m\u001b[0;34m(\u001b[0m\u001b[0;34m)\u001b[0m\u001b[0;34m)\u001b[0m\u001b[0;34m:\u001b[0m\u001b[0;34m\u001b[0m\u001b[0;34m\u001b[0m\u001b[0m\n",
      "\u001b[0;32mpandas/_libs/index.pyx\u001b[0m in \u001b[0;36mpandas._libs.index.IndexEngine.get_value\u001b[0;34m()\u001b[0m\n",
      "\u001b[0;32mpandas/_libs/index.pyx\u001b[0m in \u001b[0;36mpandas._libs.index.IndexEngine.get_value\u001b[0;34m()\u001b[0m\n",
      "\u001b[0;32mpandas/_libs/index.pyx\u001b[0m in \u001b[0;36mpandas._libs.index.IndexEngine.get_loc\u001b[0;34m()\u001b[0m\n",
      "\u001b[0;32mpandas/_libs/hashtable_class_helper.pxi\u001b[0m in \u001b[0;36mpandas._libs.hashtable.Int64HashTable.get_item\u001b[0;34m()\u001b[0m\n",
      "\u001b[0;32mpandas/_libs/hashtable_class_helper.pxi\u001b[0m in \u001b[0;36mpandas._libs.hashtable.Int64HashTable.get_item\u001b[0;34m()\u001b[0m\n",
      "\u001b[0;31mKeyError\u001b[0m: 0"
     ]
    }
   ],
   "source": [
    "data_beer[data_beer['container']=='No specified']['image_url']"
   ]
  },
  {
   "cell_type": "code",
   "execution_count": 24,
   "metadata": {},
   "outputs": [
    {
     "data": {
      "text/plain": [
       "san miguel           38\n",
       "heineken             38\n",
       "mahou clasica        37\n",
       "mahou 5 estrellas    33\n",
       "estrella galicia     32\n",
       "                     ..\n",
       "waterloo              1\n",
       "rubai                 1\n",
       "corgon gard           1\n",
       "jai alai              1\n",
       "duvel                 1\n",
       "Name: brand, Length: 275, dtype: int64"
      ]
     },
     "execution_count": 24,
     "metadata": {},
     "output_type": "execute_result"
    }
   ],
   "source": [
    "data_beer['brand'].value_counts()#.index.tolist()\n",
    "# .index.tolist()"
   ]
  },
  {
   "cell_type": "code",
   "execution_count": null,
   "metadata": {},
   "outputs": [],
   "source": []
  },
  {
   "cell_type": "code",
   "execution_count": 20,
   "metadata": {},
   "outputs": [
    {
     "data": {
      "text/plain": [
       "0        True\n",
       "1       False\n",
       "2       False\n",
       "3       False\n",
       "4        True\n",
       "        ...  \n",
       "1561    False\n",
       "1562    False\n",
       "1563    False\n",
       "1564    False\n",
       "1565    False\n",
       "Name: brand, Length: 1566, dtype: bool"
      ]
     },
     "execution_count": 20,
     "metadata": {},
     "output_type": "execute_result"
    }
   ],
   "source": [
    "brands_model=['heineken', 'san miguel', 'mahou clasica', 'mahou 5 estrellas', 'estrella galicia']\n",
    "\n",
    "data_beer.brand.isin(brands_model)"
   ]
  },
  {
   "cell_type": "code",
   "execution_count": 21,
   "metadata": {},
   "outputs": [
    {
     "data": {
      "text/html": [
       "<div>\n",
       "<style scoped>\n",
       "    .dataframe tbody tr th:only-of-type {\n",
       "        vertical-align: middle;\n",
       "    }\n",
       "\n",
       "    .dataframe tbody tr th {\n",
       "        vertical-align: top;\n",
       "    }\n",
       "\n",
       "    .dataframe thead th {\n",
       "        text-align: right;\n",
       "    }\n",
       "</style>\n",
       "<table border=\"1\" class=\"dataframe\">\n",
       "  <thead>\n",
       "    <tr style=\"text-align: right;\">\n",
       "      <th></th>\n",
       "      <th>index</th>\n",
       "      <th>price</th>\n",
       "      <th>price_liter</th>\n",
       "      <th>title</th>\n",
       "      <th>promotion</th>\n",
       "      <th>brand</th>\n",
       "      <th>container</th>\n",
       "      <th>volumen_unid</th>\n",
       "      <th>quantity_pack</th>\n",
       "      <th>image_url</th>\n",
       "      <th>supermarket</th>\n",
       "      <th>id</th>\n",
       "    </tr>\n",
       "  </thead>\n",
       "  <tbody>\n",
       "    <tr>\n",
       "      <th>0</th>\n",
       "      <td>0</td>\n",
       "      <td>11.21</td>\n",
       "      <td>1.89</td>\n",
       "      <td>Cerveza Heineken Lager pack de 18 latas de 33 cl.</td>\n",
       "      <td>No promotion</td>\n",
       "      <td>heineken</td>\n",
       "      <td>lata</td>\n",
       "      <td>33 cl</td>\n",
       "      <td>18</td>\n",
       "      <td>https://static.carrefour.es/hd_280x_/img_pim_f...</td>\n",
       "      <td>Carrefour</td>\n",
       "      <td>0</td>\n",
       "    </tr>\n",
       "    <tr>\n",
       "      <th>1</th>\n",
       "      <td>4</td>\n",
       "      <td>14.15</td>\n",
       "      <td>1.53</td>\n",
       "      <td>Cerveza Mahou Clásica pack de 28 latas de 33 cl.</td>\n",
       "      <td>No promotion</td>\n",
       "      <td>mahou clasica</td>\n",
       "      <td>lata</td>\n",
       "      <td>33 cl</td>\n",
       "      <td>28</td>\n",
       "      <td>https://static.carrefour.es/hd_280x_/img_pim_f...</td>\n",
       "      <td>Carrefour</td>\n",
       "      <td>4</td>\n",
       "    </tr>\n",
       "    <tr>\n",
       "      <th>2</th>\n",
       "      <td>5</td>\n",
       "      <td>11.70</td>\n",
       "      <td>1.95</td>\n",
       "      <td>Cerveza Estrella Galicia especial pack de 24 b...</td>\n",
       "      <td>No promotion</td>\n",
       "      <td>estrella galicia</td>\n",
       "      <td>botella</td>\n",
       "      <td>25 cl</td>\n",
       "      <td>24</td>\n",
       "      <td>https://static.carrefour.es/hd_280x_/img_pim_f...</td>\n",
       "      <td>Carrefour</td>\n",
       "      <td>5</td>\n",
       "    </tr>\n",
       "    <tr>\n",
       "      <th>3</th>\n",
       "      <td>6</td>\n",
       "      <td>6.41</td>\n",
       "      <td>1.94</td>\n",
       "      <td>Cerveza Estrella Galicia especial pack de 10 l...</td>\n",
       "      <td>No promotion</td>\n",
       "      <td>estrella galicia</td>\n",
       "      <td>lata</td>\n",
       "      <td>33 cl</td>\n",
       "      <td>10</td>\n",
       "      <td>https://static.carrefour.es/hd_280x_/img_pim_f...</td>\n",
       "      <td>Carrefour</td>\n",
       "      <td>6</td>\n",
       "    </tr>\n",
       "    <tr>\n",
       "      <th>4</th>\n",
       "      <td>7</td>\n",
       "      <td>6.72</td>\n",
       "      <td>1.70</td>\n",
       "      <td>Cerveza Mahou Clásica pack de 12 latas de 33 cl.</td>\n",
       "      <td>Feliz Aniversario</td>\n",
       "      <td>mahou clasica</td>\n",
       "      <td>lata</td>\n",
       "      <td>33 cl</td>\n",
       "      <td>12</td>\n",
       "      <td>https://static.carrefour.es/hd_280x_/img_pim_f...</td>\n",
       "      <td>Carrefour</td>\n",
       "      <td>7</td>\n",
       "    </tr>\n",
       "  </tbody>\n",
       "</table>\n",
       "</div>"
      ],
      "text/plain": [
       "   index  price  price_liter  \\\n",
       "0      0  11.21         1.89   \n",
       "1      4  14.15         1.53   \n",
       "2      5  11.70         1.95   \n",
       "3      6   6.41         1.94   \n",
       "4      7   6.72         1.70   \n",
       "\n",
       "                                               title          promotion  \\\n",
       "0  Cerveza Heineken Lager pack de 18 latas de 33 cl.       No promotion   \n",
       "1   Cerveza Mahou Clásica pack de 28 latas de 33 cl.       No promotion   \n",
       "2  Cerveza Estrella Galicia especial pack de 24 b...       No promotion   \n",
       "3  Cerveza Estrella Galicia especial pack de 10 l...       No promotion   \n",
       "4   Cerveza Mahou Clásica pack de 12 latas de 33 cl.  Feliz Aniversario   \n",
       "\n",
       "              brand container volumen_unid  quantity_pack  \\\n",
       "0          heineken      lata        33 cl             18   \n",
       "1     mahou clasica      lata        33 cl             28   \n",
       "2  estrella galicia   botella        25 cl             24   \n",
       "3  estrella galicia      lata        33 cl             10   \n",
       "4     mahou clasica      lata        33 cl             12   \n",
       "\n",
       "                                           image_url supermarket  id  \n",
       "0  https://static.carrefour.es/hd_280x_/img_pim_f...   Carrefour   0  \n",
       "1  https://static.carrefour.es/hd_280x_/img_pim_f...   Carrefour   4  \n",
       "2  https://static.carrefour.es/hd_280x_/img_pim_f...   Carrefour   5  \n",
       "3  https://static.carrefour.es/hd_280x_/img_pim_f...   Carrefour   6  \n",
       "4  https://static.carrefour.es/hd_280x_/img_pim_f...   Carrefour   7  "
      ]
     },
     "execution_count": 21,
     "metadata": {},
     "output_type": "execute_result"
    }
   ],
   "source": [
    "prueba = data_beer[data_beer.brand.isin(brands_model)]\n",
    "prueba.reset_index(inplace=True)\n",
    "prueba.head()"
   ]
  },
  {
   "cell_type": "code",
   "execution_count": 22,
   "metadata": {},
   "outputs": [
    {
     "data": {
      "text/plain": [
       "san miguel           38\n",
       "heineken             38\n",
       "mahou clasica        37\n",
       "mahou 5 estrellas    33\n",
       "estrella galicia     32\n",
       "Name: brand, dtype: int64"
      ]
     },
     "execution_count": 22,
     "metadata": {},
     "output_type": "execute_result"
    }
   ],
   "source": [
    "prueba['brand'].value_counts()"
   ]
  },
  {
   "cell_type": "code",
   "execution_count": null,
   "metadata": {},
   "outputs": [],
   "source": []
  },
  {
   "cell_type": "code",
   "execution_count": null,
   "metadata": {},
   "outputs": [],
   "source": []
  },
  {
   "cell_type": "code",
   "execution_count": 55,
   "metadata": {},
   "outputs": [],
   "source": [
    "data_beer_images= pd.DataFrame(columns=['local','brand'])\n",
    "data_beer_images['brand'] = prueba['brand']"
   ]
  },
  {
   "cell_type": "code",
   "execution_count": 56,
   "metadata": {},
   "outputs": [],
   "source": [
    "def local_beer(local):\n",
    "    return f'/home/ivan/Documentos/IRONHACK/Bootcamp/final_project/Birras_Pipol_House/beer_images/validattion/{local}.jpg'"
   ]
  },
  {
   "cell_type": "code",
   "execution_count": 57,
   "metadata": {},
   "outputs": [],
   "source": [
    "data_beer_images['local'] = prueba['id'].apply(local_beer)"
   ]
  },
  {
   "cell_type": "code",
   "execution_count": 58,
   "metadata": {},
   "outputs": [
    {
     "data": {
      "text/plain": [
       "'/home/ivan/Documentos/IRONHACK/Bootcamp/final_project/Birras_Pipol_House/beer_images/validattion/0.jpg'"
      ]
     },
     "execution_count": 58,
     "metadata": {},
     "output_type": "execute_result"
    }
   ],
   "source": [
    "data_beer_images['local'][0]"
   ]
  },
  {
   "cell_type": "code",
   "execution_count": 59,
   "metadata": {},
   "outputs": [
    {
     "data": {
      "text/plain": [
       "0            heineken\n",
       "1       mahou clasica\n",
       "2    estrella galicia\n",
       "3    estrella galicia\n",
       "4       mahou clasica\n",
       "Name: brand, dtype: object"
      ]
     },
     "execution_count": 59,
     "metadata": {},
     "output_type": "execute_result"
    }
   ],
   "source": [
    "data_beer_images['brand'].head()"
   ]
  },
  {
   "cell_type": "code",
   "execution_count": 31,
   "metadata": {},
   "outputs": [],
   "source": [
    "from PIL import Image \n",
    "import matplotlib.pyplot as plt\n",
    "import numpy as np"
   ]
  },
  {
   "cell_type": "code",
   "execution_count": 34,
   "metadata": {},
   "outputs": [
    {
     "data": {
      "image/png": "[encoded data removed]",
      "text/plain": [
       "<Figure size 432x288 with 1 Axes>"
      ]
     },
     "metadata": {
      "needs_background": "light"
     },
     "output_type": "display_data"
    }
   ],
   "source": [
    "I = Image.open(\"../beer_images/train/heineken/000210.jpg\")\n",
    "plt.imshow(np.asarray(I))\n",
    "plt.show()\n"
   ]
  },
  {
   "cell_type": "code",
   "execution_count": 35,
   "metadata": {},
   "outputs": [
    {
     "name": "stdout",
     "output_type": "stream",
     "text": [
      "(210, 240) JPEG\n"
     ]
    }
   ],
   "source": [
    "print(I.size, I.format)"
   ]
  },
  {
   "cell_type": "code",
   "execution_count": null,
   "metadata": {},
   "outputs": [],
   "source": []
  },
  {
   "cell_type": "code",
   "execution_count": 42,
   "metadata": {},
   "outputs": [],
   "source": [
    "from sklearn.model_selection import train_test_split\n",
    "beer_train_prueba, beer_test = train_test_split(data_beer_images,train_size=0.83)\n",
    "beer_train = pd.DataFrame(beer_train_prueba, columns=['local','brand']).sample(frac=1.0)"
   ]
  },
  {
   "cell_type": "code",
   "execution_count": 43,
   "metadata": {},
   "outputs": [
    {
     "data": {
      "text/html": [
       "<div>\n",
       "<style scoped>\n",
       "    .dataframe tbody tr th:only-of-type {\n",
       "        vertical-align: middle;\n",
       "    }\n",
       "\n",
       "    .dataframe tbody tr th {\n",
       "        vertical-align: top;\n",
       "    }\n",
       "\n",
       "    .dataframe thead th {\n",
       "        text-align: right;\n",
       "    }\n",
       "</style>\n",
       "<table border=\"1\" class=\"dataframe\">\n",
       "  <thead>\n",
       "    <tr style=\"text-align: right;\">\n",
       "      <th></th>\n",
       "      <th>local</th>\n",
       "      <th>brand</th>\n",
       "    </tr>\n",
       "  </thead>\n",
       "  <tbody>\n",
       "    <tr>\n",
       "      <th>129</th>\n",
       "      <td>/home/ivan/Documentos/IRONHACK/Bootcamp/final_...</td>\n",
       "      <td>mahou 5 estrellas</td>\n",
       "    </tr>\n",
       "    <tr>\n",
       "      <th>165</th>\n",
       "      <td>/home/ivan/Documentos/IRONHACK/Bootcamp/final_...</td>\n",
       "      <td>estrella galicia</td>\n",
       "    </tr>\n",
       "    <tr>\n",
       "      <th>167</th>\n",
       "      <td>/home/ivan/Documentos/IRONHACK/Bootcamp/final_...</td>\n",
       "      <td>heineken</td>\n",
       "    </tr>\n",
       "    <tr>\n",
       "      <th>108</th>\n",
       "      <td>/home/ivan/Documentos/IRONHACK/Bootcamp/final_...</td>\n",
       "      <td>estrella galicia</td>\n",
       "    </tr>\n",
       "    <tr>\n",
       "      <th>153</th>\n",
       "      <td>/home/ivan/Documentos/IRONHACK/Bootcamp/final_...</td>\n",
       "      <td>san miguel</td>\n",
       "    </tr>\n",
       "  </tbody>\n",
       "</table>\n",
       "</div>"
      ],
      "text/plain": [
       "                                                 local              brand\n",
       "129  /home/ivan/Documentos/IRONHACK/Bootcamp/final_...  mahou 5 estrellas\n",
       "165  /home/ivan/Documentos/IRONHACK/Bootcamp/final_...   estrella galicia\n",
       "167  /home/ivan/Documentos/IRONHACK/Bootcamp/final_...           heineken\n",
       "108  /home/ivan/Documentos/IRONHACK/Bootcamp/final_...   estrella galicia\n",
       "153  /home/ivan/Documentos/IRONHACK/Bootcamp/final_...         san miguel"
      ]
     },
     "execution_count": 43,
     "metadata": {},
     "output_type": "execute_result"
    }
   ],
   "source": [
    "beer_test.head()"
   ]
  },
  {
   "cell_type": "code",
   "execution_count": 44,
   "metadata": {},
   "outputs": [
    {
     "data": {
      "text/plain": [
       "(147, 2)"
      ]
     },
     "execution_count": 44,
     "metadata": {},
     "output_type": "execute_result"
    }
   ],
   "source": [
    "beer_train.shape"
   ]
  },
  {
   "cell_type": "code",
   "execution_count": 45,
   "metadata": {},
   "outputs": [
    {
     "data": {
      "text/plain": [
       "(31, 2)"
      ]
     },
     "execution_count": 45,
     "metadata": {},
     "output_type": "execute_result"
    }
   ],
   "source": [
    "beer_test.shape"
   ]
  },
  {
   "cell_type": "code",
   "execution_count": 19,
   "metadata": {},
   "outputs": [],
   "source": [
    "from keras.models import Sequential\n",
    "from keras_preprocessing.image import ImageDataGenerator\n",
    "from keras.layers import Dense, Activation, Flatten, Dropout, BatchNormalization\n",
    "from keras.layers import Conv2D, MaxPooling2D\n",
    "from keras import regularizers, optimizers\n",
    "from sklearn.utils import class_weight\n",
    "from keras.applications.inception_v3 import preprocess_input"
   ]
  },
  {
   "cell_type": "code",
   "execution_count": 51,
   "metadata": {},
   "outputs": [
    {
     "name": "stdout",
     "output_type": "stream",
     "text": [
      "Found 144 validated image filenames belonging to 5 classes.\n",
      "Found 16 validated image filenames belonging to 5 classes.\n",
      "Found 18 validated image filenames.\n"
     ]
    }
   ],
   "source": [
    "datagen_train=ImageDataGenerator(rescale=1./255.,\n",
    "                                validation_split=0.1,\n",
    "                                rotation_range=80,\n",
    "                                width_shift_range=0.2,\n",
    "                                height_shift_range=0.2,\n",
    "                                shear_range=0.2,\n",
    "                                zoom_range=0.2,\n",
    "                                horizontal_flip=True,\n",
    "                                preprocessing_function=preprocess_input)\n",
    "\n",
    "train_generator=datagen_train.flow_from_dataframe(dataframe=beer_train,\n",
    "                                            x_col=\"local\",\n",
    "                                            y_col=\"brand\",\n",
    "                                            subset=\"training\",\n",
    "                                            batch_size=32,\n",
    "                                            shuffle=True,\n",
    "                                            class_mode=\"categorical\",\n",
    "                                            target_size=(280,280))\n",
    "\n",
    "datagen_valid=ImageDataGenerator(rescale=1./255., validation_split=0.1)\n",
    "valid_generator=datagen_valid.flow_from_dataframe(dataframe=beer_train,\n",
    "                                            x_col=\"local\",\n",
    "                                            y_col=\"brand\",\n",
    "                                            subset=\"validation\",\n",
    "                                            batch_size=18,\n",
    "                                            shuffle=True,\n",
    "                                            class_mode=\"categorical\",\n",
    "                                            target_size=(280,280))\n",
    "\n",
    "test_datagen=ImageDataGenerator(rescale=1./255.)\n",
    "test_generator=test_datagen.flow_from_dataframe(dataframe=beer_test,\n",
    "                                                x_col=\"local\",\n",
    "                                                y_col=None,\n",
    "                                                batch_size=18,\n",
    "                                                shuffle=False,\n",
    "                                                class_mode=None,\n",
    "                                                target_size=(280,280))"
   ]
  },
  {
   "cell_type": "code",
   "execution_count": 48,
   "metadata": {},
   "outputs": [
    {
     "name": "stdout",
     "output_type": "stream",
     "text": [
      "Found 3918 images belonging to 5 classes.\n",
      "Found 147 validated image filenames belonging to 5 classes.\n",
      "Found 31 validated image filenames.\n"
     ]
    }
   ],
   "source": [
    "datagen_train=ImageDataGenerator(rescale=1./255.,\n",
    "                                rotation_range=80,\n",
    "                                width_shift_range=0.2,\n",
    "                                height_shift_range=0.2,\n",
    "                                shear_range=0.2,\n",
    "                                zoom_range=0.2,\n",
    "                                horizontal_flip=True,\n",
    "                                preprocessing_function=preprocess_input)\n",
    "\n",
    "train_generator=datagen_train.flow_from_directory(directory=r\"../beer_images/train/\",\n",
    "                                            batch_size=32,\n",
    "                                            shuffle=True,\n",
    "                                            class_mode=\"categorical\",\n",
    "                                            target_size=(225,225))\n",
    "\n",
    "datagen_valid=ImageDataGenerator(rescale=1./255.)\n",
    "valid_generator=datagen_valid.flow_from_dataframe(dataframe=beer_train,\n",
    "                                            x_col=\"local\",\n",
    "                                            y_col=\"brand\",\n",
    "                                            batch_size=21,\n",
    "                                            shuffle=True,\n",
    "                                            class_mode=\"categorical\",\n",
    "                                            target_size=(225,225))\n",
    "\n",
    "test_datagen=ImageDataGenerator(rescale=1./255.)\n",
    "test_generator=test_datagen.flow_from_dataframe(dataframe=beer_test,\n",
    "                                                x_col=\"local\",\n",
    "                                                y_col=None,\n",
    "                                                batch_size=31,\n",
    "                                                shuffle=False,\n",
    "                                                class_mode=None,\n",
    "                                                target_size=(225,225))"
   ]
  },
  {
   "cell_type": "code",
   "execution_count": 49,
   "metadata": {},
   "outputs": [
    {
     "name": "stderr",
     "output_type": "stream",
     "text": [
      "/home/ivan/miniconda3/envs/IronHack_env/lib/python3.7/site-packages/sklearn/utils/validation.py:70: FutureWarning: Pass classes=[0 1 2 3 4], y=[0 0 0 ... 4 4 4] as keyword args. From version 0.25 passing these as positional arguments will result in an error\n",
      "  FutureWarning)\n"
     ]
    },
    {
     "data": {
      "text/plain": [
       "{0: 1.1713004484304932,\n",
       " 1: 0.8061728395061728,\n",
       " 2: 0.9295373665480428,\n",
       " 3: 1.083817427385892,\n",
       " 4: 1.1021097046413502}"
      ]
     },
     "execution_count": 49,
     "metadata": {},
     "output_type": "execute_result"
    }
   ],
   "source": [
    "class_weights_lst = class_weight.compute_class_weight('balanced', \n",
    "                                                      np.unique(train_generator.classes), \n",
    "                                                      train_generator.classes)\n",
    "\n",
    "class_weights = dict(zip(np.unique(train_generator.classes), class_weights_lst))\n",
    "\n",
    "class_weights"
   ]
  },
  {
   "cell_type": "code",
   "execution_count": 50,
   "metadata": {},
   "outputs": [
    {
     "name": "stdout",
     "output_type": "stream",
     "text": [
      "Model: \"sequential\"\n",
      "_________________________________________________________________\n",
      "Layer (type)                 Output Shape              Param #   \n",
      "=================================================================\n",
      "inception_v3 (Model)         (None, 5, 5, 2048)        21802784  \n",
      "_________________________________________________________________\n",
      "global_average_pooling2d (Gl (None, 2048)              0         \n",
      "_________________________________________________________________\n",
      "dropout (Dropout)            (None, 2048)              0         \n",
      "_________________________________________________________________\n",
      "dense (Dense)                (None, 5)                 10245     \n",
      "=================================================================\n",
      "Total params: 21,813,029\n",
      "Trainable params: 10,245\n",
      "Non-trainable params: 21,802,784\n",
      "_________________________________________________________________\n"
     ]
    }
   ],
   "source": [
    "from keras.models import Sequential\n",
    "from keras.models import Model\n",
    "from keras.callbacks import ModelCheckpoint, LearningRateScheduler, EarlyStopping, ReduceLROnPlateau, TensorBoard\n",
    "from keras import optimizers, losses, activations, models\n",
    "from keras.layers import experimental, Convolution2D, Dense, Input, Flatten, Dropout, MaxPooling2D, BatchNormalization, GlobalAveragePooling2D, Concatenate\n",
    "from keras import applications\n",
    "input_shape = (225, 225, 3)\n",
    "nclass = len(train_generator.class_indices)\n",
    "\n",
    "base_model = applications.InceptionV3(weights='imagenet', \n",
    "                                include_top=False, \n",
    "                                input_shape=input_shape)\n",
    "base_model.trainable = False\n",
    "\n",
    "add_model = Sequential()\n",
    "add_model.add(base_model)\n",
    "add_model.add(GlobalAveragePooling2D())\n",
    "add_model.add(Dropout(0.5))\n",
    "add_model.add(Dense(nclass, \n",
    "                    activation='softmax'))\n",
    "\n",
    "model = add_model\n",
    "model.compile(loss='categorical_crossentropy', \n",
    "              optimizer=optimizers.Adam(lr=0.0001),\n",
    "              metrics=['accuracy'])\n",
    "\n",
    "model.summary()\n",
    "\n",
    "\n",
    "\n",
    "\n",
    "\n",
    "\n",
    "\n",
    "\n",
    "\n",
    "# from tensorflow import keras\n",
    "# from tensorflow.keras import layers\n",
    "\n",
    "# data_augmentation = keras.Sequential(\n",
    "#     [\n",
    "#         layers.experimental.preprocessing.RandomFlip(\"horizontal\"),\n",
    "#         layers.experimental.preprocessing.RandomRotation(0.1),\n",
    "#     ]\n",
    "# )\n",
    "# inputs = keras.Input(shape=input_shape)\n",
    "# x = data_augmentation(inputs)  # Apply random data augmentation\n",
    "\n",
    "# # Pre-trained Xception weights requires that input be normalized\n",
    "# # from (0, 255) to a range (-1., +1.), the normalization layer\n",
    "# # does the following, outputs = (inputs - mean) / sqrt(var)\n",
    "# norm_layer = experimental.preprocessing.Normalization()\n",
    "# mean = np.array([127.5] * 3)\n",
    "# var = mean ** 2\n",
    "# # Scale inputs to [-1, +1]\n",
    "# x = norm_layer(x)\n",
    "# norm_layer.set_weights([mean, var])\n",
    "\n",
    "# # The base model contains batchnorm layers. We want to keep them in inference mode\n",
    "# # when we unfreeze the base model for fine-tuning, so we make sure that the\n",
    "# # base_model is running in inference mode here.\n",
    "# x = base_model(x, training=False)\n",
    "# x = keras.layers.GlobalAveragePooling2D()(x)\n",
    "# x = keras.layers.Dropout(0.2)(x)  # Regularize with dropout\n",
    "# outputs = keras.layers.Dense(5)(x)\n",
    "# model = keras.Model(inputs, outputs)\n",
    "\n",
    "\n",
    "\n",
    "# model.compile(\n",
    "#     optimizer=keras.optimizers.Adam(),\n",
    "#     loss=keras.losses.BinaryCrossentropy(from_logits=True),\n",
    "#     metrics=['accuracy'],\n",
    "# )\n"
   ]
  },
  {
   "cell_type": "code",
   "execution_count": 52,
   "metadata": {},
   "outputs": [],
   "source": [
    "STEP_SIZE_TRAIN=train_generator.n//train_generator.batch_size\n",
    "STEP_SIZE_VALID=valid_generator.n//valid_generator.batch_size\n",
    "STEP_SIZE_TEST=test_generator.n//test_generator.batch_size\n"
   ]
  },
  {
   "cell_type": "code",
   "execution_count": 54,
   "metadata": {},
   "outputs": [
    {
     "name": "stdout",
     "output_type": "stream",
     "text": [
      "Epoch 1/100\n",
      "122/122 [==============================] - ETA: 0s - loss: 1.4817 - accuracy: 0.3608\n",
      "Epoch 00001: accuracy improved from -inf to 0.36078, saving model to ../model/weights.best.h5\n",
      "122/122 [==============================] - 269s 2s/step - loss: 1.4817 - accuracy: 0.3608 - val_loss: 5.0318 - val_accuracy: 0.1905\n",
      "Epoch 2/100\n",
      "122/122 [==============================] - ETA: 0s - loss: 1.4785 - accuracy: 0.3675\n",
      "Epoch 00002: accuracy improved from 0.36078 to 0.36747, saving model to ../model/weights.best.h5\n",
      "122/122 [==============================] - 271s 2s/step - loss: 1.4785 - accuracy: 0.3675 - val_loss: 5.1803 - val_accuracy: 0.2245\n",
      "Epoch 3/100\n",
      "122/122 [==============================] - ETA: 0s - loss: 1.4673 - accuracy: 0.3744\n",
      "Epoch 00003: accuracy improved from 0.36747 to 0.37442, saving model to ../model/weights.best.h5\n",
      "122/122 [==============================] - 271s 2s/step - loss: 1.4673 - accuracy: 0.3744 - val_loss: 5.4669 - val_accuracy: 0.1905\n",
      "Epoch 4/100\n",
      "122/122 [==============================] - ETA: 0s - loss: 1.4690 - accuracy: 0.3742\n",
      "Epoch 00004: accuracy did not improve from 0.37442\n",
      "122/122 [==============================] - 271s 2s/step - loss: 1.4690 - accuracy: 0.3742 - val_loss: 5.7235 - val_accuracy: 0.1769\n",
      "Epoch 5/100\n",
      "122/122 [==============================] - ETA: 0s - loss: 1.4696 - accuracy: 0.3778\n",
      "Epoch 00005: accuracy improved from 0.37442 to 0.37777, saving model to ../model/weights.best.h5\n",
      "122/122 [==============================] - 271s 2s/step - loss: 1.4696 - accuracy: 0.3778 - val_loss: 5.8705 - val_accuracy: 0.1497\n",
      "Epoch 6/100\n",
      "122/122 [==============================] - ETA: 0s - loss: 1.4754 - accuracy: 0.3682\n",
      "Epoch 00006: accuracy did not improve from 0.37777\n",
      "122/122 [==============================] - 273s 2s/step - loss: 1.4754 - accuracy: 0.3682 - val_loss: 5.4623 - val_accuracy: 0.1769\n",
      "Epoch 7/100\n",
      "122/122 [==============================] - ETA: 0s - loss: 1.4766 - accuracy: 0.3729\n",
      "Epoch 00007: accuracy did not improve from 0.37777\n",
      "122/122 [==============================] - 274s 2s/step - loss: 1.4766 - accuracy: 0.3729 - val_loss: 5.7167 - val_accuracy: 0.1769\n",
      "Epoch 8/100\n",
      "122/122 [==============================] - ETA: 0s - loss: 1.4739 - accuracy: 0.3747\n",
      "Epoch 00008: accuracy did not improve from 0.37777\n",
      "122/122 [==============================] - 270s 2s/step - loss: 1.4739 - accuracy: 0.3747 - val_loss: 5.3078 - val_accuracy: 0.1633\n",
      "Epoch 9/100\n",
      "122/122 [==============================] - ETA: 0s - loss: 1.4794 - accuracy: 0.3744\n",
      "Epoch 00009: accuracy did not improve from 0.37777\n",
      "122/122 [==============================] - 273s 2s/step - loss: 1.4794 - accuracy: 0.3744 - val_loss: 5.4941 - val_accuracy: 0.1497\n",
      "Epoch 10/100\n",
      "122/122 [==============================] - ETA: 0s - loss: 1.4734 - accuracy: 0.3821\n",
      "Epoch 00010: accuracy improved from 0.37777 to 0.38214, saving model to ../model/weights.best.h5\n",
      "122/122 [==============================] - 271s 2s/step - loss: 1.4734 - accuracy: 0.3821 - val_loss: 5.3373 - val_accuracy: 0.2041\n",
      "Epoch 11/100\n",
      "122/122 [==============================] - ETA: 0s - loss: 1.4721 - accuracy: 0.3747\n",
      "Epoch 00011: accuracy did not improve from 0.38214\n",
      "122/122 [==============================] - 272s 2s/step - loss: 1.4721 - accuracy: 0.3747 - val_loss: 5.3575 - val_accuracy: 0.1633\n",
      "Epoch 12/100\n",
      "122/122 [==============================] - ETA: 0s - loss: 1.4742 - accuracy: 0.3752\n",
      "Epoch 00012: accuracy did not improve from 0.38214\n",
      "122/122 [==============================] - 273s 2s/step - loss: 1.4742 - accuracy: 0.3752 - val_loss: 5.6635 - val_accuracy: 0.1769\n",
      "Epoch 13/100\n",
      "122/122 [==============================] - ETA: 0s - loss: 1.4758 - accuracy: 0.3688\n",
      "Epoch 00013: accuracy did not improve from 0.38214\n",
      "122/122 [==============================] - 272s 2s/step - loss: 1.4758 - accuracy: 0.3688 - val_loss: 5.4549 - val_accuracy: 0.1769\n",
      "Epoch 14/100\n",
      "122/122 [==============================] - ETA: 0s - loss: 1.4636 - accuracy: 0.3801\n",
      "Epoch 00014: accuracy did not improve from 0.38214\n",
      "122/122 [==============================] - 273s 2s/step - loss: 1.4636 - accuracy: 0.3801 - val_loss: 5.3363 - val_accuracy: 0.1837\n",
      "Epoch 15/100\n",
      "122/122 [==============================] - ETA: 0s - loss: 1.4822 - accuracy: 0.3718\n",
      "Epoch 00015: accuracy did not improve from 0.38214\n",
      "122/122 [==============================] - 271s 2s/step - loss: 1.4822 - accuracy: 0.3718 - val_loss: 5.4133 - val_accuracy: 0.1837\n",
      "Epoch 16/100\n",
      "122/122 [==============================] - ETA: 0s - loss: 1.4688 - accuracy: 0.3767\n",
      "Epoch 00016: accuracy did not improve from 0.38214\n",
      "122/122 [==============================] - 271s 2s/step - loss: 1.4688 - accuracy: 0.3767 - val_loss: 5.5129 - val_accuracy: 0.2109\n",
      "Epoch 17/100\n",
      "122/122 [==============================] - ETA: 0s - loss: 1.4850 - accuracy: 0.3621\n",
      "Epoch 00017: accuracy did not improve from 0.38214\n",
      "122/122 [==============================] - 271s 2s/step - loss: 1.4850 - accuracy: 0.3621 - val_loss: 5.9747 - val_accuracy: 0.1633\n",
      "Epoch 18/100\n",
      "122/122 [==============================] - ETA: 0s - loss: 1.4742 - accuracy: 0.3829\n",
      "Epoch 00018: accuracy improved from 0.38214 to 0.38291, saving model to ../model/weights.best.h5\n",
      "122/122 [==============================] - 273s 2s/step - loss: 1.4742 - accuracy: 0.3829 - val_loss: 5.3926 - val_accuracy: 0.1973\n",
      "Epoch 19/100\n",
      "122/122 [==============================] - ETA: 0s - loss: 1.4830 - accuracy: 0.3716\n",
      "Epoch 00019: accuracy did not improve from 0.38291\n",
      "122/122 [==============================] - 271s 2s/step - loss: 1.4830 - accuracy: 0.3716 - val_loss: 5.5110 - val_accuracy: 0.1769\n",
      "Epoch 20/100\n",
      "122/122 [==============================] - ETA: 0s - loss: 1.4786 - accuracy: 0.3749\n",
      "Epoch 00020: accuracy did not improve from 0.38291\n",
      "122/122 [==============================] - 274s 2s/step - loss: 1.4786 - accuracy: 0.3749 - val_loss: 5.6094 - val_accuracy: 0.1769\n",
      "Epoch 21/100\n",
      "122/122 [==============================] - ETA: 0s - loss: 1.4600 - accuracy: 0.3829\n",
      "Epoch 00021: accuracy did not improve from 0.38291\n",
      "122/122 [==============================] - 272s 2s/step - loss: 1.4600 - accuracy: 0.3829 - val_loss: 5.6167 - val_accuracy: 0.1973\n",
      "Epoch 22/100\n",
      "122/122 [==============================] - ETA: 0s - loss: 1.4748 - accuracy: 0.3749\n",
      "Epoch 00022: accuracy did not improve from 0.38291\n",
      "122/122 [==============================] - 272s 2s/step - loss: 1.4748 - accuracy: 0.3749 - val_loss: 5.9278 - val_accuracy: 0.1565\n",
      "Epoch 23/100\n",
      "122/122 [==============================] - ETA: 0s - loss: 1.4671 - accuracy: 0.3713\n",
      "Epoch 00023: accuracy did not improve from 0.38291\n",
      "122/122 [==============================] - 270s 2s/step - loss: 1.4671 - accuracy: 0.3713 - val_loss: 5.9663 - val_accuracy: 0.1429\n",
      "Epoch 24/100\n",
      "122/122 [==============================] - ETA: 0s - loss: 1.4765 - accuracy: 0.3690\n",
      "Epoch 00024: accuracy did not improve from 0.38291\n",
      "122/122 [==============================] - 273s 2s/step - loss: 1.4765 - accuracy: 0.3690 - val_loss: 5.7014 - val_accuracy: 0.1633\n",
      "Epoch 25/100\n"
     ]
    },
    {
     "ename": "KeyboardInterrupt",
     "evalue": "",
     "output_type": "error",
     "traceback": [
      "\u001b[0;31m---------------------------------------------------------------------------\u001b[0m",
      "\u001b[0;31mKeyboardInterrupt\u001b[0m                         Traceback (most recent call last)",
      "\u001b[0;32m<ipython-input-54-db5b4662f0d9>\u001b[0m in \u001b[0;36m<module>\u001b[0;34m\u001b[0m\n\u001b[1;32m     15\u001b[0m                     \u001b[0mclass_weight\u001b[0m\u001b[0;34m=\u001b[0m\u001b[0mclass_weights\u001b[0m\u001b[0;34m,\u001b[0m\u001b[0;34m\u001b[0m\u001b[0;34m\u001b[0m\u001b[0m\n\u001b[1;32m     16\u001b[0m                    \u001b[0msteps_per_epoch\u001b[0m\u001b[0;34m=\u001b[0m\u001b[0mSTEP_SIZE_TRAIN\u001b[0m\u001b[0;34m,\u001b[0m\u001b[0;34m\u001b[0m\u001b[0;34m\u001b[0m\u001b[0m\n\u001b[0;32m---> 17\u001b[0;31m                    validation_steps=STEP_SIZE_VALID)\n\u001b[0m\u001b[1;32m     18\u001b[0m \u001b[0;34m\u001b[0m\u001b[0m\n",
      "\u001b[0;32m~/miniconda3/envs/IronHack_env/lib/python3.7/site-packages/tensorflow/python/keras/engine/training.py\u001b[0m in \u001b[0;36m_method_wrapper\u001b[0;34m(self, *args, **kwargs)\u001b[0m\n\u001b[1;32m     64\u001b[0m   \u001b[0;32mdef\u001b[0m \u001b[0m_method_wrapper\u001b[0m\u001b[0;34m(\u001b[0m\u001b[0mself\u001b[0m\u001b[0;34m,\u001b[0m \u001b[0;34m*\u001b[0m\u001b[0margs\u001b[0m\u001b[0;34m,\u001b[0m \u001b[0;34m**\u001b[0m\u001b[0mkwargs\u001b[0m\u001b[0;34m)\u001b[0m\u001b[0;34m:\u001b[0m\u001b[0;34m\u001b[0m\u001b[0;34m\u001b[0m\u001b[0m\n\u001b[1;32m     65\u001b[0m     \u001b[0;32mif\u001b[0m \u001b[0;32mnot\u001b[0m \u001b[0mself\u001b[0m\u001b[0;34m.\u001b[0m\u001b[0m_in_multi_worker_mode\u001b[0m\u001b[0;34m(\u001b[0m\u001b[0;34m)\u001b[0m\u001b[0;34m:\u001b[0m  \u001b[0;31m# pylint: disable=protected-access\u001b[0m\u001b[0;34m\u001b[0m\u001b[0;34m\u001b[0m\u001b[0m\n\u001b[0;32m---> 66\u001b[0;31m       \u001b[0;32mreturn\u001b[0m \u001b[0mmethod\u001b[0m\u001b[0;34m(\u001b[0m\u001b[0mself\u001b[0m\u001b[0;34m,\u001b[0m \u001b[0;34m*\u001b[0m\u001b[0margs\u001b[0m\u001b[0;34m,\u001b[0m \u001b[0;34m**\u001b[0m\u001b[0mkwargs\u001b[0m\u001b[0;34m)\u001b[0m\u001b[0;34m\u001b[0m\u001b[0;34m\u001b[0m\u001b[0m\n\u001b[0m\u001b[1;32m     67\u001b[0m \u001b[0;34m\u001b[0m\u001b[0m\n\u001b[1;32m     68\u001b[0m     \u001b[0;31m# Running inside `run_distribute_coordinator` already.\u001b[0m\u001b[0;34m\u001b[0m\u001b[0;34m\u001b[0m\u001b[0;34m\u001b[0m\u001b[0m\n",
      "\u001b[0;32m~/miniconda3/envs/IronHack_env/lib/python3.7/site-packages/tensorflow/python/keras/engine/training.py\u001b[0m in \u001b[0;36mfit\u001b[0;34m(self, x, y, batch_size, epochs, verbose, callbacks, validation_split, validation_data, shuffle, class_weight, sample_weight, initial_epoch, steps_per_epoch, validation_steps, validation_batch_size, validation_freq, max_queue_size, workers, use_multiprocessing)\u001b[0m\n\u001b[1;32m    846\u001b[0m                 batch_size=batch_size):\n\u001b[1;32m    847\u001b[0m               \u001b[0mcallbacks\u001b[0m\u001b[0;34m.\u001b[0m\u001b[0mon_train_batch_begin\u001b[0m\u001b[0;34m(\u001b[0m\u001b[0mstep\u001b[0m\u001b[0;34m)\u001b[0m\u001b[0;34m\u001b[0m\u001b[0;34m\u001b[0m\u001b[0m\n\u001b[0;32m--> 848\u001b[0;31m               \u001b[0mtmp_logs\u001b[0m \u001b[0;34m=\u001b[0m \u001b[0mtrain_function\u001b[0m\u001b[0;34m(\u001b[0m\u001b[0miterator\u001b[0m\u001b[0;34m)\u001b[0m\u001b[0;34m\u001b[0m\u001b[0;34m\u001b[0m\u001b[0m\n\u001b[0m\u001b[1;32m    849\u001b[0m               \u001b[0;31m# Catch OutOfRangeError for Datasets of unknown size.\u001b[0m\u001b[0;34m\u001b[0m\u001b[0;34m\u001b[0m\u001b[0;34m\u001b[0m\u001b[0m\n\u001b[1;32m    850\u001b[0m               \u001b[0;31m# This blocks until the batch has finished executing.\u001b[0m\u001b[0;34m\u001b[0m\u001b[0;34m\u001b[0m\u001b[0;34m\u001b[0m\u001b[0m\n",
      "\u001b[0;32m~/miniconda3/envs/IronHack_env/lib/python3.7/site-packages/tensorflow/python/eager/def_function.py\u001b[0m in \u001b[0;36m__call__\u001b[0;34m(self, *args, **kwds)\u001b[0m\n\u001b[1;32m    578\u001b[0m         \u001b[0mxla_context\u001b[0m\u001b[0;34m.\u001b[0m\u001b[0mExit\u001b[0m\u001b[0;34m(\u001b[0m\u001b[0;34m)\u001b[0m\u001b[0;34m\u001b[0m\u001b[0;34m\u001b[0m\u001b[0m\n\u001b[1;32m    579\u001b[0m     \u001b[0;32melse\u001b[0m\u001b[0;34m:\u001b[0m\u001b[0;34m\u001b[0m\u001b[0;34m\u001b[0m\u001b[0m\n\u001b[0;32m--> 580\u001b[0;31m       \u001b[0mresult\u001b[0m \u001b[0;34m=\u001b[0m \u001b[0mself\u001b[0m\u001b[0;34m.\u001b[0m\u001b[0m_call\u001b[0m\u001b[0;34m(\u001b[0m\u001b[0;34m*\u001b[0m\u001b[0margs\u001b[0m\u001b[0;34m,\u001b[0m \u001b[0;34m**\u001b[0m\u001b[0mkwds\u001b[0m\u001b[0;34m)\u001b[0m\u001b[0;34m\u001b[0m\u001b[0;34m\u001b[0m\u001b[0m\n\u001b[0m\u001b[1;32m    581\u001b[0m \u001b[0;34m\u001b[0m\u001b[0m\n\u001b[1;32m    582\u001b[0m     \u001b[0;32mif\u001b[0m \u001b[0mtracing_count\u001b[0m \u001b[0;34m==\u001b[0m \u001b[0mself\u001b[0m\u001b[0;34m.\u001b[0m\u001b[0m_get_tracing_count\u001b[0m\u001b[0;34m(\u001b[0m\u001b[0;34m)\u001b[0m\u001b[0;34m:\u001b[0m\u001b[0;34m\u001b[0m\u001b[0;34m\u001b[0m\u001b[0m\n",
      "\u001b[0;32m~/miniconda3/envs/IronHack_env/lib/python3.7/site-packages/tensorflow/python/eager/def_function.py\u001b[0m in \u001b[0;36m_call\u001b[0;34m(self, *args, **kwds)\u001b[0m\n\u001b[1;32m    609\u001b[0m       \u001b[0;31m# In this case we have created variables on the first call, so we run the\u001b[0m\u001b[0;34m\u001b[0m\u001b[0;34m\u001b[0m\u001b[0;34m\u001b[0m\u001b[0m\n\u001b[1;32m    610\u001b[0m       \u001b[0;31m# defunned version which is guaranteed to never create variables.\u001b[0m\u001b[0;34m\u001b[0m\u001b[0;34m\u001b[0m\u001b[0;34m\u001b[0m\u001b[0m\n\u001b[0;32m--> 611\u001b[0;31m       \u001b[0;32mreturn\u001b[0m \u001b[0mself\u001b[0m\u001b[0;34m.\u001b[0m\u001b[0m_stateless_fn\u001b[0m\u001b[0;34m(\u001b[0m\u001b[0;34m*\u001b[0m\u001b[0margs\u001b[0m\u001b[0;34m,\u001b[0m \u001b[0;34m**\u001b[0m\u001b[0mkwds\u001b[0m\u001b[0;34m)\u001b[0m  \u001b[0;31m# pylint: disable=not-callable\u001b[0m\u001b[0;34m\u001b[0m\u001b[0;34m\u001b[0m\u001b[0m\n\u001b[0m\u001b[1;32m    612\u001b[0m     \u001b[0;32melif\u001b[0m \u001b[0mself\u001b[0m\u001b[0;34m.\u001b[0m\u001b[0m_stateful_fn\u001b[0m \u001b[0;32mis\u001b[0m \u001b[0;32mnot\u001b[0m \u001b[0;32mNone\u001b[0m\u001b[0;34m:\u001b[0m\u001b[0;34m\u001b[0m\u001b[0;34m\u001b[0m\u001b[0m\n\u001b[1;32m    613\u001b[0m       \u001b[0;31m# Release the lock early so that multiple threads can perform the call\u001b[0m\u001b[0;34m\u001b[0m\u001b[0;34m\u001b[0m\u001b[0;34m\u001b[0m\u001b[0m\n",
      "\u001b[0;32m~/miniconda3/envs/IronHack_env/lib/python3.7/site-packages/tensorflow/python/eager/function.py\u001b[0m in \u001b[0;36m__call__\u001b[0;34m(self, *args, **kwargs)\u001b[0m\n\u001b[1;32m   2418\u001b[0m     \u001b[0;32mwith\u001b[0m \u001b[0mself\u001b[0m\u001b[0;34m.\u001b[0m\u001b[0m_lock\u001b[0m\u001b[0;34m:\u001b[0m\u001b[0;34m\u001b[0m\u001b[0;34m\u001b[0m\u001b[0m\n\u001b[1;32m   2419\u001b[0m       \u001b[0mgraph_function\u001b[0m\u001b[0;34m,\u001b[0m \u001b[0margs\u001b[0m\u001b[0;34m,\u001b[0m \u001b[0mkwargs\u001b[0m \u001b[0;34m=\u001b[0m \u001b[0mself\u001b[0m\u001b[0;34m.\u001b[0m\u001b[0m_maybe_define_function\u001b[0m\u001b[0;34m(\u001b[0m\u001b[0margs\u001b[0m\u001b[0;34m,\u001b[0m \u001b[0mkwargs\u001b[0m\u001b[0;34m)\u001b[0m\u001b[0;34m\u001b[0m\u001b[0;34m\u001b[0m\u001b[0m\n\u001b[0;32m-> 2420\u001b[0;31m     \u001b[0;32mreturn\u001b[0m \u001b[0mgraph_function\u001b[0m\u001b[0;34m.\u001b[0m\u001b[0m_filtered_call\u001b[0m\u001b[0;34m(\u001b[0m\u001b[0margs\u001b[0m\u001b[0;34m,\u001b[0m \u001b[0mkwargs\u001b[0m\u001b[0;34m)\u001b[0m  \u001b[0;31m# pylint: disable=protected-access\u001b[0m\u001b[0;34m\u001b[0m\u001b[0;34m\u001b[0m\u001b[0m\n\u001b[0m\u001b[1;32m   2421\u001b[0m \u001b[0;34m\u001b[0m\u001b[0m\n\u001b[1;32m   2422\u001b[0m   \u001b[0;34m@\u001b[0m\u001b[0mproperty\u001b[0m\u001b[0;34m\u001b[0m\u001b[0;34m\u001b[0m\u001b[0m\n",
      "\u001b[0;32m~/miniconda3/envs/IronHack_env/lib/python3.7/site-packages/tensorflow/python/eager/function.py\u001b[0m in \u001b[0;36m_filtered_call\u001b[0;34m(self, args, kwargs)\u001b[0m\n\u001b[1;32m   1663\u001b[0m          if isinstance(t, (ops.Tensor,\n\u001b[1;32m   1664\u001b[0m                            resource_variable_ops.BaseResourceVariable))),\n\u001b[0;32m-> 1665\u001b[0;31m         self.captured_inputs)\n\u001b[0m\u001b[1;32m   1666\u001b[0m \u001b[0;34m\u001b[0m\u001b[0m\n\u001b[1;32m   1667\u001b[0m   \u001b[0;32mdef\u001b[0m \u001b[0m_call_flat\u001b[0m\u001b[0;34m(\u001b[0m\u001b[0mself\u001b[0m\u001b[0;34m,\u001b[0m \u001b[0margs\u001b[0m\u001b[0;34m,\u001b[0m \u001b[0mcaptured_inputs\u001b[0m\u001b[0;34m,\u001b[0m \u001b[0mcancellation_manager\u001b[0m\u001b[0;34m=\u001b[0m\u001b[0;32mNone\u001b[0m\u001b[0;34m)\u001b[0m\u001b[0;34m:\u001b[0m\u001b[0;34m\u001b[0m\u001b[0;34m\u001b[0m\u001b[0m\n",
      "\u001b[0;32m~/miniconda3/envs/IronHack_env/lib/python3.7/site-packages/tensorflow/python/eager/function.py\u001b[0m in \u001b[0;36m_call_flat\u001b[0;34m(self, args, captured_inputs, cancellation_manager)\u001b[0m\n\u001b[1;32m   1744\u001b[0m       \u001b[0;31m# No tape is watching; skip to running the function.\u001b[0m\u001b[0;34m\u001b[0m\u001b[0;34m\u001b[0m\u001b[0;34m\u001b[0m\u001b[0m\n\u001b[1;32m   1745\u001b[0m       return self._build_call_outputs(self._inference_function.call(\n\u001b[0;32m-> 1746\u001b[0;31m           ctx, args, cancellation_manager=cancellation_manager))\n\u001b[0m\u001b[1;32m   1747\u001b[0m     forward_backward = self._select_forward_and_backward_functions(\n\u001b[1;32m   1748\u001b[0m         \u001b[0margs\u001b[0m\u001b[0;34m,\u001b[0m\u001b[0;34m\u001b[0m\u001b[0;34m\u001b[0m\u001b[0m\n",
      "\u001b[0;32m~/miniconda3/envs/IronHack_env/lib/python3.7/site-packages/tensorflow/python/eager/function.py\u001b[0m in \u001b[0;36mcall\u001b[0;34m(self, ctx, args, cancellation_manager)\u001b[0m\n\u001b[1;32m    596\u001b[0m               \u001b[0minputs\u001b[0m\u001b[0;34m=\u001b[0m\u001b[0margs\u001b[0m\u001b[0;34m,\u001b[0m\u001b[0;34m\u001b[0m\u001b[0;34m\u001b[0m\u001b[0m\n\u001b[1;32m    597\u001b[0m               \u001b[0mattrs\u001b[0m\u001b[0;34m=\u001b[0m\u001b[0mattrs\u001b[0m\u001b[0;34m,\u001b[0m\u001b[0;34m\u001b[0m\u001b[0;34m\u001b[0m\u001b[0m\n\u001b[0;32m--> 598\u001b[0;31m               ctx=ctx)\n\u001b[0m\u001b[1;32m    599\u001b[0m         \u001b[0;32melse\u001b[0m\u001b[0;34m:\u001b[0m\u001b[0;34m\u001b[0m\u001b[0;34m\u001b[0m\u001b[0m\n\u001b[1;32m    600\u001b[0m           outputs = execute.execute_with_cancellation(\n",
      "\u001b[0;32m~/miniconda3/envs/IronHack_env/lib/python3.7/site-packages/tensorflow/python/eager/execute.py\u001b[0m in \u001b[0;36mquick_execute\u001b[0;34m(op_name, num_outputs, inputs, attrs, ctx, name)\u001b[0m\n\u001b[1;32m     58\u001b[0m     \u001b[0mctx\u001b[0m\u001b[0;34m.\u001b[0m\u001b[0mensure_initialized\u001b[0m\u001b[0;34m(\u001b[0m\u001b[0;34m)\u001b[0m\u001b[0;34m\u001b[0m\u001b[0;34m\u001b[0m\u001b[0m\n\u001b[1;32m     59\u001b[0m     tensors = pywrap_tfe.TFE_Py_Execute(ctx._handle, device_name, op_name,\n\u001b[0;32m---> 60\u001b[0;31m                                         inputs, attrs, num_outputs)\n\u001b[0m\u001b[1;32m     61\u001b[0m   \u001b[0;32mexcept\u001b[0m \u001b[0mcore\u001b[0m\u001b[0;34m.\u001b[0m\u001b[0m_NotOkStatusException\u001b[0m \u001b[0;32mas\u001b[0m \u001b[0me\u001b[0m\u001b[0;34m:\u001b[0m\u001b[0;34m\u001b[0m\u001b[0;34m\u001b[0m\u001b[0m\n\u001b[1;32m     62\u001b[0m     \u001b[0;32mif\u001b[0m \u001b[0mname\u001b[0m \u001b[0;32mis\u001b[0m \u001b[0;32mnot\u001b[0m \u001b[0;32mNone\u001b[0m\u001b[0;34m:\u001b[0m\u001b[0;34m\u001b[0m\u001b[0;34m\u001b[0m\u001b[0m\n",
      "\u001b[0;31mKeyboardInterrupt\u001b[0m: "
     ]
    }
   ],
   "source": [
    "file_path=\"../model/weights.best.h5\"\n",
    "\n",
    "checkpoint = ModelCheckpoint(file_path, monitor='accuracy', verbose=1, save_best_only=True, mode='max')\n",
    "\n",
    "early = EarlyStopping(monitor=\"accuracy\", mode=\"max\", patience=15)\n",
    "\n",
    "callbacks_list = [checkpoint, early] #early\n",
    "\n",
    "history = model.fit(train_generator, \n",
    "                    epochs=100, \n",
    "                    shuffle=True, \n",
    "                    verbose=True,\n",
    "                    callbacks=callbacks_list,\n",
    "                    validation_data=valid_generator,\n",
    "                    class_weight=class_weights,\n",
    "                   steps_per_epoch=STEP_SIZE_TRAIN,\n",
    "                   validation_steps=STEP_SIZE_VALID)\n",
    "\n"
   ]
  },
  {
   "cell_type": "code",
   "execution_count": 85,
   "metadata": {},
   "outputs": [
    {
     "data": {
      "image/png": "[encoded data removed]",
      "text/plain": [
       "<Figure size 576x576 with 2 Axes>"
      ]
     },
     "metadata": {
      "needs_background": "light"
     },
     "output_type": "display_data"
    }
   ],
   "source": [
    "acc = history.history['accuracy']\n",
    "val_acc = history.history['val_accuracy']\n",
    "\n",
    "loss = history.history['loss']\n",
    "val_loss = history.history['val_loss']\n",
    "\n",
    "plt.figure(figsize=(8, 8))\n",
    "plt.subplot(2, 1, 1)\n",
    "plt.plot(acc, label='Training Accuracy')\n",
    "plt.plot(val_acc, label='Validation Accuracy')\n",
    "plt.legend(loc='lower right')\n",
    "plt.ylabel('Accuracy')\n",
    "plt.ylim([min(plt.ylim()),1])\n",
    "plt.title('Training and Validation Accuracy')\n",
    "\n",
    "plt.subplot(2, 1, 2)\n",
    "plt.plot(loss, label='Training Loss')\n",
    "plt.plot(val_loss, label='Validation Loss')\n",
    "plt.legend(loc='upper right')\n",
    "plt.ylabel('Cross Entropy')\n",
    "plt.ylim([0,1.0])\n",
    "plt.title('Training and Validation Loss')\n",
    "plt.xlabel('epoch')\n",
    "plt.show()"
   ]
  },
  {
   "cell_type": "code",
   "execution_count": 88,
   "metadata": {},
   "outputs": [
    {
     "name": "stdout",
     "output_type": "stream",
     "text": [
      "1/1 [==============================] - 0s 4ms/step\n"
     ]
    }
   ],
   "source": [
    "predicts = model.predict(test_generator,steps=STEP_SIZE_TEST,verbose=1)"
   ]
  },
  {
   "cell_type": "code",
   "execution_count": 91,
   "metadata": {},
   "outputs": [
    {
     "data": {
      "text/plain": [
       "array([2, 2, 2, 2, 2, 2, 2, 2, 2, 2, 2, 2, 2, 2, 2, 2, 2, 2])"
      ]
     },
     "execution_count": 91,
     "metadata": {},
     "output_type": "execute_result"
    }
   ],
   "source": [
    "predicted_class_indices=np.argmax(predicts,axis=1)\n",
    "\n",
    "predicted_class_indices"
   ]
  },
  {
   "cell_type": "code",
   "execution_count": null,
   "metadata": {},
   "outputs": [],
   "source": []
  },
  {
   "cell_type": "code",
   "execution_count": null,
   "metadata": {},
   "outputs": [],
   "source": []
  },
  {
   "cell_type": "code",
   "execution_count": 117,
   "metadata": {},
   "outputs": [
    {
     "name": "stdout",
     "output_type": "stream",
     "text": [
      "Epoch 1/100\n",
      "8/8 [==============================] - 33s 4s/step - loss: 9.1440 - accuracy: 0.0656 - val_loss: 2.8490 - val_accuracy: 0.1094\n",
      "Epoch 2/100\n",
      "8/8 [==============================] - 33s 4s/step - loss: 2.8297 - accuracy: 0.0656 - val_loss: 2.8345 - val_accuracy: 0.0625\n",
      "Epoch 3/100\n",
      "8/8 [==============================] - 35s 4s/step - loss: 2.8542 - accuracy: 0.0586 - val_loss: 2.8340 - val_accuracy: 0.0469\n",
      "Epoch 4/100\n",
      "8/8 [==============================] - 35s 4s/step - loss: 2.8128 - accuracy: 0.0533 - val_loss: 2.8332 - val_accuracy: 0.0469\n",
      "Epoch 5/100\n",
      "8/8 [==============================] - 37s 5s/step - loss: 2.8547 - accuracy: 0.0779 - val_loss: 2.8337 - val_accuracy: 0.0625\n",
      "Epoch 6/100\n",
      "8/8 [==============================] - 36s 4s/step - loss: 2.8194 - accuracy: 0.0820 - val_loss: 2.8339 - val_accuracy: 0.0625\n",
      "Epoch 7/100\n",
      "8/8 [==============================] - 34s 4s/step - loss: 2.8014 - accuracy: 0.0533 - val_loss: 2.8334 - val_accuracy: 0.0625\n",
      "Epoch 8/100\n",
      "8/8 [==============================] - 39s 5s/step - loss: 2.8377 - accuracy: 0.0533 - val_loss: 2.8337 - val_accuracy: 0.0625\n",
      "Epoch 9/100\n",
      "8/8 [==============================] - 34s 4s/step - loss: 2.8599 - accuracy: 0.0656 - val_loss: 2.8335 - val_accuracy: 0.0625\n",
      "Epoch 10/100\n",
      "8/8 [==============================] - 33s 4s/step - loss: 2.8223 - accuracy: 0.0738 - val_loss: 2.8339 - val_accuracy: 0.0469\n",
      "Epoch 11/100\n",
      "8/8 [==============================] - 34s 4s/step - loss: 2.8350 - accuracy: 0.0615 - val_loss: 2.8337 - val_accuracy: 0.0625\n",
      "Epoch 12/100\n",
      "8/8 [==============================] - 35s 4s/step - loss: 2.8161 - accuracy: 0.0586 - val_loss: 2.8346 - val_accuracy: 0.0312\n",
      "Epoch 13/100\n",
      "8/8 [==============================] - 35s 4s/step - loss: 2.8326 - accuracy: 0.0779 - val_loss: 2.8344 - val_accuracy: 0.0781\n",
      "Epoch 14/100\n",
      "8/8 [==============================] - 38s 5s/step - loss: 2.8578 - accuracy: 0.0656 - val_loss: 2.8333 - val_accuracy: 0.0625\n",
      "Epoch 15/100\n",
      "8/8 [==============================] - 36s 4s/step - loss: 2.8085 - accuracy: 0.0656 - val_loss: 2.8270 - val_accuracy: 0.0312\n",
      "Epoch 16/100\n",
      "8/8 [==============================] - 34s 4s/step - loss: 2.8617 - accuracy: 0.0533 - val_loss: 2.8291 - val_accuracy: 0.0312\n",
      "Epoch 17/100\n",
      "8/8 [==============================] - 40s 5s/step - loss: 2.8103 - accuracy: 0.0246 - val_loss: 2.8328 - val_accuracy: 0.0781\n",
      "Epoch 18/100\n",
      "8/8 [==============================] - 34s 4s/step - loss: 2.8198 - accuracy: 0.0738 - val_loss: 2.8304 - val_accuracy: 0.0781\n",
      "Epoch 19/100\n",
      "8/8 [==============================] - 34s 4s/step - loss: 2.8879 - accuracy: 0.0738 - val_loss: 2.8284 - val_accuracy: 0.0625\n",
      "Epoch 20/100\n",
      "8/8 [==============================] - 36s 5s/step - loss: 2.8000 - accuracy: 0.0451 - val_loss: 2.8237 - val_accuracy: 0.0781\n",
      "Epoch 21/100\n",
      "8/8 [==============================] - 39s 5s/step - loss: 2.8600 - accuracy: 0.0273 - val_loss: 2.8291 - val_accuracy: 0.0625\n",
      "Epoch 22/100\n",
      "8/8 [==============================] - 35s 4s/step - loss: 2.8163 - accuracy: 0.0287 - val_loss: 2.8331 - val_accuracy: 0.0312\n",
      "Epoch 23/100\n",
      "8/8 [==============================] - 34s 4s/step - loss: 2.8575 - accuracy: 0.0410 - val_loss: 2.8345 - val_accuracy: 0.0312\n",
      "Epoch 24/100\n",
      "8/8 [==============================] - 35s 4s/step - loss: 2.8019 - accuracy: 0.0328 - val_loss: 2.8337 - val_accuracy: 0.0312\n",
      "Epoch 25/100\n",
      "8/8 [==============================] - 34s 4s/step - loss: 2.8485 - accuracy: 0.0369 - val_loss: 2.8342 - val_accuracy: 0.0312\n",
      "Epoch 26/100\n",
      "8/8 [==============================] - 33s 4s/step - loss: 2.8437 - accuracy: 0.0369 - val_loss: 2.8338 - val_accuracy: 0.0156\n",
      "Epoch 27/100\n",
      "8/8 [==============================] - 33s 4s/step - loss: 2.7774 - accuracy: 0.0451 - val_loss: 2.8271 - val_accuracy: 0.0469\n",
      "Epoch 28/100\n",
      "8/8 [==============================] - 34s 4s/step - loss: 2.8642 - accuracy: 0.0410 - val_loss: 2.8340 - val_accuracy: 0.0469\n",
      "Epoch 29/100\n",
      "8/8 [==============================] - 35s 4s/step - loss: 2.8479 - accuracy: 0.0369 - val_loss: 2.8332 - val_accuracy: 0.0312\n",
      "Epoch 30/100\n",
      "8/8 [==============================] - 37s 5s/step - loss: 2.8381 - accuracy: 0.0352 - val_loss: 2.8338 - val_accuracy: 0.0312\n",
      "Epoch 31/100\n",
      "8/8 [==============================] - 37s 5s/step - loss: 2.8210 - accuracy: 0.0205 - val_loss: 2.8326 - val_accuracy: 0.0312\n",
      "Epoch 32/100\n",
      "8/8 [==============================] - 39s 5s/step - loss: 2.8588 - accuracy: 0.0410 - val_loss: 2.8328 - val_accuracy: 0.0469\n",
      "Epoch 33/100\n",
      "8/8 [==============================] - 37s 5s/step - loss: 2.8124 - accuracy: 0.0615 - val_loss: 2.8335 - val_accuracy: 0.0312\n",
      "Epoch 34/100\n",
      "8/8 [==============================] - 38s 5s/step - loss: 2.8122 - accuracy: 0.0533 - val_loss: 2.8336 - val_accuracy: 0.0156\n",
      "Epoch 35/100\n",
      "8/8 [==============================] - 43s 5s/step - loss: 2.9228 - accuracy: 0.0492 - val_loss: 2.8330 - val_accuracy: 0.0469\n",
      "Epoch 36/100\n",
      "8/8 [==============================] - 44s 5s/step - loss: 2.7287 - accuracy: 0.0574 - val_loss: 2.8320 - val_accuracy: 0.0469\n",
      "Epoch 37/100\n",
      "8/8 [==============================] - 42s 5s/step - loss: 2.8855 - accuracy: 0.0574 - val_loss: 2.8303 - val_accuracy: 0.0312\n",
      "Epoch 38/100\n",
      "8/8 [==============================] - 45s 6s/step - loss: 2.8093 - accuracy: 0.0533 - val_loss: 2.8250 - val_accuracy: 0.0625\n",
      "Epoch 39/100\n",
      "8/8 [==============================] - 41s 5s/step - loss: 2.8428 - accuracy: 0.0664 - val_loss: 2.8327 - val_accuracy: 0.0312\n",
      "Epoch 40/100\n",
      "8/8 [==============================] - 41s 5s/step - loss: 2.8146 - accuracy: 0.0451 - val_loss: 2.8136 - val_accuracy: 0.0469\n",
      "Epoch 41/100\n",
      "8/8 [==============================] - 42s 5s/step - loss: 2.8143 - accuracy: 0.0369 - val_loss: 2.8025 - val_accuracy: 0.0312\n",
      "Epoch 42/100\n",
      "8/8 [==============================] - 52s 6s/step - loss: 2.8619 - accuracy: 0.0410 - val_loss: 2.8196 - val_accuracy: 0.0625\n",
      "Epoch 43/100\n",
      "8/8 [==============================] - 40s 5s/step - loss: 2.8168 - accuracy: 0.0615 - val_loss: 2.8259 - val_accuracy: 0.0781\n",
      "Epoch 44/100\n",
      "8/8 [==============================] - 38s 5s/step - loss: 2.8505 - accuracy: 0.0943 - val_loss: 2.8213 - val_accuracy: 0.0625\n",
      "Epoch 45/100\n",
      "8/8 [==============================] - 36s 4s/step - loss: 2.7710 - accuracy: 0.0451 - val_loss: 2.8021 - val_accuracy: 0.0469\n",
      "Epoch 46/100\n",
      "8/8 [==============================] - 40s 5s/step - loss: 2.8330 - accuracy: 0.0492 - val_loss: 2.7886 - val_accuracy: 0.0625\n",
      "Epoch 47/100\n",
      "8/8 [==============================] - 36s 4s/step - loss: 2.7814 - accuracy: 0.0738 - val_loss: 2.7899 - val_accuracy: 0.0469\n",
      "Epoch 48/100\n",
      "8/8 [==============================] - 43s 5s/step - loss: 2.8384 - accuracy: 0.0586 - val_loss: 2.8135 - val_accuracy: 0.0469\n",
      "Epoch 49/100\n",
      "8/8 [==============================] - 42s 5s/step - loss: 2.7908 - accuracy: 0.0492 - val_loss: 2.8205 - val_accuracy: 0.0312\n",
      "Epoch 50/100\n",
      "8/8 [==============================] - 38s 5s/step - loss: 2.8422 - accuracy: 0.0656 - val_loss: 2.8023 - val_accuracy: 0.0625\n",
      "Epoch 51/100\n",
      "8/8 [==============================] - 37s 5s/step - loss: 2.8243 - accuracy: 0.0369 - val_loss: 2.8095 - val_accuracy: 0.0469\n",
      "Epoch 52/100\n",
      "8/8 [==============================] - 39s 5s/step - loss: 2.7854 - accuracy: 0.0902 - val_loss: 2.7989 - val_accuracy: 0.0625\n",
      "Epoch 53/100\n",
      "8/8 [==============================] - 36s 4s/step - loss: 2.8412 - accuracy: 0.0615 - val_loss: 2.7773 - val_accuracy: 0.0469\n",
      "Epoch 54/100\n",
      "8/8 [==============================] - 35s 4s/step - loss: 2.8279 - accuracy: 0.0451 - val_loss: 2.7907 - val_accuracy: 0.0938\n",
      "Epoch 55/100\n",
      "8/8 [==============================] - 34s 4s/step - loss: 2.7650 - accuracy: 0.0697 - val_loss: 2.7894 - val_accuracy: 0.0469\n",
      "Epoch 56/100\n",
      "8/8 [==============================] - 35s 4s/step - loss: 2.8202 - accuracy: 0.0779 - val_loss: 2.7826 - val_accuracy: 0.0781\n",
      "Epoch 57/100\n",
      "8/8 [==============================] - 36s 5s/step - loss: 2.8209 - accuracy: 0.0664 - val_loss: 2.7821 - val_accuracy: 0.0625\n",
      "Epoch 58/100\n",
      "7/8 [=========================>....] - ETA: 4s - loss: 2.7949 - accuracy: 0.0660"
     ]
    },
    {
     "ename": "KeyboardInterrupt",
     "evalue": "",
     "output_type": "error",
     "traceback": [
      "\u001b[0;31m---------------------------------------------------------------------------\u001b[0m",
      "\u001b[0;31mKeyboardInterrupt\u001b[0m                         Traceback (most recent call last)",
      "\u001b[0;32m<ipython-input-117-6ec4ef1e3c14>\u001b[0m in \u001b[0;36m<module>\u001b[0;34m\u001b[0m\n\u001b[1;32m      8\u001b[0m             \u001b[0mvalidation_steps\u001b[0m\u001b[0;34m=\u001b[0m\u001b[0mSTEP_SIZE_VALID\u001b[0m\u001b[0;34m,\u001b[0m\u001b[0;34m\u001b[0m\u001b[0;34m\u001b[0m\u001b[0m\n\u001b[1;32m      9\u001b[0m             \u001b[0mepochs\u001b[0m\u001b[0;34m=\u001b[0m\u001b[0;36m100\u001b[0m\u001b[0;34m,\u001b[0m\u001b[0;34m\u001b[0m\u001b[0;34m\u001b[0m\u001b[0m\n\u001b[0;32m---> 10\u001b[0;31m             class_weight=class_weights)\n\u001b[0m",
      "\u001b[0;32m~/miniconda3/envs/IronHack_env/lib/python3.7/site-packages/tensorflow/python/keras/engine/training.py\u001b[0m in \u001b[0;36m_method_wrapper\u001b[0;34m(self, *args, **kwargs)\u001b[0m\n\u001b[1;32m     64\u001b[0m   \u001b[0;32mdef\u001b[0m \u001b[0m_method_wrapper\u001b[0m\u001b[0;34m(\u001b[0m\u001b[0mself\u001b[0m\u001b[0;34m,\u001b[0m \u001b[0;34m*\u001b[0m\u001b[0margs\u001b[0m\u001b[0;34m,\u001b[0m \u001b[0;34m**\u001b[0m\u001b[0mkwargs\u001b[0m\u001b[0;34m)\u001b[0m\u001b[0;34m:\u001b[0m\u001b[0;34m\u001b[0m\u001b[0;34m\u001b[0m\u001b[0m\n\u001b[1;32m     65\u001b[0m     \u001b[0;32mif\u001b[0m \u001b[0;32mnot\u001b[0m \u001b[0mself\u001b[0m\u001b[0;34m.\u001b[0m\u001b[0m_in_multi_worker_mode\u001b[0m\u001b[0;34m(\u001b[0m\u001b[0;34m)\u001b[0m\u001b[0;34m:\u001b[0m  \u001b[0;31m# pylint: disable=protected-access\u001b[0m\u001b[0;34m\u001b[0m\u001b[0;34m\u001b[0m\u001b[0m\n\u001b[0;32m---> 66\u001b[0;31m       \u001b[0;32mreturn\u001b[0m \u001b[0mmethod\u001b[0m\u001b[0;34m(\u001b[0m\u001b[0mself\u001b[0m\u001b[0;34m,\u001b[0m \u001b[0;34m*\u001b[0m\u001b[0margs\u001b[0m\u001b[0;34m,\u001b[0m \u001b[0;34m**\u001b[0m\u001b[0mkwargs\u001b[0m\u001b[0;34m)\u001b[0m\u001b[0;34m\u001b[0m\u001b[0;34m\u001b[0m\u001b[0m\n\u001b[0m\u001b[1;32m     67\u001b[0m \u001b[0;34m\u001b[0m\u001b[0m\n\u001b[1;32m     68\u001b[0m     \u001b[0;31m# Running inside `run_distribute_coordinator` already.\u001b[0m\u001b[0;34m\u001b[0m\u001b[0;34m\u001b[0m\u001b[0;34m\u001b[0m\u001b[0m\n",
      "\u001b[0;32m~/miniconda3/envs/IronHack_env/lib/python3.7/site-packages/tensorflow/python/keras/engine/training.py\u001b[0m in \u001b[0;36mfit\u001b[0;34m(self, x, y, batch_size, epochs, verbose, callbacks, validation_split, validation_data, shuffle, class_weight, sample_weight, initial_epoch, steps_per_epoch, validation_steps, validation_batch_size, validation_freq, max_queue_size, workers, use_multiprocessing)\u001b[0m\n\u001b[1;32m    846\u001b[0m                 batch_size=batch_size):\n\u001b[1;32m    847\u001b[0m               \u001b[0mcallbacks\u001b[0m\u001b[0;34m.\u001b[0m\u001b[0mon_train_batch_begin\u001b[0m\u001b[0;34m(\u001b[0m\u001b[0mstep\u001b[0m\u001b[0;34m)\u001b[0m\u001b[0;34m\u001b[0m\u001b[0;34m\u001b[0m\u001b[0m\n\u001b[0;32m--> 848\u001b[0;31m               \u001b[0mtmp_logs\u001b[0m \u001b[0;34m=\u001b[0m \u001b[0mtrain_function\u001b[0m\u001b[0;34m(\u001b[0m\u001b[0miterator\u001b[0m\u001b[0;34m)\u001b[0m\u001b[0;34m\u001b[0m\u001b[0;34m\u001b[0m\u001b[0m\n\u001b[0m\u001b[1;32m    849\u001b[0m               \u001b[0;31m# Catch OutOfRangeError for Datasets of unknown size.\u001b[0m\u001b[0;34m\u001b[0m\u001b[0;34m\u001b[0m\u001b[0;34m\u001b[0m\u001b[0m\n\u001b[1;32m    850\u001b[0m               \u001b[0;31m# This blocks until the batch has finished executing.\u001b[0m\u001b[0;34m\u001b[0m\u001b[0;34m\u001b[0m\u001b[0;34m\u001b[0m\u001b[0m\n",
      "\u001b[0;32m~/miniconda3/envs/IronHack_env/lib/python3.7/site-packages/tensorflow/python/eager/def_function.py\u001b[0m in \u001b[0;36m__call__\u001b[0;34m(self, *args, **kwds)\u001b[0m\n\u001b[1;32m    578\u001b[0m         \u001b[0mxla_context\u001b[0m\u001b[0;34m.\u001b[0m\u001b[0mExit\u001b[0m\u001b[0;34m(\u001b[0m\u001b[0;34m)\u001b[0m\u001b[0;34m\u001b[0m\u001b[0;34m\u001b[0m\u001b[0m\n\u001b[1;32m    579\u001b[0m     \u001b[0;32melse\u001b[0m\u001b[0;34m:\u001b[0m\u001b[0;34m\u001b[0m\u001b[0;34m\u001b[0m\u001b[0m\n\u001b[0;32m--> 580\u001b[0;31m       \u001b[0mresult\u001b[0m \u001b[0;34m=\u001b[0m \u001b[0mself\u001b[0m\u001b[0;34m.\u001b[0m\u001b[0m_call\u001b[0m\u001b[0;34m(\u001b[0m\u001b[0;34m*\u001b[0m\u001b[0margs\u001b[0m\u001b[0;34m,\u001b[0m \u001b[0;34m**\u001b[0m\u001b[0mkwds\u001b[0m\u001b[0;34m)\u001b[0m\u001b[0;34m\u001b[0m\u001b[0;34m\u001b[0m\u001b[0m\n\u001b[0m\u001b[1;32m    581\u001b[0m \u001b[0;34m\u001b[0m\u001b[0m\n\u001b[1;32m    582\u001b[0m     \u001b[0;32mif\u001b[0m \u001b[0mtracing_count\u001b[0m \u001b[0;34m==\u001b[0m \u001b[0mself\u001b[0m\u001b[0;34m.\u001b[0m\u001b[0m_get_tracing_count\u001b[0m\u001b[0;34m(\u001b[0m\u001b[0;34m)\u001b[0m\u001b[0;34m:\u001b[0m\u001b[0;34m\u001b[0m\u001b[0;34m\u001b[0m\u001b[0m\n",
      "\u001b[0;32m~/miniconda3/envs/IronHack_env/lib/python3.7/site-packages/tensorflow/python/eager/def_function.py\u001b[0m in \u001b[0;36m_call\u001b[0;34m(self, *args, **kwds)\u001b[0m\n\u001b[1;32m    609\u001b[0m       \u001b[0;31m# In this case we have created variables on the first call, so we run the\u001b[0m\u001b[0;34m\u001b[0m\u001b[0;34m\u001b[0m\u001b[0;34m\u001b[0m\u001b[0m\n\u001b[1;32m    610\u001b[0m       \u001b[0;31m# defunned version which is guaranteed to never create variables.\u001b[0m\u001b[0;34m\u001b[0m\u001b[0;34m\u001b[0m\u001b[0;34m\u001b[0m\u001b[0m\n\u001b[0;32m--> 611\u001b[0;31m       \u001b[0;32mreturn\u001b[0m \u001b[0mself\u001b[0m\u001b[0;34m.\u001b[0m\u001b[0m_stateless_fn\u001b[0m\u001b[0;34m(\u001b[0m\u001b[0;34m*\u001b[0m\u001b[0margs\u001b[0m\u001b[0;34m,\u001b[0m \u001b[0;34m**\u001b[0m\u001b[0mkwds\u001b[0m\u001b[0;34m)\u001b[0m  \u001b[0;31m# pylint: disable=not-callable\u001b[0m\u001b[0;34m\u001b[0m\u001b[0;34m\u001b[0m\u001b[0m\n\u001b[0m\u001b[1;32m    612\u001b[0m     \u001b[0;32melif\u001b[0m \u001b[0mself\u001b[0m\u001b[0;34m.\u001b[0m\u001b[0m_stateful_fn\u001b[0m \u001b[0;32mis\u001b[0m \u001b[0;32mnot\u001b[0m \u001b[0;32mNone\u001b[0m\u001b[0;34m:\u001b[0m\u001b[0;34m\u001b[0m\u001b[0;34m\u001b[0m\u001b[0m\n\u001b[1;32m    613\u001b[0m       \u001b[0;31m# Release the lock early so that multiple threads can perform the call\u001b[0m\u001b[0;34m\u001b[0m\u001b[0;34m\u001b[0m\u001b[0;34m\u001b[0m\u001b[0m\n",
      "\u001b[0;32m~/miniconda3/envs/IronHack_env/lib/python3.7/site-packages/tensorflow/python/eager/function.py\u001b[0m in \u001b[0;36m__call__\u001b[0;34m(self, *args, **kwargs)\u001b[0m\n\u001b[1;32m   2418\u001b[0m     \u001b[0;32mwith\u001b[0m \u001b[0mself\u001b[0m\u001b[0;34m.\u001b[0m\u001b[0m_lock\u001b[0m\u001b[0;34m:\u001b[0m\u001b[0;34m\u001b[0m\u001b[0;34m\u001b[0m\u001b[0m\n\u001b[1;32m   2419\u001b[0m       \u001b[0mgraph_function\u001b[0m\u001b[0;34m,\u001b[0m \u001b[0margs\u001b[0m\u001b[0;34m,\u001b[0m \u001b[0mkwargs\u001b[0m \u001b[0;34m=\u001b[0m \u001b[0mself\u001b[0m\u001b[0;34m.\u001b[0m\u001b[0m_maybe_define_function\u001b[0m\u001b[0;34m(\u001b[0m\u001b[0margs\u001b[0m\u001b[0;34m,\u001b[0m \u001b[0mkwargs\u001b[0m\u001b[0;34m)\u001b[0m\u001b[0;34m\u001b[0m\u001b[0;34m\u001b[0m\u001b[0m\n\u001b[0;32m-> 2420\u001b[0;31m     \u001b[0;32mreturn\u001b[0m \u001b[0mgraph_function\u001b[0m\u001b[0;34m.\u001b[0m\u001b[0m_filtered_call\u001b[0m\u001b[0;34m(\u001b[0m\u001b[0margs\u001b[0m\u001b[0;34m,\u001b[0m \u001b[0mkwargs\u001b[0m\u001b[0;34m)\u001b[0m  \u001b[0;31m# pylint: disable=protected-access\u001b[0m\u001b[0;34m\u001b[0m\u001b[0;34m\u001b[0m\u001b[0m\n\u001b[0m\u001b[1;32m   2421\u001b[0m \u001b[0;34m\u001b[0m\u001b[0m\n\u001b[1;32m   2422\u001b[0m   \u001b[0;34m@\u001b[0m\u001b[0mproperty\u001b[0m\u001b[0;34m\u001b[0m\u001b[0;34m\u001b[0m\u001b[0m\n",
      "\u001b[0;32m~/miniconda3/envs/IronHack_env/lib/python3.7/site-packages/tensorflow/python/eager/function.py\u001b[0m in \u001b[0;36m_filtered_call\u001b[0;34m(self, args, kwargs)\u001b[0m\n\u001b[1;32m   1663\u001b[0m          if isinstance(t, (ops.Tensor,\n\u001b[1;32m   1664\u001b[0m                            resource_variable_ops.BaseResourceVariable))),\n\u001b[0;32m-> 1665\u001b[0;31m         self.captured_inputs)\n\u001b[0m\u001b[1;32m   1666\u001b[0m \u001b[0;34m\u001b[0m\u001b[0m\n\u001b[1;32m   1667\u001b[0m   \u001b[0;32mdef\u001b[0m \u001b[0m_call_flat\u001b[0m\u001b[0;34m(\u001b[0m\u001b[0mself\u001b[0m\u001b[0;34m,\u001b[0m \u001b[0margs\u001b[0m\u001b[0;34m,\u001b[0m \u001b[0mcaptured_inputs\u001b[0m\u001b[0;34m,\u001b[0m \u001b[0mcancellation_manager\u001b[0m\u001b[0;34m=\u001b[0m\u001b[0;32mNone\u001b[0m\u001b[0;34m)\u001b[0m\u001b[0;34m:\u001b[0m\u001b[0;34m\u001b[0m\u001b[0;34m\u001b[0m\u001b[0m\n",
      "\u001b[0;32m~/miniconda3/envs/IronHack_env/lib/python3.7/site-packages/tensorflow/python/eager/function.py\u001b[0m in \u001b[0;36m_call_flat\u001b[0;34m(self, args, captured_inputs, cancellation_manager)\u001b[0m\n\u001b[1;32m   1744\u001b[0m       \u001b[0;31m# No tape is watching; skip to running the function.\u001b[0m\u001b[0;34m\u001b[0m\u001b[0;34m\u001b[0m\u001b[0;34m\u001b[0m\u001b[0m\n\u001b[1;32m   1745\u001b[0m       return self._build_call_outputs(self._inference_function.call(\n\u001b[0;32m-> 1746\u001b[0;31m           ctx, args, cancellation_manager=cancellation_manager))\n\u001b[0m\u001b[1;32m   1747\u001b[0m     forward_backward = self._select_forward_and_backward_functions(\n\u001b[1;32m   1748\u001b[0m         \u001b[0margs\u001b[0m\u001b[0;34m,\u001b[0m\u001b[0;34m\u001b[0m\u001b[0;34m\u001b[0m\u001b[0m\n",
      "\u001b[0;32m~/miniconda3/envs/IronHack_env/lib/python3.7/site-packages/tensorflow/python/eager/function.py\u001b[0m in \u001b[0;36mcall\u001b[0;34m(self, ctx, args, cancellation_manager)\u001b[0m\n\u001b[1;32m    596\u001b[0m               \u001b[0minputs\u001b[0m\u001b[0;34m=\u001b[0m\u001b[0margs\u001b[0m\u001b[0;34m,\u001b[0m\u001b[0;34m\u001b[0m\u001b[0;34m\u001b[0m\u001b[0m\n\u001b[1;32m    597\u001b[0m               \u001b[0mattrs\u001b[0m\u001b[0;34m=\u001b[0m\u001b[0mattrs\u001b[0m\u001b[0;34m,\u001b[0m\u001b[0;34m\u001b[0m\u001b[0;34m\u001b[0m\u001b[0m\n\u001b[0;32m--> 598\u001b[0;31m               ctx=ctx)\n\u001b[0m\u001b[1;32m    599\u001b[0m         \u001b[0;32melse\u001b[0m\u001b[0;34m:\u001b[0m\u001b[0;34m\u001b[0m\u001b[0;34m\u001b[0m\u001b[0m\n\u001b[1;32m    600\u001b[0m           outputs = execute.execute_with_cancellation(\n",
      "\u001b[0;32m~/miniconda3/envs/IronHack_env/lib/python3.7/site-packages/tensorflow/python/eager/execute.py\u001b[0m in \u001b[0;36mquick_execute\u001b[0;34m(op_name, num_outputs, inputs, attrs, ctx, name)\u001b[0m\n\u001b[1;32m     58\u001b[0m     \u001b[0mctx\u001b[0m\u001b[0;34m.\u001b[0m\u001b[0mensure_initialized\u001b[0m\u001b[0;34m(\u001b[0m\u001b[0;34m)\u001b[0m\u001b[0;34m\u001b[0m\u001b[0;34m\u001b[0m\u001b[0m\n\u001b[1;32m     59\u001b[0m     tensors = pywrap_tfe.TFE_Py_Execute(ctx._handle, device_name, op_name,\n\u001b[0;32m---> 60\u001b[0;31m                                         inputs, attrs, num_outputs)\n\u001b[0m\u001b[1;32m     61\u001b[0m   \u001b[0;32mexcept\u001b[0m \u001b[0mcore\u001b[0m\u001b[0;34m.\u001b[0m\u001b[0m_NotOkStatusException\u001b[0m \u001b[0;32mas\u001b[0m \u001b[0me\u001b[0m\u001b[0;34m:\u001b[0m\u001b[0;34m\u001b[0m\u001b[0;34m\u001b[0m\u001b[0m\n\u001b[1;32m     62\u001b[0m     \u001b[0;32mif\u001b[0m \u001b[0mname\u001b[0m \u001b[0;32mis\u001b[0m \u001b[0;32mnot\u001b[0m \u001b[0;32mNone\u001b[0m\u001b[0;34m:\u001b[0m\u001b[0;34m\u001b[0m\u001b[0;34m\u001b[0m\u001b[0m\n",
      "\u001b[0;31mKeyboardInterrupt\u001b[0m: "
     ]
    }
   ],
   "source": [
    "STEP_SIZE_TRAIN=train_generator.n//train_generator.batch_size\n",
    "STEP_SIZE_VALID=valid_generator.n//valid_generator.batch_size\n",
    "STEP_SIZE_TEST=test_generator.n//test_generator.batch_size\n",
    "\n",
    "model.fit(train_generator,\n",
    "            steps_per_epoch=STEP_SIZE_TRAIN,\n",
    "            validation_data=valid_generator,\n",
    "            validation_steps=STEP_SIZE_VALID,\n",
    "            epochs=100,\n",
    "            class_weight=class_weights)"
   ]
  },
  {
   "cell_type": "code",
   "execution_count": null,
   "metadata": {},
   "outputs": [],
   "source": [
    "model.evaluate(valid_generator,steps=STEP_SIZE_TEST)"
   ]
  },
  {
   "cell_type": "code",
   "execution_count": 52,
   "metadata": {},
   "outputs": [
    {
     "name": "stdout",
     "output_type": "stream",
     "text": [
      "5/5 [==============================] - 5s 984ms/step\n"
     ]
    }
   ],
   "source": [
    "test_generator.reset()\n",
    "pred=model.predict(test_generator,steps=STEP_SIZE_TEST,verbose=1)"
   ]
  },
  {
   "cell_type": "code",
   "execution_count": 53,
   "metadata": {},
   "outputs": [],
   "source": [
    "predicted_class_indices=np.argmax(pred,axis=1)"
   ]
  },
  {
   "cell_type": "code",
   "execution_count": 54,
   "metadata": {},
   "outputs": [
    {
     "data": {
      "text/plain": [
       "array([ 2,  2,  3,  2, 18, 28,  3,  2, 34, 14,  2,  3, 29, 33,  3, 19,  3,\n",
       "       34,  6, 34, 26,  3,  3, 34,  2, 20, 26, 27, 34,  2, 12, 24,  2, 29,\n",
       "       26,  3, 26,  3, 33,  2, 35,  1,  3, 26, 20, 14,  2, 33,  3,  2, 19,\n",
       "       34, 21, 32, 11, 26, 34,  3,  3, 29, 26,  2,  2,  2, 26,  3,  3,  3,\n",
       "        2, 19, 33,  2, 26, 28, 34, 33,  3,  2,  2,  2, 26,  2, 30,  3,  2,\n",
       "        2, 33,  2, 21,  3,  2, 26, 35,  2, 34, 26, 14, 26,  3, 19, 35,  2,\n",
       "       26,  3,  2, 33, 25, 26,  3, 15,  2,  3, 12,  3, 29,  2, 35, 17,  2,\n",
       "        2,  9, 34,  2,  6,  3, 26,  6, 29, 34, 14, 21,  2,  2,  2, 34,  2,\n",
       "        2,  2, 35, 33, 24,  3,  2, 34, 26,  2,  2, 28,  3,  2,  2, 33,  6,\n",
       "       33, 26,  2, 20, 35,  2,  2, 33,  3, 19,  3, 19,  3, 30,  2,  3, 26,\n",
       "       26, 26,  3,  3, 26, 12, 33,  3,  2,  2, 15,  3, 33,  2,  2])"
      ]
     },
     "execution_count": 54,
     "metadata": {},
     "output_type": "execute_result"
    }
   ],
   "source": [
    "predicted_class_indices"
   ]
  },
  {
   "cell_type": "code",
   "execution_count": 56,
   "metadata": {},
   "outputs": [
    {
     "data": {
      "text/html": [
       "<div>\n",
       "<style scoped>\n",
       "    .dataframe tbody tr th:only-of-type {\n",
       "        vertical-align: middle;\n",
       "    }\n",
       "\n",
       "    .dataframe tbody tr th {\n",
       "        vertical-align: top;\n",
       "    }\n",
       "\n",
       "    .dataframe thead th {\n",
       "        text-align: right;\n",
       "    }\n",
       "</style>\n",
       "<table border=\"1\" class=\"dataframe\">\n",
       "  <thead>\n",
       "    <tr style=\"text-align: right;\">\n",
       "      <th></th>\n",
       "      <th>local</th>\n",
       "      <th>brand</th>\n",
       "    </tr>\n",
       "  </thead>\n",
       "  <tbody>\n",
       "    <tr>\n",
       "      <th>641</th>\n",
       "      <td>/home/ivan/Documentos/IRONHACK/Bootcamp/final_...</td>\n",
       "      <td>budweiser</td>\n",
       "    </tr>\n",
       "    <tr>\n",
       "      <th>47</th>\n",
       "      <td>/home/ivan/Documentos/IRONHACK/Bootcamp/final_...</td>\n",
       "      <td>san miguel</td>\n",
       "    </tr>\n",
       "    <tr>\n",
       "      <th>729</th>\n",
       "      <td>/home/ivan/Documentos/IRONHACK/Bootcamp/final_...</td>\n",
       "      <td>cruzcampo</td>\n",
       "    </tr>\n",
       "    <tr>\n",
       "      <th>300</th>\n",
       "      <td>/home/ivan/Documentos/IRONHACK/Bootcamp/final_...</td>\n",
       "      <td>amstel original</td>\n",
       "    </tr>\n",
       "    <tr>\n",
       "      <th>677</th>\n",
       "      <td>/home/ivan/Documentos/IRONHACK/Bootcamp/final_...</td>\n",
       "      <td>free damm</td>\n",
       "    </tr>\n",
       "    <tr>\n",
       "      <th>...</th>\n",
       "      <td>...</td>\n",
       "      <td>...</td>\n",
       "    </tr>\n",
       "    <tr>\n",
       "      <th>129</th>\n",
       "      <td>/home/ivan/Documentos/IRONHACK/Bootcamp/final_...</td>\n",
       "      <td>desperado</td>\n",
       "    </tr>\n",
       "    <tr>\n",
       "      <th>587</th>\n",
       "      <td>/home/ivan/Documentos/IRONHACK/Bootcamp/final_...</td>\n",
       "      <td>dia</td>\n",
       "    </tr>\n",
       "    <tr>\n",
       "      <th>405</th>\n",
       "      <td>/home/ivan/Documentos/IRONHACK/Bootcamp/final_...</td>\n",
       "      <td>cruzcampo</td>\n",
       "    </tr>\n",
       "    <tr>\n",
       "      <th>250</th>\n",
       "      <td>/home/ivan/Documentos/IRONHACK/Bootcamp/final_...</td>\n",
       "      <td>cruzcampo reserva</td>\n",
       "    </tr>\n",
       "    <tr>\n",
       "      <th>301</th>\n",
       "      <td>/home/ivan/Documentos/IRONHACK/Bootcamp/final_...</td>\n",
       "      <td>alhambra</td>\n",
       "    </tr>\n",
       "  </tbody>\n",
       "</table>\n",
       "<p>185 rows × 2 columns</p>\n",
       "</div>"
      ],
      "text/plain": [
       "                                                 local              brand\n",
       "641  /home/ivan/Documentos/IRONHACK/Bootcamp/final_...          budweiser\n",
       "47   /home/ivan/Documentos/IRONHACK/Bootcamp/final_...         san miguel\n",
       "729  /home/ivan/Documentos/IRONHACK/Bootcamp/final_...          cruzcampo\n",
       "300  /home/ivan/Documentos/IRONHACK/Bootcamp/final_...    amstel original\n",
       "677  /home/ivan/Documentos/IRONHACK/Bootcamp/final_...          free damm\n",
       "..                                                 ...                ...\n",
       "129  /home/ivan/Documentos/IRONHACK/Bootcamp/final_...          desperado\n",
       "587  /home/ivan/Documentos/IRONHACK/Bootcamp/final_...                dia\n",
       "405  /home/ivan/Documentos/IRONHACK/Bootcamp/final_...          cruzcampo\n",
       "250  /home/ivan/Documentos/IRONHACK/Bootcamp/final_...  cruzcampo reserva\n",
       "301  /home/ivan/Documentos/IRONHACK/Bootcamp/final_...           alhambra\n",
       "\n",
       "[185 rows x 2 columns]"
      ]
     },
     "execution_count": 56,
     "metadata": {},
     "output_type": "execute_result"
    }
   ],
   "source": [
    "beer_test"
   ]
  },
  {
   "cell_type": "code",
   "execution_count": null,
   "metadata": {},
   "outputs": [],
   "source": []
  },
  {
   "cell_type": "code",
   "execution_count": null,
   "metadata": {},
   "outputs": [],
   "source": []
  },
  {
   "cell_type": "code",
   "execution_count": null,
   "metadata": {},
   "outputs": [],
   "source": []
  },
  {
   "cell_type": "code",
   "execution_count": null,
   "metadata": {},
   "outputs": [],
   "source": []
  },
  {
   "cell_type": "code",
   "execution_count": null,
   "metadata": {},
   "outputs": [],
   "source": []
  },
  {
   "cell_type": "code",
   "execution_count": 20,
   "metadata": {},
   "outputs": [],
   "source": [
    "import tensorflow as tf\n",
    "from PIL import Image"
   ]
  },
  {
   "cell_type": "code",
   "execution_count": 41,
   "metadata": {},
   "outputs": [
    {
     "ename": "NameError",
     "evalue": "name 'hub' is not defined",
     "output_type": "error",
     "traceback": [
      "\u001b[0;31m---------------------------------------------------------------------------\u001b[0m",
      "\u001b[0;31mNameError\u001b[0m                                 Traceback (most recent call last)",
      "\u001b[0;32m<ipython-input-41-ec5179aaa936>\u001b[0m in \u001b[0;36m<module>\u001b[0;34m\u001b[0m\n\u001b[0;32m----> 1\u001b[0;31m \u001b[0mreloaded_model\u001b[0m \u001b[0;34m=\u001b[0m \u001b[0mtf\u001b[0m\u001b[0;34m.\u001b[0m\u001b[0mkeras\u001b[0m\u001b[0;34m.\u001b[0m\u001b[0mmodels\u001b[0m\u001b[0;34m.\u001b[0m\u001b[0mload_model\u001b[0m\u001b[0;34m(\u001b[0m\u001b[0;34m'../saved_model/model_3_inceptionv3_280x280.h5'\u001b[0m\u001b[0;34m,\u001b[0m\u001b[0mcustom_objects\u001b[0m\u001b[0;34m=\u001b[0m\u001b[0;34m{\u001b[0m\u001b[0;34m'KerasLayer'\u001b[0m\u001b[0;34m:\u001b[0m\u001b[0mhub\u001b[0m\u001b[0;34m.\u001b[0m\u001b[0mKerasLayer\u001b[0m\u001b[0;34m}\u001b[0m\u001b[0;34m)\u001b[0m\u001b[0;34m\u001b[0m\u001b[0;34m\u001b[0m\u001b[0m\n\u001b[0m",
      "\u001b[0;31mNameError\u001b[0m: name 'hub' is not defined"
     ]
    }
   ],
   "source": [
    "reloaded_model = tf.keras.models.load_model('../saved_model/model_3_inceptionv3_280x280.h5')"
   ]
  },
  {
   "cell_type": "code",
   "execution_count": null,
   "metadata": {},
   "outputs": [],
   "source": [
    "images_to_predict = format_image(folder_path)\n",
    "predicts = model.predict(images_to_predict)\n",
    "predicted_class_indices = np.argmax(predicts, axis=1)\n",
    "labels = {0: 'estrella galicia', 1: 'heineken', 2: 'mahou 5 estrellas'}\n",
    "predictions = [labels[k] for k in predicted_class_indices]"
   ]
  },
  {
   "cell_type": "code",
   "execution_count": null,
   "metadata": {},
   "outputs": [],
   "source": []
  },
  {
   "cell_type": "code",
   "execution_count": null,
   "metadata": {},
   "outputs": [],
   "source": []
  },
  {
   "cell_type": "code",
   "execution_count": null,
   "metadata": {},
   "outputs": [],
   "source": []
  },
  {
   "cell_type": "code",
   "execution_count": null,
   "metadata": {},
   "outputs": [],
   "source": []
  }
 ],
 "metadata": {
  "kernelspec": {
   "display_name": "Python [conda env:IronHack_env]",
   "language": "python",
   "name": "conda-env-IronHack_env-py"
  },
  "language_info": {
   "codemirror_mode": {
    "name": "ipython",
    "version": 3
   },
   "file_extension": ".py",
   "mimetype": "text/x-python",
   "name": "python",
   "nbconvert_exporter": "python",
   "pygments_lexer": "ipython3",
   "version": "3.7.7"
  }
 },
 "nbformat": 4,
 "nbformat_minor": 4
}
