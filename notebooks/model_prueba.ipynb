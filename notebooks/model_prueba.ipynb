{
 "cells": [
  {
   "cell_type": "markdown",
   "metadata": {},
   "source": [
    "### model brand"
   ]
  },
  {
   "cell_type": "code",
   "execution_count": 1,
   "metadata": {},
   "outputs": [],
   "source": [
    "import pandas as pd\n",
    "import re\n",
    "import numpy as np"
   ]
  },
  {
   "cell_type": "code",
   "execution_count": 2,
   "metadata": {},
   "outputs": [],
   "source": [
    "def load_df_products(name):\n",
    "    return pd.read_csv(f'../data/processed/data_beer_{name}.csv')"
   ]
  },
  {
   "cell_type": "code",
   "execution_count": 3,
   "metadata": {},
   "outputs": [],
   "source": [
    "data_beer = load_df_products('total')"
   ]
  },
  {
   "cell_type": "code",
   "execution_count": 4,
   "metadata": {},
   "outputs": [
    {
     "data": {
      "text/html": [
       "<div>\n",
       "<style scoped>\n",
       "    .dataframe tbody tr th:only-of-type {\n",
       "        vertical-align: middle;\n",
       "    }\n",
       "\n",
       "    .dataframe tbody tr th {\n",
       "        vertical-align: top;\n",
       "    }\n",
       "\n",
       "    .dataframe thead th {\n",
       "        text-align: right;\n",
       "    }\n",
       "</style>\n",
       "<table border=\"1\" class=\"dataframe\">\n",
       "  <thead>\n",
       "    <tr style=\"text-align: right;\">\n",
       "      <th></th>\n",
       "      <th>price</th>\n",
       "      <th>price_liter</th>\n",
       "      <th>title</th>\n",
       "      <th>promotion</th>\n",
       "      <th>brand</th>\n",
       "      <th>container</th>\n",
       "      <th>volumen_unid</th>\n",
       "      <th>quantity_pack</th>\n",
       "      <th>image_url</th>\n",
       "      <th>supermarket</th>\n",
       "      <th>id</th>\n",
       "    </tr>\n",
       "  </thead>\n",
       "  <tbody>\n",
       "    <tr>\n",
       "      <th>0</th>\n",
       "      <td>11.21</td>\n",
       "      <td>1.89</td>\n",
       "      <td>Cerveza Heineken Lager pack de 18 latas de 33 cl.</td>\n",
       "      <td>No promotion</td>\n",
       "      <td>heineken lager</td>\n",
       "      <td>lata</td>\n",
       "      <td>33 cl</td>\n",
       "      <td>18</td>\n",
       "      <td>https://static.carrefour.es/hd_280x_/img_pim_f...</td>\n",
       "      <td>Carrefour</td>\n",
       "      <td>0</td>\n",
       "    </tr>\n",
       "    <tr>\n",
       "      <th>1</th>\n",
       "      <td>14.80</td>\n",
       "      <td>1.60</td>\n",
       "      <td>Cerveza Cruzcampo Pilsen pack de 28 latas de 3...</td>\n",
       "      <td>No promotion</td>\n",
       "      <td>cruzcampo pilsen</td>\n",
       "      <td>lata</td>\n",
       "      <td>33 cl</td>\n",
       "      <td>28</td>\n",
       "      <td>https://static.carrefour.es/hd_280x_/img_pim_f...</td>\n",
       "      <td>Carrefour</td>\n",
       "      <td>1</td>\n",
       "    </tr>\n",
       "    <tr>\n",
       "      <th>2</th>\n",
       "      <td>5.15</td>\n",
       "      <td>1.56</td>\n",
       "      <td>Cerveza El Aguila pack de 10 latas de 33 cl.</td>\n",
       "      <td>No promotion</td>\n",
       "      <td>el aguila</td>\n",
       "      <td>lata</td>\n",
       "      <td>33 cl</td>\n",
       "      <td>10</td>\n",
       "      <td>https://static.carrefour.es/hd_280x_/img_pim_f...</td>\n",
       "      <td>Carrefour</td>\n",
       "      <td>2</td>\n",
       "    </tr>\n",
       "    <tr>\n",
       "      <th>3</th>\n",
       "      <td>0.25</td>\n",
       "      <td>0.76</td>\n",
       "      <td>Cerveza Carrefour Holandesa lata 33 cl.</td>\n",
       "      <td>No promotion</td>\n",
       "      <td>carrefour holandesa</td>\n",
       "      <td>lata</td>\n",
       "      <td>33 cl</td>\n",
       "      <td>1</td>\n",
       "      <td>https://static.carrefour.es/hd_280x_/img_pim_f...</td>\n",
       "      <td>Carrefour</td>\n",
       "      <td>3</td>\n",
       "    </tr>\n",
       "    <tr>\n",
       "      <th>4</th>\n",
       "      <td>14.15</td>\n",
       "      <td>1.53</td>\n",
       "      <td>Cerveza Mahou Clásica pack de 28 latas de 33 cl.</td>\n",
       "      <td>No promotion</td>\n",
       "      <td>mahou clásica</td>\n",
       "      <td>lata</td>\n",
       "      <td>33 cl</td>\n",
       "      <td>28</td>\n",
       "      <td>https://static.carrefour.es/hd_280x_/img_pim_f...</td>\n",
       "      <td>Carrefour</td>\n",
       "      <td>4</td>\n",
       "    </tr>\n",
       "  </tbody>\n",
       "</table>\n",
       "</div>"
      ],
      "text/plain": [
       "   price  price_liter                                              title  \\\n",
       "0  11.21         1.89  Cerveza Heineken Lager pack de 18 latas de 33 cl.   \n",
       "1  14.80         1.60  Cerveza Cruzcampo Pilsen pack de 28 latas de 3...   \n",
       "2   5.15         1.56       Cerveza El Aguila pack de 10 latas de 33 cl.   \n",
       "3   0.25         0.76            Cerveza Carrefour Holandesa lata 33 cl.   \n",
       "4  14.15         1.53   Cerveza Mahou Clásica pack de 28 latas de 33 cl.   \n",
       "\n",
       "      promotion                brand container volumen_unid  quantity_pack  \\\n",
       "0  No promotion       heineken lager      lata        33 cl             18   \n",
       "1  No promotion     cruzcampo pilsen      lata        33 cl             28   \n",
       "2  No promotion            el aguila      lata        33 cl             10   \n",
       "3  No promotion  carrefour holandesa      lata        33 cl              1   \n",
       "4  No promotion        mahou clásica      lata        33 cl             28   \n",
       "\n",
       "                                           image_url supermarket  id  \n",
       "0  https://static.carrefour.es/hd_280x_/img_pim_f...   Carrefour   0  \n",
       "1  https://static.carrefour.es/hd_280x_/img_pim_f...   Carrefour   1  \n",
       "2  https://static.carrefour.es/hd_280x_/img_pim_f...   Carrefour   2  \n",
       "3  https://static.carrefour.es/hd_280x_/img_pim_f...   Carrefour   3  \n",
       "4  https://static.carrefour.es/hd_280x_/img_pim_f...   Carrefour   4  "
      ]
     },
     "execution_count": 4,
     "metadata": {},
     "output_type": "execute_result"
    }
   ],
   "source": [
    "data_beer.head()"
   ]
  },
  {
   "cell_type": "code",
   "execution_count": 5,
   "metadata": {},
   "outputs": [],
   "source": [
    "def change_brand(brand_raw):\n",
    "    names_brands = '''ramblers|amstel|mahou|dia|heineken|san miguel|estrella galicia|voll-damm|1906|budweiser|\n",
    "    |cruzcampo|buckler|dia shandy|desperado|grimbergen|franziskaner|paulaner|corona|guinness|el aguila|\n",
    "    |ambar|alhambra|coronita|leffe|kronenbourg|carlsberg|la salve|warsteiner|mexicana|pacífico|guiness|\n",
    "    |founders|spatem|beck|cubanisto|aurum|keler|woll-damm|aurum|ambar|free damm|ladrón de manzanas|\n",
    "    |brewdog|ipa lagunitas|inedit|daura|oro|estrella damm|damm|complot|corgon gard|judas|olañeta|\n",
    "    |grevensteiner|inedit|chimay|house 13|lorea ipa boga|trappe|mort subite|kirin|urquell|cruz campo|\n",
    "    |malquerida|moretti|clausthaler|affligem|stella artoi|sol|quilmes|daura marzen|turia|boga|\n",
    "    |schöfferhofer|grolsch|la goudale|atkien dunkel|chérie|belzebuth|la virgen|lowenbrau|bulmers|jai alai|\n",
    "    |strongbow|cruz del sur|voll damm|estrella levante|xibeca|victoria|estrella del sur|aliada|moritz|\n",
    "    |brabante|superbock|kirin ichiban|staropramen|waterloo|weltenburger|schwaben|dab|praga|abbot|\n",
    "    |lowenbräu|spaten|hofbräu|dos equis|birra moretti|karmeliet|kwak|gordon|martin's|delirium tremens|veltins|\n",
    "    |pacifico|triple secret des moine|la bière du demon|baltika|molino viejo|cusqueña|cobra|zywiec|barista|\n",
    "    |bischofshof|hoegaarden|schofferhofer|erdinger|konig ludwig|casimiro mahou|rosita|burro de sancho|\n",
    "    |monkey|arriaca|ladron de manzanas|kopparberg|la sagra|sierra nevada|montseny|maisel & friends|\n",
    "    |tyris|rabiosa|jaira|forastera|cibeles|mulhacen|gredos|ballut|madri chulapo|gastheiz|quijota|\n",
    "    |marijuana|moli balear|dolina|icue|bizantina|bavaria|newcastle|timmermans|modelo|heifer|holbrand|\n",
    "    |rubai|el águila|estrella de galicia|chouffe|peroni|miller|goya|super bock|sam miguel|karamalz|\n",
    "    |skol|budejovicky|wersteiner|duvel|schneider weisse|john smith's|blue moon|rochefort-8|salitos|\n",
    "    |old empire|köning ludwing weissbier|könig ludwig weissbier|blanche de charleroi|ruddles|\n",
    "    |madrí chulapo|abbaye d'aulne|g de goudale|cuzqueña|london pride|wychwood hobgoblin|sureña|\n",
    "    |innis&gunn|intense gold|faxe|bitburger|lindemans|maisel&friends|pearl jet|the one|original intense|\n",
    "    |licher|tennent's|tedeum|enigma|mulhacén|gervensteiner|abbaye du lys|greventeiner|liefmans|rubia 4|\n",
    "    |san sebastian|maisel|carrefour|koenigsbier|polar|coors|kadabra|brooklyn|alsfelder|madriz|presidente|\n",
    "    |fentiman's de jengibre|lammsbräu|riedenburger|benediktinerabtei|iron maiden|old speckled hen|\n",
    "    |ordio minero|rubia dab|corte ingles|thatchers gold'''\n",
    "  \n",
    "    brand = re.findall(names_brands,brand_raw.lower())\n",
    "    if len(brand)>1:\n",
    "        for name in brand:\n",
    "            if len(name)>3:\n",
    "                return name\n",
    "    else:\n",
    "        return brand[0]"
   ]
  },
  {
   "cell_type": "code",
   "execution_count": 6,
   "metadata": {},
   "outputs": [
    {
     "data": {
      "text/plain": [
       "0        heineken\n",
       "1       cruzcampo\n",
       "2       el aguila\n",
       "3       carrefour\n",
       "4           mahou\n",
       "          ...    \n",
       "1561    cruzcampo\n",
       "1562    la virgen\n",
       "1563        ambar\n",
       "1564    lowenbrau\n",
       "1565     brooklyn\n",
       "Name: title, Length: 1566, dtype: object"
      ]
     },
     "execution_count": 6,
     "metadata": {},
     "output_type": "execute_result"
    }
   ],
   "source": [
    "data_beer['title'].apply(change_brand)"
   ]
  },
  {
   "cell_type": "code",
   "execution_count": null,
   "metadata": {},
   "outputs": [],
   "source": [
    "data_beer['brand'] = data_beer['title'].apply(change_brand)\n",
    "\n",
    "data_beer.head()"
   ]
  },
  {
   "cell_type": "code",
   "execution_count": null,
   "metadata": {},
   "outputs": [],
   "source": [
    "def mahou_types(title):\n",
    "    title = title.lower()\n",
    "    \n",
    "    sin_gluten = re.findall('sin gluten',title)\n",
    "    if len(sin_gluten)!=0:\n",
    "        return 'mahou sin gluten'\n",
    "    \n",
    "    radler = re.findall('radler',title)\n",
    "    if len(radler)!=0:\n",
    "        sin_alcohol = re.findall('[0.,]{3}|sin alcohol',title)\n",
    "        if len(sin_alcohol)!=0:\n",
    "            return 'mahou radler sin alcohol 0,0%'\n",
    "        else:\n",
    "            return 'mahou radler'\n",
    "    \n",
    "    clasica = re.findall('[clasicá]{7,}',title)\n",
    "    if len(clasica)!=0:\n",
    "        return 'mahou clasica'\n",
    "    \n",
    "    mixta = re.findall('mixta|shandy', title)\n",
    "    if len(mixta)!=0:\n",
    "        return 'mahou mixta'\n",
    "    \n",
    "    sin_alcohol = re.findall('[0.,]{3}|sin alcohol',title)\n",
    "    if len(sin_alcohol)!=0:\n",
    "        return 'mahou sin alcohol 0,0%'\n",
    "    \n",
    "    ipa = re.findall('ipa',title)\n",
    "    if len(ipa)!=0:\n",
    "        return 'mahou ipa'\n",
    "    \n",
    "    maestra = re.findall('maestra',title)\n",
    "    if len(maestra)!=0:\n",
    "        return 'mahou maestra'\n",
    "    \n",
    "    barrica = re.findall('barrica',title)\n",
    "    if len(barrica)!=0:\n",
    "        return 'mahou barrica'\n",
    "    \n",
    "    casimiro = re.findall('casimiro',title)\n",
    "    if len(casimiro)!=0:\n",
    "        return 'mahou casimiro'\n",
    "    \n",
    "    roja = re.findall('mahou',title)\n",
    "    if len(roja)!=0:\n",
    "        return 'mahou 5 estrellas'\n",
    "    "
   ]
  },
  {
   "cell_type": "code",
   "execution_count": null,
   "metadata": {},
   "outputs": [],
   "source": [
    "def san_miguel_types(title):\n",
    "    title = title.lower()\n",
    "\n",
    "    sin_gluten = re.findall('sin gluten',title)\n",
    "    if len(sin_gluten)!=0:\n",
    "        return 'san miguel sin gluten'\n",
    "    \n",
    "    radler = re.findall('radler',title)\n",
    "    if len(radler)!=0:\n",
    "        sin_alcohol = re.findall('[0.,]{3}|sin alcohol',title)\n",
    "        if len(sin_alcohol)!=0:\n",
    "            return 'san miguel radler sin alcohol 0,0%'\n",
    "        else:\n",
    "            return 'san miguel radler'\n",
    "    \n",
    "    sin_alcohol = re.findall('[0.,]{3}|sin alcohol',title)\n",
    "    if len(sin_alcohol)!=0:\n",
    "        return 'san miguel sin alcohol 0,0%'\n",
    "\n",
    "    ipa = re.findall('ipa',title)\n",
    "    if len(ipa)!=0:\n",
    "        return 'san miguel ipa'\n",
    "\n",
    "    magna = re.findall('magna',title)\n",
    "    if len(magna)!=0:\n",
    "        return 'san miguel magna'\n",
    "\n",
    "    selecta = re.findall('selecta',title)\n",
    "    if len(selecta)!=0:\n",
    "        return 'san miguel selecta'\n",
    "\n",
    "    manila = re.findall('manila',title)\n",
    "    if len(manila)!=0:\n",
    "        return 'san miguel manila'\n",
    "\n",
    "    eco = re.findall('ecológica',title)\n",
    "    if len(eco)!=0:\n",
    "        return 'san miguel ecologica'\n",
    "\n",
    "    premium = re.findall('1516',title)\n",
    "    if len(premium)!=0:\n",
    "        return 'san miguel 1516'\n",
    "\n",
    "    fresca = re.findall('fresca',title)\n",
    "    if len(fresca)!=0:\n",
    "        return 'san miguel fresca'\n",
    "\n",
    "    return 'san miguel'\n",
    "    "
   ]
  },
  {
   "cell_type": "code",
   "execution_count": null,
   "metadata": {},
   "outputs": [],
   "source": [
    "def amstel_types(title):\n",
    "    title = title.lower()\n",
    "\n",
    "    sin_gluten = re.findall('sin gluten',title)\n",
    "    if len(sin_gluten)!=0:\n",
    "        return 'amstel sin gluten'\n",
    "    \n",
    "    radler = re.findall('radler',title)\n",
    "    if len(radler)!=0:\n",
    "        sin_alcohol = re.findall('[0.,]{3}|sin alcohol',title)\n",
    "        if len(sin_alcohol)!=0:\n",
    "            return 'amstel radler sin alcohol 0,0%'\n",
    "        else:\n",
    "            return 'amstel radler'\n",
    "    \n",
    "    sin_alcohol = re.findall('[0.,]{3}|sin alcohol',title)\n",
    "    if len(sin_alcohol)!=0:\n",
    "        return 'amstel sin alcohol 0,0%'\n",
    "    \n",
    "    oro = re.findall('oro',title)\n",
    "    if len(oro)!=0:\n",
    "        return 'amstel oro'\n",
    "\n",
    "    extra = re.findall('extra',title)\n",
    "    if len(extra)!=0:\n",
    "        return 'amstel extra'\n",
    "    \n",
    "    clasica = re.findall('[clasicá]{7,}',title)\n",
    "    if len(clasica)!=0:\n",
    "        return 'amstel clasica'\n",
    "    \n",
    "    return 'amstel original'\n"
   ]
  },
  {
   "cell_type": "code",
   "execution_count": 11,
   "metadata": {},
   "outputs": [],
   "source": [
    "def cruzacampo_types(title):\n",
    "    title = title.lower()\n",
    "\n",
    "    sin_gluten = re.findall('sin gluten',title)\n",
    "    if len(sin_gluten)!=0:\n",
    "        return 'cruzcampo sin gluten'\n",
    "    \n",
    "    shandy = re.findall('shandy',title)\n",
    "    if len(shandy)!=0:\n",
    "        sin_alcohol = re.findall('[0.,]{3}|sin alcohol',title)\n",
    "        if len(sin_alcohol)!=0:\n",
    "            return 'cruzcampo shandy sin alcohol 0,0%'\n",
    "        else:\n",
    "            return 'cruzcampo shandy'\n",
    "    \n",
    "    sin_alcohol = re.findall('[0.,]{3}|sin alcohol',title)\n",
    "    if len(sin_alcohol)!=0:\n",
    "        return 'cruzcampo sin alcohol 0,0%'\n",
    "    \n",
    "    radler = re.findall('radler',title)\n",
    "    if len(radler)!=0:\n",
    "        return 'cruzcampo radler'\n",
    "    \n",
    "    ipa = re.findall('ipa|andalusian',title)\n",
    "    if len(ipa)!=0:\n",
    "        return 'cruzcampo ipa'\n",
    "    \n",
    "    reserva = re.findall('gran reserva',title)\n",
    "    if len(reserva)!=0:\n",
    "        return 'cruzcampo reserva'\n",
    "\n",
    "    especial = re.findall('especial',title)\n",
    "    if len(especial)!=0:\n",
    "        return 'cruzcampo especial'\n",
    "\n",
    "    radler = re.findall('radler',title)\n",
    "    if len(radler)!=0:\n",
    "        return 'cruzcampo radler'\n",
    "\n",
    "    cruzial = re.findall('cruzial',title)\n",
    "    if len(cruzial)!=0:\n",
    "        return 'cruzcampo cruzial'\n",
    "    \n",
    "    return 'cruzcampo'"
   ]
  },
  {
   "cell_type": "code",
   "execution_count": 12,
   "metadata": {},
   "outputs": [],
   "source": [
    "def ambar_types(title):\n",
    "    title = title.lower()\n",
    "\n",
    "    sin_gluten = re.findall('sin gluten',title)\n",
    "    if len(sin_gluten)!=0:\n",
    "        return 'ambar sin gluten'\n",
    "    \n",
    "    radler = re.findall('radler',title)\n",
    "    if len(radler)!=0:\n",
    "        sin_alcohol = re.findall('[0.,]{3}|sin alcohol',title)\n",
    "        if len(sin_alcohol)!=0:\n",
    "            return 'ambar radler sin alcohol 0,0%'\n",
    "        else:\n",
    "            return 'ambar radler'\n",
    "    \n",
    "    sin_alcohol = re.findall('[0.,]{3}|sin alcohol',title)\n",
    "    if len(sin_alcohol)!=0:\n",
    "        return 'ambar sin alcohol 0,0%'\n",
    "    \n",
    "    export = re.findall('export',title)\n",
    "    if len(export)!=0:\n",
    "        return 'ambar export'\n",
    "\n",
    "    ipa = re.findall('ipa|indian',title)\n",
    "    if len(ipa)!=0:\n",
    "        return 'ambar ipa'\n",
    "\n",
    "    number = re.findall('1900',title)\n",
    "    if len(number)!=0:\n",
    "        return 'ambar 1900' \n",
    "    \n",
    "    ambiciosa = re.findall('ambiciosa',title)\n",
    "    if len(ambiciosa)!=0:\n",
    "        return 'ambar ambiciosa' \n",
    "\n",
    "    pedigree = re.findall('pedigree',title)\n",
    "    if len(pedigree)!=0:\n",
    "        return 'marston’s pedigree' \n",
    "    \n",
    "    return 'ambar'"
   ]
  },
  {
   "cell_type": "code",
   "execution_count": 13,
   "metadata": {},
   "outputs": [],
   "source": [
    "def alhambra_types(title):\n",
    "    title = title.lower()\n",
    "\n",
    "    sin_gluten = re.findall('sin gluten',title)\n",
    "    if len(sin_gluten)!=0:\n",
    "        return 'alhambra sin gluten'\n",
    "    \n",
    "    radler = re.findall('radler',title)\n",
    "    if len(radler)!=0:\n",
    "        sin_alcohol = re.findall('[0.,]{3}|sin alcohol',title)\n",
    "        if len(sin_alcohol)!=0:\n",
    "            return 'alhambra radler sin alcohol 0,0%'\n",
    "        else:\n",
    "            return 'alhambra radler'\n",
    "    \n",
    "    sin_alcohol = re.findall('[0.,]{3}|sin alcohol',title)\n",
    "    if len(sin_alcohol)!=0:\n",
    "        return 'alhambra sin alcohol 0,0%'\n",
    "    \n",
    "    number = re.findall('1925',title)\n",
    "    if len(number)!=0:\n",
    "        return 'alhambra 1925'\n",
    "\n",
    "    ipa = re.findall('ipa',title)\n",
    "    if len(ipa)!=0:\n",
    "        return 'alhambra ipa'\n",
    "    \n",
    "    roja = re.findall('roja',title)\n",
    "    if len(roja)!=0:\n",
    "        return 'alhambra roja'\n",
    "\n",
    "    granadino = re.findall('granadino',title)\n",
    "    if len(granadino)!=0:\n",
    "        return 'alhambra gran granadino'\n",
    "    \n",
    "    baltic = re.findall('baltic',title)\n",
    "    if len(baltic)!=0:\n",
    "        return 'alhambra baltic porter'\n",
    "\n",
    "    envejecida = re.findall('envejecida',title)\n",
    "    if len(envejecida)!=0:\n",
    "        return 'alhambra envejecida'\n",
    "    \n",
    "    especial = re.findall('especial',title)\n",
    "    if len(especial)!=0:\n",
    "        return 'alhambra especial'\n",
    "    \n",
    "    return 'alhambra'"
   ]
  },
  {
   "cell_type": "code",
   "execution_count": 14,
   "metadata": {},
   "outputs": [],
   "source": [
    "def heineken_types(title):\n",
    "    title = title.lower()\n",
    "    \n",
    "    sin_alcohol = re.findall('[0.,]{3}|sin alcohol',title)\n",
    "    if len(sin_alcohol)!=0:\n",
    "        return 'heineken sin alcohol 0,0%'\n",
    "    \n",
    "    return 'heineken'"
   ]
  },
  {
   "cell_type": "code",
   "execution_count": 15,
   "metadata": {},
   "outputs": [],
   "source": [
    "def estrella_galicia_types(title):\n",
    "    title = title.lower()\n",
    "\n",
    "    sin_gluten = re.findall('sin gluten',title)\n",
    "    if len(sin_gluten)!=0:\n",
    "        return 'estrella galicia sin gluten'\n",
    "    \n",
    "    sin_alcohol = re.findall('[0.,]{3}|sin alcohol',title)\n",
    "    if len(sin_alcohol)!=0:\n",
    "        return 'estrella galicia sin alcohol 0,0%'\n",
    "    \n",
    "    return 'estrella galicia'\n",
    "\n",
    "def estrella_1906_types(title):\n",
    "    title = title.lower()\n",
    "    \n",
    "    red = re.findall('red',title)\n",
    "    if len(red)!=0:\n",
    "        return 'estrella galicia 1906 red'\n",
    "    \n",
    "    return 'estrella galicia 1906'\n",
    "    \n",
    "    "
   ]
  },
  {
   "cell_type": "code",
   "execution_count": 16,
   "metadata": {},
   "outputs": [],
   "source": [
    "def carrefour_types(title):\n",
    "    title = title.lower()\n",
    "\n",
    "    radler = re.findall('radler',title)\n",
    "    if len(radler)!=0:\n",
    "        sin_alcohol = re.findall('[0.,]{3}|sin alcohol',title)\n",
    "        if len(sin_alcohol)!=0:\n",
    "            return 'carrefour radler sin alcohol 0,0%'\n",
    "        else:\n",
    "            return 'carrefour radler'\n",
    "        \n",
    "    sin_alcohol = re.findall('[0.,]{3}|sin alcohol',title)\n",
    "    if len(sin_alcohol)!=0:\n",
    "        return 'carrefour sin alcohol 0,0%'\n",
    "    \n",
    "    shandy = re.findall('shandy',title)\n",
    "    if len(shandy)!=0:\n",
    "        return 'carrefour shandy'\n",
    "\n",
    "    pils = re.findall('pils',title)\n",
    "    if len(pils)!=0:\n",
    "        return 'carrefour pils'\n",
    "\n",
    "    abadia = re.findall('abad',title)\n",
    "    if len(pils)!=0:\n",
    "        return 'carrefour abadia'\n",
    "\n",
    "    negra = re.findall('negra',title)\n",
    "    if len(negra)!=0:\n",
    "        return 'carrefour negra'\n",
    "    \n",
    "    especial = re.findall('especial',title)\n",
    "    if len(especial)!=0:\n",
    "        return 'carrefour especial'\n",
    "\n",
    "    extra = re.findall('extra',title)\n",
    "    if len(extra)!=0:\n",
    "        return 'carrefour extra'\n",
    "    \n",
    "    return 'carrefour'\n"
   ]
  },
  {
   "cell_type": "code",
   "execution_count": 17,
   "metadata": {},
   "outputs": [],
   "source": [
    "def duplicate_brand_error(info):\n",
    "    data = info[0]\n",
    "    title = info[1]\n",
    "    \n",
    "    if data == 'guiness':\n",
    "        return 'guinness'\n",
    "    elif data == 'voll damm':\n",
    "        return 'voll-damm'\n",
    "    elif data == 'schofferhofer':\n",
    "        return 'schöfferhofer'\n",
    "    elif data == 'ladron de manzanas':\n",
    "        return 'ladrón de manzanas'\n",
    "    elif data == 'el aguila':\n",
    "        return 'el águila'\n",
    "    elif data == 'superbock':\n",
    "        return 'super bock'\n",
    "    elif data == 'madri chulapo':\n",
    "        return 'madrí chulapo'\n",
    "    elif data == ('maisel' or 'maisel&friends'):\n",
    "        return 'maisel & friends'\n",
    "    elif data == 'köning ludwing weissbier':\n",
    "        return 'könig ludwig weissbier'\n",
    "    #dividimos las grandes marcas por sus tipos(mejorar modelo)\n",
    "    elif (data == 'sam miguel') or (data == 'san miguel'):\n",
    "        return san_miguel_types(title)\n",
    "    elif (data == 'cruz campo') or (data == 'cruzcampo'):\n",
    "        return cruzacampo_types(title)\n",
    "    elif (data == 'estrella de galicia') or (data == 'estrella galicia'):\n",
    "        return estrella_galicia_types(title)\n",
    "    elif data == '1906':\n",
    "        return estrella_1906_types(title)    \n",
    "    elif data == 'mahou':\n",
    "        return mahou_types(title)\n",
    "    elif data == 'amstel':\n",
    "        return amstel_types(title)\n",
    "    elif data == 'ambar':\n",
    "        return ambar_types(title)\n",
    "    elif data == 'alhambra':\n",
    "        return alhambra_types(title)\n",
    "    elif data == 'heineken':\n",
    "        return heineken_types(title)\n",
    "    elif data == 'carrefour':\n",
    "        return carrefour_types(title)\n",
    "    else:\n",
    "        return data"
   ]
  },
  {
   "cell_type": "code",
   "execution_count": null,
   "metadata": {},
   "outputs": [],
   "source": []
  },
  {
   "cell_type": "code",
   "execution_count": 18,
   "metadata": {},
   "outputs": [],
   "source": [
    "data_beer['brand'] = data_beer[['brand','title']].apply(duplicate_brand_error, axis=1)"
   ]
  },
  {
   "cell_type": "code",
   "execution_count": null,
   "metadata": {},
   "outputs": [],
   "source": []
  },
  {
   "cell_type": "code",
   "execution_count": 19,
   "metadata": {},
   "outputs": [
    {
     "data": {
      "text/plain": [
       "heineken             38\n",
       "san miguel           38\n",
       "mahou clasica        37\n",
       "mahou 5 estrellas    33\n",
       "estrella galicia     32\n",
       "                     ..\n",
       "sol                   1\n",
       "gastheiz              1\n",
       "skol                  1\n",
       "g de goudale          1\n",
       "polar                 1\n",
       "Name: brand, Length: 275, dtype: int64"
      ]
     },
     "execution_count": 19,
     "metadata": {},
     "output_type": "execute_result"
    }
   ],
   "source": [
    "data_beer['brand'].value_counts()#.index.tolist()\n",
    "# .index.tolist()"
   ]
  },
  {
   "cell_type": "code",
   "execution_count": 20,
   "metadata": {},
   "outputs": [
    {
     "data": {
      "text/plain": [
       "0        True\n",
       "1       False\n",
       "2       False\n",
       "3       False\n",
       "4        True\n",
       "        ...  \n",
       "1561    False\n",
       "1562    False\n",
       "1563    False\n",
       "1564    False\n",
       "1565    False\n",
       "Name: brand, Length: 1566, dtype: bool"
      ]
     },
     "execution_count": 20,
     "metadata": {},
     "output_type": "execute_result"
    }
   ],
   "source": [
    "brands_model=['heineken', 'san miguel', 'mahou clasica', 'mahou 5 estrellas', 'estrella galicia']\n",
    "\n",
    "data_beer.brand.isin(brands_model)"
   ]
  },
  {
   "cell_type": "code",
   "execution_count": 21,
   "metadata": {},
   "outputs": [
    {
     "data": {
      "text/html": [
       "<div>\n",
       "<style scoped>\n",
       "    .dataframe tbody tr th:only-of-type {\n",
       "        vertical-align: middle;\n",
       "    }\n",
       "\n",
       "    .dataframe tbody tr th {\n",
       "        vertical-align: top;\n",
       "    }\n",
       "\n",
       "    .dataframe thead th {\n",
       "        text-align: right;\n",
       "    }\n",
       "</style>\n",
       "<table border=\"1\" class=\"dataframe\">\n",
       "  <thead>\n",
       "    <tr style=\"text-align: right;\">\n",
       "      <th></th>\n",
       "      <th>index</th>\n",
       "      <th>price</th>\n",
       "      <th>price_liter</th>\n",
       "      <th>title</th>\n",
       "      <th>promotion</th>\n",
       "      <th>brand</th>\n",
       "      <th>container</th>\n",
       "      <th>volumen_unid</th>\n",
       "      <th>quantity_pack</th>\n",
       "      <th>image_url</th>\n",
       "      <th>supermarket</th>\n",
       "      <th>id</th>\n",
       "    </tr>\n",
       "  </thead>\n",
       "  <tbody>\n",
       "    <tr>\n",
       "      <th>0</th>\n",
       "      <td>0</td>\n",
       "      <td>11.21</td>\n",
       "      <td>1.89</td>\n",
       "      <td>Cerveza Heineken Lager pack de 18 latas de 33 cl.</td>\n",
       "      <td>No promotion</td>\n",
       "      <td>heineken</td>\n",
       "      <td>lata</td>\n",
       "      <td>33 cl</td>\n",
       "      <td>18</td>\n",
       "      <td>https://static.carrefour.es/hd_280x_/img_pim_f...</td>\n",
       "      <td>Carrefour</td>\n",
       "      <td>0</td>\n",
       "    </tr>\n",
       "    <tr>\n",
       "      <th>1</th>\n",
       "      <td>4</td>\n",
       "      <td>14.15</td>\n",
       "      <td>1.53</td>\n",
       "      <td>Cerveza Mahou Clásica pack de 28 latas de 33 cl.</td>\n",
       "      <td>No promotion</td>\n",
       "      <td>mahou clasica</td>\n",
       "      <td>lata</td>\n",
       "      <td>33 cl</td>\n",
       "      <td>28</td>\n",
       "      <td>https://static.carrefour.es/hd_280x_/img_pim_f...</td>\n",
       "      <td>Carrefour</td>\n",
       "      <td>4</td>\n",
       "    </tr>\n",
       "    <tr>\n",
       "      <th>2</th>\n",
       "      <td>5</td>\n",
       "      <td>11.70</td>\n",
       "      <td>1.95</td>\n",
       "      <td>Cerveza Estrella Galicia especial pack de 24 b...</td>\n",
       "      <td>No promotion</td>\n",
       "      <td>estrella galicia</td>\n",
       "      <td>botella</td>\n",
       "      <td>25 cl</td>\n",
       "      <td>24</td>\n",
       "      <td>https://static.carrefour.es/hd_280x_/img_pim_f...</td>\n",
       "      <td>Carrefour</td>\n",
       "      <td>5</td>\n",
       "    </tr>\n",
       "    <tr>\n",
       "      <th>3</th>\n",
       "      <td>6</td>\n",
       "      <td>6.41</td>\n",
       "      <td>1.94</td>\n",
       "      <td>Cerveza Estrella Galicia especial pack de 10 l...</td>\n",
       "      <td>No promotion</td>\n",
       "      <td>estrella galicia</td>\n",
       "      <td>lata</td>\n",
       "      <td>33 cl</td>\n",
       "      <td>10</td>\n",
       "      <td>https://static.carrefour.es/hd_280x_/img_pim_f...</td>\n",
       "      <td>Carrefour</td>\n",
       "      <td>6</td>\n",
       "    </tr>\n",
       "    <tr>\n",
       "      <th>4</th>\n",
       "      <td>7</td>\n",
       "      <td>6.72</td>\n",
       "      <td>1.70</td>\n",
       "      <td>Cerveza Mahou Clásica pack de 12 latas de 33 cl.</td>\n",
       "      <td>Feliz Aniversario</td>\n",
       "      <td>mahou clasica</td>\n",
       "      <td>lata</td>\n",
       "      <td>33 cl</td>\n",
       "      <td>12</td>\n",
       "      <td>https://static.carrefour.es/hd_280x_/img_pim_f...</td>\n",
       "      <td>Carrefour</td>\n",
       "      <td>7</td>\n",
       "    </tr>\n",
       "  </tbody>\n",
       "</table>\n",
       "</div>"
      ],
      "text/plain": [
       "   index  price  price_liter  \\\n",
       "0      0  11.21         1.89   \n",
       "1      4  14.15         1.53   \n",
       "2      5  11.70         1.95   \n",
       "3      6   6.41         1.94   \n",
       "4      7   6.72         1.70   \n",
       "\n",
       "                                               title          promotion  \\\n",
       "0  Cerveza Heineken Lager pack de 18 latas de 33 cl.       No promotion   \n",
       "1   Cerveza Mahou Clásica pack de 28 latas de 33 cl.       No promotion   \n",
       "2  Cerveza Estrella Galicia especial pack de 24 b...       No promotion   \n",
       "3  Cerveza Estrella Galicia especial pack de 10 l...       No promotion   \n",
       "4   Cerveza Mahou Clásica pack de 12 latas de 33 cl.  Feliz Aniversario   \n",
       "\n",
       "              brand container volumen_unid  quantity_pack  \\\n",
       "0          heineken      lata        33 cl             18   \n",
       "1     mahou clasica      lata        33 cl             28   \n",
       "2  estrella galicia   botella        25 cl             24   \n",
       "3  estrella galicia      lata        33 cl             10   \n",
       "4     mahou clasica      lata        33 cl             12   \n",
       "\n",
       "                                           image_url supermarket  id  \n",
       "0  https://static.carrefour.es/hd_280x_/img_pim_f...   Carrefour   0  \n",
       "1  https://static.carrefour.es/hd_280x_/img_pim_f...   Carrefour   4  \n",
       "2  https://static.carrefour.es/hd_280x_/img_pim_f...   Carrefour   5  \n",
       "3  https://static.carrefour.es/hd_280x_/img_pim_f...   Carrefour   6  \n",
       "4  https://static.carrefour.es/hd_280x_/img_pim_f...   Carrefour   7  "
      ]
     },
     "execution_count": 21,
     "metadata": {},
     "output_type": "execute_result"
    }
   ],
   "source": [
    "prueba = data_beer[data_beer.brand.isin(brands_model)]\n",
    "prueba.reset_index(inplace=True)\n",
    "prueba.head()"
   ]
  },
  {
   "cell_type": "code",
   "execution_count": 22,
   "metadata": {},
   "outputs": [
    {
     "data": {
      "text/plain": [
       "heineken             38\n",
       "san miguel           38\n",
       "mahou clasica        37\n",
       "mahou 5 estrellas    33\n",
       "estrella galicia     32\n",
       "Name: brand, dtype: int64"
      ]
     },
     "execution_count": 22,
     "metadata": {},
     "output_type": "execute_result"
    }
   ],
   "source": [
    "prueba['brand'].value_counts()"
   ]
  },
  {
   "cell_type": "code",
   "execution_count": null,
   "metadata": {},
   "outputs": [],
   "source": []
  },
  {
   "cell_type": "code",
   "execution_count": null,
   "metadata": {},
   "outputs": [],
   "source": []
  },
  {
   "cell_type": "code",
   "execution_count": 23,
   "metadata": {},
   "outputs": [],
   "source": [
    "data_beer_images= pd.DataFrame(columns=['local','brand'])\n",
    "data_beer_images['brand'] = prueba['brand']"
   ]
  },
  {
   "cell_type": "code",
   "execution_count": 24,
   "metadata": {},
   "outputs": [],
   "source": [
    "def local_beer(local):\n",
    "    return f'/home/ivan/Documentos/IRONHACK/Bootcamp/final_project/Birras_Pipol_House/beer_images/{local}.jpg'"
   ]
  },
  {
   "cell_type": "code",
   "execution_count": 25,
   "metadata": {},
   "outputs": [],
   "source": [
    "data_beer_images['local'] = prueba['id'].apply(local_beer)"
   ]
  },
  {
   "cell_type": "code",
   "execution_count": 26,
   "metadata": {},
   "outputs": [
    {
     "data": {
      "text/plain": [
       "0            heineken\n",
       "1       mahou clasica\n",
       "2    estrella galicia\n",
       "3    estrella galicia\n",
       "4       mahou clasica\n",
       "Name: brand, dtype: object"
      ]
     },
     "execution_count": 26,
     "metadata": {},
     "output_type": "execute_result"
    }
   ],
   "source": [
    "data_beer_images['brand'].head()"
   ]
  },
  {
   "cell_type": "code",
   "execution_count": 27,
   "metadata": {},
   "outputs": [
    {
     "data": {
      "text/plain": [
       "0            heineken\n",
       "1       mahou clasica\n",
       "2    estrella galicia\n",
       "3    estrella galicia\n",
       "4       mahou clasica\n",
       "Name: brand, dtype: object"
      ]
     },
     "execution_count": 27,
     "metadata": {},
     "output_type": "execute_result"
    }
   ],
   "source": [
    "data_beer_images['brand'].head()"
   ]
  },
  {
   "cell_type": "code",
   "execution_count": 28,
   "metadata": {},
   "outputs": [],
   "source": [
    "from PIL import Image \n",
    "import matplotlib.pyplot as plt\n",
    "import numpy as np"
   ]
  },
  {
   "cell_type": "code",
   "execution_count": 29,
   "metadata": {},
   "outputs": [
    {
     "data": {
      "image/png": "[encoded data removed]",
      "text/plain": [
       "<Figure size 432x288 with 1 Axes>"
      ]
     },
     "metadata": {
      "needs_background": "light"
     },
     "output_type": "display_data"
    }
   ],
   "source": [
    "I = Image.open(\"../beer_images/10.jpg\")\n",
    "plt.imshow(np.asarray(I))\n",
    "plt.show()\n"
   ]
  },
  {
   "cell_type": "code",
   "execution_count": 31,
   "metadata": {},
   "outputs": [
    {
     "name": "stdout",
     "output_type": "stream",
     "text": [
      "(280, 280) JPEG\n"
     ]
    }
   ],
   "source": [
    "print(I.size, I.format)"
   ]
  },
  {
   "cell_type": "code",
   "execution_count": null,
   "metadata": {},
   "outputs": [],
   "source": []
  },
  {
   "cell_type": "code",
   "execution_count": 48,
   "metadata": {},
   "outputs": [],
   "source": [
    "from sklearn.model_selection import train_test_split\n",
    "beer_train_prueba, beer_test = train_test_split(data_beer_images,train_size=0.9)\n",
    "beer_train = pd.DataFrame(beer_train_prueba, columns=['local','brand']).sample(frac=1.0)"
   ]
  },
  {
   "cell_type": "code",
   "execution_count": 49,
   "metadata": {},
   "outputs": [
    {
     "data": {
      "text/html": [
       "<div>\n",
       "<style scoped>\n",
       "    .dataframe tbody tr th:only-of-type {\n",
       "        vertical-align: middle;\n",
       "    }\n",
       "\n",
       "    .dataframe tbody tr th {\n",
       "        vertical-align: top;\n",
       "    }\n",
       "\n",
       "    .dataframe thead th {\n",
       "        text-align: right;\n",
       "    }\n",
       "</style>\n",
       "<table border=\"1\" class=\"dataframe\">\n",
       "  <thead>\n",
       "    <tr style=\"text-align: right;\">\n",
       "      <th></th>\n",
       "      <th>local</th>\n",
       "      <th>brand</th>\n",
       "    </tr>\n",
       "  </thead>\n",
       "  <tbody>\n",
       "    <tr>\n",
       "      <th>101</th>\n",
       "      <td>/home/ivan/Documentos/IRONHACK/Bootcamp/final_...</td>\n",
       "      <td>san miguel</td>\n",
       "    </tr>\n",
       "    <tr>\n",
       "      <th>104</th>\n",
       "      <td>/home/ivan/Documentos/IRONHACK/Bootcamp/final_...</td>\n",
       "      <td>san miguel</td>\n",
       "    </tr>\n",
       "    <tr>\n",
       "      <th>136</th>\n",
       "      <td>/home/ivan/Documentos/IRONHACK/Bootcamp/final_...</td>\n",
       "      <td>mahou clasica</td>\n",
       "    </tr>\n",
       "    <tr>\n",
       "      <th>133</th>\n",
       "      <td>/home/ivan/Documentos/IRONHACK/Bootcamp/final_...</td>\n",
       "      <td>heineken</td>\n",
       "    </tr>\n",
       "    <tr>\n",
       "      <th>149</th>\n",
       "      <td>/home/ivan/Documentos/IRONHACK/Bootcamp/final_...</td>\n",
       "      <td>mahou 5 estrellas</td>\n",
       "    </tr>\n",
       "  </tbody>\n",
       "</table>\n",
       "</div>"
      ],
      "text/plain": [
       "                                                 local              brand\n",
       "101  /home/ivan/Documentos/IRONHACK/Bootcamp/final_...         san miguel\n",
       "104  /home/ivan/Documentos/IRONHACK/Bootcamp/final_...         san miguel\n",
       "136  /home/ivan/Documentos/IRONHACK/Bootcamp/final_...      mahou clasica\n",
       "133  /home/ivan/Documentos/IRONHACK/Bootcamp/final_...           heineken\n",
       "149  /home/ivan/Documentos/IRONHACK/Bootcamp/final_...  mahou 5 estrellas"
      ]
     },
     "execution_count": 49,
     "metadata": {},
     "output_type": "execute_result"
    }
   ],
   "source": [
    "beer_test.head()"
   ]
  },
  {
   "cell_type": "code",
   "execution_count": null,
   "metadata": {},
   "outputs": [],
   "source": []
  },
  {
   "cell_type": "code",
   "execution_count": null,
   "metadata": {},
   "outputs": [],
   "source": []
  },
  {
   "cell_type": "code",
   "execution_count": 50,
   "metadata": {},
   "outputs": [],
   "source": [
    "from keras.models import Sequential\n",
    "from keras_preprocessing.image import ImageDataGenerator\n",
    "from keras.layers import Dense, Activation, Flatten, Dropout, BatchNormalization\n",
    "from keras.layers import Conv2D, MaxPooling2D\n",
    "from keras import regularizers, optimizers\n",
    "from sklearn.utils import class_weight\n",
    "from keras.applications.inception_v3 import preprocess_input"
   ]
  },
  {
   "cell_type": "code",
   "execution_count": 53,
   "metadata": {},
   "outputs": [
    {
     "name": "stdout",
     "output_type": "stream",
     "text": [
      "Found 144 validated image filenames belonging to 5 classes.\n",
      "Found 16 validated image filenames belonging to 5 classes.\n",
      "Found 18 validated image filenames.\n"
     ]
    }
   ],
   "source": [
    "datagen_train=ImageDataGenerator(rescale=1./255.,\n",
    "                                validation_split=0.1,\n",
    "                                rotation_range=80,\n",
    "                                width_shift_range=0.2,\n",
    "                                height_shift_range=0.2,\n",
    "                                shear_range=0.2,\n",
    "                                zoom_range=0.2,\n",
    "                                horizontal_flip=True,\n",
    "                                preprocessing_function=preprocess_input)\n",
    "\n",
    "train_generator=datagen_train.flow_from_dataframe(dataframe=beer_train,\n",
    "                                            x_col=\"local\",\n",
    "                                            y_col=\"brand\",\n",
    "                                            subset=\"training\",\n",
    "                                            batch_size=32,\n",
    "                                            shuffle=True,\n",
    "                                            class_mode=\"categorical\",\n",
    "                                            target_size=(280,280))\n",
    "\n",
    "datagen_valid=ImageDataGenerator(rescale=1./255., validation_split=0.1)\n",
    "valid_generator=datagen_valid.flow_from_dataframe(dataframe=beer_train,\n",
    "                                            x_col=\"local\",\n",
    "                                            y_col=\"brand\",\n",
    "                                            subset=\"validation\",\n",
    "                                            batch_size=16,\n",
    "                                            shuffle=True,\n",
    "                                            class_mode=\"categorical\",\n",
    "                                            target_size=(280,280))\n",
    "\n",
    "test_datagen=ImageDataGenerator(rescale=1./255.)\n",
    "test_generator=test_datagen.flow_from_dataframe(dataframe=beer_test,\n",
    "                                                x_col=\"local\",\n",
    "                                                y_col=None,\n",
    "                                                batch_size=18,\n",
    "                                                shuffle=False,\n",
    "                                                class_mode=None,\n",
    "                                                target_size=(280,280))"
   ]
  },
  {
   "cell_type": "code",
   "execution_count": 54,
   "metadata": {},
   "outputs": [
    {
     "data": {
      "text/plain": [
       "{0: 1.0285714285714285,\n",
       " 1: 0.9290322580645162,\n",
       " 2: 1.0666666666666667,\n",
       " 3: 1.0285714285714285,\n",
       " 4: 0.96}"
      ]
     },
     "execution_count": 54,
     "metadata": {},
     "output_type": "execute_result"
    }
   ],
   "source": [
    "class_weights_lst = class_weight.compute_class_weight('balanced', \n",
    "                                                      np.unique(train_generator.classes), \n",
    "                                                      train_generator.classes)\n",
    "\n",
    "class_weights = dict(zip(np.unique(train_generator.classes), class_weights_lst))\n",
    "\n",
    "class_weights"
   ]
  },
  {
   "cell_type": "code",
   "execution_count": 82,
   "metadata": {},
   "outputs": [],
   "source": [
    "from keras.models import Sequential\n",
    "from keras.models import Model\n",
    "from keras.callbacks import ModelCheckpoint, LearningRateScheduler, EarlyStopping, ReduceLROnPlateau, TensorBoard\n",
    "from keras import optimizers, losses, activations, models\n",
    "from keras.layers import experimental, Convolution2D, Dense, Input, Flatten, Dropout, MaxPooling2D, BatchNormalization, GlobalAveragePooling2D, Concatenate\n",
    "from keras import applications\n",
    "input_shape = (280, 280, 3)\n",
    "nclass = len(train_generator.class_indices)\n",
    "\n",
    "base_model = applications.Xception(weights='imagenet', \n",
    "                                include_top=False, \n",
    "                                input_shape=input_shape)\n",
    "base_model.trainable = False\n",
    "\n",
    "# add_model = Sequential()\n",
    "# add_model.add(base_model)\n",
    "# add_model.add(GlobalAveragePooling2D())\n",
    "# add_model.add(Dropout(0.5))\n",
    "# add_model.add(Dense(nclass, \n",
    "#                     activation='softmax'))\n",
    "\n",
    "# model = add_model\n",
    "# model.compile(loss='categorical_crossentropy', \n",
    "#               optimizer=optimizers.Adam(lr=0.0001),\n",
    "#               metrics=['accuracy'])\n",
    "\n",
    "from tensorflow import keras\n",
    "from tensorflow.keras import layers\n",
    "\n",
    "data_augmentation = keras.Sequential(\n",
    "    [\n",
    "        layers.experimental.preprocessing.RandomFlip(\"horizontal\"),\n",
    "        layers.experimental.preprocessing.RandomRotation(0.1),\n",
    "    ]\n",
    ")\n",
    "inputs = keras.Input(shape=input_shape)\n",
    "x = data_augmentation(inputs)  # Apply random data augmentation\n",
    "\n",
    "# Pre-trained Xception weights requires that input be normalized\n",
    "# from (0, 255) to a range (-1., +1.), the normalization layer\n",
    "# does the following, outputs = (inputs - mean) / sqrt(var)\n",
    "norm_layer = experimental.preprocessing.Normalization()\n",
    "mean = np.array([127.5] * 3)\n",
    "var = mean ** 2\n",
    "# Scale inputs to [-1, +1]\n",
    "x = norm_layer(x)\n",
    "norm_layer.set_weights([mean, var])\n",
    "\n",
    "# The base model contains batchnorm layers. We want to keep them in inference mode\n",
    "# when we unfreeze the base model for fine-tuning, so we make sure that the\n",
    "# base_model is running in inference mode here.\n",
    "x = base_model(x, training=False)\n",
    "x = keras.layers.GlobalAveragePooling2D()(x)\n",
    "x = keras.layers.Dropout(0.2)(x)  # Regularize with dropout\n",
    "outputs = keras.layers.Dense(5)(x)\n",
    "model = keras.Model(inputs, outputs)\n",
    "\n",
    "\n",
    "\n",
    "model.compile(\n",
    "    optimizer=keras.optimizers.Adam(),\n",
    "    loss=keras.losses.BinaryCrossentropy(from_logits=True),\n",
    "    metrics=['accuracy'],\n",
    ")\n"
   ]
  },
  {
   "cell_type": "code",
   "execution_count": 83,
   "metadata": {},
   "outputs": [],
   "source": [
    "STEP_SIZE_TRAIN=train_generator.n//train_generator.batch_size\n",
    "STEP_SIZE_VALID=valid_generator.n//valid_generator.batch_size\n",
    "STEP_SIZE_TEST=test_generator.n//test_generator.batch_size\n"
   ]
  },
  {
   "cell_type": "code",
   "execution_count": 84,
   "metadata": {},
   "outputs": [
    {
     "name": "stdout",
     "output_type": "stream",
     "text": [
      "Epoch 1/100\n",
      "4/4 [==============================] - ETA: 0s - loss: 0.6836 - accuracy: 0.2143\n",
      "Epoch 00001: accuracy improved from -inf to 0.21429, saving model to ../model/weights.best.hdf5\n",
      "4/4 [==============================] - 21s 5s/step - loss: 0.6836 - accuracy: 0.2143 - val_loss: 0.6409 - val_accuracy: 0.2500\n",
      "Epoch 2/100\n",
      "4/4 [==============================] - ETA: 0s - loss: 0.6226 - accuracy: 0.1964\n",
      "Epoch 00002: accuracy did not improve from 0.21429\n",
      "4/4 [==============================] - 18s 4s/step - loss: 0.6226 - accuracy: 0.1964 - val_loss: 0.5871 - val_accuracy: 0.2500\n",
      "Epoch 3/100\n",
      "4/4 [==============================] - ETA: 0s - loss: 0.5707 - accuracy: 0.1641\n",
      "Epoch 00003: accuracy did not improve from 0.21429\n",
      "4/4 [==============================] - 21s 5s/step - loss: 0.5707 - accuracy: 0.1641 - val_loss: 0.5509 - val_accuracy: 0.1875\n",
      "Epoch 4/100\n",
      "4/4 [==============================] - ETA: 0s - loss: 0.5396 - accuracy: 0.1875\n",
      "Epoch 00004: accuracy did not improve from 0.21429\n",
      "4/4 [==============================] - 20s 5s/step - loss: 0.5396 - accuracy: 0.1875 - val_loss: 0.5261 - val_accuracy: 0.1250\n",
      "Epoch 5/100\n",
      "4/4 [==============================] - ETA: 0s - loss: 0.5161 - accuracy: 0.2054\n",
      "Epoch 00005: accuracy did not improve from 0.21429\n",
      "4/4 [==============================] - 18s 4s/step - loss: 0.5161 - accuracy: 0.2054 - val_loss: 0.5125 - val_accuracy: 0.1250\n",
      "Epoch 6/100\n",
      "4/4 [==============================] - ETA: 0s - loss: 0.5121 - accuracy: 0.2143\n",
      "Epoch 00006: accuracy did not improve from 0.21429\n",
      "4/4 [==============================] - 17s 4s/step - loss: 0.5121 - accuracy: 0.2143 - val_loss: 0.5045 - val_accuracy: 0.1250\n",
      "Epoch 7/100\n",
      "4/4 [==============================] - ETA: 0s - loss: 0.5033 - accuracy: 0.2321\n",
      "Epoch 00007: accuracy improved from 0.21429 to 0.23214, saving model to ../model/weights.best.hdf5\n",
      "4/4 [==============================] - 23s 6s/step - loss: 0.5033 - accuracy: 0.2321 - val_loss: 0.5008 - val_accuracy: 0.1875\n",
      "Epoch 8/100\n",
      "4/4 [==============================] - ETA: 0s - loss: 0.5011 - accuracy: 0.2031\n",
      "Epoch 00008: accuracy did not improve from 0.23214\n",
      "4/4 [==============================] - 26s 7s/step - loss: 0.5011 - accuracy: 0.2031 - val_loss: 0.5006 - val_accuracy: 0.2500\n",
      "Epoch 9/100\n",
      "4/4 [==============================] - ETA: 0s - loss: 0.5063 - accuracy: 0.1696\n",
      "Epoch 00009: accuracy did not improve from 0.23214\n",
      "4/4 [==============================] - 28s 7s/step - loss: 0.5063 - accuracy: 0.1696 - val_loss: 0.5001 - val_accuracy: 0.1250\n",
      "Epoch 10/100\n",
      "4/4 [==============================] - ETA: 0s - loss: 0.5009 - accuracy: 0.2054\n",
      "Epoch 00010: accuracy did not improve from 0.23214\n",
      "4/4 [==============================] - 22s 5s/step - loss: 0.5009 - accuracy: 0.2054 - val_loss: 0.4993 - val_accuracy: 0.2500\n",
      "Epoch 11/100\n",
      "4/4 [==============================] - ETA: 0s - loss: 0.5004 - accuracy: 0.1875\n",
      "Epoch 00011: accuracy did not improve from 0.23214\n",
      "4/4 [==============================] - 19s 5s/step - loss: 0.5004 - accuracy: 0.1875 - val_loss: 0.4985 - val_accuracy: 0.4375\n",
      "Epoch 12/100\n",
      "4/4 [==============================] - ETA: 0s - loss: 0.5045 - accuracy: 0.2054\n",
      "Epoch 00012: accuracy did not improve from 0.23214\n",
      "4/4 [==============================] - 20s 5s/step - loss: 0.5045 - accuracy: 0.2054 - val_loss: 0.4973 - val_accuracy: 0.4375\n",
      "Epoch 13/100\n",
      "4/4 [==============================] - ETA: 0s - loss: 0.5050 - accuracy: 0.1797\n",
      "Epoch 00013: accuracy did not improve from 0.23214\n",
      "4/4 [==============================] - 25s 6s/step - loss: 0.5050 - accuracy: 0.1797 - val_loss: 0.4966 - val_accuracy: 0.4375\n",
      "Epoch 14/100\n",
      "4/4 [==============================] - ETA: 0s - loss: 0.5011 - accuracy: 0.2232\n",
      "Epoch 00014: accuracy did not improve from 0.23214\n",
      "4/4 [==============================] - 26s 7s/step - loss: 0.5011 - accuracy: 0.2232 - val_loss: 0.4968 - val_accuracy: 0.4375\n",
      "Epoch 15/100\n",
      "4/4 [==============================] - ETA: 0s - loss: 0.5011 - accuracy: 0.1964\n",
      "Epoch 00015: accuracy did not improve from 0.23214\n",
      "4/4 [==============================] - 21s 5s/step - loss: 0.5011 - accuracy: 0.1964 - val_loss: 0.4959 - val_accuracy: 0.4375\n",
      "Epoch 16/100\n",
      "4/4 [==============================] - ETA: 0s - loss: 0.5018 - accuracy: 0.1964\n",
      "Epoch 00016: accuracy did not improve from 0.23214\n",
      "4/4 [==============================] - 20s 5s/step - loss: 0.5018 - accuracy: 0.1964 - val_loss: 0.4946 - val_accuracy: 0.4375\n",
      "Epoch 17/100\n",
      "4/4 [==============================] - ETA: 0s - loss: 0.4994 - accuracy: 0.2411\n",
      "Epoch 00017: accuracy improved from 0.23214 to 0.24107, saving model to ../model/weights.best.hdf5\n",
      "4/4 [==============================] - 20s 5s/step - loss: 0.4994 - accuracy: 0.2411 - val_loss: 0.4939 - val_accuracy: 0.4375\n",
      "Epoch 18/100\n",
      "4/4 [==============================] - ETA: 0s - loss: 0.4992 - accuracy: 0.2422\n",
      "Epoch 00018: accuracy improved from 0.24107 to 0.24219, saving model to ../model/weights.best.hdf5\n",
      "4/4 [==============================] - 23s 6s/step - loss: 0.4992 - accuracy: 0.2422 - val_loss: 0.4939 - val_accuracy: 0.4375\n",
      "Epoch 19/100\n",
      "4/4 [==============================] - ETA: 0s - loss: 0.5015 - accuracy: 0.1964\n",
      "Epoch 00019: accuracy did not improve from 0.24219\n",
      "4/4 [==============================] - 23s 6s/step - loss: 0.5015 - accuracy: 0.1964 - val_loss: 0.4951 - val_accuracy: 0.4375\n",
      "Epoch 20/100\n",
      "4/4 [==============================] - ETA: 0s - loss: 0.5077 - accuracy: 0.2321\n",
      "Epoch 00020: accuracy did not improve from 0.24219\n",
      "4/4 [==============================] - 21s 5s/step - loss: 0.5077 - accuracy: 0.2321 - val_loss: 0.4960 - val_accuracy: 0.4375\n",
      "Epoch 21/100\n",
      "4/4 [==============================] - ETA: 0s - loss: 0.5015 - accuracy: 0.2321\n",
      "Epoch 00021: accuracy did not improve from 0.24219\n",
      "4/4 [==============================] - 21s 5s/step - loss: 0.5015 - accuracy: 0.2321 - val_loss: 0.4968 - val_accuracy: 0.4375\n",
      "Epoch 22/100\n",
      "4/4 [==============================] - ETA: 0s - loss: 0.4988 - accuracy: 0.3125\n",
      "Epoch 00022: accuracy improved from 0.24219 to 0.31250, saving model to ../model/weights.best.hdf5\n",
      "4/4 [==============================] - 20s 5s/step - loss: 0.4988 - accuracy: 0.3125 - val_loss: 0.4983 - val_accuracy: 0.2500\n",
      "Epoch 23/100\n",
      "4/4 [==============================] - ETA: 0s - loss: 0.5021 - accuracy: 0.2031\n",
      "Epoch 00023: accuracy did not improve from 0.31250\n",
      "4/4 [==============================] - 20s 5s/step - loss: 0.5021 - accuracy: 0.2031 - val_loss: 0.4991 - val_accuracy: 0.1875\n",
      "Epoch 24/100\n",
      "4/4 [==============================] - ETA: 0s - loss: 0.4993 - accuracy: 0.2232\n",
      "Epoch 00024: accuracy did not improve from 0.31250\n",
      "4/4 [==============================] - 20s 5s/step - loss: 0.4993 - accuracy: 0.2232 - val_loss: 0.4992 - val_accuracy: 0.1875\n",
      "Epoch 25/100\n",
      "4/4 [==============================] - ETA: 0s - loss: 0.5030 - accuracy: 0.2054\n",
      "Epoch 00025: accuracy did not improve from 0.31250\n",
      "4/4 [==============================] - 18s 4s/step - loss: 0.5030 - accuracy: 0.2054 - val_loss: 0.4995 - val_accuracy: 0.1875\n",
      "Epoch 26/100\n",
      "4/4 [==============================] - ETA: 0s - loss: 0.5042 - accuracy: 0.1696\n",
      "Epoch 00026: accuracy did not improve from 0.31250\n",
      "4/4 [==============================] - 21s 5s/step - loss: 0.5042 - accuracy: 0.1696 - val_loss: 0.5008 - val_accuracy: 0.1250\n",
      "Epoch 27/100\n",
      "4/4 [==============================] - ETA: 0s - loss: 0.5037 - accuracy: 0.1875\n",
      "Epoch 00027: accuracy did not improve from 0.31250\n",
      "4/4 [==============================] - 21s 5s/step - loss: 0.5037 - accuracy: 0.1875 - val_loss: 0.5018 - val_accuracy: 0.1250\n",
      "Epoch 28/100\n",
      "4/4 [==============================] - ETA: 0s - loss: 0.5014 - accuracy: 0.1875\n",
      "Epoch 00028: accuracy did not improve from 0.31250\n",
      "4/4 [==============================] - 24s 6s/step - loss: 0.5014 - accuracy: 0.1875 - val_loss: 0.5021 - val_accuracy: 0.1250\n",
      "Epoch 29/100\n",
      "4/4 [==============================] - ETA: 0s - loss: 0.5065 - accuracy: 0.1518\n",
      "Epoch 00029: accuracy did not improve from 0.31250\n",
      "4/4 [==============================] - 24s 6s/step - loss: 0.5065 - accuracy: 0.1518 - val_loss: 0.5012 - val_accuracy: 0.1875\n",
      "Epoch 30/100\n",
      "4/4 [==============================] - ETA: 0s - loss: 0.5000 - accuracy: 0.1786\n",
      "Epoch 00030: accuracy did not improve from 0.31250\n",
      "4/4 [==============================] - 20s 5s/step - loss: 0.5000 - accuracy: 0.1786 - val_loss: 0.5015 - val_accuracy: 0.1875\n",
      "Epoch 31/100\n",
      "4/4 [==============================] - ETA: 0s - loss: 0.4989 - accuracy: 0.2768\n",
      "Epoch 00031: accuracy did not improve from 0.31250\n",
      "4/4 [==============================] - 21s 5s/step - loss: 0.4989 - accuracy: 0.2768 - val_loss: 0.5023 - val_accuracy: 0.1875\n",
      "Epoch 32/100\n",
      "4/4 [==============================] - ETA: 0s - loss: 0.4990 - accuracy: 0.1964\n",
      "Epoch 00032: accuracy did not improve from 0.31250\n",
      "4/4 [==============================] - 21s 5s/step - loss: 0.4990 - accuracy: 0.1964 - val_loss: 0.5032 - val_accuracy: 0.1875\n",
      "Epoch 33/100\n",
      "4/4 [==============================] - ETA: 0s - loss: 0.5026 - accuracy: 0.2422\n",
      "Epoch 00033: accuracy did not improve from 0.31250\n",
      "4/4 [==============================] - 23s 6s/step - loss: 0.5026 - accuracy: 0.2422 - val_loss: 0.5036 - val_accuracy: 0.1250\n",
      "Epoch 34/100\n",
      "4/4 [==============================] - ETA: 0s - loss: 0.5032 - accuracy: 0.1786\n",
      "Epoch 00034: accuracy did not improve from 0.31250\n",
      "4/4 [==============================] - 24s 6s/step - loss: 0.5032 - accuracy: 0.1786 - val_loss: 0.5044 - val_accuracy: 0.1250\n",
      "Epoch 35/100\n",
      "4/4 [==============================] - ETA: 0s - loss: 0.5030 - accuracy: 0.1875\n",
      "Epoch 00035: accuracy did not improve from 0.31250\n",
      "4/4 [==============================] - 20s 5s/step - loss: 0.5030 - accuracy: 0.1875 - val_loss: 0.5053 - val_accuracy: 0.1250\n",
      "Epoch 36/100\n",
      "4/4 [==============================] - ETA: 0s - loss: 0.5025 - accuracy: 0.2589\n",
      "Epoch 00036: accuracy did not improve from 0.31250\n",
      "4/4 [==============================] - 22s 5s/step - loss: 0.5025 - accuracy: 0.2589 - val_loss: 0.5054 - val_accuracy: 0.1250\n",
      "Epoch 37/100\n",
      "4/4 [==============================] - ETA: 0s - loss: 0.5038 - accuracy: 0.2054\n",
      "Epoch 00037: accuracy did not improve from 0.31250\n",
      "4/4 [==============================] - 21s 5s/step - loss: 0.5038 - accuracy: 0.2054 - val_loss: 0.5050 - val_accuracy: 0.1250\n"
     ]
    }
   ],
   "source": [
    "file_path=\"../model/weights.best.hdf5\"\n",
    "\n",
    "checkpoint = ModelCheckpoint(file_path, monitor='accuracy', verbose=1, save_best_only=True, mode='max')\n",
    "\n",
    "early = EarlyStopping(monitor=\"accuracy\", mode=\"max\", patience=15)\n",
    "\n",
    "callbacks_list = [checkpoint, early] #early\n",
    "\n",
    "history = model.fit(train_generator, \n",
    "                    epochs=100, \n",
    "                    shuffle=True, \n",
    "                    verbose=True,\n",
    "                    callbacks=callbacks_list,\n",
    "                    validation_data=valid_generator,\n",
    "                    class_weight=class_weights,\n",
    "                   steps_per_epoch=STEP_SIZE_TRAIN,\n",
    "                   validation_steps=STEP_SIZE_VALID)\n",
    "\n"
   ]
  },
  {
   "cell_type": "code",
   "execution_count": 85,
   "metadata": {},
   "outputs": [
    {
     "data": {
      "image/png": "[encoded data removed]",
      "text/plain": [
       "<Figure size 576x576 with 2 Axes>"
      ]
     },
     "metadata": {
      "needs_background": "light"
     },
     "output_type": "display_data"
    }
   ],
   "source": [
    "acc = history.history['accuracy']\n",
    "val_acc = history.history['val_accuracy']\n",
    "\n",
    "loss = history.history['loss']\n",
    "val_loss = history.history['val_loss']\n",
    "\n",
    "plt.figure(figsize=(8, 8))\n",
    "plt.subplot(2, 1, 1)\n",
    "plt.plot(acc, label='Training Accuracy')\n",
    "plt.plot(val_acc, label='Validation Accuracy')\n",
    "plt.legend(loc='lower right')\n",
    "plt.ylabel('Accuracy')\n",
    "plt.ylim([min(plt.ylim()),1])\n",
    "plt.title('Training and Validation Accuracy')\n",
    "\n",
    "plt.subplot(2, 1, 2)\n",
    "plt.plot(loss, label='Training Loss')\n",
    "plt.plot(val_loss, label='Validation Loss')\n",
    "plt.legend(loc='upper right')\n",
    "plt.ylabel('Cross Entropy')\n",
    "plt.ylim([0,1.0])\n",
    "plt.title('Training and Validation Loss')\n",
    "plt.xlabel('epoch')\n",
    "plt.show()"
   ]
  },
  {
   "cell_type": "code",
   "execution_count": 88,
   "metadata": {},
   "outputs": [
    {
     "name": "stdout",
     "output_type": "stream",
     "text": [
      "1/1 [==============================] - 0s 4ms/step\n"
     ]
    }
   ],
   "source": [
    "predicts = model.predict(test_generator,steps=STEP_SIZE_TEST,verbose=1)"
   ]
  },
  {
   "cell_type": "code",
   "execution_count": 91,
   "metadata": {},
   "outputs": [
    {
     "data": {
      "text/plain": [
       "array([2, 2, 2, 2, 2, 2, 2, 2, 2, 2, 2, 2, 2, 2, 2, 2, 2, 2])"
      ]
     },
     "execution_count": 91,
     "metadata": {},
     "output_type": "execute_result"
    }
   ],
   "source": [
    "predicted_class_indices=np.argmax(predicts,axis=1)\n",
    "\n",
    "predicted_class_indices"
   ]
  },
  {
   "cell_type": "code",
   "execution_count": null,
   "metadata": {},
   "outputs": [],
   "source": []
  },
  {
   "cell_type": "code",
   "execution_count": null,
   "metadata": {},
   "outputs": [],
   "source": []
  },
  {
   "cell_type": "code",
   "execution_count": 117,
   "metadata": {},
   "outputs": [
    {
     "name": "stdout",
     "output_type": "stream",
     "text": [
      "Epoch 1/100\n",
      "8/8 [==============================] - 33s 4s/step - loss: 9.1440 - accuracy: 0.0656 - val_loss: 2.8490 - val_accuracy: 0.1094\n",
      "Epoch 2/100\n",
      "8/8 [==============================] - 33s 4s/step - loss: 2.8297 - accuracy: 0.0656 - val_loss: 2.8345 - val_accuracy: 0.0625\n",
      "Epoch 3/100\n",
      "8/8 [==============================] - 35s 4s/step - loss: 2.8542 - accuracy: 0.0586 - val_loss: 2.8340 - val_accuracy: 0.0469\n",
      "Epoch 4/100\n",
      "8/8 [==============================] - 35s 4s/step - loss: 2.8128 - accuracy: 0.0533 - val_loss: 2.8332 - val_accuracy: 0.0469\n",
      "Epoch 5/100\n",
      "8/8 [==============================] - 37s 5s/step - loss: 2.8547 - accuracy: 0.0779 - val_loss: 2.8337 - val_accuracy: 0.0625\n",
      "Epoch 6/100\n",
      "8/8 [==============================] - 36s 4s/step - loss: 2.8194 - accuracy: 0.0820 - val_loss: 2.8339 - val_accuracy: 0.0625\n",
      "Epoch 7/100\n",
      "8/8 [==============================] - 34s 4s/step - loss: 2.8014 - accuracy: 0.0533 - val_loss: 2.8334 - val_accuracy: 0.0625\n",
      "Epoch 8/100\n",
      "8/8 [==============================] - 39s 5s/step - loss: 2.8377 - accuracy: 0.0533 - val_loss: 2.8337 - val_accuracy: 0.0625\n",
      "Epoch 9/100\n",
      "8/8 [==============================] - 34s 4s/step - loss: 2.8599 - accuracy: 0.0656 - val_loss: 2.8335 - val_accuracy: 0.0625\n",
      "Epoch 10/100\n",
      "8/8 [==============================] - 33s 4s/step - loss: 2.8223 - accuracy: 0.0738 - val_loss: 2.8339 - val_accuracy: 0.0469\n",
      "Epoch 11/100\n",
      "8/8 [==============================] - 34s 4s/step - loss: 2.8350 - accuracy: 0.0615 - val_loss: 2.8337 - val_accuracy: 0.0625\n",
      "Epoch 12/100\n",
      "8/8 [==============================] - 35s 4s/step - loss: 2.8161 - accuracy: 0.0586 - val_loss: 2.8346 - val_accuracy: 0.0312\n",
      "Epoch 13/100\n",
      "8/8 [==============================] - 35s 4s/step - loss: 2.8326 - accuracy: 0.0779 - val_loss: 2.8344 - val_accuracy: 0.0781\n",
      "Epoch 14/100\n",
      "8/8 [==============================] - 38s 5s/step - loss: 2.8578 - accuracy: 0.0656 - val_loss: 2.8333 - val_accuracy: 0.0625\n",
      "Epoch 15/100\n",
      "8/8 [==============================] - 36s 4s/step - loss: 2.8085 - accuracy: 0.0656 - val_loss: 2.8270 - val_accuracy: 0.0312\n",
      "Epoch 16/100\n",
      "8/8 [==============================] - 34s 4s/step - loss: 2.8617 - accuracy: 0.0533 - val_loss: 2.8291 - val_accuracy: 0.0312\n",
      "Epoch 17/100\n",
      "8/8 [==============================] - 40s 5s/step - loss: 2.8103 - accuracy: 0.0246 - val_loss: 2.8328 - val_accuracy: 0.0781\n",
      "Epoch 18/100\n",
      "8/8 [==============================] - 34s 4s/step - loss: 2.8198 - accuracy: 0.0738 - val_loss: 2.8304 - val_accuracy: 0.0781\n",
      "Epoch 19/100\n",
      "8/8 [==============================] - 34s 4s/step - loss: 2.8879 - accuracy: 0.0738 - val_loss: 2.8284 - val_accuracy: 0.0625\n",
      "Epoch 20/100\n",
      "8/8 [==============================] - 36s 5s/step - loss: 2.8000 - accuracy: 0.0451 - val_loss: 2.8237 - val_accuracy: 0.0781\n",
      "Epoch 21/100\n",
      "8/8 [==============================] - 39s 5s/step - loss: 2.8600 - accuracy: 0.0273 - val_loss: 2.8291 - val_accuracy: 0.0625\n",
      "Epoch 22/100\n",
      "8/8 [==============================] - 35s 4s/step - loss: 2.8163 - accuracy: 0.0287 - val_loss: 2.8331 - val_accuracy: 0.0312\n",
      "Epoch 23/100\n",
      "8/8 [==============================] - 34s 4s/step - loss: 2.8575 - accuracy: 0.0410 - val_loss: 2.8345 - val_accuracy: 0.0312\n",
      "Epoch 24/100\n",
      "8/8 [==============================] - 35s 4s/step - loss: 2.8019 - accuracy: 0.0328 - val_loss: 2.8337 - val_accuracy: 0.0312\n",
      "Epoch 25/100\n",
      "8/8 [==============================] - 34s 4s/step - loss: 2.8485 - accuracy: 0.0369 - val_loss: 2.8342 - val_accuracy: 0.0312\n",
      "Epoch 26/100\n",
      "8/8 [==============================] - 33s 4s/step - loss: 2.8437 - accuracy: 0.0369 - val_loss: 2.8338 - val_accuracy: 0.0156\n",
      "Epoch 27/100\n",
      "8/8 [==============================] - 33s 4s/step - loss: 2.7774 - accuracy: 0.0451 - val_loss: 2.8271 - val_accuracy: 0.0469\n",
      "Epoch 28/100\n",
      "8/8 [==============================] - 34s 4s/step - loss: 2.8642 - accuracy: 0.0410 - val_loss: 2.8340 - val_accuracy: 0.0469\n",
      "Epoch 29/100\n",
      "8/8 [==============================] - 35s 4s/step - loss: 2.8479 - accuracy: 0.0369 - val_loss: 2.8332 - val_accuracy: 0.0312\n",
      "Epoch 30/100\n",
      "8/8 [==============================] - 37s 5s/step - loss: 2.8381 - accuracy: 0.0352 - val_loss: 2.8338 - val_accuracy: 0.0312\n",
      "Epoch 31/100\n",
      "8/8 [==============================] - 37s 5s/step - loss: 2.8210 - accuracy: 0.0205 - val_loss: 2.8326 - val_accuracy: 0.0312\n",
      "Epoch 32/100\n",
      "8/8 [==============================] - 39s 5s/step - loss: 2.8588 - accuracy: 0.0410 - val_loss: 2.8328 - val_accuracy: 0.0469\n",
      "Epoch 33/100\n",
      "8/8 [==============================] - 37s 5s/step - loss: 2.8124 - accuracy: 0.0615 - val_loss: 2.8335 - val_accuracy: 0.0312\n",
      "Epoch 34/100\n",
      "8/8 [==============================] - 38s 5s/step - loss: 2.8122 - accuracy: 0.0533 - val_loss: 2.8336 - val_accuracy: 0.0156\n",
      "Epoch 35/100\n",
      "8/8 [==============================] - 43s 5s/step - loss: 2.9228 - accuracy: 0.0492 - val_loss: 2.8330 - val_accuracy: 0.0469\n",
      "Epoch 36/100\n",
      "8/8 [==============================] - 44s 5s/step - loss: 2.7287 - accuracy: 0.0574 - val_loss: 2.8320 - val_accuracy: 0.0469\n",
      "Epoch 37/100\n",
      "8/8 [==============================] - 42s 5s/step - loss: 2.8855 - accuracy: 0.0574 - val_loss: 2.8303 - val_accuracy: 0.0312\n",
      "Epoch 38/100\n",
      "8/8 [==============================] - 45s 6s/step - loss: 2.8093 - accuracy: 0.0533 - val_loss: 2.8250 - val_accuracy: 0.0625\n",
      "Epoch 39/100\n",
      "8/8 [==============================] - 41s 5s/step - loss: 2.8428 - accuracy: 0.0664 - val_loss: 2.8327 - val_accuracy: 0.0312\n",
      "Epoch 40/100\n",
      "8/8 [==============================] - 41s 5s/step - loss: 2.8146 - accuracy: 0.0451 - val_loss: 2.8136 - val_accuracy: 0.0469\n",
      "Epoch 41/100\n",
      "8/8 [==============================] - 42s 5s/step - loss: 2.8143 - accuracy: 0.0369 - val_loss: 2.8025 - val_accuracy: 0.0312\n",
      "Epoch 42/100\n",
      "8/8 [==============================] - 52s 6s/step - loss: 2.8619 - accuracy: 0.0410 - val_loss: 2.8196 - val_accuracy: 0.0625\n",
      "Epoch 43/100\n",
      "8/8 [==============================] - 40s 5s/step - loss: 2.8168 - accuracy: 0.0615 - val_loss: 2.8259 - val_accuracy: 0.0781\n",
      "Epoch 44/100\n",
      "8/8 [==============================] - 38s 5s/step - loss: 2.8505 - accuracy: 0.0943 - val_loss: 2.8213 - val_accuracy: 0.0625\n",
      "Epoch 45/100\n",
      "8/8 [==============================] - 36s 4s/step - loss: 2.7710 - accuracy: 0.0451 - val_loss: 2.8021 - val_accuracy: 0.0469\n",
      "Epoch 46/100\n",
      "8/8 [==============================] - 40s 5s/step - loss: 2.8330 - accuracy: 0.0492 - val_loss: 2.7886 - val_accuracy: 0.0625\n",
      "Epoch 47/100\n",
      "8/8 [==============================] - 36s 4s/step - loss: 2.7814 - accuracy: 0.0738 - val_loss: 2.7899 - val_accuracy: 0.0469\n",
      "Epoch 48/100\n",
      "8/8 [==============================] - 43s 5s/step - loss: 2.8384 - accuracy: 0.0586 - val_loss: 2.8135 - val_accuracy: 0.0469\n",
      "Epoch 49/100\n",
      "8/8 [==============================] - 42s 5s/step - loss: 2.7908 - accuracy: 0.0492 - val_loss: 2.8205 - val_accuracy: 0.0312\n",
      "Epoch 50/100\n",
      "8/8 [==============================] - 38s 5s/step - loss: 2.8422 - accuracy: 0.0656 - val_loss: 2.8023 - val_accuracy: 0.0625\n",
      "Epoch 51/100\n",
      "8/8 [==============================] - 37s 5s/step - loss: 2.8243 - accuracy: 0.0369 - val_loss: 2.8095 - val_accuracy: 0.0469\n",
      "Epoch 52/100\n",
      "8/8 [==============================] - 39s 5s/step - loss: 2.7854 - accuracy: 0.0902 - val_loss: 2.7989 - val_accuracy: 0.0625\n",
      "Epoch 53/100\n",
      "8/8 [==============================] - 36s 4s/step - loss: 2.8412 - accuracy: 0.0615 - val_loss: 2.7773 - val_accuracy: 0.0469\n",
      "Epoch 54/100\n",
      "8/8 [==============================] - 35s 4s/step - loss: 2.8279 - accuracy: 0.0451 - val_loss: 2.7907 - val_accuracy: 0.0938\n",
      "Epoch 55/100\n",
      "8/8 [==============================] - 34s 4s/step - loss: 2.7650 - accuracy: 0.0697 - val_loss: 2.7894 - val_accuracy: 0.0469\n",
      "Epoch 56/100\n",
      "8/8 [==============================] - 35s 4s/step - loss: 2.8202 - accuracy: 0.0779 - val_loss: 2.7826 - val_accuracy: 0.0781\n",
      "Epoch 57/100\n",
      "8/8 [==============================] - 36s 5s/step - loss: 2.8209 - accuracy: 0.0664 - val_loss: 2.7821 - val_accuracy: 0.0625\n",
      "Epoch 58/100\n",
      "7/8 [=========================>....] - ETA: 4s - loss: 2.7949 - accuracy: 0.0660"
     ]
    },
    {
     "ename": "KeyboardInterrupt",
     "evalue": "",
     "output_type": "error",
     "traceback": [
      "\u001b[0;31m---------------------------------------------------------------------------\u001b[0m",
      "\u001b[0;31mKeyboardInterrupt\u001b[0m                         Traceback (most recent call last)",
      "\u001b[0;32m<ipython-input-117-6ec4ef1e3c14>\u001b[0m in \u001b[0;36m<module>\u001b[0;34m\u001b[0m\n\u001b[1;32m      8\u001b[0m             \u001b[0mvalidation_steps\u001b[0m\u001b[0;34m=\u001b[0m\u001b[0mSTEP_SIZE_VALID\u001b[0m\u001b[0;34m,\u001b[0m\u001b[0;34m\u001b[0m\u001b[0;34m\u001b[0m\u001b[0m\n\u001b[1;32m      9\u001b[0m             \u001b[0mepochs\u001b[0m\u001b[0;34m=\u001b[0m\u001b[0;36m100\u001b[0m\u001b[0;34m,\u001b[0m\u001b[0;34m\u001b[0m\u001b[0;34m\u001b[0m\u001b[0m\n\u001b[0;32m---> 10\u001b[0;31m             class_weight=class_weights)\n\u001b[0m",
      "\u001b[0;32m~/miniconda3/envs/IronHack_env/lib/python3.7/site-packages/tensorflow/python/keras/engine/training.py\u001b[0m in \u001b[0;36m_method_wrapper\u001b[0;34m(self, *args, **kwargs)\u001b[0m\n\u001b[1;32m     64\u001b[0m   \u001b[0;32mdef\u001b[0m \u001b[0m_method_wrapper\u001b[0m\u001b[0;34m(\u001b[0m\u001b[0mself\u001b[0m\u001b[0;34m,\u001b[0m \u001b[0;34m*\u001b[0m\u001b[0margs\u001b[0m\u001b[0;34m,\u001b[0m \u001b[0;34m**\u001b[0m\u001b[0mkwargs\u001b[0m\u001b[0;34m)\u001b[0m\u001b[0;34m:\u001b[0m\u001b[0;34m\u001b[0m\u001b[0;34m\u001b[0m\u001b[0m\n\u001b[1;32m     65\u001b[0m     \u001b[0;32mif\u001b[0m \u001b[0;32mnot\u001b[0m \u001b[0mself\u001b[0m\u001b[0;34m.\u001b[0m\u001b[0m_in_multi_worker_mode\u001b[0m\u001b[0;34m(\u001b[0m\u001b[0;34m)\u001b[0m\u001b[0;34m:\u001b[0m  \u001b[0;31m# pylint: disable=protected-access\u001b[0m\u001b[0;34m\u001b[0m\u001b[0;34m\u001b[0m\u001b[0m\n\u001b[0;32m---> 66\u001b[0;31m       \u001b[0;32mreturn\u001b[0m \u001b[0mmethod\u001b[0m\u001b[0;34m(\u001b[0m\u001b[0mself\u001b[0m\u001b[0;34m,\u001b[0m \u001b[0;34m*\u001b[0m\u001b[0margs\u001b[0m\u001b[0;34m,\u001b[0m \u001b[0;34m**\u001b[0m\u001b[0mkwargs\u001b[0m\u001b[0;34m)\u001b[0m\u001b[0;34m\u001b[0m\u001b[0;34m\u001b[0m\u001b[0m\n\u001b[0m\u001b[1;32m     67\u001b[0m \u001b[0;34m\u001b[0m\u001b[0m\n\u001b[1;32m     68\u001b[0m     \u001b[0;31m# Running inside `run_distribute_coordinator` already.\u001b[0m\u001b[0;34m\u001b[0m\u001b[0;34m\u001b[0m\u001b[0;34m\u001b[0m\u001b[0m\n",
      "\u001b[0;32m~/miniconda3/envs/IronHack_env/lib/python3.7/site-packages/tensorflow/python/keras/engine/training.py\u001b[0m in \u001b[0;36mfit\u001b[0;34m(self, x, y, batch_size, epochs, verbose, callbacks, validation_split, validation_data, shuffle, class_weight, sample_weight, initial_epoch, steps_per_epoch, validation_steps, validation_batch_size, validation_freq, max_queue_size, workers, use_multiprocessing)\u001b[0m\n\u001b[1;32m    846\u001b[0m                 batch_size=batch_size):\n\u001b[1;32m    847\u001b[0m               \u001b[0mcallbacks\u001b[0m\u001b[0;34m.\u001b[0m\u001b[0mon_train_batch_begin\u001b[0m\u001b[0;34m(\u001b[0m\u001b[0mstep\u001b[0m\u001b[0;34m)\u001b[0m\u001b[0;34m\u001b[0m\u001b[0;34m\u001b[0m\u001b[0m\n\u001b[0;32m--> 848\u001b[0;31m               \u001b[0mtmp_logs\u001b[0m \u001b[0;34m=\u001b[0m \u001b[0mtrain_function\u001b[0m\u001b[0;34m(\u001b[0m\u001b[0miterator\u001b[0m\u001b[0;34m)\u001b[0m\u001b[0;34m\u001b[0m\u001b[0;34m\u001b[0m\u001b[0m\n\u001b[0m\u001b[1;32m    849\u001b[0m               \u001b[0;31m# Catch OutOfRangeError for Datasets of unknown size.\u001b[0m\u001b[0;34m\u001b[0m\u001b[0;34m\u001b[0m\u001b[0;34m\u001b[0m\u001b[0m\n\u001b[1;32m    850\u001b[0m               \u001b[0;31m# This blocks until the batch has finished executing.\u001b[0m\u001b[0;34m\u001b[0m\u001b[0;34m\u001b[0m\u001b[0;34m\u001b[0m\u001b[0m\n",
      "\u001b[0;32m~/miniconda3/envs/IronHack_env/lib/python3.7/site-packages/tensorflow/python/eager/def_function.py\u001b[0m in \u001b[0;36m__call__\u001b[0;34m(self, *args, **kwds)\u001b[0m\n\u001b[1;32m    578\u001b[0m         \u001b[0mxla_context\u001b[0m\u001b[0;34m.\u001b[0m\u001b[0mExit\u001b[0m\u001b[0;34m(\u001b[0m\u001b[0;34m)\u001b[0m\u001b[0;34m\u001b[0m\u001b[0;34m\u001b[0m\u001b[0m\n\u001b[1;32m    579\u001b[0m     \u001b[0;32melse\u001b[0m\u001b[0;34m:\u001b[0m\u001b[0;34m\u001b[0m\u001b[0;34m\u001b[0m\u001b[0m\n\u001b[0;32m--> 580\u001b[0;31m       \u001b[0mresult\u001b[0m \u001b[0;34m=\u001b[0m \u001b[0mself\u001b[0m\u001b[0;34m.\u001b[0m\u001b[0m_call\u001b[0m\u001b[0;34m(\u001b[0m\u001b[0;34m*\u001b[0m\u001b[0margs\u001b[0m\u001b[0;34m,\u001b[0m \u001b[0;34m**\u001b[0m\u001b[0mkwds\u001b[0m\u001b[0;34m)\u001b[0m\u001b[0;34m\u001b[0m\u001b[0;34m\u001b[0m\u001b[0m\n\u001b[0m\u001b[1;32m    581\u001b[0m \u001b[0;34m\u001b[0m\u001b[0m\n\u001b[1;32m    582\u001b[0m     \u001b[0;32mif\u001b[0m \u001b[0mtracing_count\u001b[0m \u001b[0;34m==\u001b[0m \u001b[0mself\u001b[0m\u001b[0;34m.\u001b[0m\u001b[0m_get_tracing_count\u001b[0m\u001b[0;34m(\u001b[0m\u001b[0;34m)\u001b[0m\u001b[0;34m:\u001b[0m\u001b[0;34m\u001b[0m\u001b[0;34m\u001b[0m\u001b[0m\n",
      "\u001b[0;32m~/miniconda3/envs/IronHack_env/lib/python3.7/site-packages/tensorflow/python/eager/def_function.py\u001b[0m in \u001b[0;36m_call\u001b[0;34m(self, *args, **kwds)\u001b[0m\n\u001b[1;32m    609\u001b[0m       \u001b[0;31m# In this case we have created variables on the first call, so we run the\u001b[0m\u001b[0;34m\u001b[0m\u001b[0;34m\u001b[0m\u001b[0;34m\u001b[0m\u001b[0m\n\u001b[1;32m    610\u001b[0m       \u001b[0;31m# defunned version which is guaranteed to never create variables.\u001b[0m\u001b[0;34m\u001b[0m\u001b[0;34m\u001b[0m\u001b[0;34m\u001b[0m\u001b[0m\n\u001b[0;32m--> 611\u001b[0;31m       \u001b[0;32mreturn\u001b[0m \u001b[0mself\u001b[0m\u001b[0;34m.\u001b[0m\u001b[0m_stateless_fn\u001b[0m\u001b[0;34m(\u001b[0m\u001b[0;34m*\u001b[0m\u001b[0margs\u001b[0m\u001b[0;34m,\u001b[0m \u001b[0;34m**\u001b[0m\u001b[0mkwds\u001b[0m\u001b[0;34m)\u001b[0m  \u001b[0;31m# pylint: disable=not-callable\u001b[0m\u001b[0;34m\u001b[0m\u001b[0;34m\u001b[0m\u001b[0m\n\u001b[0m\u001b[1;32m    612\u001b[0m     \u001b[0;32melif\u001b[0m \u001b[0mself\u001b[0m\u001b[0;34m.\u001b[0m\u001b[0m_stateful_fn\u001b[0m \u001b[0;32mis\u001b[0m \u001b[0;32mnot\u001b[0m \u001b[0;32mNone\u001b[0m\u001b[0;34m:\u001b[0m\u001b[0;34m\u001b[0m\u001b[0;34m\u001b[0m\u001b[0m\n\u001b[1;32m    613\u001b[0m       \u001b[0;31m# Release the lock early so that multiple threads can perform the call\u001b[0m\u001b[0;34m\u001b[0m\u001b[0;34m\u001b[0m\u001b[0;34m\u001b[0m\u001b[0m\n",
      "\u001b[0;32m~/miniconda3/envs/IronHack_env/lib/python3.7/site-packages/tensorflow/python/eager/function.py\u001b[0m in \u001b[0;36m__call__\u001b[0;34m(self, *args, **kwargs)\u001b[0m\n\u001b[1;32m   2418\u001b[0m     \u001b[0;32mwith\u001b[0m \u001b[0mself\u001b[0m\u001b[0;34m.\u001b[0m\u001b[0m_lock\u001b[0m\u001b[0;34m:\u001b[0m\u001b[0;34m\u001b[0m\u001b[0;34m\u001b[0m\u001b[0m\n\u001b[1;32m   2419\u001b[0m       \u001b[0mgraph_function\u001b[0m\u001b[0;34m,\u001b[0m \u001b[0margs\u001b[0m\u001b[0;34m,\u001b[0m \u001b[0mkwargs\u001b[0m \u001b[0;34m=\u001b[0m \u001b[0mself\u001b[0m\u001b[0;34m.\u001b[0m\u001b[0m_maybe_define_function\u001b[0m\u001b[0;34m(\u001b[0m\u001b[0margs\u001b[0m\u001b[0;34m,\u001b[0m \u001b[0mkwargs\u001b[0m\u001b[0;34m)\u001b[0m\u001b[0;34m\u001b[0m\u001b[0;34m\u001b[0m\u001b[0m\n\u001b[0;32m-> 2420\u001b[0;31m     \u001b[0;32mreturn\u001b[0m \u001b[0mgraph_function\u001b[0m\u001b[0;34m.\u001b[0m\u001b[0m_filtered_call\u001b[0m\u001b[0;34m(\u001b[0m\u001b[0margs\u001b[0m\u001b[0;34m,\u001b[0m \u001b[0mkwargs\u001b[0m\u001b[0;34m)\u001b[0m  \u001b[0;31m# pylint: disable=protected-access\u001b[0m\u001b[0;34m\u001b[0m\u001b[0;34m\u001b[0m\u001b[0m\n\u001b[0m\u001b[1;32m   2421\u001b[0m \u001b[0;34m\u001b[0m\u001b[0m\n\u001b[1;32m   2422\u001b[0m   \u001b[0;34m@\u001b[0m\u001b[0mproperty\u001b[0m\u001b[0;34m\u001b[0m\u001b[0;34m\u001b[0m\u001b[0m\n",
      "\u001b[0;32m~/miniconda3/envs/IronHack_env/lib/python3.7/site-packages/tensorflow/python/eager/function.py\u001b[0m in \u001b[0;36m_filtered_call\u001b[0;34m(self, args, kwargs)\u001b[0m\n\u001b[1;32m   1663\u001b[0m          if isinstance(t, (ops.Tensor,\n\u001b[1;32m   1664\u001b[0m                            resource_variable_ops.BaseResourceVariable))),\n\u001b[0;32m-> 1665\u001b[0;31m         self.captured_inputs)\n\u001b[0m\u001b[1;32m   1666\u001b[0m \u001b[0;34m\u001b[0m\u001b[0m\n\u001b[1;32m   1667\u001b[0m   \u001b[0;32mdef\u001b[0m \u001b[0m_call_flat\u001b[0m\u001b[0;34m(\u001b[0m\u001b[0mself\u001b[0m\u001b[0;34m,\u001b[0m \u001b[0margs\u001b[0m\u001b[0;34m,\u001b[0m \u001b[0mcaptured_inputs\u001b[0m\u001b[0;34m,\u001b[0m \u001b[0mcancellation_manager\u001b[0m\u001b[0;34m=\u001b[0m\u001b[0;32mNone\u001b[0m\u001b[0;34m)\u001b[0m\u001b[0;34m:\u001b[0m\u001b[0;34m\u001b[0m\u001b[0;34m\u001b[0m\u001b[0m\n",
      "\u001b[0;32m~/miniconda3/envs/IronHack_env/lib/python3.7/site-packages/tensorflow/python/eager/function.py\u001b[0m in \u001b[0;36m_call_flat\u001b[0;34m(self, args, captured_inputs, cancellation_manager)\u001b[0m\n\u001b[1;32m   1744\u001b[0m       \u001b[0;31m# No tape is watching; skip to running the function.\u001b[0m\u001b[0;34m\u001b[0m\u001b[0;34m\u001b[0m\u001b[0;34m\u001b[0m\u001b[0m\n\u001b[1;32m   1745\u001b[0m       return self._build_call_outputs(self._inference_function.call(\n\u001b[0;32m-> 1746\u001b[0;31m           ctx, args, cancellation_manager=cancellation_manager))\n\u001b[0m\u001b[1;32m   1747\u001b[0m     forward_backward = self._select_forward_and_backward_functions(\n\u001b[1;32m   1748\u001b[0m         \u001b[0margs\u001b[0m\u001b[0;34m,\u001b[0m\u001b[0;34m\u001b[0m\u001b[0;34m\u001b[0m\u001b[0m\n",
      "\u001b[0;32m~/miniconda3/envs/IronHack_env/lib/python3.7/site-packages/tensorflow/python/eager/function.py\u001b[0m in \u001b[0;36mcall\u001b[0;34m(self, ctx, args, cancellation_manager)\u001b[0m\n\u001b[1;32m    596\u001b[0m               \u001b[0minputs\u001b[0m\u001b[0;34m=\u001b[0m\u001b[0margs\u001b[0m\u001b[0;34m,\u001b[0m\u001b[0;34m\u001b[0m\u001b[0;34m\u001b[0m\u001b[0m\n\u001b[1;32m    597\u001b[0m               \u001b[0mattrs\u001b[0m\u001b[0;34m=\u001b[0m\u001b[0mattrs\u001b[0m\u001b[0;34m,\u001b[0m\u001b[0;34m\u001b[0m\u001b[0;34m\u001b[0m\u001b[0m\n\u001b[0;32m--> 598\u001b[0;31m               ctx=ctx)\n\u001b[0m\u001b[1;32m    599\u001b[0m         \u001b[0;32melse\u001b[0m\u001b[0;34m:\u001b[0m\u001b[0;34m\u001b[0m\u001b[0;34m\u001b[0m\u001b[0m\n\u001b[1;32m    600\u001b[0m           outputs = execute.execute_with_cancellation(\n",
      "\u001b[0;32m~/miniconda3/envs/IronHack_env/lib/python3.7/site-packages/tensorflow/python/eager/execute.py\u001b[0m in \u001b[0;36mquick_execute\u001b[0;34m(op_name, num_outputs, inputs, attrs, ctx, name)\u001b[0m\n\u001b[1;32m     58\u001b[0m     \u001b[0mctx\u001b[0m\u001b[0;34m.\u001b[0m\u001b[0mensure_initialized\u001b[0m\u001b[0;34m(\u001b[0m\u001b[0;34m)\u001b[0m\u001b[0;34m\u001b[0m\u001b[0;34m\u001b[0m\u001b[0m\n\u001b[1;32m     59\u001b[0m     tensors = pywrap_tfe.TFE_Py_Execute(ctx._handle, device_name, op_name,\n\u001b[0;32m---> 60\u001b[0;31m                                         inputs, attrs, num_outputs)\n\u001b[0m\u001b[1;32m     61\u001b[0m   \u001b[0;32mexcept\u001b[0m \u001b[0mcore\u001b[0m\u001b[0;34m.\u001b[0m\u001b[0m_NotOkStatusException\u001b[0m \u001b[0;32mas\u001b[0m \u001b[0me\u001b[0m\u001b[0;34m:\u001b[0m\u001b[0;34m\u001b[0m\u001b[0;34m\u001b[0m\u001b[0m\n\u001b[1;32m     62\u001b[0m     \u001b[0;32mif\u001b[0m \u001b[0mname\u001b[0m \u001b[0;32mis\u001b[0m \u001b[0;32mnot\u001b[0m \u001b[0;32mNone\u001b[0m\u001b[0;34m:\u001b[0m\u001b[0;34m\u001b[0m\u001b[0;34m\u001b[0m\u001b[0m\n",
      "\u001b[0;31mKeyboardInterrupt\u001b[0m: "
     ]
    }
   ],
   "source": [
    "STEP_SIZE_TRAIN=train_generator.n//train_generator.batch_size\n",
    "STEP_SIZE_VALID=valid_generator.n//valid_generator.batch_size\n",
    "STEP_SIZE_TEST=test_generator.n//test_generator.batch_size\n",
    "\n",
    "model.fit(train_generator,\n",
    "            steps_per_epoch=STEP_SIZE_TRAIN,\n",
    "            validation_data=valid_generator,\n",
    "            validation_steps=STEP_SIZE_VALID,\n",
    "            epochs=100,\n",
    "            class_weight=class_weights)"
   ]
  },
  {
   "cell_type": "code",
   "execution_count": null,
   "metadata": {},
   "outputs": [],
   "source": [
    "model.evaluate(valid_generator,steps=STEP_SIZE_TEST)"
   ]
  },
  {
   "cell_type": "code",
   "execution_count": 52,
   "metadata": {},
   "outputs": [
    {
     "name": "stdout",
     "output_type": "stream",
     "text": [
      "5/5 [==============================] - 5s 984ms/step\n"
     ]
    }
   ],
   "source": [
    "test_generator.reset()\n",
    "pred=model.predict(test_generator,steps=STEP_SIZE_TEST,verbose=1)"
   ]
  },
  {
   "cell_type": "code",
   "execution_count": 53,
   "metadata": {},
   "outputs": [],
   "source": [
    "predicted_class_indices=np.argmax(pred,axis=1)"
   ]
  },
  {
   "cell_type": "code",
   "execution_count": 54,
   "metadata": {},
   "outputs": [
    {
     "data": {
      "text/plain": [
       "array([ 2,  2,  3,  2, 18, 28,  3,  2, 34, 14,  2,  3, 29, 33,  3, 19,  3,\n",
       "       34,  6, 34, 26,  3,  3, 34,  2, 20, 26, 27, 34,  2, 12, 24,  2, 29,\n",
       "       26,  3, 26,  3, 33,  2, 35,  1,  3, 26, 20, 14,  2, 33,  3,  2, 19,\n",
       "       34, 21, 32, 11, 26, 34,  3,  3, 29, 26,  2,  2,  2, 26,  3,  3,  3,\n",
       "        2, 19, 33,  2, 26, 28, 34, 33,  3,  2,  2,  2, 26,  2, 30,  3,  2,\n",
       "        2, 33,  2, 21,  3,  2, 26, 35,  2, 34, 26, 14, 26,  3, 19, 35,  2,\n",
       "       26,  3,  2, 33, 25, 26,  3, 15,  2,  3, 12,  3, 29,  2, 35, 17,  2,\n",
       "        2,  9, 34,  2,  6,  3, 26,  6, 29, 34, 14, 21,  2,  2,  2, 34,  2,\n",
       "        2,  2, 35, 33, 24,  3,  2, 34, 26,  2,  2, 28,  3,  2,  2, 33,  6,\n",
       "       33, 26,  2, 20, 35,  2,  2, 33,  3, 19,  3, 19,  3, 30,  2,  3, 26,\n",
       "       26, 26,  3,  3, 26, 12, 33,  3,  2,  2, 15,  3, 33,  2,  2])"
      ]
     },
     "execution_count": 54,
     "metadata": {},
     "output_type": "execute_result"
    }
   ],
   "source": [
    "predicted_class_indices"
   ]
  },
  {
   "cell_type": "code",
   "execution_count": 56,
   "metadata": {},
   "outputs": [
    {
     "data": {
      "text/html": [
       "<div>\n",
       "<style scoped>\n",
       "    .dataframe tbody tr th:only-of-type {\n",
       "        vertical-align: middle;\n",
       "    }\n",
       "\n",
       "    .dataframe tbody tr th {\n",
       "        vertical-align: top;\n",
       "    }\n",
       "\n",
       "    .dataframe thead th {\n",
       "        text-align: right;\n",
       "    }\n",
       "</style>\n",
       "<table border=\"1\" class=\"dataframe\">\n",
       "  <thead>\n",
       "    <tr style=\"text-align: right;\">\n",
       "      <th></th>\n",
       "      <th>local</th>\n",
       "      <th>brand</th>\n",
       "    </tr>\n",
       "  </thead>\n",
       "  <tbody>\n",
       "    <tr>\n",
       "      <th>641</th>\n",
       "      <td>/home/ivan/Documentos/IRONHACK/Bootcamp/final_...</td>\n",
       "      <td>budweiser</td>\n",
       "    </tr>\n",
       "    <tr>\n",
       "      <th>47</th>\n",
       "      <td>/home/ivan/Documentos/IRONHACK/Bootcamp/final_...</td>\n",
       "      <td>san miguel</td>\n",
       "    </tr>\n",
       "    <tr>\n",
       "      <th>729</th>\n",
       "      <td>/home/ivan/Documentos/IRONHACK/Bootcamp/final_...</td>\n",
       "      <td>cruzcampo</td>\n",
       "    </tr>\n",
       "    <tr>\n",
       "      <th>300</th>\n",
       "      <td>/home/ivan/Documentos/IRONHACK/Bootcamp/final_...</td>\n",
       "      <td>amstel original</td>\n",
       "    </tr>\n",
       "    <tr>\n",
       "      <th>677</th>\n",
       "      <td>/home/ivan/Documentos/IRONHACK/Bootcamp/final_...</td>\n",
       "      <td>free damm</td>\n",
       "    </tr>\n",
       "    <tr>\n",
       "      <th>...</th>\n",
       "      <td>...</td>\n",
       "      <td>...</td>\n",
       "    </tr>\n",
       "    <tr>\n",
       "      <th>129</th>\n",
       "      <td>/home/ivan/Documentos/IRONHACK/Bootcamp/final_...</td>\n",
       "      <td>desperado</td>\n",
       "    </tr>\n",
       "    <tr>\n",
       "      <th>587</th>\n",
       "      <td>/home/ivan/Documentos/IRONHACK/Bootcamp/final_...</td>\n",
       "      <td>dia</td>\n",
       "    </tr>\n",
       "    <tr>\n",
       "      <th>405</th>\n",
       "      <td>/home/ivan/Documentos/IRONHACK/Bootcamp/final_...</td>\n",
       "      <td>cruzcampo</td>\n",
       "    </tr>\n",
       "    <tr>\n",
       "      <th>250</th>\n",
       "      <td>/home/ivan/Documentos/IRONHACK/Bootcamp/final_...</td>\n",
       "      <td>cruzcampo reserva</td>\n",
       "    </tr>\n",
       "    <tr>\n",
       "      <th>301</th>\n",
       "      <td>/home/ivan/Documentos/IRONHACK/Bootcamp/final_...</td>\n",
       "      <td>alhambra</td>\n",
       "    </tr>\n",
       "  </tbody>\n",
       "</table>\n",
       "<p>185 rows × 2 columns</p>\n",
       "</div>"
      ],
      "text/plain": [
       "                                                 local              brand\n",
       "641  /home/ivan/Documentos/IRONHACK/Bootcamp/final_...          budweiser\n",
       "47   /home/ivan/Documentos/IRONHACK/Bootcamp/final_...         san miguel\n",
       "729  /home/ivan/Documentos/IRONHACK/Bootcamp/final_...          cruzcampo\n",
       "300  /home/ivan/Documentos/IRONHACK/Bootcamp/final_...    amstel original\n",
       "677  /home/ivan/Documentos/IRONHACK/Bootcamp/final_...          free damm\n",
       "..                                                 ...                ...\n",
       "129  /home/ivan/Documentos/IRONHACK/Bootcamp/final_...          desperado\n",
       "587  /home/ivan/Documentos/IRONHACK/Bootcamp/final_...                dia\n",
       "405  /home/ivan/Documentos/IRONHACK/Bootcamp/final_...          cruzcampo\n",
       "250  /home/ivan/Documentos/IRONHACK/Bootcamp/final_...  cruzcampo reserva\n",
       "301  /home/ivan/Documentos/IRONHACK/Bootcamp/final_...           alhambra\n",
       "\n",
       "[185 rows x 2 columns]"
      ]
     },
     "execution_count": 56,
     "metadata": {},
     "output_type": "execute_result"
    }
   ],
   "source": [
    "beer_test"
   ]
  },
  {
   "cell_type": "code",
   "execution_count": null,
   "metadata": {},
   "outputs": [],
   "source": []
  },
  {
   "cell_type": "code",
   "execution_count": null,
   "metadata": {},
   "outputs": [],
   "source": []
  },
  {
   "cell_type": "code",
   "execution_count": null,
   "metadata": {},
   "outputs": [],
   "source": []
  },
  {
   "cell_type": "code",
   "execution_count": null,
   "metadata": {},
   "outputs": [],
   "source": []
  },
  {
   "cell_type": "code",
   "execution_count": null,
   "metadata": {},
   "outputs": [],
   "source": []
  },
  {
   "cell_type": "code",
   "execution_count": 25,
   "metadata": {},
   "outputs": [
    {
     "data": {
      "text/plain": [
       "botella         668\n",
       "lata            521\n",
       "No specified    371\n",
       "barril            6\n",
       "Name: container, dtype: int64"
      ]
     },
     "execution_count": 25,
     "metadata": {},
     "output_type": "execute_result"
    }
   ],
   "source": [
    "data_beer['container'].value_counts()"
   ]
  },
  {
   "cell_type": "code",
   "execution_count": 26,
   "metadata": {},
   "outputs": [],
   "source": [
    "prueba_2 = data_beer[data_beer.container.isin(['lata','botella'])]\n",
    "prueba_2.reset_index(inplace=True)\n",
    "prueba_2.head()\n",
    "\n",
    "data_beer_images_2 = pd.DataFrame(columns=['local','container'])\n",
    "data_beer_images_2['container'] = prueba_2['container']\n",
    "\n",
    "data_beer_images_2['local'] = prueba_2['id'].apply(local_beer)"
   ]
  },
  {
   "cell_type": "code",
   "execution_count": 27,
   "metadata": {},
   "outputs": [
    {
     "data": {
      "text/plain": [
       "botella    668\n",
       "lata       521\n",
       "Name: container, dtype: int64"
      ]
     },
     "execution_count": 27,
     "metadata": {},
     "output_type": "execute_result"
    }
   ],
   "source": [
    "data_beer_images_2['container'].value_counts()"
   ]
  },
  {
   "cell_type": "code",
   "execution_count": 28,
   "metadata": {},
   "outputs": [],
   "source": [
    "from sklearn.model_selection import train_test_split\n",
    "beer_train_prueba, beer_test = train_test_split(data_beer_images_2)\n",
    "beer_train = pd.DataFrame(beer_train_prueba, columns=['local','container']).sample(frac=1.0)"
   ]
  },
  {
   "cell_type": "code",
   "execution_count": 31,
   "metadata": {},
   "outputs": [
    {
     "name": "stdout",
     "output_type": "stream",
     "text": [
      "Found 802 validated image filenames belonging to 2 classes.\n",
      "Found 89 validated image filenames belonging to 2 classes.\n",
      "Found 298 validated image filenames.\n"
     ]
    }
   ],
   "source": [
    "datagen_train=ImageDataGenerator(rescale=1./255.,\n",
    "                                validation_split=0.1,\n",
    "                                rotation_range=80,\n",
    "                                width_shift_range=0.2,\n",
    "                                height_shift_range=0.2,\n",
    "                                shear_range=0.2,\n",
    "                                zoom_range=0.2,\n",
    "                                horizontal_flip=True,\n",
    "                                preprocessing_function=preprocess_input)\n",
    "\n",
    "train_generator=datagen_train.flow_from_dataframe(dataframe=beer_train,\n",
    "                                            x_col=\"local\",\n",
    "                                            y_col=\"container\",\n",
    "                                            subset=\"training\",\n",
    "                                            batch_size=32,\n",
    "                                            shuffle=True,\n",
    "                                            class_mode=\"categorical\",\n",
    "                                            target_size=(280,280))\n",
    "\n",
    "datagen_valid=ImageDataGenerator(rescale=1./255., validation_split=0.1)\n",
    "valid_generator=datagen_valid.flow_from_dataframe(dataframe=beer_train,\n",
    "                                            x_col=\"local\",\n",
    "                                            y_col=\"container\",\n",
    "                                            subset=\"validation\",\n",
    "                                            batch_size=32,\n",
    "                                            shuffle=True,\n",
    "                                            class_mode=\"categorical\",\n",
    "                                            target_size=(280,280))\n",
    "\n",
    "test_datagen=ImageDataGenerator(rescale=1./255.)\n",
    "test_generator=test_datagen.flow_from_dataframe(dataframe=beer_test,\n",
    "                                                x_col=\"local\",\n",
    "                                                y_col=None,\n",
    "                                                batch_size=29,\n",
    "                                                shuffle=False,\n",
    "                                                class_mode=None,\n",
    "                                                target_size=(280,280))"
   ]
  },
  {
   "cell_type": "code",
   "execution_count": null,
   "metadata": {},
   "outputs": [],
   "source": []
  },
  {
   "cell_type": "code",
   "execution_count": null,
   "metadata": {},
   "outputs": [],
   "source": []
  },
  {
   "cell_type": "code",
   "execution_count": null,
   "metadata": {},
   "outputs": [],
   "source": []
  },
  {
   "cell_type": "code",
   "execution_count": null,
   "metadata": {},
   "outputs": [],
   "source": []
  },
  {
   "cell_type": "code",
   "execution_count": null,
   "metadata": {},
   "outputs": [],
   "source": []
  },
  {
   "cell_type": "code",
   "execution_count": null,
   "metadata": {},
   "outputs": [],
   "source": []
  }
 ],
 "metadata": {
  "kernelspec": {
   "display_name": "Python [conda env:IronHack_env]",
   "language": "python",
   "name": "conda-env-IronHack_env-py"
  },
  "language_info": {
   "codemirror_mode": {
    "name": "ipython",
    "version": 3
   },
   "file_extension": ".py",
   "mimetype": "text/x-python",
   "name": "python",
   "nbconvert_exporter": "python",
   "pygments_lexer": "ipython3",
   "version": "3.7.7"
  }
 },
 "nbformat": 4,
 "nbformat_minor": 4
}
