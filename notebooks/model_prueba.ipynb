{
 "cells": [
  {
   "cell_type": "markdown",
   "metadata": {},
   "source": [
    "### model brand"
   ]
  },
  {
   "cell_type": "code",
   "execution_count": null,
   "metadata": {},
   "outputs": [],
   "source": [
    "import pandas as pd\n",
    "import re"
   ]
  },
  {
   "cell_type": "code",
   "execution_count": null,
   "metadata": {},
   "outputs": [],
   "source": [
    "def load_df_products(name):\n",
    "    return pd.read_csv(f'../data/processed/data_beer_{name}.csv')"
   ]
  },
  {
   "cell_type": "code",
   "execution_count": 4,
   "metadata": {},
   "outputs": [],
   "source": [
    "data_beer = load_df_products('total')"
   ]
  },
  {
   "cell_type": "code",
   "execution_count": 5,
   "metadata": {},
   "outputs": [
    {
     "data": {
      "text/html": [
       "<div>\n",
       "<style scoped>\n",
       "    .dataframe tbody tr th:only-of-type {\n",
       "        vertical-align: middle;\n",
       "    }\n",
       "\n",
       "    .dataframe tbody tr th {\n",
       "        vertical-align: top;\n",
       "    }\n",
       "\n",
       "    .dataframe thead th {\n",
       "        text-align: right;\n",
       "    }\n",
       "</style>\n",
       "<table border=\"1\" class=\"dataframe\">\n",
       "  <thead>\n",
       "    <tr style=\"text-align: right;\">\n",
       "      <th></th>\n",
       "      <th>price</th>\n",
       "      <th>price_liter</th>\n",
       "      <th>title</th>\n",
       "      <th>promotion</th>\n",
       "      <th>brand</th>\n",
       "      <th>container</th>\n",
       "      <th>volumen_unid</th>\n",
       "      <th>quantity_pack</th>\n",
       "      <th>image_url</th>\n",
       "      <th>supermarket</th>\n",
       "      <th>id</th>\n",
       "    </tr>\n",
       "  </thead>\n",
       "  <tbody>\n",
       "    <tr>\n",
       "      <th>0</th>\n",
       "      <td>11.21</td>\n",
       "      <td>1.89</td>\n",
       "      <td>Cerveza Heineken Lager pack de 18 latas de 33 cl.</td>\n",
       "      <td>No promotion</td>\n",
       "      <td>heineken lager</td>\n",
       "      <td>lata</td>\n",
       "      <td>33 cl</td>\n",
       "      <td>18</td>\n",
       "      <td>https://static.carrefour.es/hd_280x_/img_pim_f...</td>\n",
       "      <td>Carrefour</td>\n",
       "      <td>0</td>\n",
       "    </tr>\n",
       "    <tr>\n",
       "      <th>1</th>\n",
       "      <td>14.80</td>\n",
       "      <td>1.60</td>\n",
       "      <td>Cerveza Cruzcampo Pilsen pack de 28 latas de 3...</td>\n",
       "      <td>No promotion</td>\n",
       "      <td>cruzcampo pilsen</td>\n",
       "      <td>lata</td>\n",
       "      <td>33 cl</td>\n",
       "      <td>28</td>\n",
       "      <td>https://static.carrefour.es/hd_280x_/img_pim_f...</td>\n",
       "      <td>Carrefour</td>\n",
       "      <td>1</td>\n",
       "    </tr>\n",
       "    <tr>\n",
       "      <th>2</th>\n",
       "      <td>5.15</td>\n",
       "      <td>1.56</td>\n",
       "      <td>Cerveza El Aguila pack de 10 latas de 33 cl.</td>\n",
       "      <td>No promotion</td>\n",
       "      <td>el aguila</td>\n",
       "      <td>lata</td>\n",
       "      <td>33 cl</td>\n",
       "      <td>10</td>\n",
       "      <td>https://static.carrefour.es/hd_280x_/img_pim_f...</td>\n",
       "      <td>Carrefour</td>\n",
       "      <td>2</td>\n",
       "    </tr>\n",
       "    <tr>\n",
       "      <th>3</th>\n",
       "      <td>0.25</td>\n",
       "      <td>0.76</td>\n",
       "      <td>Cerveza Carrefour Holandesa lata 33 cl.</td>\n",
       "      <td>No promotion</td>\n",
       "      <td>carrefour holandesa</td>\n",
       "      <td>lata</td>\n",
       "      <td>33 cl</td>\n",
       "      <td>1</td>\n",
       "      <td>https://static.carrefour.es/hd_280x_/img_pim_f...</td>\n",
       "      <td>Carrefour</td>\n",
       "      <td>3</td>\n",
       "    </tr>\n",
       "    <tr>\n",
       "      <th>4</th>\n",
       "      <td>14.15</td>\n",
       "      <td>1.53</td>\n",
       "      <td>Cerveza Mahou Clásica pack de 28 latas de 33 cl.</td>\n",
       "      <td>No promotion</td>\n",
       "      <td>mahou clásica</td>\n",
       "      <td>lata</td>\n",
       "      <td>33 cl</td>\n",
       "      <td>28</td>\n",
       "      <td>https://static.carrefour.es/hd_280x_/img_pim_f...</td>\n",
       "      <td>Carrefour</td>\n",
       "      <td>4</td>\n",
       "    </tr>\n",
       "  </tbody>\n",
       "</table>\n",
       "</div>"
      ],
      "text/plain": [
       "   price  price_liter                                              title  \\\n",
       "0  11.21         1.89  Cerveza Heineken Lager pack de 18 latas de 33 cl.   \n",
       "1  14.80         1.60  Cerveza Cruzcampo Pilsen pack de 28 latas de 3...   \n",
       "2   5.15         1.56       Cerveza El Aguila pack de 10 latas de 33 cl.   \n",
       "3   0.25         0.76            Cerveza Carrefour Holandesa lata 33 cl.   \n",
       "4  14.15         1.53   Cerveza Mahou Clásica pack de 28 latas de 33 cl.   \n",
       "\n",
       "      promotion                brand container volumen_unid  quantity_pack  \\\n",
       "0  No promotion       heineken lager      lata        33 cl             18   \n",
       "1  No promotion     cruzcampo pilsen      lata        33 cl             28   \n",
       "2  No promotion            el aguila      lata        33 cl             10   \n",
       "3  No promotion  carrefour holandesa      lata        33 cl              1   \n",
       "4  No promotion        mahou clásica      lata        33 cl             28   \n",
       "\n",
       "                                           image_url supermarket  id  \n",
       "0  https://static.carrefour.es/hd_280x_/img_pim_f...   Carrefour   0  \n",
       "1  https://static.carrefour.es/hd_280x_/img_pim_f...   Carrefour   1  \n",
       "2  https://static.carrefour.es/hd_280x_/img_pim_f...   Carrefour   2  \n",
       "3  https://static.carrefour.es/hd_280x_/img_pim_f...   Carrefour   3  \n",
       "4  https://static.carrefour.es/hd_280x_/img_pim_f...   Carrefour   4  "
      ]
     },
     "execution_count": 5,
     "metadata": {},
     "output_type": "execute_result"
    }
   ],
   "source": [
    "data_beer.head()"
   ]
  },
  {
   "cell_type": "code",
   "execution_count": 6,
   "metadata": {},
   "outputs": [],
   "source": [
    "def change_brand(brand_raw):\n",
    "    names_brands = '''ramblers|amstel|mahou|dia|heineken|san miguel|estrella galicia|voll-damm|1906|budweiser|\n",
    "    |cruzcampo|buckler|dia shandy|desperado|grimbergen|franziskaner|paulaner|corona|guinness|el aguila|\n",
    "    |ambar|alhambra|coronita|leffe|kronenbourg|carlsberg|la salve|warsteiner|mexicana|pacífico|guiness|\n",
    "    |founders|spatem|beck|cubanisto|aurum|keler|woll-damm|aurum|ambar|free damm|ladrón de manzanas|\n",
    "    |brewdog|ipa lagunitas|inedit|daura|oro|estrella damm|damm|complot|corgon gard|judas|olañeta|\n",
    "    |grevensteiner|inedit|chimay|house 13|lorea ipa boga|trappe|mort subite|kirin|urquell|cruz campo|\n",
    "    |malquerida|moretti|clausthaler|affligem|stella artoi|sol|quilmes|daura marzen|turia|boga|\n",
    "    |schöfferhofer|grolsch|la goudale|atkien dunkel|chérie|belzebuth|la virgen|lowenbrau|bulmers|jai alai|\n",
    "    |strongbow|cruz del sur|voll damm|estrella levante|xibeca|victoria|estrella del sur|aliada|moritz|\n",
    "    |brabante|superbock|kirin ichiban|staropramen|waterloo|weltenburger|schwaben|dab|praga|abbot|\n",
    "    |lowenbräu|spaten|hofbräu|dos equis|birra moretti|karmeliet|kwak|gordon|martin's|delirium tremens|veltins|\n",
    "    |pacifico|triple secret des moine|la bière du demon|baltika|molino viejo|cusqueña|cobra|zywiec|barista|\n",
    "    |bischofshof|hoegaarden|schofferhofer|erdinger|konig ludwig|casimiro mahou|rosita|burro de sancho|\n",
    "    |monkey|arriaca|ladron de manzanas|kopparberg|la sagra|sierra nevada|montseny|maisel & friends|\n",
    "    |tyris|rabiosa|jaira|forastera|cibeles|mulhacen|gredos|ballut|madri chulapo|gastheiz|quijota|\n",
    "    |marijuana|moli balear|dolina|icue|bizantina|bavaria|newcastle|timmermans|modelo|heifer|holbrand|\n",
    "    |rubai|el águila|estrella de galicia|chouffe|peroni|miller|goya|super bock|sam miguel|karamalz|\n",
    "    |skol|budejovicky|wersteiner|duvel|schneider weisse|john smith's|blue moon|rochefort-8|salitos|\n",
    "    |old empire|köning ludwing weissbier|könig ludwig weissbier|blanche de charleroi|ruddles|\n",
    "    |madrí chulapo|abbaye d'aulne|g de goudale|cuzqueña|london pride|wychwood hobgoblin|sureña|\n",
    "    |innis&gunn|intense gold|faxe|bitburger|lindemans|maisel&friends|pearl jet|the one|original intense|\n",
    "    |licher|tennent's|tedeum|enigma|mulhacén|gervensteiner|abbaye du lys|greventeiner|liefmans|rubia 4|\n",
    "    |san sebastian|maisel|carrefour|koenigsbier|polar|coors|kadabra|brooklyn|alsfelder|madriz|presidente|\n",
    "    |fentiman's de jengibre|lammsbräu|riedenburger|benediktinerabtei|iron maiden|old speckled hen|\n",
    "    |ordio minero|rubia dab|corte ingles|thatchers gold'''\n",
    "  \n",
    "    brand = re.findall(names_brands,brand_raw)\n",
    "    return brand[0]"
   ]
  },
  {
   "cell_type": "code",
   "execution_count": 7,
   "metadata": {},
   "outputs": [
    {
     "data": {
      "text/plain": [
       "0        heineken\n",
       "1       cruzcampo\n",
       "2       el aguila\n",
       "3       carrefour\n",
       "4           mahou\n",
       "          ...    \n",
       "1561    cruzcampo\n",
       "1562    la virgen\n",
       "1563        ambar\n",
       "1564    lowenbrau\n",
       "1565     brooklyn\n",
       "Name: brand, Length: 1566, dtype: object"
      ]
     },
     "execution_count": 7,
     "metadata": {},
     "output_type": "execute_result"
    }
   ],
   "source": [
    "data_beer['brand'].apply(change_brand)"
   ]
  },
  {
   "cell_type": "code",
   "execution_count": 8,
   "metadata": {},
   "outputs": [],
   "source": [
    "data_beer['brand'] = data_beer['brand'].apply(change_brand)"
   ]
  },
  {
   "cell_type": "code",
   "execution_count": 9,
   "metadata": {},
   "outputs": [],
   "source": [
    "def duplicate_brand_error(data):\n",
    "    if data == 'guiness':\n",
    "        return 'guinness'\n",
    "    elif data == 'cruz campo':\n",
    "        return 'cruzcampo'\n",
    "    elif data == 'voll damm':\n",
    "        return 'voll-damm'\n",
    "    elif data == 'schofferhofer':\n",
    "        return 'schöfferhofer'\n",
    "    elif data == 'ladron de manzanas':\n",
    "        return 'ladrón de manzanas'\n",
    "    elif data == 'el aguila':\n",
    "        return 'el águila'\n",
    "    elif data == 'estrella de galicia':\n",
    "        return 'estrella galicia'\n",
    "    elif data == 'superbock':\n",
    "        return 'super bock'\n",
    "    elif data == 'sam miguel':\n",
    "        return 'san miguel'\n",
    "    elif data == 'madri chulapo':\n",
    "        return 'madrí chulapo'\n",
    "    elif data == ('maisel' or 'maisel&friends'):\n",
    "        return 'maisel & friends'\n",
    "    elif data == 'köning ludwing weissbier':\n",
    "        return 'könig ludwig weissbier'\n",
    "    else:\n",
    "        return data"
   ]
  },
  {
   "cell_type": "code",
   "execution_count": 10,
   "metadata": {},
   "outputs": [],
   "source": [
    "data_beer['brand'] = data_beer['brand'].apply(duplicate_brand_error)"
   ]
  },
  {
   "cell_type": "code",
   "execution_count": 11,
   "metadata": {},
   "outputs": [
    {
     "data": {
      "text/plain": [
       "mahou           151\n",
       "san miguel      120\n",
       "amstel           87\n",
       "cruzcampo        80\n",
       "ambar            71\n",
       "               ... \n",
       "coors             1\n",
       "riedenburger      1\n",
       "polar             1\n",
       "rubai             1\n",
       "salitos           1\n",
       "Name: brand, Length: 212, dtype: int64"
      ]
     },
     "execution_count": 11,
     "metadata": {},
     "output_type": "execute_result"
    }
   ],
   "source": [
    "data_beer['brand'].value_counts()"
   ]
  },
  {
   "cell_type": "code",
   "execution_count": null,
   "metadata": {},
   "outputs": [],
   "source": []
  },
  {
   "cell_type": "code",
   "execution_count": 71,
   "metadata": {},
   "outputs": [],
   "source": [
    "data_beer_images= pd.DataFrame(columns=['id','local','brand'])"
   ]
  },
  {
   "cell_type": "code",
   "execution_count": 72,
   "metadata": {},
   "outputs": [],
   "source": [
    "data_beer_images['id'] = data_beer['id']\n",
    "data_beer_images['id'] = data_beer_images['id'].map(str)"
   ]
  },
  {
   "cell_type": "code",
   "execution_count": 73,
   "metadata": {},
   "outputs": [],
   "source": [
    "data_beer_images['brand'] = data_beer['brand']"
   ]
  },
  {
   "cell_type": "code",
   "execution_count": 74,
   "metadata": {},
   "outputs": [],
   "source": [
    "def local_beer(local):\n",
    "    return f'/home/ivan/Documentos/IRONHACK/Bootcamp/final_project/Birras_Pipol_House/beer_images/{local}.jpg'"
   ]
  },
  {
   "cell_type": "code",
   "execution_count": 75,
   "metadata": {},
   "outputs": [],
   "source": [
    "data_beer_images['local'] = data_beer_images['id'].apply(local_beer)"
   ]
  },
  {
   "cell_type": "code",
   "execution_count": 76,
   "metadata": {},
   "outputs": [],
   "source": [
    "data_beer_images = data_beer_images[['local','brand']]"
   ]
  },
  {
   "cell_type": "code",
   "execution_count": 77,
   "metadata": {},
   "outputs": [
    {
     "data": {
      "text/html": [
       "<div>\n",
       "<style scoped>\n",
       "    .dataframe tbody tr th:only-of-type {\n",
       "        vertical-align: middle;\n",
       "    }\n",
       "\n",
       "    .dataframe tbody tr th {\n",
       "        vertical-align: top;\n",
       "    }\n",
       "\n",
       "    .dataframe thead th {\n",
       "        text-align: right;\n",
       "    }\n",
       "</style>\n",
       "<table border=\"1\" class=\"dataframe\">\n",
       "  <thead>\n",
       "    <tr style=\"text-align: right;\">\n",
       "      <th></th>\n",
       "      <th>local</th>\n",
       "      <th>brand</th>\n",
       "    </tr>\n",
       "  </thead>\n",
       "  <tbody>\n",
       "    <tr>\n",
       "      <th>0</th>\n",
       "      <td>/home/ivan/Documentos/IRONHACK/Bootcamp/final_...</td>\n",
       "      <td>heineken</td>\n",
       "    </tr>\n",
       "    <tr>\n",
       "      <th>1</th>\n",
       "      <td>/home/ivan/Documentos/IRONHACK/Bootcamp/final_...</td>\n",
       "      <td>cruzcampo</td>\n",
       "    </tr>\n",
       "    <tr>\n",
       "      <th>2</th>\n",
       "      <td>/home/ivan/Documentos/IRONHACK/Bootcamp/final_...</td>\n",
       "      <td>el águila</td>\n",
       "    </tr>\n",
       "    <tr>\n",
       "      <th>3</th>\n",
       "      <td>/home/ivan/Documentos/IRONHACK/Bootcamp/final_...</td>\n",
       "      <td>carrefour</td>\n",
       "    </tr>\n",
       "    <tr>\n",
       "      <th>4</th>\n",
       "      <td>/home/ivan/Documentos/IRONHACK/Bootcamp/final_...</td>\n",
       "      <td>mahou</td>\n",
       "    </tr>\n",
       "  </tbody>\n",
       "</table>\n",
       "</div>"
      ],
      "text/plain": [
       "                                               local      brand\n",
       "0  /home/ivan/Documentos/IRONHACK/Bootcamp/final_...   heineken\n",
       "1  /home/ivan/Documentos/IRONHACK/Bootcamp/final_...  cruzcampo\n",
       "2  /home/ivan/Documentos/IRONHACK/Bootcamp/final_...  el águila\n",
       "3  /home/ivan/Documentos/IRONHACK/Bootcamp/final_...  carrefour\n",
       "4  /home/ivan/Documentos/IRONHACK/Bootcamp/final_...      mahou"
      ]
     },
     "execution_count": 77,
     "metadata": {},
     "output_type": "execute_result"
    }
   ],
   "source": [
    "data_beer_images.head()"
   ]
  },
  {
   "cell_type": "code",
   "execution_count": 90,
   "metadata": {},
   "outputs": [],
   "source": [
    "from sklearn.model_selection import train_test_split\n",
    "beer_train, beer_test = train_test_split(data_beer_images)"
   ]
  },
  {
   "cell_type": "code",
   "execution_count": 79,
   "metadata": {},
   "outputs": [
    {
     "data": {
      "text/html": [
       "<div>\n",
       "<style scoped>\n",
       "    .dataframe tbody tr th:only-of-type {\n",
       "        vertical-align: middle;\n",
       "    }\n",
       "\n",
       "    .dataframe tbody tr th {\n",
       "        vertical-align: top;\n",
       "    }\n",
       "\n",
       "    .dataframe thead th {\n",
       "        text-align: right;\n",
       "    }\n",
       "</style>\n",
       "<table border=\"1\" class=\"dataframe\">\n",
       "  <thead>\n",
       "    <tr style=\"text-align: right;\">\n",
       "      <th></th>\n",
       "      <th>local</th>\n",
       "      <th>brand</th>\n",
       "    </tr>\n",
       "  </thead>\n",
       "  <tbody>\n",
       "    <tr>\n",
       "      <th>1264</th>\n",
       "      <td>/home/ivan/Documentos/IRONHACK/Bootcamp/final_...</td>\n",
       "      <td>amstel</td>\n",
       "    </tr>\n",
       "    <tr>\n",
       "      <th>233</th>\n",
       "      <td>/home/ivan/Documentos/IRONHACK/Bootcamp/final_...</td>\n",
       "      <td>arriaca</td>\n",
       "    </tr>\n",
       "    <tr>\n",
       "      <th>1497</th>\n",
       "      <td>/home/ivan/Documentos/IRONHACK/Bootcamp/final_...</td>\n",
       "      <td>grevensteiner</td>\n",
       "    </tr>\n",
       "    <tr>\n",
       "      <th>925</th>\n",
       "      <td>/home/ivan/Documentos/IRONHACK/Bootcamp/final_...</td>\n",
       "      <td>brabante</td>\n",
       "    </tr>\n",
       "    <tr>\n",
       "      <th>1563</th>\n",
       "      <td>/home/ivan/Documentos/IRONHACK/Bootcamp/final_...</td>\n",
       "      <td>ambar</td>\n",
       "    </tr>\n",
       "    <tr>\n",
       "      <th>...</th>\n",
       "      <td>...</td>\n",
       "      <td>...</td>\n",
       "    </tr>\n",
       "    <tr>\n",
       "      <th>645</th>\n",
       "      <td>/home/ivan/Documentos/IRONHACK/Bootcamp/final_...</td>\n",
       "      <td>brewdog</td>\n",
       "    </tr>\n",
       "    <tr>\n",
       "      <th>515</th>\n",
       "      <td>/home/ivan/Documentos/IRONHACK/Bootcamp/final_...</td>\n",
       "      <td>mahou</td>\n",
       "    </tr>\n",
       "    <tr>\n",
       "      <th>958</th>\n",
       "      <td>/home/ivan/Documentos/IRONHACK/Bootcamp/final_...</td>\n",
       "      <td>budweiser</td>\n",
       "    </tr>\n",
       "    <tr>\n",
       "      <th>678</th>\n",
       "      <td>/home/ivan/Documentos/IRONHACK/Bootcamp/final_...</td>\n",
       "      <td>super bock</td>\n",
       "    </tr>\n",
       "    <tr>\n",
       "      <th>773</th>\n",
       "      <td>/home/ivan/Documentos/IRONHACK/Bootcamp/final_...</td>\n",
       "      <td>mahou</td>\n",
       "    </tr>\n",
       "  </tbody>\n",
       "</table>\n",
       "<p>392 rows × 2 columns</p>\n",
       "</div>"
      ],
      "text/plain": [
       "                                                  local          brand\n",
       "1264  /home/ivan/Documentos/IRONHACK/Bootcamp/final_...         amstel\n",
       "233   /home/ivan/Documentos/IRONHACK/Bootcamp/final_...        arriaca\n",
       "1497  /home/ivan/Documentos/IRONHACK/Bootcamp/final_...  grevensteiner\n",
       "925   /home/ivan/Documentos/IRONHACK/Bootcamp/final_...       brabante\n",
       "1563  /home/ivan/Documentos/IRONHACK/Bootcamp/final_...          ambar\n",
       "...                                                 ...            ...\n",
       "645   /home/ivan/Documentos/IRONHACK/Bootcamp/final_...        brewdog\n",
       "515   /home/ivan/Documentos/IRONHACK/Bootcamp/final_...          mahou\n",
       "958   /home/ivan/Documentos/IRONHACK/Bootcamp/final_...      budweiser\n",
       "678   /home/ivan/Documentos/IRONHACK/Bootcamp/final_...     super bock\n",
       "773   /home/ivan/Documentos/IRONHACK/Bootcamp/final_...          mahou\n",
       "\n",
       "[392 rows x 2 columns]"
      ]
     },
     "execution_count": 79,
     "metadata": {},
     "output_type": "execute_result"
    }
   ],
   "source": [
    "beer_test"
   ]
  },
  {
   "cell_type": "code",
   "execution_count": 93,
   "metadata": {},
   "outputs": [],
   "source": [
    "from keras_preprocessing.image import ImageDataGenerator\n",
    "from keras.models import Sequential\n",
    "from keras.layers import Conv2D, MaxPool2D, Dense, Flatten, Dropout"
   ]
  },
  {
   "cell_type": "code",
   "execution_count": 99,
   "metadata": {},
   "outputs": [
    {
     "name": "stdout",
     "output_type": "stream",
     "text": [
      "Found 1174 validated image filenames belonging to 193 classes.\n",
      "Found 0 validated image filenames belonging to 117 classes.\n"
     ]
    }
   ],
   "source": [
    "data_gen = ImageDataGenerator(rescale=1/255)\n",
    "\n",
    "X_train = data_gen.flow_from_dataframe(dataframe=beer_train,\n",
    "                                        x_col='local', y_col='brand',\n",
    "                                        subset='training',\n",
    "                                        class_mode='categorical')\n",
    "\n",
    "X_validation = data_gen.flow_from_dataframe(dataframe=beer_test,\n",
    "                                            x_col='local', y_col='brand',\n",
    "                                            subset='validation',\n",
    "                                            class_mode='categorical')"
   ]
  },
  {
   "cell_type": "code",
   "execution_count": 95,
   "metadata": {},
   "outputs": [],
   "source": [
    "model = Sequential()\n",
    "model.add(Conv2D(32,(3,3),activation='relu',input_shape=(150,150,3)))\n",
    "model.add(MaxPool2D((2,2)))\n",
    "model.add(Conv2D(64,(3,3),activation='relu'))\n",
    "model.add(MaxPool2D((2,2)))\n",
    "model.add(Conv2D(128,(3,3),activation='relu'))\n",
    "model.add(MaxPool2D((2,2)))\n",
    "model.add(Conv2D(128,(3,3),activation='relu'))\n",
    "model.add(MaxPool2D((2,2)))\n",
    "model.add(Flatten())\n",
    "model.add(Dense(512,activation='relu'))\n",
    "model.add(Dense(1,activation='sigmoid'))\n",
    "\n",
    "model.compile(loss='binary_crossentropy',optimizer = 'Adam',metrics=['accuracy'])"
   ]
  },
  {
   "cell_type": "code",
   "execution_count": 96,
   "metadata": {},
   "outputs": [
    {
     "ename": "UnidentifiedImageError",
     "evalue": "cannot identify image file '/home/ivan/Documentos/IRONHACK/Bootcamp/final_project/Birras_Pipol_House/beer_images/631.jpg'",
     "output_type": "error",
     "traceback": [
      "\u001b[0;31m---------------------------------------------------------------------------\u001b[0m",
      "\u001b[0;31mUnidentifiedImageError\u001b[0m                    Traceback (most recent call last)",
      "\u001b[0;32m<ipython-input-96-07e540b79224>\u001b[0m in \u001b[0;36m<module>\u001b[0;34m\u001b[0m\n\u001b[1;32m      2\u001b[0m \u001b[0;31m# validation_steps = X_validation.n//X_validation.batch_size\u001b[0m\u001b[0;34m\u001b[0m\u001b[0;34m\u001b[0m\u001b[0;34m\u001b[0m\u001b[0m\n\u001b[1;32m      3\u001b[0m \u001b[0;34m\u001b[0m\u001b[0m\n\u001b[0;32m----> 4\u001b[0;31m \u001b[0mhistory\u001b[0m \u001b[0;34m=\u001b[0m \u001b[0mmodel\u001b[0m\u001b[0;34m.\u001b[0m\u001b[0mfit\u001b[0m\u001b[0;34m(\u001b[0m\u001b[0mX_train\u001b[0m\u001b[0;34m,\u001b[0m\u001b[0msteps_per_epoch\u001b[0m\u001b[0;34m=\u001b[0m\u001b[0mtrain_steps\u001b[0m\u001b[0;34m,\u001b[0m \u001b[0mepochs\u001b[0m\u001b[0;34m=\u001b[0m\u001b[0;36m20\u001b[0m\u001b[0;34m)\u001b[0m\u001b[0;34m\u001b[0m\u001b[0;34m\u001b[0m\u001b[0m\n\u001b[0m\u001b[1;32m      5\u001b[0m \u001b[0;31m#                               validation_data=X_validation,validation_steps=validation_steps)\u001b[0m\u001b[0;34m\u001b[0m\u001b[0;34m\u001b[0m\u001b[0;34m\u001b[0m\u001b[0m\n",
      "\u001b[0;32m~/miniconda3/envs/IronHack_env/lib/python3.7/site-packages/tensorflow/python/keras/engine/training.py\u001b[0m in \u001b[0;36m_method_wrapper\u001b[0;34m(self, *args, **kwargs)\u001b[0m\n\u001b[1;32m     64\u001b[0m   \u001b[0;32mdef\u001b[0m \u001b[0m_method_wrapper\u001b[0m\u001b[0;34m(\u001b[0m\u001b[0mself\u001b[0m\u001b[0;34m,\u001b[0m \u001b[0;34m*\u001b[0m\u001b[0margs\u001b[0m\u001b[0;34m,\u001b[0m \u001b[0;34m**\u001b[0m\u001b[0mkwargs\u001b[0m\u001b[0;34m)\u001b[0m\u001b[0;34m:\u001b[0m\u001b[0;34m\u001b[0m\u001b[0;34m\u001b[0m\u001b[0m\n\u001b[1;32m     65\u001b[0m     \u001b[0;32mif\u001b[0m \u001b[0;32mnot\u001b[0m \u001b[0mself\u001b[0m\u001b[0;34m.\u001b[0m\u001b[0m_in_multi_worker_mode\u001b[0m\u001b[0;34m(\u001b[0m\u001b[0;34m)\u001b[0m\u001b[0;34m:\u001b[0m  \u001b[0;31m# pylint: disable=protected-access\u001b[0m\u001b[0;34m\u001b[0m\u001b[0;34m\u001b[0m\u001b[0m\n\u001b[0;32m---> 66\u001b[0;31m       \u001b[0;32mreturn\u001b[0m \u001b[0mmethod\u001b[0m\u001b[0;34m(\u001b[0m\u001b[0mself\u001b[0m\u001b[0;34m,\u001b[0m \u001b[0;34m*\u001b[0m\u001b[0margs\u001b[0m\u001b[0;34m,\u001b[0m \u001b[0;34m**\u001b[0m\u001b[0mkwargs\u001b[0m\u001b[0;34m)\u001b[0m\u001b[0;34m\u001b[0m\u001b[0;34m\u001b[0m\u001b[0m\n\u001b[0m\u001b[1;32m     67\u001b[0m \u001b[0;34m\u001b[0m\u001b[0m\n\u001b[1;32m     68\u001b[0m     \u001b[0;31m# Running inside `run_distribute_coordinator` already.\u001b[0m\u001b[0;34m\u001b[0m\u001b[0;34m\u001b[0m\u001b[0;34m\u001b[0m\u001b[0m\n",
      "\u001b[0;32m~/miniconda3/envs/IronHack_env/lib/python3.7/site-packages/tensorflow/python/keras/engine/training.py\u001b[0m in \u001b[0;36mfit\u001b[0;34m(self, x, y, batch_size, epochs, verbose, callbacks, validation_split, validation_data, shuffle, class_weight, sample_weight, initial_epoch, steps_per_epoch, validation_steps, validation_batch_size, validation_freq, max_queue_size, workers, use_multiprocessing)\u001b[0m\n\u001b[1;32m    813\u001b[0m           \u001b[0mworkers\u001b[0m\u001b[0;34m=\u001b[0m\u001b[0mworkers\u001b[0m\u001b[0;34m,\u001b[0m\u001b[0;34m\u001b[0m\u001b[0;34m\u001b[0m\u001b[0m\n\u001b[1;32m    814\u001b[0m           \u001b[0muse_multiprocessing\u001b[0m\u001b[0;34m=\u001b[0m\u001b[0muse_multiprocessing\u001b[0m\u001b[0;34m,\u001b[0m\u001b[0;34m\u001b[0m\u001b[0;34m\u001b[0m\u001b[0m\n\u001b[0;32m--> 815\u001b[0;31m           model=self)\n\u001b[0m\u001b[1;32m    816\u001b[0m \u001b[0;34m\u001b[0m\u001b[0m\n\u001b[1;32m    817\u001b[0m       \u001b[0;31m# Container that configures and calls `tf.keras.Callback`s.\u001b[0m\u001b[0;34m\u001b[0m\u001b[0;34m\u001b[0m\u001b[0;34m\u001b[0m\u001b[0m\n",
      "\u001b[0;32m~/miniconda3/envs/IronHack_env/lib/python3.7/site-packages/tensorflow/python/keras/engine/data_adapter.py\u001b[0m in \u001b[0;36m__init__\u001b[0;34m(self, x, y, sample_weight, batch_size, steps_per_epoch, initial_epoch, epochs, shuffle, class_weight, max_queue_size, workers, use_multiprocessing, model)\u001b[0m\n\u001b[1;32m   1110\u001b[0m         \u001b[0muse_multiprocessing\u001b[0m\u001b[0;34m=\u001b[0m\u001b[0muse_multiprocessing\u001b[0m\u001b[0;34m,\u001b[0m\u001b[0;34m\u001b[0m\u001b[0;34m\u001b[0m\u001b[0m\n\u001b[1;32m   1111\u001b[0m         \u001b[0mdistribution_strategy\u001b[0m\u001b[0;34m=\u001b[0m\u001b[0mds_context\u001b[0m\u001b[0;34m.\u001b[0m\u001b[0mget_strategy\u001b[0m\u001b[0;34m(\u001b[0m\u001b[0;34m)\u001b[0m\u001b[0;34m,\u001b[0m\u001b[0;34m\u001b[0m\u001b[0;34m\u001b[0m\u001b[0m\n\u001b[0;32m-> 1112\u001b[0;31m         model=model)\n\u001b[0m\u001b[1;32m   1113\u001b[0m \u001b[0;34m\u001b[0m\u001b[0m\n\u001b[1;32m   1114\u001b[0m     \u001b[0mstrategy\u001b[0m \u001b[0;34m=\u001b[0m \u001b[0mds_context\u001b[0m\u001b[0;34m.\u001b[0m\u001b[0mget_strategy\u001b[0m\u001b[0;34m(\u001b[0m\u001b[0;34m)\u001b[0m\u001b[0;34m\u001b[0m\u001b[0;34m\u001b[0m\u001b[0m\n",
      "\u001b[0;32m~/miniconda3/envs/IronHack_env/lib/python3.7/site-packages/tensorflow/python/keras/engine/data_adapter.py\u001b[0m in \u001b[0;36m__init__\u001b[0;34m(self, x, y, sample_weights, workers, use_multiprocessing, max_queue_size, model, **kwargs)\u001b[0m\n\u001b[1;32m    770\u001b[0m     \u001b[0;31m# Since we have to know the dtype of the python generator when we build the\u001b[0m\u001b[0;34m\u001b[0m\u001b[0;34m\u001b[0m\u001b[0;34m\u001b[0m\u001b[0m\n\u001b[1;32m    771\u001b[0m     \u001b[0;31m# dataset, we have to look at a batch to infer the structure.\u001b[0m\u001b[0;34m\u001b[0m\u001b[0;34m\u001b[0m\u001b[0;34m\u001b[0m\u001b[0m\n\u001b[0;32m--> 772\u001b[0;31m     \u001b[0mpeek\u001b[0m\u001b[0;34m,\u001b[0m \u001b[0mx\u001b[0m \u001b[0;34m=\u001b[0m \u001b[0mself\u001b[0m\u001b[0;34m.\u001b[0m\u001b[0m_peek_and_restore\u001b[0m\u001b[0;34m(\u001b[0m\u001b[0mx\u001b[0m\u001b[0;34m)\u001b[0m\u001b[0;34m\u001b[0m\u001b[0;34m\u001b[0m\u001b[0m\n\u001b[0m\u001b[1;32m    773\u001b[0m     \u001b[0massert_not_namedtuple\u001b[0m\u001b[0;34m(\u001b[0m\u001b[0mpeek\u001b[0m\u001b[0;34m)\u001b[0m\u001b[0;34m\u001b[0m\u001b[0;34m\u001b[0m\u001b[0m\n\u001b[1;32m    774\u001b[0m     \u001b[0mpeek\u001b[0m \u001b[0;34m=\u001b[0m \u001b[0mself\u001b[0m\u001b[0;34m.\u001b[0m\u001b[0m_standardize_batch\u001b[0m\u001b[0;34m(\u001b[0m\u001b[0mpeek\u001b[0m\u001b[0;34m)\u001b[0m\u001b[0;34m\u001b[0m\u001b[0;34m\u001b[0m\u001b[0m\n",
      "\u001b[0;32m~/miniconda3/envs/IronHack_env/lib/python3.7/site-packages/tensorflow/python/keras/engine/data_adapter.py\u001b[0m in \u001b[0;36m_peek_and_restore\u001b[0;34m(x)\u001b[0m\n\u001b[1;32m    828\u001b[0m   \u001b[0;34m@\u001b[0m\u001b[0mstaticmethod\u001b[0m\u001b[0;34m\u001b[0m\u001b[0;34m\u001b[0m\u001b[0m\n\u001b[1;32m    829\u001b[0m   \u001b[0;32mdef\u001b[0m \u001b[0m_peek_and_restore\u001b[0m\u001b[0;34m(\u001b[0m\u001b[0mx\u001b[0m\u001b[0;34m)\u001b[0m\u001b[0;34m:\u001b[0m\u001b[0;34m\u001b[0m\u001b[0;34m\u001b[0m\u001b[0m\n\u001b[0;32m--> 830\u001b[0;31m     \u001b[0mpeek\u001b[0m \u001b[0;34m=\u001b[0m \u001b[0mnext\u001b[0m\u001b[0;34m(\u001b[0m\u001b[0mx\u001b[0m\u001b[0;34m)\u001b[0m\u001b[0;34m\u001b[0m\u001b[0;34m\u001b[0m\u001b[0m\n\u001b[0m\u001b[1;32m    831\u001b[0m     \u001b[0;32mreturn\u001b[0m \u001b[0mpeek\u001b[0m\u001b[0;34m,\u001b[0m \u001b[0mitertools\u001b[0m\u001b[0;34m.\u001b[0m\u001b[0mchain\u001b[0m\u001b[0;34m(\u001b[0m\u001b[0;34m[\u001b[0m\u001b[0mpeek\u001b[0m\u001b[0;34m]\u001b[0m\u001b[0;34m,\u001b[0m \u001b[0mx\u001b[0m\u001b[0;34m)\u001b[0m\u001b[0;34m\u001b[0m\u001b[0;34m\u001b[0m\u001b[0m\n\u001b[1;32m    832\u001b[0m \u001b[0;34m\u001b[0m\u001b[0m\n",
      "\u001b[0;32m~/miniconda3/envs/IronHack_env/lib/python3.7/site-packages/keras_preprocessing/image/iterator.py\u001b[0m in \u001b[0;36m__next__\u001b[0;34m(self, *args, **kwargs)\u001b[0m\n\u001b[1;32m    102\u001b[0m \u001b[0;34m\u001b[0m\u001b[0m\n\u001b[1;32m    103\u001b[0m     \u001b[0;32mdef\u001b[0m \u001b[0m__next__\u001b[0m\u001b[0;34m(\u001b[0m\u001b[0mself\u001b[0m\u001b[0;34m,\u001b[0m \u001b[0;34m*\u001b[0m\u001b[0margs\u001b[0m\u001b[0;34m,\u001b[0m \u001b[0;34m**\u001b[0m\u001b[0mkwargs\u001b[0m\u001b[0;34m)\u001b[0m\u001b[0;34m:\u001b[0m\u001b[0;34m\u001b[0m\u001b[0;34m\u001b[0m\u001b[0m\n\u001b[0;32m--> 104\u001b[0;31m         \u001b[0;32mreturn\u001b[0m \u001b[0mself\u001b[0m\u001b[0;34m.\u001b[0m\u001b[0mnext\u001b[0m\u001b[0;34m(\u001b[0m\u001b[0;34m*\u001b[0m\u001b[0margs\u001b[0m\u001b[0;34m,\u001b[0m \u001b[0;34m**\u001b[0m\u001b[0mkwargs\u001b[0m\u001b[0;34m)\u001b[0m\u001b[0;34m\u001b[0m\u001b[0;34m\u001b[0m\u001b[0m\n\u001b[0m\u001b[1;32m    105\u001b[0m \u001b[0;34m\u001b[0m\u001b[0m\n\u001b[1;32m    106\u001b[0m     \u001b[0;32mdef\u001b[0m \u001b[0mnext\u001b[0m\u001b[0;34m(\u001b[0m\u001b[0mself\u001b[0m\u001b[0;34m)\u001b[0m\u001b[0;34m:\u001b[0m\u001b[0;34m\u001b[0m\u001b[0;34m\u001b[0m\u001b[0m\n",
      "\u001b[0;32m~/miniconda3/envs/IronHack_env/lib/python3.7/site-packages/keras_preprocessing/image/iterator.py\u001b[0m in \u001b[0;36mnext\u001b[0;34m(self)\u001b[0m\n\u001b[1;32m    114\u001b[0m         \u001b[0;31m# The transformation of images is not under thread lock\u001b[0m\u001b[0;34m\u001b[0m\u001b[0;34m\u001b[0m\u001b[0;34m\u001b[0m\u001b[0m\n\u001b[1;32m    115\u001b[0m         \u001b[0;31m# so it can be done in parallel\u001b[0m\u001b[0;34m\u001b[0m\u001b[0;34m\u001b[0m\u001b[0;34m\u001b[0m\u001b[0m\n\u001b[0;32m--> 116\u001b[0;31m         \u001b[0;32mreturn\u001b[0m \u001b[0mself\u001b[0m\u001b[0;34m.\u001b[0m\u001b[0m_get_batches_of_transformed_samples\u001b[0m\u001b[0;34m(\u001b[0m\u001b[0mindex_array\u001b[0m\u001b[0;34m)\u001b[0m\u001b[0;34m\u001b[0m\u001b[0;34m\u001b[0m\u001b[0m\n\u001b[0m\u001b[1;32m    117\u001b[0m \u001b[0;34m\u001b[0m\u001b[0m\n\u001b[1;32m    118\u001b[0m     \u001b[0;32mdef\u001b[0m \u001b[0m_get_batches_of_transformed_samples\u001b[0m\u001b[0;34m(\u001b[0m\u001b[0mself\u001b[0m\u001b[0;34m,\u001b[0m \u001b[0mindex_array\u001b[0m\u001b[0;34m)\u001b[0m\u001b[0;34m:\u001b[0m\u001b[0;34m\u001b[0m\u001b[0;34m\u001b[0m\u001b[0m\n",
      "\u001b[0;32m~/miniconda3/envs/IronHack_env/lib/python3.7/site-packages/keras_preprocessing/image/iterator.py\u001b[0m in \u001b[0;36m_get_batches_of_transformed_samples\u001b[0;34m(self, index_array)\u001b[0m\n\u001b[1;32m    228\u001b[0m                            \u001b[0mcolor_mode\u001b[0m\u001b[0;34m=\u001b[0m\u001b[0mself\u001b[0m\u001b[0;34m.\u001b[0m\u001b[0mcolor_mode\u001b[0m\u001b[0;34m,\u001b[0m\u001b[0;34m\u001b[0m\u001b[0;34m\u001b[0m\u001b[0m\n\u001b[1;32m    229\u001b[0m                            \u001b[0mtarget_size\u001b[0m\u001b[0;34m=\u001b[0m\u001b[0mself\u001b[0m\u001b[0;34m.\u001b[0m\u001b[0mtarget_size\u001b[0m\u001b[0;34m,\u001b[0m\u001b[0;34m\u001b[0m\u001b[0;34m\u001b[0m\u001b[0m\n\u001b[0;32m--> 230\u001b[0;31m                            interpolation=self.interpolation)\n\u001b[0m\u001b[1;32m    231\u001b[0m             \u001b[0mx\u001b[0m \u001b[0;34m=\u001b[0m \u001b[0mimg_to_array\u001b[0m\u001b[0;34m(\u001b[0m\u001b[0mimg\u001b[0m\u001b[0;34m,\u001b[0m \u001b[0mdata_format\u001b[0m\u001b[0;34m=\u001b[0m\u001b[0mself\u001b[0m\u001b[0;34m.\u001b[0m\u001b[0mdata_format\u001b[0m\u001b[0;34m)\u001b[0m\u001b[0;34m\u001b[0m\u001b[0;34m\u001b[0m\u001b[0m\n\u001b[1;32m    232\u001b[0m             \u001b[0;31m# Pillow images should be closed after `load_img`,\u001b[0m\u001b[0;34m\u001b[0m\u001b[0;34m\u001b[0m\u001b[0;34m\u001b[0m\u001b[0m\n",
      "\u001b[0;32m~/miniconda3/envs/IronHack_env/lib/python3.7/site-packages/keras_preprocessing/image/utils.py\u001b[0m in \u001b[0;36mload_img\u001b[0;34m(path, grayscale, color_mode, target_size, interpolation)\u001b[0m\n\u001b[1;32m    108\u001b[0m         raise ImportError('Could not import PIL.Image. '\n\u001b[1;32m    109\u001b[0m                           'The use of `load_img` requires PIL.')\n\u001b[0;32m--> 110\u001b[0;31m     \u001b[0mimg\u001b[0m \u001b[0;34m=\u001b[0m \u001b[0mpil_image\u001b[0m\u001b[0;34m.\u001b[0m\u001b[0mopen\u001b[0m\u001b[0;34m(\u001b[0m\u001b[0mpath\u001b[0m\u001b[0;34m)\u001b[0m\u001b[0;34m\u001b[0m\u001b[0;34m\u001b[0m\u001b[0m\n\u001b[0m\u001b[1;32m    111\u001b[0m     \u001b[0;32mif\u001b[0m \u001b[0mcolor_mode\u001b[0m \u001b[0;34m==\u001b[0m \u001b[0;34m'grayscale'\u001b[0m\u001b[0;34m:\u001b[0m\u001b[0;34m\u001b[0m\u001b[0;34m\u001b[0m\u001b[0m\n\u001b[1;32m    112\u001b[0m         \u001b[0;32mif\u001b[0m \u001b[0mimg\u001b[0m\u001b[0;34m.\u001b[0m\u001b[0mmode\u001b[0m \u001b[0;34m!=\u001b[0m \u001b[0;34m'L'\u001b[0m\u001b[0;34m:\u001b[0m\u001b[0;34m\u001b[0m\u001b[0;34m\u001b[0m\u001b[0m\n",
      "\u001b[0;32m~/miniconda3/envs/IronHack_env/lib/python3.7/site-packages/PIL/Image.py\u001b[0m in \u001b[0;36mopen\u001b[0;34m(fp, mode)\u001b[0m\n\u001b[1;32m   2929\u001b[0m         \u001b[0mwarnings\u001b[0m\u001b[0;34m.\u001b[0m\u001b[0mwarn\u001b[0m\u001b[0;34m(\u001b[0m\u001b[0mmessage\u001b[0m\u001b[0;34m)\u001b[0m\u001b[0;34m\u001b[0m\u001b[0;34m\u001b[0m\u001b[0m\n\u001b[1;32m   2930\u001b[0m     raise UnidentifiedImageError(\n\u001b[0;32m-> 2931\u001b[0;31m         \u001b[0;34m\"cannot identify image file %r\"\u001b[0m \u001b[0;34m%\u001b[0m \u001b[0;34m(\u001b[0m\u001b[0mfilename\u001b[0m \u001b[0;32mif\u001b[0m \u001b[0mfilename\u001b[0m \u001b[0;32melse\u001b[0m \u001b[0mfp\u001b[0m\u001b[0;34m)\u001b[0m\u001b[0;34m\u001b[0m\u001b[0;34m\u001b[0m\u001b[0m\n\u001b[0m\u001b[1;32m   2932\u001b[0m     )\n\u001b[1;32m   2933\u001b[0m \u001b[0;34m\u001b[0m\u001b[0m\n",
      "\u001b[0;31mUnidentifiedImageError\u001b[0m: cannot identify image file '/home/ivan/Documentos/IRONHACK/Bootcamp/final_project/Birras_Pipol_House/beer_images/631.jpg'"
     ]
    }
   ],
   "source": [
    "train_steps = X_train.n//X_train.batch_size\n",
    "# validation_steps = X_validation.n//X_validation.batch_size\n",
    "\n",
    "history = model.fit(X_train,steps_per_epoch=train_steps, epochs=20)\n",
    "#                               validation_data=X_validation,validation_steps=validation_steps)"
   ]
  },
  {
   "cell_type": "code",
   "execution_count": null,
   "metadata": {},
   "outputs": [],
   "source": []
  },
  {
   "cell_type": "code",
   "execution_count": null,
   "metadata": {},
   "outputs": [],
   "source": []
  },
  {
   "cell_type": "code",
   "execution_count": null,
   "metadata": {},
   "outputs": [],
   "source": []
  },
  {
   "cell_type": "code",
   "execution_count": null,
   "metadata": {},
   "outputs": [],
   "source": []
  },
  {
   "cell_type": "code",
   "execution_count": null,
   "metadata": {},
   "outputs": [],
   "source": []
  },
  {
   "cell_type": "code",
   "execution_count": null,
   "metadata": {},
   "outputs": [],
   "source": []
  },
  {
   "cell_type": "code",
   "execution_count": 29,
   "metadata": {},
   "outputs": [],
   "source": [
    "def increment_string(strng):\n",
    "    number = re.findall('[0-9]+',strng)\n",
    "    word = re.findall('[a-zA-Z]+',strng)\n",
    "    if len(number)>0:\n",
    "        new_number = int(number[0]) + 1\n",
    "    else:\n",
    "        new_number = 1\n",
    "    \n",
    "    print(len(str(new_number)))\n",
    "    print(len(number))\n",
    "          \n",
    "    if len(str(new_number))!=len(number[0]):\n",
    "        zeros = len(number[0])-len(str(new_number))\n",
    "        new_number = '0'*zeros + str(new_number)\n",
    "            \n",
    "    new_string = word[0] + str(new_number)\n",
    "    return new_string"
   ]
  },
  {
   "cell_type": "code",
   "execution_count": 30,
   "metadata": {},
   "outputs": [
    {
     "name": "stdout",
     "output_type": "stream",
     "text": [
      "1\n",
      "0\n"
     ]
    },
    {
     "ename": "IndexError",
     "evalue": "list index out of range",
     "output_type": "error",
     "traceback": [
      "\u001b[0;31m---------------------------------------------------------------------------\u001b[0m",
      "\u001b[0;31mIndexError\u001b[0m                                Traceback (most recent call last)",
      "\u001b[0;32m<ipython-input-30-1bce751d09b6>\u001b[0m in \u001b[0;36m<module>\u001b[0;34m\u001b[0m\n\u001b[0;32m----> 1\u001b[0;31m \u001b[0mincrement_string\u001b[0m\u001b[0;34m(\u001b[0m\u001b[0;34m''\u001b[0m\u001b[0;34m)\u001b[0m\u001b[0;34m\u001b[0m\u001b[0;34m\u001b[0m\u001b[0m\n\u001b[0m",
      "\u001b[0;32m<ipython-input-29-ef06147be9f3>\u001b[0m in \u001b[0;36mincrement_string\u001b[0;34m(strng)\u001b[0m\n\u001b[1;32m     10\u001b[0m     \u001b[0mprint\u001b[0m\u001b[0;34m(\u001b[0m\u001b[0mlen\u001b[0m\u001b[0;34m(\u001b[0m\u001b[0mnumber\u001b[0m\u001b[0;34m)\u001b[0m\u001b[0;34m)\u001b[0m\u001b[0;34m\u001b[0m\u001b[0;34m\u001b[0m\u001b[0m\n\u001b[1;32m     11\u001b[0m \u001b[0;34m\u001b[0m\u001b[0m\n\u001b[0;32m---> 12\u001b[0;31m     \u001b[0;32mif\u001b[0m \u001b[0mlen\u001b[0m\u001b[0;34m(\u001b[0m\u001b[0mstr\u001b[0m\u001b[0;34m(\u001b[0m\u001b[0mnew_number\u001b[0m\u001b[0;34m)\u001b[0m\u001b[0;34m)\u001b[0m\u001b[0;34m!=\u001b[0m\u001b[0mlen\u001b[0m\u001b[0;34m(\u001b[0m\u001b[0mnumber\u001b[0m\u001b[0;34m[\u001b[0m\u001b[0;36m0\u001b[0m\u001b[0;34m]\u001b[0m\u001b[0;34m)\u001b[0m\u001b[0;34m:\u001b[0m\u001b[0;34m\u001b[0m\u001b[0;34m\u001b[0m\u001b[0m\n\u001b[0m\u001b[1;32m     13\u001b[0m         \u001b[0mzeros\u001b[0m \u001b[0;34m=\u001b[0m \u001b[0mlen\u001b[0m\u001b[0;34m(\u001b[0m\u001b[0mnumber\u001b[0m\u001b[0;34m[\u001b[0m\u001b[0;36m0\u001b[0m\u001b[0;34m]\u001b[0m\u001b[0;34m)\u001b[0m\u001b[0;34m-\u001b[0m\u001b[0mlen\u001b[0m\u001b[0;34m(\u001b[0m\u001b[0mstr\u001b[0m\u001b[0;34m(\u001b[0m\u001b[0mnew_number\u001b[0m\u001b[0;34m)\u001b[0m\u001b[0;34m)\u001b[0m\u001b[0;34m\u001b[0m\u001b[0;34m\u001b[0m\u001b[0m\n\u001b[1;32m     14\u001b[0m         \u001b[0mnew_number\u001b[0m \u001b[0;34m=\u001b[0m \u001b[0;34m'0'\u001b[0m\u001b[0;34m*\u001b[0m\u001b[0mzeros\u001b[0m \u001b[0;34m+\u001b[0m \u001b[0mstr\u001b[0m\u001b[0;34m(\u001b[0m\u001b[0mnew_number\u001b[0m\u001b[0;34m)\u001b[0m\u001b[0;34m\u001b[0m\u001b[0;34m\u001b[0m\u001b[0m\n",
      "\u001b[0;31mIndexError\u001b[0m: list index out of range"
     ]
    }
   ],
   "source": [
    "increment_string('')"
   ]
  },
  {
   "cell_type": "code",
   "execution_count": 16,
   "metadata": {},
   "outputs": [
    {
     "data": {
      "text/plain": [
       "['11']"
      ]
     },
     "execution_count": 16,
     "metadata": {},
     "output_type": "execute_result"
    }
   ],
   "source": [
    "re.findall('[0-9]+','foo11')"
   ]
  },
  {
   "cell_type": "code",
   "execution_count": null,
   "metadata": {},
   "outputs": [],
   "source": [
    "import re\n",
    "def increment_string(strng):\n",
    "    number = re.findall('[0-9]+',strng)\n",
    "    word = re.findall('[^0-9]+',strng)\n",
    "\n",
    "    if len(number)>0:\n",
    "        new_number = int(number[-1]) + 1\n",
    "    else:\n",
    "        new_number = 1\n",
    "        \n",
    "    if len(number)!=0:\n",
    "        if len(str(new_number))!=len(number[-1]):\n",
    "            zeros = len(number[-1])-len(str(new_number))\n",
    "            new_number = '0'*zeros + str(new_number)\n",
    "    if len(word)!=0:\n",
    "        new_string = word[-1] + str(new_number)\n",
    "    else:\n",
    "        new_string = str(new_number)\n",
    "    return new_string\n"
   ]
  }
 ],
 "metadata": {
  "kernelspec": {
   "display_name": "Python [conda env:IronHack_env]",
   "language": "python",
   "name": "conda-env-IronHack_env-py"
  },
  "language_info": {
   "codemirror_mode": {
    "name": "ipython",
    "version": 3
   },
   "file_extension": ".py",
   "mimetype": "text/x-python",
   "name": "python",
   "nbconvert_exporter": "python",
   "pygments_lexer": "ipython3",
   "version": "3.7.7"
  }
 },
 "nbformat": 4,
 "nbformat_minor": 4
}
