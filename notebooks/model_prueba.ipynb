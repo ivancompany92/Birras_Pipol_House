{
 "cells": [
  {
   "cell_type": "markdown",
   "metadata": {},
   "source": [
    "### model brand"
   ]
  },
  {
   "cell_type": "code",
   "execution_count": 1,
   "metadata": {},
   "outputs": [],
   "source": [
    "import pandas as pd"
   ]
  },
  {
   "cell_type": "code",
   "execution_count": 6,
   "metadata": {},
   "outputs": [],
   "source": [
    "def load_df_products(name):\n",
    "    return pd.read_csv(f'../data/processed/data_beer_{name}.csv')"
   ]
  },
  {
   "cell_type": "code",
   "execution_count": 7,
   "metadata": {},
   "outputs": [],
   "source": [
    "data_beer_carrefour = load_df_products('carrefour')\n",
    "data_beer_alcampo = load_df_products('alcampo')\n",
    "data_beer_corteingles = load_df_products('corteingles')\n",
    "data_beer_dia = load_df_products('dia')\n",
    "data_beer_eroski = load_df_products('eroski')"
   ]
  },
  {
   "cell_type": "code",
   "execution_count": 20,
   "metadata": {},
   "outputs": [],
   "source": [
    "aa = [data_beer_carrefour, data_beer_alcampo]"
   ]
  },
  {
   "cell_type": "code",
   "execution_count": 19,
   "metadata": {},
   "outputs": [
    {
     "data": {
      "text/plain": [
       "array(['SAN MIGUEL', 'MAHOU C', 'MAHOU 5 E', ' MAHOU', ' 1925 ALHAMBRA',\n",
       "       'ALHAMBRA T', 'CORONITA', ' BUDWEISER', ' CORONA', '0 SAN MIGUEL',\n",
       "       ' ALHAMBRA', ' FRANZISKANER', 'MAHOU M', ' MAHOU 5 E',\n",
       "       'SAN MIGUEL S', ' LEFFE', ' LA SALVE', 'ALHAMBRA E',\n",
       "       ' GRIMBERGEN DOUBLE', 'MAHOU S', ' SAN MIGUEL', ' LA SALVE B',\n",
       "       'KRONENBOURG', 'CARLSBERG', ' GRIMBERGEN BLONDE', ' LA SALVE M',\n",
       "       ' 1925 ALHAMBRA ', ' FRANZISKANER D', 'BUDWEISER', ' FOUNDERS',\n",
       "       'SAN MIGUEL 1516', 'ABADÍA LEFFE B', 'WARSTEINER', ' SAN MIGUEL ',\n",
       "       ' GRIMBERGEN', ' MODELO', 'PACÍFICO', 'APA T', ' SPATEM MUNC',\n",
       "       ' BECK', 'CUBANISTO', ' ESTRELLA GALICIA', 'AURUM', 'VOLL',\n",
       "       'HEINEKEN', 'AMSTEL R', '1906', 'AMSTEL', 'KELER',\n",
       "       '1906 ESTRELLA GALICIA', ' AMSTEL R', '0 ESTRELLA GALICIA',\n",
       "       ' HEINEKEN', ' PAULANER H', 'AMSTEL O', 'ESTRELLA DAMM', 'WOLL',\n",
       "       ' AURUM', 'AMBAR', ' CRUZCAMPO S', 'CRUZCAMPO S', '0 R', '1906 R',\n",
       "       ' DESPERADOS', '0 AMSTEL O', ' BUCKLER R', ' FREE DAMM',\n",
       "       ' AURUM R', '0 AMSTEL R', ' GUINNESS', ' BUCKLER 0',\n",
       "       ' LADRÓN DE MANZANAS', ' SHANDY', ' VOLL', 'AURUM R', ' BREWDOG',\n",
       "       ' AMSTEL', 'IPA AMBAR', 'AMBAR E', ' LAGUNITAS', 'INEDIT',\n",
       "       ' DAURA', 'CRUZCAMPO', 'ORO', 'ESTRELLA DAMM E', 'DAMM L',\n",
       "       ' COMPLOT', '0 AMBAR G', 'CORGON GARD', '0 AMSTEL', ' JUDAS',\n",
       "       ' OLAÑETA', ' GREVENSTEINER', ' BOCK DAMM ', ' INEDIT',\n",
       "       ' EL AGUILA', ' DESPERADO', ' CRUZCAMPO', ' CHIMAY', ' GUINESS D',\n",
       "       ' HOP HOUSE 13', ' BOGA', ' TRAPPE', ' DAMM', ' MORT SUBITE X',\n",
       "       ' KIRIN', 'URQUELL P', ' CRUZ CAMPO', 'IPA A', ' MORETTI',\n",
       "       ' MALQUERIDA', ' CLAUSTHALER'], dtype=object)"
      ]
     },
     "execution_count": 19,
     "metadata": {},
     "output_type": "execute_result"
    }
   ],
   "source": [
    "data_beer_eroski['brand'].unique()"
   ]
  },
  {
   "cell_type": "code",
   "execution_count": null,
   "metadata": {},
   "outputs": [],
   "source": []
  },
  {
   "cell_type": "code",
   "execution_count": null,
   "metadata": {},
   "outputs": [],
   "source": []
  },
  {
   "cell_type": "code",
   "execution_count": null,
   "metadata": {},
   "outputs": [],
   "source": []
  },
  {
   "cell_type": "code",
   "execution_count": null,
   "metadata": {},
   "outputs": [],
   "source": []
  }
 ],
 "metadata": {
  "kernelspec": {
   "display_name": "Python [conda env:IronHack_env]",
   "language": "python",
   "name": "conda-env-IronHack_env-py"
  },
  "language_info": {
   "codemirror_mode": {
    "name": "ipython",
    "version": 3
   },
   "file_extension": ".py",
   "mimetype": "text/x-python",
   "name": "python",
   "nbconvert_exporter": "python",
   "pygments_lexer": "ipython3",
   "version": "3.7.7"
  }
 },
 "nbformat": 4,
 "nbformat_minor": 4
}
