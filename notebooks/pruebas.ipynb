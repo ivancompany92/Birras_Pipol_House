{
 "cells": [
  {
   "cell_type": "markdown",
   "metadata": {},
   "source": [
    "### prueba scrapear!"
   ]
  },
  {
   "cell_type": "code",
   "execution_count": 20,
   "metadata": {},
   "outputs": [],
   "source": [
    "import pandas as pd\n",
    "import requests\n",
    "from bs4 import BeautifulSoup\n",
    "import re\n",
    "from fake_useragent import UserAgent"
   ]
  },
  {
   "cell_type": "markdown",
   "metadata": {},
   "source": [
    "#### carrefour"
   ]
  },
  {
   "cell_type": "code",
   "execution_count": 100,
   "metadata": {},
   "outputs": [],
   "source": [
    "ua = UserAgent()\n",
    "headers = {'User-Agent': 'Mozilla/5.0 (Windows NT 6.3; WOW64) AppleWebKit/537.36 (KHTML, like Gecko) Chrome/41.0.2226.0 Safari/537.36'}\n",
    "\n",
    "list_pages = list(range(0,336,24))\n",
    "table_pages=[]\n",
    "for number in list_pages:\n",
    "    url = f'https://www.carrefour.es/supermercado/bebidas/cerveza/todas-las-cervezas/N-1uq8b5u/c?No={number}'\n",
    "    html = requests.get(url, headers=headers).text\n",
    "    soup = BeautifulSoup(html, 'lxml')\n",
    "    table = soup.find_all({'article':'product-card-item'})\n",
    "    table_pages.append(table)\n"
   ]
  },
  {
   "cell_type": "code",
   "execution_count": 158,
   "metadata": {},
   "outputs": [
    {
     "data": {
      "text/plain": [
       "<article class=\"product-card-item\">\n",
       "<div class=\"load-more-products\">\n",
       "<p>SIGUIENTE PÁGINA</p>\n",
       "<a class=\"pathCart\" href=\"/supermercado/bebidas/cerveza/todas-las-cervezas/N-1uq8b5u/c?No=24&amp;Nr%3DAND%28product.shopCodes%3A004320%2Cproduct.salepointWithActivePrice_004320%3A1%2COR%28product.siteId%3AbasicSite%29%29OR%29\">\n",
       "</a>\n",
       "</div>\n",
       "</article>"
      ]
     },
     "execution_count": 158,
     "metadata": {},
     "output_type": "execute_result"
    }
   ],
   "source": [
    "table_pages[0][24]"
   ]
  },
  {
   "cell_type": "code",
   "execution_count": 102,
   "metadata": {},
   "outputs": [
    {
     "data": {
      "text/plain": [
       "25"
      ]
     },
     "execution_count": 102,
     "metadata": {},
     "output_type": "execute_result"
    }
   ],
   "source": [
    "len(table_pages[0])"
   ]
  },
  {
   "cell_type": "code",
   "execution_count": 163,
   "metadata": {},
   "outputs": [],
   "source": [
    "data_raw=[]\n",
    "for i in range(len(table_pages)):\n",
    "    for j in range(len(table_pages[i])):\n",
    "        rows = table_pages[i][j].find_all(['span','p','a'], {'class': ['price','price-less','format-price','title-product','js-gap-product-click-super']})\n",
    "        if len(rows) != 0:\n",
    "            data_raw.append(rows)\n"
   ]
  },
  {
   "cell_type": "code",
   "execution_count": 166,
   "metadata": {},
   "outputs": [
    {
     "data": {
      "text/plain": [
       "[<a class=\"js-gap-product-click-super\" data-product-discount=\"0,07\" data-productid=\"762603515\" data-special-campaign=\"qvpromo730001_feliz-aniversario\" href=\"/supermercado/cerveza-1906-reserva-especial-pack-de-12-botellas-33-cl-1906/R-762603515/p\" title=\"Cerveza 1906 reserva especial pack de 12 botellas 33 cl.\">\n",
       " <img alt=\"Cerveza 1906 reserva especial pack de 12 botellas 33 cl.\" aria-describedby=\"product-762603515\" sizes=\"(max-width: 280px) 80px,(max-width: 490px) 100px, (max-width: 768px) 560px, (max-width: 991px) 280px, (max-width: 1280px) 560px\" src=\"https://static.carrefour.es/hd_280x_/img_pim_food/771393_00_1.jpg\" srcset=\"https://static.carrefour.es/hd_560x_/img_pim_food/771393_00_1.jpg 560w, https://static.carrefour.es/hd_280x_/img_pim_food/771393_00_1.jpg 280w, https://static.carrefour.es/hd_100x_/img_pim_food/771393_00_1.jpg 100w, https://static.carrefour.es/hd_100x_/img_pim_food/771393_00_1.jpg  80w\" width=\"100%\"/>\n",
       " </a>,\n",
       " <span class=\"price-less\">\n",
       " 11,40 €</span>,\n",
       " <p class=\"format-price\">\n",
       "  Pack 12x33 Cl. |\n",
       " 2,88 €/l</p>,\n",
       " <a class=\"js-gap-product-click-super\" data-product-discount=\"0,07\" data-special-campaign=\"qvpromo730001_feliz-aniversario\" href=\"/supermercado/cerveza-1906-reserva-especial-pack-de-12-botellas-33-cl-1906/R-762603515/p\" title=\"Ir a Cerveza 1906 reserva especial pack de 12 botellas 33 cl.\">\n",
       " <p class=\"title-product\">\n",
       " Cerveza 1906 reserva especial pack de 12 botellas 33 cl.</p>\n",
       " </a>,\n",
       " <p class=\"title-product\">\n",
       " Cerveza 1906 reserva especial pack de 12 botellas 33 cl.</p>]"
      ]
     },
     "execution_count": 166,
     "metadata": {},
     "output_type": "execute_result"
    }
   ],
   "source": [
    "data_raw[22]"
   ]
  },
  {
   "cell_type": "code",
   "execution_count": 144,
   "metadata": {},
   "outputs": [
    {
     "data": {
      "text/plain": [
       "333"
      ]
     },
     "execution_count": 144,
     "metadata": {},
     "output_type": "execute_result"
    }
   ],
   "source": [
    "len(data_raw)"
   ]
  },
  {
   "cell_type": "code",
   "execution_count": 174,
   "metadata": {},
   "outputs": [],
   "source": [
    "#price in euros\n",
    "# price_raw = data_raw[0][1].text\n",
    "\n",
    "def get_price(data_text):\n",
    "    price_raw = data_text.text\n",
    "    price = re.sub('\\xa0€','',price_raw)\n",
    "    price = re.sub('\\n','',price)\n",
    "    return re.sub(\",\",'.',price)"
   ]
  },
  {
   "cell_type": "code",
   "execution_count": 180,
   "metadata": {},
   "outputs": [],
   "source": [
    "#price per liter\n",
    "# price_l_raw = data_raw[0][2].text\n",
    "\n",
    "def get_price_l(data_text):\n",
    "    price_l_raw = data_text.text\n",
    "    price_l = re.findall('[0-9]+,[0-9]+', price_l_raw)\n",
    "    price_liter = re.sub(',','.',price_l[0])\n",
    "    return price_liter"
   ]
  },
  {
   "cell_type": "code",
   "execution_count": 181,
   "metadata": {},
   "outputs": [],
   "source": [
    "#title\n",
    "# title_raw = data_raw[0][3].text\n",
    "def get_title(data_text):\n",
    "    title_raw = data_text.text\n",
    "    title = re.sub(\"\\n\",'',title_raw)\n",
    "    return title"
   ]
  },
  {
   "cell_type": "code",
   "execution_count": 182,
   "metadata": {},
   "outputs": [],
   "source": [
    "data_beer_carrefour = pd.DataFrame(index=range(1,len(data_raw)+1),columns=['price','price_liter','title'])\n",
    "for beer_number in range(len(data_raw)):\n",
    "    data_beer_carrefour.iloc[beer_number,0] = get_price(data_raw[beer_number][1])\n",
    "    data_beer_carrefour.iloc[beer_number,1] = get_price_l(data_raw[beer_number][2])\n",
    "    data_beer_carrefour.iloc[beer_number,2] = get_title(data_raw[beer_number][3])\n",
    "\n"
   ]
  },
  {
   "cell_type": "code",
   "execution_count": 183,
   "metadata": {},
   "outputs": [
    {
     "data": {
      "text/html": [
       "<div>\n",
       "<style scoped>\n",
       "    .dataframe tbody tr th:only-of-type {\n",
       "        vertical-align: middle;\n",
       "    }\n",
       "\n",
       "    .dataframe tbody tr th {\n",
       "        vertical-align: top;\n",
       "    }\n",
       "\n",
       "    .dataframe thead th {\n",
       "        text-align: right;\n",
       "    }\n",
       "</style>\n",
       "<table border=\"1\" class=\"dataframe\">\n",
       "  <thead>\n",
       "    <tr style=\"text-align: right;\">\n",
       "      <th></th>\n",
       "      <th>price</th>\n",
       "      <th>price_liter</th>\n",
       "      <th>title</th>\n",
       "    </tr>\n",
       "  </thead>\n",
       "  <tbody>\n",
       "    <tr>\n",
       "      <th>1</th>\n",
       "      <td>11.21</td>\n",
       "      <td>1.89</td>\n",
       "      <td>Cerveza Heineken Lager pack de 18 latas de 33 cl.</td>\n",
       "    </tr>\n",
       "    <tr>\n",
       "      <th>2</th>\n",
       "      <td>14.80</td>\n",
       "      <td>1.60</td>\n",
       "      <td>Cerveza Cruzcampo Pilsen pack de 28 latas de 3...</td>\n",
       "    </tr>\n",
       "    <tr>\n",
       "      <th>3</th>\n",
       "      <td>5.15</td>\n",
       "      <td>1.56</td>\n",
       "      <td>Cerveza El Aguila pack de 10 latas de 33 cl.</td>\n",
       "    </tr>\n",
       "    <tr>\n",
       "      <th>4</th>\n",
       "      <td>0.25</td>\n",
       "      <td>0.76</td>\n",
       "      <td>Cerveza Carrefour Holandesa lata 33 cl.</td>\n",
       "    </tr>\n",
       "    <tr>\n",
       "      <th>5</th>\n",
       "      <td>11.70</td>\n",
       "      <td>1.95</td>\n",
       "      <td>Cerveza Estrella Galicia especial pack de 24 b...</td>\n",
       "    </tr>\n",
       "    <tr>\n",
       "      <th>6</th>\n",
       "      <td>14.15</td>\n",
       "      <td>1.53</td>\n",
       "      <td>Cerveza Mahou Clásica pack de 28 latas de 33 cl.</td>\n",
       "    </tr>\n",
       "    <tr>\n",
       "      <th>7</th>\n",
       "      <td>15.69</td>\n",
       "      <td>1.70</td>\n",
       "      <td>Cerveza Mahou 5 Estrellas especial pack de 28 ...</td>\n",
       "    </tr>\n",
       "    <tr>\n",
       "      <th>8</th>\n",
       "      <td>6.47</td>\n",
       "      <td>1.63</td>\n",
       "      <td>Cerveza Mahou Clásica pack de 12 latas de 33 cl.</td>\n",
       "    </tr>\n",
       "    <tr>\n",
       "      <th>9</th>\n",
       "      <td>6.41</td>\n",
       "      <td>1.94</td>\n",
       "      <td>Cerveza Estrella Galicia especial pack de 10 l...</td>\n",
       "    </tr>\n",
       "    <tr>\n",
       "      <th>10</th>\n",
       "      <td>6.75</td>\n",
       "      <td>1.70</td>\n",
       "      <td>Cerveza Mahou 0,0 sin alcohol tostada pack de ...</td>\n",
       "    </tr>\n",
       "    <tr>\n",
       "      <th>11</th>\n",
       "      <td>12.70</td>\n",
       "      <td>3.21</td>\n",
       "      <td>Cerveza Alhambra Reserva 1925 pack de 12 botel...</td>\n",
       "    </tr>\n",
       "    <tr>\n",
       "      <th>12</th>\n",
       "      <td>7.08</td>\n",
       "      <td>1.79</td>\n",
       "      <td>Cerveza Mahou 5 Estrellas especial pack de 12 ...</td>\n",
       "    </tr>\n",
       "    <tr>\n",
       "      <th>13</th>\n",
       "      <td>3.36</td>\n",
       "      <td>0.85</td>\n",
       "      <td>Cerveza Carrefour Especial pack de 12 latas de...</td>\n",
       "    </tr>\n",
       "    <tr>\n",
       "      <th>14</th>\n",
       "      <td>8.50</td>\n",
       "      <td>2.12</td>\n",
       "      <td>Cerveza Estrella Galicia especial pack de 20 b...</td>\n",
       "    </tr>\n",
       "    <tr>\n",
       "      <th>15</th>\n",
       "      <td>6.21</td>\n",
       "      <td>1.57</td>\n",
       "      <td>Cerveza Amstel Radler con limón pack de 12 lat...</td>\n",
       "    </tr>\n",
       "    <tr>\n",
       "      <th>16</th>\n",
       "      <td>5.98</td>\n",
       "      <td>1.99</td>\n",
       "      <td>Cerveza Mahou 5 Estrellas especial pack de 12 ...</td>\n",
       "    </tr>\n",
       "    <tr>\n",
       "      <th>17</th>\n",
       "      <td>7.36</td>\n",
       "      <td>1.86</td>\n",
       "      <td>Cerveza Heineken Lager pack de 12 latas de 33 cl.</td>\n",
       "    </tr>\n",
       "    <tr>\n",
       "      <th>18</th>\n",
       "      <td>1.08</td>\n",
       "      <td>2.16</td>\n",
       "      <td>Cerveza Franziskaner Sefe-Weissbier botella 50...</td>\n",
       "    </tr>\n",
       "    <tr>\n",
       "      <th>19</th>\n",
       "      <td>12.50</td>\n",
       "      <td>1.35</td>\n",
       "      <td>Cerveza Amstel 100% malta pack de 28 latas de ...</td>\n",
       "    </tr>\n",
       "    <tr>\n",
       "      <th>20</th>\n",
       "      <td>6.58</td>\n",
       "      <td>3.32</td>\n",
       "      <td>Cerveza Alhambra Reserva 1925 pack de 6 botell...</td>\n",
       "    </tr>\n",
       "    <tr>\n",
       "      <th>21</th>\n",
       "      <td>9.39</td>\n",
       "      <td>1.57</td>\n",
       "      <td>Cerveza Cruzcampo Pilsen pack de 24 botellas d...</td>\n",
       "    </tr>\n",
       "    <tr>\n",
       "      <th>22</th>\n",
       "      <td>11.95</td>\n",
       "      <td>1.99</td>\n",
       "      <td>Cerveza Mahou 5 Estrellas especial pack de 24 ...</td>\n",
       "    </tr>\n",
       "    <tr>\n",
       "      <th>23</th>\n",
       "      <td>11.40</td>\n",
       "      <td>2.88</td>\n",
       "      <td>Cerveza 1906 reserva especial pack de 12 botel...</td>\n",
       "    </tr>\n",
       "    <tr>\n",
       "      <th>24</th>\n",
       "      <td>6.48</td>\n",
       "      <td>1.64</td>\n",
       "      <td>Cerveza San Miguel especial Lager pack de 12 l...</td>\n",
       "    </tr>\n",
       "    <tr>\n",
       "      <th>25</th>\n",
       "      <td>6.48</td>\n",
       "      <td>1.64</td>\n",
       "      <td>Cerveza San Miguel 0,0 sin alcohol Lager pack ...</td>\n",
       "    </tr>\n",
       "    <tr>\n",
       "      <th>26</th>\n",
       "      <td>6.44</td>\n",
       "      <td>1.63</td>\n",
       "      <td>Cerveza Mahou Sin alcohol pack de 12 latas de ...</td>\n",
       "    </tr>\n",
       "    <tr>\n",
       "      <th>27</th>\n",
       "      <td>6.21</td>\n",
       "      <td>1.57</td>\n",
       "      <td>Cerveza Alhambra tradicional pack de 12 latas ...</td>\n",
       "    </tr>\n",
       "    <tr>\n",
       "      <th>28</th>\n",
       "      <td>0.63</td>\n",
       "      <td>1.91</td>\n",
       "      <td>Cerveza Mahou 0,0 sin alcohol tostada lata 33 cl.</td>\n",
       "    </tr>\n",
       "    <tr>\n",
       "      <th>29</th>\n",
       "      <td>0.56</td>\n",
       "      <td>1.70</td>\n",
       "      <td>Cerveza Amstel Oro 0,0 tostada lata 33 cl.</td>\n",
       "    </tr>\n",
       "    <tr>\n",
       "      <th>30</th>\n",
       "      <td>1.35</td>\n",
       "      <td>2.70</td>\n",
       "      <td>Cerveza rubia Paulaner Weissbier botella 50 cl.</td>\n",
       "    </tr>\n",
       "  </tbody>\n",
       "</table>\n",
       "</div>"
      ],
      "text/plain": [
       "    price price_liter                                              title\n",
       "1   11.21        1.89  Cerveza Heineken Lager pack de 18 latas de 33 cl.\n",
       "2   14.80        1.60  Cerveza Cruzcampo Pilsen pack de 28 latas de 3...\n",
       "3    5.15        1.56       Cerveza El Aguila pack de 10 latas de 33 cl.\n",
       "4    0.25        0.76            Cerveza Carrefour Holandesa lata 33 cl.\n",
       "5   11.70        1.95  Cerveza Estrella Galicia especial pack de 24 b...\n",
       "6   14.15        1.53   Cerveza Mahou Clásica pack de 28 latas de 33 cl.\n",
       "7   15.69        1.70  Cerveza Mahou 5 Estrellas especial pack de 28 ...\n",
       "8    6.47        1.63   Cerveza Mahou Clásica pack de 12 latas de 33 cl.\n",
       "9    6.41        1.94  Cerveza Estrella Galicia especial pack de 10 l...\n",
       "10   6.75        1.70  Cerveza Mahou 0,0 sin alcohol tostada pack de ...\n",
       "11  12.70        3.21  Cerveza Alhambra Reserva 1925 pack de 12 botel...\n",
       "12   7.08        1.79  Cerveza Mahou 5 Estrellas especial pack de 12 ...\n",
       "13   3.36        0.85  Cerveza Carrefour Especial pack de 12 latas de...\n",
       "14   8.50        2.12  Cerveza Estrella Galicia especial pack de 20 b...\n",
       "15   6.21        1.57  Cerveza Amstel Radler con limón pack de 12 lat...\n",
       "16   5.98        1.99  Cerveza Mahou 5 Estrellas especial pack de 12 ...\n",
       "17   7.36        1.86  Cerveza Heineken Lager pack de 12 latas de 33 cl.\n",
       "18   1.08        2.16  Cerveza Franziskaner Sefe-Weissbier botella 50...\n",
       "19  12.50        1.35  Cerveza Amstel 100% malta pack de 28 latas de ...\n",
       "20   6.58        3.32  Cerveza Alhambra Reserva 1925 pack de 6 botell...\n",
       "21   9.39        1.57  Cerveza Cruzcampo Pilsen pack de 24 botellas d...\n",
       "22  11.95        1.99  Cerveza Mahou 5 Estrellas especial pack de 24 ...\n",
       "23  11.40        2.88  Cerveza 1906 reserva especial pack de 12 botel...\n",
       "24   6.48        1.64  Cerveza San Miguel especial Lager pack de 12 l...\n",
       "25   6.48        1.64  Cerveza San Miguel 0,0 sin alcohol Lager pack ...\n",
       "26   6.44        1.63  Cerveza Mahou Sin alcohol pack de 12 latas de ...\n",
       "27   6.21        1.57  Cerveza Alhambra tradicional pack de 12 latas ...\n",
       "28   0.63        1.91  Cerveza Mahou 0,0 sin alcohol tostada lata 33 cl.\n",
       "29   0.56        1.70         Cerveza Amstel Oro 0,0 tostada lata 33 cl.\n",
       "30   1.35        2.70    Cerveza rubia Paulaner Weissbier botella 50 cl."
      ]
     },
     "execution_count": 183,
     "metadata": {},
     "output_type": "execute_result"
    }
   ],
   "source": [
    "data_beer_carrefour.head(30)"
   ]
  },
  {
   "cell_type": "code",
   "execution_count": null,
   "metadata": {},
   "outputs": [],
   "source": []
  },
  {
   "cell_type": "code",
   "execution_count": null,
   "metadata": {},
   "outputs": [],
   "source": []
  }
 ],
 "metadata": {
  "kernelspec": {
   "display_name": "Python [conda env:IronHack_env]",
   "language": "python",
   "name": "conda-env-IronHack_env-py"
  },
  "language_info": {
   "codemirror_mode": {
    "name": "ipython",
    "version": 3
   },
   "file_extension": ".py",
   "mimetype": "text/x-python",
   "name": "python",
   "nbconvert_exporter": "python",
   "pygments_lexer": "ipython3",
   "version": "3.7.7"
  }
 },
 "nbformat": 4,
 "nbformat_minor": 4
}
