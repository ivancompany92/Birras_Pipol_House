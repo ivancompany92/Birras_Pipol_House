{
 "cells": [
  {
   "cell_type": "markdown",
   "metadata": {},
   "source": [
    "### prueba scrapear!"
   ]
  },
  {
   "cell_type": "code",
   "execution_count": 1,
   "metadata": {},
   "outputs": [],
   "source": [
    "import pandas as pd\n",
    "import requests\n",
    "from bs4 import BeautifulSoup\n",
    "import re\n",
    "from fake_useragent import UserAgent\n",
    "from selenium import webdriver\n",
    "from selenium.webdriver.firefox.options import Options\n",
    "import time\n",
    "import os"
   ]
  },
  {
   "cell_type": "code",
   "execution_count": 2,
   "metadata": {},
   "outputs": [],
   "source": [
    "ua = UserAgent()\n",
    "header = {\"User-Agent\": \"Mozilla/5.0 (X11; CrOS x86_64 12871.102.0) AppleWebKit/537.36 (KHTML, like Gecko) Chrome/81.0.4044.141 Safari/537.36\"}"
   ]
  },
  {
   "cell_type": "markdown",
   "metadata": {},
   "source": [
    "#### carrefour"
   ]
  },
  {
   "cell_type": "code",
   "execution_count": null,
   "metadata": {},
   "outputs": [],
   "source": [
    "list_pages_carrefour = list(range(0,336,24))\n",
    "table_pages_carrefour=[]\n",
    "for number in list_pages_carrefour:\n",
    "    url_carrefour = f'https://www.carrefour.es/supermercado/bebidas/cerveza/todas-las-cervezas/N-1uq8b5u/c?No={number}'\n",
    "    html = requests.get(url_carrefour, headers=header).text\n",
    "    soup_carrefour = BeautifulSoup(html, 'lxml')\n",
    "    table_carrefour = soup_carrefour.find_all({'article':'product-card-item'})\n",
    "    table_pages_carrefour.append(table_carrefour)"
   ]
  },
  {
   "cell_type": "code",
   "execution_count": null,
   "metadata": {},
   "outputs": [],
   "source": [
    "table_pages_carrefour[0][23]"
   ]
  },
  {
   "cell_type": "code",
   "execution_count": null,
   "metadata": {},
   "outputs": [],
   "source": [
    "len(table_pages_carrefour[0])"
   ]
  },
  {
   "cell_type": "code",
   "execution_count": null,
   "metadata": {},
   "outputs": [],
   "source": [
    "data_raw_carrefour=[]\n",
    "for i in range(len(table_pages_carrefour)):\n",
    "    for j in range(len(table_pages_carrefour[i])):\n",
    "        rows_carrefour = table_pages_carrefour[i][j].find_all(['span','p','a'], {'class': ['price','price-less','format-price','js-gap-product-click-super']})\n",
    "        promotion_carrefour = table_pages_carrefour[i][j].find_all(['p'], {'class': ['promocion-copy']})\n",
    "        if len(rows_carrefour) != 0:\n",
    "            if len(promotion_carrefour) != 0:\n",
    "                data_raw_carrefour.append(rows_carrefour + promotion_carrefour)\n",
    "            else:\n",
    "                data_raw_carrefour.append(rows_carrefour)\n",
    "                \n",
    "            "
   ]
  },
  {
   "cell_type": "code",
   "execution_count": null,
   "metadata": {},
   "outputs": [],
   "source": [
    "data_raw_carrefour[20]"
   ]
  },
  {
   "cell_type": "code",
   "execution_count": null,
   "metadata": {},
   "outputs": [],
   "source": [
    "len(data_raw_carrefour)"
   ]
  },
  {
   "cell_type": "code",
   "execution_count": null,
   "metadata": {},
   "outputs": [],
   "source": [
    "#price in euros\n",
    "# price_raw = data_raw[0][1].text\n",
    "\n",
    "def get_price(data_text):\n",
    "    price_raw = data_text.text\n",
    "    price = re.sub('\\xa0€','',price_raw)\n",
    "    price = re.sub('\\n','',price)\n",
    "    return float(re.sub(\",\",'.',price))"
   ]
  },
  {
   "cell_type": "code",
   "execution_count": null,
   "metadata": {},
   "outputs": [],
   "source": [
    "#price per liter\n",
    "# price_l_raw = data_raw[0][2].text\n",
    "\n",
    "def get_price_l(data_text):\n",
    "    price_l_raw = data_text.text\n",
    "    price_l = re.findall('[0-9]+,[0-9]+', price_l_raw)\n",
    "    price_liter = re.sub(',','.',price_l[0])\n",
    "    return float(price_liter)"
   ]
  },
  {
   "cell_type": "code",
   "execution_count": null,
   "metadata": {},
   "outputs": [],
   "source": [
    "#title\n",
    "# title_raw = data_raw[0][3].text\n",
    "\n",
    "def get_title(data_text):\n",
    "    title_raw = data_text.text\n",
    "    title = re.sub(\"\\n\",'',title_raw)\n",
    "    return title"
   ]
  },
  {
   "cell_type": "code",
   "execution_count": null,
   "metadata": {},
   "outputs": [],
   "source": [
    "#promotion product\n",
    "\n",
    "def get_promotion(data_text):\n",
    "        promotion_raw = data_text.text\n",
    "        promotion = re.sub(\"\\n\",'',promotion_raw)\n",
    "        return promotion\n"
   ]
  },
  {
   "cell_type": "code",
   "execution_count": null,
   "metadata": {},
   "outputs": [],
   "source": [
    "#brand\n",
    "def get_brand(data_text):\n",
    "    brand_raw = data_text.text\n",
    "    brand = re.split('(Cerveza )|( pack)|( botella)|( lata)+|(cl)',brand_raw)\n",
    "    return brand[6]"
   ]
  },
  {
   "cell_type": "code",
   "execution_count": null,
   "metadata": {},
   "outputs": [],
   "source": [
    "#container (carrefour  / alcampo)\n",
    "def get_container(data_text):\n",
    "    container_raw = data_text.text\n",
    "    container = re.findall('botella|lata|barril',container_raw)\n",
    "    if len(container)!=0:\n",
    "        return container[0]\n",
    "    else:\n",
    "        return 'No specified'"
   ]
  },
  {
   "cell_type": "code",
   "execution_count": null,
   "metadata": {},
   "outputs": [],
   "source": [
    "#volumen\n",
    "def get_volumen_unid(data_text):\n",
    "    volumen_raw = data_text.text \n",
    "    volumen = re.findall('[0-9]+ cl',volumen_raw)\n",
    "    if len(volumen)!=0:\n",
    "        return volumen[0]\n",
    "    else:\n",
    "        volumen_l = re.findall('[0-9]+[ mcl]+',volumen_raw)\n",
    "        return volumen_l[0]"
   ]
  },
  {
   "cell_type": "code",
   "execution_count": null,
   "metadata": {},
   "outputs": [],
   "source": [
    "#quantity (carrefour  / alcampo)\n",
    "def get_quantity_pack(data_text):\n",
    "    quantity_raw = data_text.text\n",
    "    quantity_split = re.split('pack de|pack',quantity_raw)\n",
    "    if len(quantity_split)==2:\n",
    "        quantity = re.findall('[0-9]+',quantity_split[1])\n",
    "        return quantity[0]\n",
    "    else:\n",
    "        return 1"
   ]
  },
  {
   "cell_type": "code",
   "execution_count": null,
   "metadata": {},
   "outputs": [],
   "source": [
    "#image\n",
    "def get_image(data_text):\n",
    "    return data_text.find_all('img')[0].get('src')"
   ]
  },
  {
   "cell_type": "code",
   "execution_count": null,
   "metadata": {},
   "outputs": [],
   "source": [
    "data_beer_carrefour = pd.DataFrame(index=range(0,len(data_raw_carrefour)),columns=['price','price_liter',\n",
    "                                                                           'title','promotion','brand',\n",
    "                                                                          'container','volumen_unid',\n",
    "                                                                          'quantity_pack','image_url',\n",
    "                                                                        'supermarket'])\n",
    "for beer_number in range(len(data_raw_carrefour)):\n",
    "    data_beer_carrefour.iloc[beer_number,0] = get_price(data_raw_carrefour[beer_number][1])\n",
    "    data_beer_carrefour.iloc[beer_number,1] = get_price_l(data_raw_carrefour[beer_number][2])\n",
    "    data_beer_carrefour.iloc[beer_number,2] = get_title(data_raw_carrefour[beer_number][3])\n",
    "    data_beer_carrefour.iloc[beer_number,4] = get_brand(data_raw_carrefour[beer_number][3])\n",
    "    data_beer_carrefour.iloc[beer_number,5] = get_container(data_raw_carrefour[beer_number][3])\n",
    "    data_beer_carrefour.iloc[beer_number,6] = get_volumen_unid(data_raw_carrefour[beer_number][3])\n",
    "    data_beer_carrefour.iloc[beer_number,7] = get_quantity_pack(data_raw_carrefour[beer_number][3])\n",
    "    data_beer_carrefour.iloc[beer_number,8] = get_image(data_raw_carrefour[beer_number][0])\n",
    "    data_beer_carrefour.iloc[beer_number,9] = 'Carrefour'\n",
    "    if len(data_raw_carrefour[beer_number]) > 4:\n",
    "        data_beer_carrefour.iloc[beer_number,3] = get_promotion(data_raw_carrefour[beer_number][4])\n",
    "    else:\n",
    "        data_beer_carrefour.iloc[beer_number,3] = 'No promotion'\n"
   ]
  },
  {
   "cell_type": "code",
   "execution_count": null,
   "metadata": {},
   "outputs": [],
   "source": [
    "data_beer_carrefour.head()"
   ]
  },
  {
   "cell_type": "code",
   "execution_count": null,
   "metadata": {},
   "outputs": [],
   "source": [
    "sum(data_beer_carrefour['price'])"
   ]
  },
  {
   "cell_type": "code",
   "execution_count": null,
   "metadata": {},
   "outputs": [],
   "source": []
  },
  {
   "cell_type": "markdown",
   "metadata": {},
   "source": [
    "## Alcampo"
   ]
  },
  {
   "cell_type": "code",
   "execution_count": null,
   "metadata": {},
   "outputs": [],
   "source": [
    "list_pages_alcampo = list(range(0,10))\n",
    "table_pages_alcampo=[]\n",
    "for number in list_pages_alcampo:\n",
    "    url_alcampo = f'https://www.alcampo.es/compra-online/bebidas/cervezas/c/W1107?q=%3Arelevance&page={number}'\n",
    "    html = requests.get(url_alcampo, headers=header).text\n",
    "    soup_alcampo = BeautifulSoup(html, 'lxml')\n",
    "    table_alcampo = soup_alcampo.find_all('div',{'class':'productGridItem'})\n",
    "    table_pages_alcampo.append(table_alcampo)\n",
    "    "
   ]
  },
  {
   "cell_type": "code",
   "execution_count": null,
   "metadata": {},
   "outputs": [],
   "source": [
    "len(table_pages_alcampo[0])"
   ]
  },
  {
   "cell_type": "code",
   "execution_count": null,
   "metadata": {},
   "outputs": [],
   "source": [
    "len(table_pages_alcampo)"
   ]
  },
  {
   "cell_type": "code",
   "execution_count": null,
   "metadata": {},
   "outputs": [],
   "source": [
    "data_raw_alcampo=[]\n",
    "for i in range(len(table_pages_alcampo)):\n",
    "    for j in range(len(table_pages_alcampo[i])):\n",
    "        rows_alcampo = table_pages_alcampo[i][j].find_all(['span','div'],{'class': ['price',\n",
    "                                                                                    'productName',\n",
    "                                                                                    'thumb cut-alt-img']})\n",
    "        promotion_alcampo = table_pages_alcampo[i][j].find_all('div', {'class': 'financiacionMensual'})\n",
    "        if len(rows_alcampo) != 0:\n",
    "            if len(promotion_alcampo) != 0:\n",
    "                data_raw_alcampo.append(rows_alcampo + promotion_alcampo)\n",
    "            else:\n",
    "                data_raw_alcampo.append(rows_alcampo)\n",
    "                "
   ]
  },
  {
   "cell_type": "code",
   "execution_count": null,
   "metadata": {},
   "outputs": [],
   "source": [
    "len(data_raw_alcampo)"
   ]
  },
  {
   "cell_type": "code",
   "execution_count": null,
   "metadata": {},
   "outputs": [],
   "source": []
  },
  {
   "cell_type": "code",
   "execution_count": null,
   "metadata": {},
   "outputs": [],
   "source": [
    "#price alcampo / corte ingles / Dia\n",
    "def get_price_alcampo(data_text):\n",
    "    price_raw = data_text.text\n",
    "    price = re.findall('[0-9,]+',price_raw)\n",
    "    return float(re.sub(\",\",'.',price[0]))\n"
   ]
  },
  {
   "cell_type": "code",
   "execution_count": null,
   "metadata": {},
   "outputs": [],
   "source": [
    "#price_liter alcampo / corte ingles / Dia\n",
    "def get_price_liter_alcampo(data_text):\n",
    "    price_raw = data_text.text\n",
    "    price = re.findall('[0-9,]+',price_raw)\n",
    "    if len(price)==1:\n",
    "        return float(re.sub(\",\",'.',price[0]))\n",
    "    else:\n",
    "        return float(re.sub(\",\",'.',price[1]))\n"
   ]
  },
  {
   "cell_type": "code",
   "execution_count": null,
   "metadata": {},
   "outputs": [],
   "source": [
    "#title alcampo / corte ingles\n",
    "def get_tittle_alcampo(data_text):\n",
    "    tittle_raw = data_text.text\n",
    "    tittle = re.sub('\\n','',tittle_raw)\n",
    "    return tittle\n"
   ]
  },
  {
   "cell_type": "code",
   "execution_count": null,
   "metadata": {},
   "outputs": [],
   "source": [
    "#promotion alcampo\n",
    "def get_promotion_alcampo(data_text):\n",
    "    promotion_raw = data_text.text\n",
    "    promotion = re.sub('\\r\\n\\r\\n\\t\\t\\t\\t\\t\\t\\t\\t\\t\\t','',promotion_raw)\n",
    "    return promotion"
   ]
  },
  {
   "cell_type": "code",
   "execution_count": null,
   "metadata": {},
   "outputs": [],
   "source": [
    "#brand alcampo\n",
    "def get_brand_alcampo(data_text):\n",
    "    brand_raw = data_text.text\n",
    "    brand = re.sub('\\n','',brand_raw)\n",
    "    brand_2 = re.findall('[A-Z 0-9,À-ÿ]{3,} ',brand)\n",
    "    return brand_2[0]"
   ]
  },
  {
   "cell_type": "code",
   "execution_count": null,
   "metadata": {},
   "outputs": [],
   "source": [
    "#volumen alcampo\n",
    "def get_volumen_unid_alcampo(data_text):\n",
    "    volumen_raw = data_text.text \n",
    "    volumen = re.findall('[0-9.,]+ cl',volumen_raw)\n",
    "    if len(volumen)!=0:\n",
    "        return volumen[0]\n",
    "    else:\n",
    "        volumen_l = re.findall('[0-9.,]+[ mclL]+',volumen_raw)\n",
    "        if len(volumen_l)==2:\n",
    "            return volumen_l[1]\n",
    "        else:\n",
    "            return volumen_l[0]"
   ]
  },
  {
   "cell_type": "code",
   "execution_count": null,
   "metadata": {},
   "outputs": [],
   "source": [
    "#image alcampo\n",
    "def get_image_alcampo(data_text):\n",
    "    return data_text.find_all('img')[0].get('data-blzsrc')"
   ]
  },
  {
   "cell_type": "code",
   "execution_count": null,
   "metadata": {},
   "outputs": [],
   "source": [
    "data_raw_alcampo[0][1]"
   ]
  },
  {
   "cell_type": "code",
   "execution_count": null,
   "metadata": {},
   "outputs": [],
   "source": [
    "data_beer_alcampo= pd.DataFrame(index=range(0,len(data_raw_alcampo)),columns=['price','price_liter',\n",
    "                                                                           'title','promotion','brand',\n",
    "                                                                          'container','volumen_unid',\n",
    "                                                                          'quantity_pack','image_url',\n",
    "                                                                        'supermarket'])\n",
    "for beer_number in range(len(data_raw_alcampo)):\n",
    "    data_beer_alcampo.iloc[beer_number,0] = get_price_alcampo(data_raw_alcampo[beer_number][2])\n",
    "    data_beer_alcampo.iloc[beer_number,1] = get_price_liter_alcampo(data_raw_alcampo[beer_number][2])\n",
    "    data_beer_alcampo.iloc[beer_number,2] = get_tittle_alcampo(data_raw_alcampo[beer_number][1])\n",
    "    data_beer_alcampo.iloc[beer_number,4] = get_brand_alcampo(data_raw_alcampo[beer_number][1])\n",
    "    data_beer_alcampo.iloc[beer_number,5] = get_container(data_raw_alcampo[beer_number][1])\n",
    "    data_beer_alcampo.iloc[beer_number,6] = get_volumen_unid_alcampo(data_raw_alcampo[beer_number][1])\n",
    "    data_beer_alcampo.iloc[beer_number,7] = get_quantity_pack(data_raw_alcampo[beer_number][1])\n",
    "    data_beer_alcampo.iloc[beer_number,8] = get_image_alcampo(data_raw_alcampo[beer_number][0])\n",
    "    data_beer_alcampo.iloc[beer_number,9] = 'Alcampo'\n",
    "    if len(data_raw_alcampo[beer_number]) > 3:\n",
    "        data_beer_alcampo.iloc[beer_number,3] = get_promotion_alcampo(data_raw_alcampo[beer_number][3])\n",
    "    else:\n",
    "        data_beer_alcampo.iloc[beer_number,3] = 'No promotion'"
   ]
  },
  {
   "cell_type": "code",
   "execution_count": null,
   "metadata": {},
   "outputs": [],
   "source": [
    "data_beer_alcampo.head(50)"
   ]
  },
  {
   "cell_type": "code",
   "execution_count": null,
   "metadata": {},
   "outputs": [],
   "source": []
  },
  {
   "cell_type": "markdown",
   "metadata": {},
   "source": [
    "## El corte ingles"
   ]
  },
  {
   "cell_type": "code",
   "execution_count": null,
   "metadata": {},
   "outputs": [],
   "source": [
    "list_pages_corteingles = list(range(1,26))\n",
    "table_pages_corteingles =[]\n",
    "for number in list_pages_corteingles:\n",
    "    url_corteingles = f'https://elcorteingles.es/supermercado/bebidas/cervezas/{number}/'\n",
    "    html = requests.get(url_corteingles, headers=header).text\n",
    "    soup_corteingles= BeautifulSoup(html, 'lxml')\n",
    "    table_corteingles = soup_corteingles.find_all('div',{'class':'grid-item'})\n",
    "    table_pages_corteingles.append(table_corteingles)"
   ]
  },
  {
   "cell_type": "code",
   "execution_count": null,
   "metadata": {},
   "outputs": [],
   "source": [
    "len(table_pages_corteingles)"
   ]
  },
  {
   "cell_type": "code",
   "execution_count": null,
   "metadata": {},
   "outputs": [],
   "source": [
    "len(table_pages_corteingles[25])"
   ]
  },
  {
   "cell_type": "code",
   "execution_count": null,
   "metadata": {},
   "outputs": [],
   "source": [
    "data_raw_corteingles=[]\n",
    "for i in range(len(table_pages_corteingles)):\n",
    "    for j in range(len(table_pages_corteingles[i])):\n",
    "        rows_corteingles = table_pages_corteingles[i][j].find_all(['div','h3'],{'class': ['prices-price',\n",
    "                                                                                    'product_tile-description',\n",
    "                                                                                    'product_tile-image _fade']})\n",
    "        promotion_corteingles = table_pages_corteingles[i][j].find_all('div', {'class': 'product_tile-offer offer'})\n",
    "        if len(rows_corteingles) > 3:\n",
    "            if len(promotion_corteingles) != 0:\n",
    "                data_raw_corteingles.append(rows_corteingles + promotion_corteingles)\n",
    "            else:\n",
    "                data_raw_corteingles.append(rows_corteingles)\n",
    "                "
   ]
  },
  {
   "cell_type": "code",
   "execution_count": null,
   "metadata": {},
   "outputs": [],
   "source": [
    "len(data_raw_corteingles)"
   ]
  },
  {
   "cell_type": "code",
   "execution_count": null,
   "metadata": {},
   "outputs": [],
   "source": [
    "#brand corte ingles\n",
    "def get_brand_corteingles(data_text):\n",
    "    brand_raw = data_text.text\n",
    "    brand = re.split('cervez',brand_raw)\n",
    "    return brand[0]"
   ]
  },
  {
   "cell_type": "code",
   "execution_count": null,
   "metadata": {},
   "outputs": [],
   "source": [
    "#volumen corte ingles\n",
    "def get_volumen_corteingles(data_text):\n",
    "    brand_raw = data_text.text\n",
    "    brand = re.split('botel',brand_raw)\n",
    "    return brand[0]"
   ]
  },
  {
   "cell_type": "code",
   "execution_count": null,
   "metadata": {},
   "outputs": [],
   "source": [
    "#image corte ingles\n",
    "def get_image_corteingles(data_text):\n",
    "    return 'https:'+data_text.find_all('img')[0].get('src')"
   ]
  },
  {
   "cell_type": "code",
   "execution_count": null,
   "metadata": {},
   "outputs": [],
   "source": [
    "data_raw_corteingles[2][3].text"
   ]
  },
  {
   "cell_type": "code",
   "execution_count": null,
   "metadata": {},
   "outputs": [],
   "source": [
    "data_beer_corteingles = pd.DataFrame(index=range(0,len(data_raw_corteingles)),columns=['price','price_liter',\n",
    "                                                                           'title','promotion','brand',\n",
    "                                                                          'container','volumen_unid',\n",
    "                                                                          'quantity_pack','image_url',\n",
    "                                                                        'supermarket'])\n",
    "for beer_number in range(len(data_raw_corteingles)):\n",
    "    data_beer_corteingles.iloc[beer_number,0] = get_price_alcampo(data_raw_corteingles[beer_number][1])\n",
    "    data_beer_corteingles.iloc[beer_number,1] = get_price_liter_alcampo(data_raw_corteingles[beer_number][2])\n",
    "    data_beer_corteingles.iloc[beer_number,2] = get_tittle_alcampo(data_raw_corteingles[beer_number][3])\n",
    "    data_beer_corteingles.iloc[beer_number,4] = get_brand_corteingles(data_raw_corteingles[beer_number][3])\n",
    "    data_beer_corteingles.iloc[beer_number,5] = get_container(data_raw_corteingles[beer_number][3])\n",
    "    data_beer_corteingles.iloc[beer_number,6] = get_volumen_unid_alcampo(data_raw_corteingles[beer_number][3])\n",
    "    data_beer_corteingles.iloc[beer_number,7] = get_quantity_pack(data_raw_corteingles[beer_number][3])\n",
    "    data_beer_corteingles.iloc[beer_number,8] = get_image_corteingles(data_raw_corteingles[beer_number][0])\n",
    "    data_beer_corteingles.iloc[beer_number,9] = 'El Corte Ingles'\n",
    "    if len(data_raw_corteingles[beer_number]) > 4:\n",
    "        data_beer_corteingles.iloc[beer_number,3] = get_promotion_alcampo(data_raw_corteingles[beer_number][4])\n",
    "        if len(data_raw_corteingles[beer_number]) > 5:\n",
    "            data_beer_corteingles.iloc[beer_number,3] += '..SECOND OFFERT: '+ get_promotion_alcampo(data_raw_corteingles[beer_number][5])\n",
    "    else:\n",
    "        data_beer_corteingles.iloc[beer_number,3] = 'No promotion'    "
   ]
  },
  {
   "cell_type": "code",
   "execution_count": null,
   "metadata": {},
   "outputs": [],
   "source": [
    "data_beer_corteingles.head()"
   ]
  },
  {
   "cell_type": "code",
   "execution_count": null,
   "metadata": {},
   "outputs": [],
   "source": []
  },
  {
   "cell_type": "code",
   "execution_count": null,
   "metadata": {},
   "outputs": [],
   "source": []
  },
  {
   "cell_type": "markdown",
   "metadata": {},
   "source": [
    "## DIA"
   ]
  },
  {
   "cell_type": "code",
   "execution_count": null,
   "metadata": {},
   "outputs": [],
   "source": [
    "list_pages_dia= list(range(0,3))\n",
    "table_pages_dia =[]\n",
    "for number in list_pages_dia:\n",
    "    url_dia = f'https://www.dia.es/compra-online/productos/bebidas/cervezas/c/WEB.008.064.00000?page={number}&disp='\n",
    "    html = requests.get(url_dia, headers=header).text\n",
    "    soup_dia= BeautifulSoup(html, 'lxml')\n",
    "    table_dia = soup_dia.find_all('div',{'class':'prod_grid'})\n",
    "    table_pages_dia.append(table_dia)"
   ]
  },
  {
   "cell_type": "code",
   "execution_count": null,
   "metadata": {},
   "outputs": [],
   "source": [
    "len(table_pages_dia)"
   ]
  },
  {
   "cell_type": "code",
   "execution_count": null,
   "metadata": {},
   "outputs": [],
   "source": [
    "len(table_pages_dia[2])"
   ]
  },
  {
   "cell_type": "code",
   "execution_count": null,
   "metadata": {},
   "outputs": [],
   "source": [
    "data_raw_dia=[]\n",
    "for i in range(len(table_pages_dia)):\n",
    "    for j in range(len(table_pages_dia[i])):\n",
    "        rows_dia = table_pages_dia[i][j].find_all(['div','span'],{'class': ['price_container','details',\n",
    "                                                                            'thumb']})\n",
    "        if len(rows_dia) > 2:\n",
    "            data_raw_dia.append(rows_dia)\n",
    "                "
   ]
  },
  {
   "cell_type": "code",
   "execution_count": null,
   "metadata": {},
   "outputs": [],
   "source": [
    "len(data_raw_dia)"
   ]
  },
  {
   "cell_type": "code",
   "execution_count": null,
   "metadata": {},
   "outputs": [],
   "source": [
    "#title Dia\n",
    "def get_tittle_dia(data_text):\n",
    "    tittle_raw = data_text.text\n",
    "    tittle = re.sub('\\r\\n\\t\\t\\t\\t','',tittle_raw)\n",
    "    return tittle"
   ]
  },
  {
   "cell_type": "code",
   "execution_count": null,
   "metadata": {},
   "outputs": [],
   "source": [
    "#brand Dia\n",
    "def get_brand_dia(data_text):\n",
    "    brand_raw = data_text.text\n",
    "    brand_sub = re.sub('\\r\\n\\t\\t\\t\\t','',brand_raw)\n",
    "    brand = re.split('cervez',brand_sub)\n",
    "    return brand[0]"
   ]
  },
  {
   "cell_type": "code",
   "execution_count": null,
   "metadata": {},
   "outputs": [],
   "source": [
    "#image dia\n",
    "def get_image_dia(data_text):\n",
    "    return data_text.find_all('img')[0].get('data-original')"
   ]
  },
  {
   "cell_type": "code",
   "execution_count": null,
   "metadata": {},
   "outputs": [],
   "source": [
    "data_raw_dia[24][2].text"
   ]
  },
  {
   "cell_type": "code",
   "execution_count": null,
   "metadata": {},
   "outputs": [],
   "source": [
    "data_beer_dia= pd.DataFrame(index=range(0,len(data_raw_dia)),columns=['price','price_liter',\n",
    "                                                                           'title','promotion','brand',\n",
    "                                                                          'container','volumen_unid',\n",
    "                                                                          'quantity_pack','image_url',\n",
    "                                                                        'supermarket'])\n",
    "for beer_number in range(len(data_raw_dia)):\n",
    "    data_beer_dia.iloc[beer_number,0] = get_price_alcampo(data_raw_dia[beer_number][2])\n",
    "    data_beer_dia.iloc[beer_number,1] = get_price_liter_alcampo(data_raw_dia[beer_number][2])\n",
    "    data_beer_dia.iloc[beer_number,2] = get_tittle_dia(data_raw_dia[beer_number][1])\n",
    "    data_beer_dia.iloc[beer_number,4] = get_brand_dia(data_raw_dia[beer_number][1])\n",
    "    data_beer_dia.iloc[beer_number,5] = get_container(data_raw_dia[beer_number][1])\n",
    "    data_beer_dia.iloc[beer_number,6] = get_volumen_unid_alcampo(data_raw_dia[beer_number][1])\n",
    "    data_beer_dia.iloc[beer_number,7] = get_quantity_pack(data_raw_dia[beer_number][1])\n",
    "    data_beer_dia.iloc[beer_number,8] = get_image_dia(data_raw_dia[beer_number][0])\n",
    "    data_beer_dia.iloc[beer_number,9] = 'Dia'\n",
    "    if len(data_raw_dia[beer_number]) > 3:\n",
    "        data_beer_dia.iloc[beer_number,3] = get_promotion_alcampo(data_raw_dia[beer_number][3])\n",
    "    else:\n",
    "        data_beer_dia.iloc[beer_number,3] = 'No promotion' "
   ]
  },
  {
   "cell_type": "code",
   "execution_count": null,
   "metadata": {},
   "outputs": [],
   "source": [
    "data_beer_dia.head()"
   ]
  },
  {
   "cell_type": "code",
   "execution_count": null,
   "metadata": {},
   "outputs": [],
   "source": []
  },
  {
   "cell_type": "code",
   "execution_count": null,
   "metadata": {},
   "outputs": [],
   "source": []
  },
  {
   "cell_type": "code",
   "execution_count": null,
   "metadata": {},
   "outputs": [],
   "source": []
  },
  {
   "cell_type": "code",
   "execution_count": null,
   "metadata": {},
   "outputs": [],
   "source": []
  },
  {
   "cell_type": "markdown",
   "metadata": {},
   "source": [
    "## Eroski"
   ]
  },
  {
   "cell_type": "code",
   "execution_count": 49,
   "metadata": {},
   "outputs": [],
   "source": [
    "os.environ['PATH'] = f'{os.environ[\"PATH\"]}:{os.getcwd()}'  \n",
    "os.environ['PATH']\n",
    "\n",
    "driver_options = Options()\n",
    "driver_options.headless = True\n",
    "driver = webdriver.Firefox(options=driver_options)\n",
    "\n",
    "driver.get('https://supermercado.eroski.es/es/supermercado/2060211-bebidas/2060233-cervezas/') \n",
    "for i in range(20):\n",
    "    driver.execute_script(\"window.scrollTo(0,document.body.scrollHeight)\")\n",
    "    time.sleep(1)\n",
    "    \n",
    "selenium_raw_eroski = driver.find_elements_by_class_name('product-item')"
   ]
  },
  {
   "cell_type": "code",
   "execution_count": 50,
   "metadata": {},
   "outputs": [
    {
     "data": {
      "text/plain": [
       "276"
      ]
     },
     "execution_count": 50,
     "metadata": {},
     "output_type": "execute_result"
    }
   ],
   "source": [
    "len(selenium_raw_eroski)"
   ]
  },
  {
   "cell_type": "code",
   "execution_count": 52,
   "metadata": {},
   "outputs": [],
   "source": [
    "data_raw_eroski = []\n",
    "for i in selenium_raw_eroski:\n",
    "    data_raw_eroski.append(i.text)"
   ]
  },
  {
   "cell_type": "code",
   "execution_count": null,
   "metadata": {},
   "outputs": [],
   "source": []
  },
  {
   "cell_type": "code",
   "execution_count": 56,
   "metadata": {},
   "outputs": [],
   "source": [
    "#price eroski\n",
    "\n",
    "def get_price_eroski(data_text):\n",
    "    price = re.findall('[0-9,]+',data_text)\n",
    "    last = len(price)-1\n",
    "    return float(re.sub(\",\",'.',price[last]))"
   ]
  },
  {
   "cell_type": "code",
   "execution_count": 76,
   "metadata": {},
   "outputs": [],
   "source": [
    "#price_liter eroski\n",
    "\n",
    "def get_price_liter_eroski(data_text):\n",
    "    price_raw = re.split(' LITRO A ',data_text)\n",
    "    if len(price_raw)>1:\n",
    "        price = re.findall('[0-9,]+',price_raw[1])\n",
    "    else:\n",
    "        price = re.findall('[0-9,]{2,}',data_text)\n",
    "    return float(re.sub(\",\",'.',price[0]))"
   ]
  },
  {
   "cell_type": "code",
   "execution_count": 82,
   "metadata": {},
   "outputs": [],
   "source": [
    "#title eroski\n",
    "def get_tittle_eroski(data_text):\n",
    "    tittle = re.split('\\n',data_text)\n",
    "    return tittle[1]"
   ]
  },
  {
   "cell_type": "code",
   "execution_count": 167,
   "metadata": {},
   "outputs": [],
   "source": [
    "#brand eroski\n",
    "def get_brand_eroski(data_text):\n",
    "    brand_raw = re.split('rveza ',data_text)\n",
    "    if len(brand_raw)>1:\n",
    "        brand = re.findall('[A-Z 0-9À-ÿ]{3,}',brand_raw[1])\n",
    "        return brand[0]\n",
    "    else:\n",
    "        brand = re.findall('[A-Z 0-9À-ÿ]{3,}',data_text)\n",
    "        return brand[1]\n"
   ]
  },
  {
   "cell_type": "code",
   "execution_count": 174,
   "metadata": {},
   "outputs": [],
   "source": [
    "#container eroski\n",
    "def get_container_eroski(data_text):\n",
    "    container = re.findall('botella|lata|barril',data_text)\n",
    "    if len(container)!=0:\n",
    "        return container[0]\n",
    "    else:\n",
    "        return 'No specified'"
   ]
  },
  {
   "cell_type": "code",
   "execution_count": 178,
   "metadata": {},
   "outputs": [],
   "source": [
    "#volumen eroski\n",
    "def get_volumen_unid_eroski(data_text):\n",
    "    volumen = re.findall('[0-9.,]+ cl',data_text)\n",
    "    if len(volumen)!=0:\n",
    "        return volumen[0]\n",
    "    else:\n",
    "        volumen_l = re.findall('[0-9.,]+[ mclL]+',data_text)\n",
    "        if len(volumen_l)==2:\n",
    "            return volumen_l[1]\n",
    "        else:\n",
    "            return volumen_l[0]"
   ]
  },
  {
   "cell_type": "code",
   "execution_count": 183,
   "metadata": {},
   "outputs": [],
   "source": [
    "#quantity eroski\n",
    "def get_quantity_pack_eroski(data_text):\n",
    "    quantity_split = re.split('pack de|pack',data_text)\n",
    "    if len(quantity_split)==2:\n",
    "        quantity = re.findall('[0-9]+',quantity_split[1])\n",
    "        return quantity[0]\n",
    "    else:\n",
    "        return 1"
   ]
  },
  {
   "cell_type": "code",
   "execution_count": 221,
   "metadata": {},
   "outputs": [],
   "source": [
    "#promotion eroski\n",
    "\n",
    "def get_promotion_eroski(data_text):\n",
    "        promotion = re.split(\"\\n\",data_text)\n",
    "        if len(promotion)>8:\n",
    "            number = len(promotion)-6\n",
    "            return promotion[number] + ' ' + promotion[number+1]\n",
    "        else:\n",
    "            return 'No promotion'\n"
   ]
  },
  {
   "cell_type": "code",
   "execution_count": 222,
   "metadata": {},
   "outputs": [
    {
     "data": {
      "text/plain": [
       "'  0\\nCerveza SAN MIGUEL, pack botellín 12x25 cl\\n1 LITRO A 1,76 €\\n2ª unidad\\n-50%\\nAhora\\n5,31 €\\nAñadir\\nAñadir a la lista'"
      ]
     },
     "execution_count": 222,
     "metadata": {},
     "output_type": "execute_result"
    }
   ],
   "source": [
    "data_raw_eroski[4]"
   ]
  },
  {
   "cell_type": "code",
   "execution_count": 226,
   "metadata": {},
   "outputs": [
    {
     "data": {
      "text/plain": [
       "'  0\\nCerveza MAHOU 5 Estrellas, pack 24x33 cl\\n1 LITRO A 0,97 €\\n13,59 €\\nAntes\\nAhora\\n7,75 €\\nAñadir\\nAñadir a la lista'"
      ]
     },
     "execution_count": 226,
     "metadata": {},
     "output_type": "execute_result"
    }
   ],
   "source": [
    "data_raw_eroski[3]"
   ]
  },
  {
   "cell_type": "code",
   "execution_count": 224,
   "metadata": {},
   "outputs": [],
   "source": [
    "data_beer_eroski= pd.DataFrame(index=range(0,len(data_raw_eroski)),columns=['price','price_liter',\n",
    "                                                                           'title','promotion','brand',\n",
    "                                                                          'container','volumen_unid',\n",
    "                                                                          'quantity_pack','image_url',\n",
    "                                                                        'supermarket'])\n",
    "for beer_number in range(len(data_raw_eroski)):\n",
    "    data_beer_eroski.iloc[beer_number,0] = get_price_eroski(data_raw_eroski[beer_number])\n",
    "    data_beer_eroski.iloc[beer_number,1] = get_price_liter_eroski(data_raw_eroski[beer_number])\n",
    "    data_beer_eroski.iloc[beer_number,2] = get_tittle_eroski(data_raw_eroski[beer_number])\n",
    "    data_beer_eroski.iloc[beer_number,3] = get_promotion_eroski(data_raw_eroski[beer_number])\n",
    "    data_beer_eroski.iloc[beer_number,4] = get_brand_eroski(data_raw_eroski[beer_number])\n",
    "    data_beer_eroski.iloc[beer_number,5] = get_container_eroski(data_raw_eroski[beer_number])\n",
    "    data_beer_eroski.iloc[beer_number,6] = get_volumen_unid_eroski(data_raw_eroski[beer_number])\n",
    "    data_beer_eroski.iloc[beer_number,7] = get_quantity_pack_eroski(data_raw_eroski[beer_number])\n",
    "    data_beer_eroski.iloc[beer_number,8] = 'Not image'\n",
    "    data_beer_eroski.iloc[beer_number,9] = 'Eroski'"
   ]
  },
  {
   "cell_type": "code",
   "execution_count": 235,
   "metadata": {},
   "outputs": [
    {
     "data": {
      "text/html": [
       "<div>\n",
       "<style scoped>\n",
       "    .dataframe tbody tr th:only-of-type {\n",
       "        vertical-align: middle;\n",
       "    }\n",
       "\n",
       "    .dataframe tbody tr th {\n",
       "        vertical-align: top;\n",
       "    }\n",
       "\n",
       "    .dataframe thead th {\n",
       "        text-align: right;\n",
       "    }\n",
       "</style>\n",
       "<table border=\"1\" class=\"dataframe\">\n",
       "  <thead>\n",
       "    <tr style=\"text-align: right;\">\n",
       "      <th></th>\n",
       "      <th>price</th>\n",
       "      <th>price_liter</th>\n",
       "      <th>title</th>\n",
       "      <th>promotion</th>\n",
       "      <th>brand</th>\n",
       "      <th>container</th>\n",
       "      <th>volumen_unid</th>\n",
       "      <th>quantity_pack</th>\n",
       "      <th>image_url</th>\n",
       "      <th>supermarket</th>\n",
       "    </tr>\n",
       "  </thead>\n",
       "  <tbody>\n",
       "    <tr>\n",
       "      <th>0</th>\n",
       "      <td>12.59</td>\n",
       "      <td>1.58</td>\n",
       "      <td>Cerveza SAN MIGUEL, pack lata 24x33 cl</td>\n",
       "      <td>No promotion</td>\n",
       "      <td>SAN MIGUEL</td>\n",
       "      <td>lata</td>\n",
       "      <td>33 cl</td>\n",
       "      <td>24</td>\n",
       "      <td>Not image</td>\n",
       "      <td>Eroski</td>\n",
       "    </tr>\n",
       "    <tr>\n",
       "      <th>1</th>\n",
       "      <td>6.47</td>\n",
       "      <td>1.64</td>\n",
       "      <td>Cerveza SAN MIGUEL, pack lata 12x33 cl</td>\n",
       "      <td>No promotion</td>\n",
       "      <td>SAN MIGUEL</td>\n",
       "      <td>lata</td>\n",
       "      <td>33 cl</td>\n",
       "      <td>12</td>\n",
       "      <td>Not image</td>\n",
       "      <td>Eroski</td>\n",
       "    </tr>\n",
       "    <tr>\n",
       "      <th>2</th>\n",
       "      <td>6.72</td>\n",
       "      <td>1.7</td>\n",
       "      <td>Cerveza MAHOU Clásica, pack 12x33 cl</td>\n",
       "      <td>No promotion</td>\n",
       "      <td>MAHOU C</td>\n",
       "      <td>No specified</td>\n",
       "      <td>33 cl</td>\n",
       "      <td>12</td>\n",
       "      <td>Not image</td>\n",
       "      <td>Eroski</td>\n",
       "    </tr>\n",
       "    <tr>\n",
       "      <th>3</th>\n",
       "      <td>7.75</td>\n",
       "      <td>0.97</td>\n",
       "      <td>Cerveza MAHOU 5 Estrellas, pack 24x33 cl</td>\n",
       "      <td>13,59 € Antes</td>\n",
       "      <td>MAHOU 5 E</td>\n",
       "      <td>No specified</td>\n",
       "      <td>33 cl</td>\n",
       "      <td>24</td>\n",
       "      <td>Not image</td>\n",
       "      <td>Eroski</td>\n",
       "    </tr>\n",
       "    <tr>\n",
       "      <th>4</th>\n",
       "      <td>5.31</td>\n",
       "      <td>1.76</td>\n",
       "      <td>Cerveza SAN MIGUEL, pack botellín 12x25 cl</td>\n",
       "      <td>2ª unidad -50%</td>\n",
       "      <td>SAN MIGUEL</td>\n",
       "      <td>No specified</td>\n",
       "      <td>25 cl</td>\n",
       "      <td>12</td>\n",
       "      <td>Not image</td>\n",
       "      <td>Eroski</td>\n",
       "    </tr>\n",
       "  </tbody>\n",
       "</table>\n",
       "</div>"
      ],
      "text/plain": [
       "   price price_liter                                       title  \\\n",
       "0  12.59        1.58      Cerveza SAN MIGUEL, pack lata 24x33 cl   \n",
       "1   6.47        1.64      Cerveza SAN MIGUEL, pack lata 12x33 cl   \n",
       "2   6.72         1.7        Cerveza MAHOU Clásica, pack 12x33 cl   \n",
       "3   7.75        0.97    Cerveza MAHOU 5 Estrellas, pack 24x33 cl   \n",
       "4   5.31        1.76  Cerveza SAN MIGUEL, pack botellín 12x25 cl   \n",
       "\n",
       "        promotion       brand     container volumen_unid quantity_pack  \\\n",
       "0    No promotion  SAN MIGUEL          lata        33 cl            24   \n",
       "1    No promotion  SAN MIGUEL          lata        33 cl            12   \n",
       "2    No promotion     MAHOU C  No specified        33 cl            12   \n",
       "3   13,59 € Antes   MAHOU 5 E  No specified        33 cl            24   \n",
       "4  2ª unidad -50%  SAN MIGUEL  No specified        25 cl            12   \n",
       "\n",
       "   image_url supermarket  \n",
       "0  Not image      Eroski  \n",
       "1  Not image      Eroski  \n",
       "2  Not image      Eroski  \n",
       "3  Not image      Eroski  \n",
       "4  Not image      Eroski  "
      ]
     },
     "execution_count": 235,
     "metadata": {},
     "output_type": "execute_result"
    }
   ],
   "source": [
    "data_beer_eroski.head()"
   ]
  },
  {
   "cell_type": "code",
   "execution_count": null,
   "metadata": {},
   "outputs": [],
   "source": []
  },
  {
   "cell_type": "code",
   "execution_count": null,
   "metadata": {},
   "outputs": [],
   "source": []
  },
  {
   "cell_type": "code",
   "execution_count": null,
   "metadata": {},
   "outputs": [],
   "source": []
  },
  {
   "cell_type": "code",
   "execution_count": null,
   "metadata": {},
   "outputs": [],
   "source": []
  },
  {
   "cell_type": "code",
   "execution_count": null,
   "metadata": {},
   "outputs": [],
   "source": []
  },
  {
   "cell_type": "code",
   "execution_count": null,
   "metadata": {},
   "outputs": [],
   "source": []
  }
 ],
 "metadata": {
  "kernelspec": {
   "display_name": "Python [conda env:IronHack_env]",
   "language": "python",
   "name": "conda-env-IronHack_env-py"
  },
  "language_info": {
   "codemirror_mode": {
    "name": "ipython",
    "version": 3
   },
   "file_extension": ".py",
   "mimetype": "text/x-python",
   "name": "python",
   "nbconvert_exporter": "python",
   "pygments_lexer": "ipython3",
   "version": "3.7.7"
  }
 },
 "nbformat": 4,
 "nbformat_minor": 4
}
