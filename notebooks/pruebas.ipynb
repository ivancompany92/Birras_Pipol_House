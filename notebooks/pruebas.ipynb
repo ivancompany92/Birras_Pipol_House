{
 "cells": [
  {
   "cell_type": "markdown",
   "metadata": {},
   "source": [
    "### prueba scrapear!"
   ]
  },
  {
   "cell_type": "code",
   "execution_count": 1,
   "metadata": {},
   "outputs": [],
   "source": [
    "import pandas as pd\n",
    "import requests\n",
    "from bs4 import BeautifulSoup\n",
    "import re\n",
    "from fake_useragent import UserAgent"
   ]
  },
  {
   "cell_type": "markdown",
   "metadata": {},
   "source": [
    "#### carrefour"
   ]
  },
  {
   "cell_type": "code",
   "execution_count": 2,
   "metadata": {},
   "outputs": [],
   "source": [
    "ua = UserAgent()\n",
    "header = {'User-Agent': 'Mozilla/5.0 (Windows NT 6.3; WOW64) AppleWebKit/537.36 (KHTML, like Gecko) Chrome/41.0.2226.0 Safari/537.36'}\n"
   ]
  },
  {
   "cell_type": "code",
   "execution_count": 16,
   "metadata": {},
   "outputs": [],
   "source": [
    "list_pages_carrefour = list(range(0,336,24))\n",
    "table_pages_carrefour=[]\n",
    "for number in list_pages_carrefour:\n",
    "    url_carrefour = f'https://www.carrefour.es/supermercado/bebidas/cerveza/todas-las-cervezas/N-1uq8b5u/c?No={number}'\n",
    "    html = requests.get(url_carrefour, headers=header).text\n",
    "    soup_carrefour = BeautifulSoup(html, 'lxml')\n",
    "    table_carrefour = soup_carrefour.find_all({'article':'product-card-item'})\n",
    "    table_pages_carrefour.append(table_carrefour)"
   ]
  },
  {
   "cell_type": "code",
   "execution_count": 17,
   "metadata": {},
   "outputs": [
    {
     "data": {
      "text/plain": [
       "<article class=\"product-card-item\">\n",
       "<div class=\"load-more-products\">\n",
       "<p>SIGUIENTE PÁGINA</p>\n",
       "<a class=\"pathCart\" href=\"/supermercado/bebidas/cerveza/todas-las-cervezas/N-1uq8b5u/c?No=24&amp;Nr%3DAND%28product.shopCodes%3A004320%2Cproduct.salepointWithActivePrice_004320%3A1%2COR%28product.siteId%3AbasicSite%29%29OR%29\">\n",
       "</a>\n",
       "</div>\n",
       "</article>"
      ]
     },
     "execution_count": 17,
     "metadata": {},
     "output_type": "execute_result"
    }
   ],
   "source": [
    "table_pages_carrefour[0][24]"
   ]
  },
  {
   "cell_type": "code",
   "execution_count": 18,
   "metadata": {},
   "outputs": [
    {
     "data": {
      "text/plain": [
       "25"
      ]
     },
     "execution_count": 18,
     "metadata": {},
     "output_type": "execute_result"
    }
   ],
   "source": [
    "len(table_pages_carrefour[0])"
   ]
  },
  {
   "cell_type": "code",
   "execution_count": 19,
   "metadata": {},
   "outputs": [],
   "source": [
    "data_raw_carrefour=[]\n",
    "for i in range(len(table_pages_carrefour)):\n",
    "    for j in range(len(table_pages_carrefour[i])):\n",
    "        rows_carrefour = table_pages_carrefour[i][j].find_all(['span','p','a'], {'class': ['price','price-less','format-price','js-gap-product-click-super']})\n",
    "        promotion_carrefour = table_pages_carrefour[i][j].find_all(['p'], {'class': ['promocion-copy']})\n",
    "        if len(rows_carrefour) != 0:\n",
    "            if len(promotion_carrefour) != 0:\n",
    "                data_raw_carrefour.append(rows_carrefour + promotion_carrefour)\n",
    "            else:\n",
    "                data_raw_carrefour.append(rows_carrefour)\n",
    "                \n",
    "            "
   ]
  },
  {
   "cell_type": "code",
   "execution_count": 20,
   "metadata": {},
   "outputs": [
    {
     "data": {
      "text/plain": [
       "[<a class=\"js-gap-product-click-super\" data-product-discount=\"0,07\" data-productid=\"762603515\" data-special-campaign=\"qvpromo730001_feliz-aniversario\" href=\"/supermercado/cerveza-1906-reserva-especial-pack-de-12-botellas-33-cl-1906/R-762603515/p\" title=\"Cerveza 1906 reserva especial pack de 12 botellas 33 cl.\">\n",
       " <img alt=\"Cerveza 1906 reserva especial pack de 12 botellas 33 cl.\" aria-describedby=\"product-762603515\" sizes=\"(max-width: 280px) 80px,(max-width: 490px) 100px, (max-width: 768px) 560px, (max-width: 991px) 280px, (max-width: 1280px) 560px\" src=\"https://static.carrefour.es/hd_280x_/img_pim_food/771393_00_1.jpg\" srcset=\"https://static.carrefour.es/hd_560x_/img_pim_food/771393_00_1.jpg 560w, https://static.carrefour.es/hd_280x_/img_pim_food/771393_00_1.jpg 280w, https://static.carrefour.es/hd_100x_/img_pim_food/771393_00_1.jpg 100w, https://static.carrefour.es/hd_100x_/img_pim_food/771393_00_1.jpg  80w\" width=\"100%\"/>\n",
       " </a>,\n",
       " <span class=\"price-less\">\n",
       " 11,40 €</span>,\n",
       " <p class=\"format-price\">\n",
       "  Pack 12x33 Cl. |\n",
       " 2,88 €/l</p>,\n",
       " <a class=\"js-gap-product-click-super\" data-product-discount=\"0,07\" data-special-campaign=\"qvpromo730001_feliz-aniversario\" href=\"/supermercado/cerveza-1906-reserva-especial-pack-de-12-botellas-33-cl-1906/R-762603515/p\" title=\"Ir a Cerveza 1906 reserva especial pack de 12 botellas 33 cl.\">\n",
       " <p class=\"title-product\">\n",
       " Cerveza 1906 reserva especial pack de 12 botellas 33 cl.</p>\n",
       " </a>,\n",
       " <p class=\"promocion-copy\">Feliz Aniversario</p>]"
      ]
     },
     "execution_count": 20,
     "metadata": {},
     "output_type": "execute_result"
    }
   ],
   "source": [
    "data_raw_carrefour[20]"
   ]
  },
  {
   "cell_type": "code",
   "execution_count": 21,
   "metadata": {},
   "outputs": [
    {
     "data": {
      "text/plain": [
       "332"
      ]
     },
     "execution_count": 21,
     "metadata": {},
     "output_type": "execute_result"
    }
   ],
   "source": [
    "len(data_raw_carrefour)"
   ]
  },
  {
   "cell_type": "code",
   "execution_count": 136,
   "metadata": {},
   "outputs": [],
   "source": [
    "#price in euros\n",
    "# price_raw = data_raw[0][1].text\n",
    "\n",
    "def get_price(data_text):\n",
    "    price_raw = data_text.text\n",
    "    price = re.sub('\\xa0€','',price_raw)\n",
    "    price = re.sub('\\n','',price)\n",
    "    return float(re.sub(\",\",'.',price))"
   ]
  },
  {
   "cell_type": "code",
   "execution_count": 140,
   "metadata": {},
   "outputs": [],
   "source": [
    "#price per liter\n",
    "# price_l_raw = data_raw[0][2].text\n",
    "\n",
    "def get_price_l(data_text):\n",
    "    price_l_raw = data_text.text\n",
    "    price_l = re.findall('[0-9]+,[0-9]+', price_l_raw)\n",
    "    price_liter = re.sub(',','.',price_l[0])\n",
    "    return float(price_liter)"
   ]
  },
  {
   "cell_type": "code",
   "execution_count": 24,
   "metadata": {},
   "outputs": [],
   "source": [
    "#title\n",
    "# title_raw = data_raw[0][3].text\n",
    "\n",
    "def get_title(data_text):\n",
    "    title_raw = data_text.text\n",
    "    title = re.sub(\"\\n\",'',title_raw)\n",
    "    return title"
   ]
  },
  {
   "cell_type": "code",
   "execution_count": 25,
   "metadata": {},
   "outputs": [],
   "source": [
    "#promotion product\n",
    "\n",
    "def get_promotion(data_text):\n",
    "        promotion_raw = data_text.text\n",
    "        promotion = re.sub(\"\\n\",'',promotion_raw)\n",
    "        return promotion\n"
   ]
  },
  {
   "cell_type": "code",
   "execution_count": 423,
   "metadata": {},
   "outputs": [],
   "source": [
    "#brand\n",
    "def get_brand(data_text):\n",
    "    brand_raw = data_text.text\n",
    "    brand = re.split('(Cerveza )|( pack)|( botella)|( lata)+|(cl)',brand_raw)\n",
    "    return brand[6]"
   ]
  },
  {
   "cell_type": "code",
   "execution_count": 27,
   "metadata": {},
   "outputs": [],
   "source": [
    "#container\n",
    "def get_container(data_text):\n",
    "    container_raw = data_text.text\n",
    "    container = re.findall('botella|lata|barril',container_raw)\n",
    "    if len(container)!=0:\n",
    "        return container[0]\n",
    "    else:\n",
    "        return 'No specified'"
   ]
  },
  {
   "cell_type": "code",
   "execution_count": 28,
   "metadata": {},
   "outputs": [],
   "source": [
    "#volumen\n",
    "def get_volumen_unid(data_text):\n",
    "    volumen_raw = data_text.text \n",
    "    volumen = re.findall('[0-9]+ cl',volumen_raw)\n",
    "    if len(volumen)!=0:\n",
    "        return volumen[0]\n",
    "    else:\n",
    "        volumen_l = re.findall('[0-9]+[ mcl]+',volumen_raw)\n",
    "        return volumen_l[0]"
   ]
  },
  {
   "cell_type": "code",
   "execution_count": 410,
   "metadata": {},
   "outputs": [],
   "source": [
    "#quantity\n",
    "def get_quantity_pack(data_text):\n",
    "    quantity_raw = data_text.text\n",
    "    quantity_split = re.split('pack de|pack',quantity_raw)\n",
    "    if len(quantity_split)==2:\n",
    "        quantity = re.findall('[0-9]+',quantity_split[1])\n",
    "        return quantity[0]\n",
    "    else:\n",
    "        return 1"
   ]
  },
  {
   "cell_type": "code",
   "execution_count": 411,
   "metadata": {},
   "outputs": [],
   "source": [
    "#image\n",
    "def get_image(data_text):\n",
    "    return data_text.find_all('img')[0].get('src')"
   ]
  },
  {
   "cell_type": "code",
   "execution_count": 424,
   "metadata": {},
   "outputs": [],
   "source": [
    "data_beer_carrefour = pd.DataFrame(index=range(0,len(data_raw_carrefour)),columns=['price','price_liter',\n",
    "                                                                           'title','promotion','brand',\n",
    "                                                                          'container','volumen_unid',\n",
    "                                                                          'quantity_pack','image_url',\n",
    "                                                                        'supermarket'])\n",
    "for beer_number in range(len(data_raw_carrefour)):\n",
    "    data_beer_carrefour.iloc[beer_number,0] = get_price(data_raw_carrefour[beer_number][1])\n",
    "    data_beer_carrefour.iloc[beer_number,1] = get_price_l(data_raw_carrefour[beer_number][2])\n",
    "    data_beer_carrefour.iloc[beer_number,2] = get_title(data_raw_carrefour[beer_number][3])\n",
    "    data_beer_carrefour.iloc[beer_number,4] = get_brand(data_raw_carrefour[beer_number][3])\n",
    "    data_beer_carrefour.iloc[beer_number,5] = get_container(data_raw_carrefour[beer_number][3])\n",
    "    data_beer_carrefour.iloc[beer_number,6] = get_volumen_unid(data_raw_carrefour[beer_number][3])\n",
    "    data_beer_carrefour.iloc[beer_number,7] = get_quantity_pack(data_raw_carrefour[beer_number][3])\n",
    "    data_beer_carrefour.iloc[beer_number,8] = get_image(data_raw_carrefour[beer_number][0])\n",
    "    data_beer_carrefour.iloc[beer_number,9] = 'Carrefour'\n",
    "    if len(data_raw_carrefour[beer_number]) > 4:\n",
    "        data_beer_carrefour.iloc[beer_number,3] = get_promotion(data_raw_carrefour[beer_number][4])\n",
    "    else:\n",
    "        data_beer_carrefour.iloc[beer_number,3] = 'No promotion'\n"
   ]
  },
  {
   "cell_type": "code",
   "execution_count": 426,
   "metadata": {},
   "outputs": [
    {
     "data": {
      "text/html": [
       "<div>\n",
       "<style scoped>\n",
       "    .dataframe tbody tr th:only-of-type {\n",
       "        vertical-align: middle;\n",
       "    }\n",
       "\n",
       "    .dataframe tbody tr th {\n",
       "        vertical-align: top;\n",
       "    }\n",
       "\n",
       "    .dataframe thead th {\n",
       "        text-align: right;\n",
       "    }\n",
       "</style>\n",
       "<table border=\"1\" class=\"dataframe\">\n",
       "  <thead>\n",
       "    <tr style=\"text-align: right;\">\n",
       "      <th></th>\n",
       "      <th>price</th>\n",
       "      <th>price_liter</th>\n",
       "      <th>title</th>\n",
       "      <th>promotion</th>\n",
       "      <th>brand</th>\n",
       "      <th>container</th>\n",
       "      <th>volumen_unid</th>\n",
       "      <th>quantity_pack</th>\n",
       "      <th>image_url</th>\n",
       "      <th>supermarket</th>\n",
       "    </tr>\n",
       "  </thead>\n",
       "  <tbody>\n",
       "    <tr>\n",
       "      <th>0</th>\n",
       "      <td>11.21</td>\n",
       "      <td>1.89</td>\n",
       "      <td>Cerveza Heineken Lager pack de 18 latas de 33 cl.</td>\n",
       "      <td>No promotion</td>\n",
       "      <td>Heineken Lager</td>\n",
       "      <td>lata</td>\n",
       "      <td>33 cl</td>\n",
       "      <td>18</td>\n",
       "      <td>https://static.carrefour.es/hd_280x_/img_pim_f...</td>\n",
       "      <td>Carrefour</td>\n",
       "    </tr>\n",
       "    <tr>\n",
       "      <th>1</th>\n",
       "      <td>14.8</td>\n",
       "      <td>1.6</td>\n",
       "      <td>Cerveza Cruzcampo Pilsen pack de 28 latas de 3...</td>\n",
       "      <td>No promotion</td>\n",
       "      <td>Cruzcampo Pilsen</td>\n",
       "      <td>lata</td>\n",
       "      <td>33 cl</td>\n",
       "      <td>28</td>\n",
       "      <td>https://static.carrefour.es/hd_280x_/img_pim_f...</td>\n",
       "      <td>Carrefour</td>\n",
       "    </tr>\n",
       "    <tr>\n",
       "      <th>2</th>\n",
       "      <td>5.15</td>\n",
       "      <td>1.56</td>\n",
       "      <td>Cerveza El Aguila pack de 10 latas de 33 cl.</td>\n",
       "      <td>No promotion</td>\n",
       "      <td>El Aguila</td>\n",
       "      <td>lata</td>\n",
       "      <td>33 cl</td>\n",
       "      <td>10</td>\n",
       "      <td>https://static.carrefour.es/hd_280x_/img_pim_f...</td>\n",
       "      <td>Carrefour</td>\n",
       "    </tr>\n",
       "    <tr>\n",
       "      <th>3</th>\n",
       "      <td>0.25</td>\n",
       "      <td>0.76</td>\n",
       "      <td>Cerveza Carrefour Holandesa lata 33 cl.</td>\n",
       "      <td>No promotion</td>\n",
       "      <td>Carrefour Holandesa</td>\n",
       "      <td>lata</td>\n",
       "      <td>33 cl</td>\n",
       "      <td>1</td>\n",
       "      <td>https://static.carrefour.es/hd_280x_/img_pim_f...</td>\n",
       "      <td>Carrefour</td>\n",
       "    </tr>\n",
       "    <tr>\n",
       "      <th>4</th>\n",
       "      <td>11.7</td>\n",
       "      <td>1.95</td>\n",
       "      <td>Cerveza Estrella Galicia especial pack de 24 b...</td>\n",
       "      <td>No promotion</td>\n",
       "      <td>Estrella Galicia especial</td>\n",
       "      <td>botella</td>\n",
       "      <td>25 cl</td>\n",
       "      <td>24</td>\n",
       "      <td>https://static.carrefour.es/hd_280x_/img_pim_f...</td>\n",
       "      <td>Carrefour</td>\n",
       "    </tr>\n",
       "  </tbody>\n",
       "</table>\n",
       "</div>"
      ],
      "text/plain": [
       "   price price_liter                                              title  \\\n",
       "0  11.21        1.89  Cerveza Heineken Lager pack de 18 latas de 33 cl.   \n",
       "1   14.8         1.6  Cerveza Cruzcampo Pilsen pack de 28 latas de 3...   \n",
       "2   5.15        1.56       Cerveza El Aguila pack de 10 latas de 33 cl.   \n",
       "3   0.25        0.76            Cerveza Carrefour Holandesa lata 33 cl.   \n",
       "4   11.7        1.95  Cerveza Estrella Galicia especial pack de 24 b...   \n",
       "\n",
       "      promotion                      brand container volumen_unid  \\\n",
       "0  No promotion             Heineken Lager      lata        33 cl   \n",
       "1  No promotion           Cruzcampo Pilsen      lata        33 cl   \n",
       "2  No promotion                  El Aguila      lata        33 cl   \n",
       "3  No promotion        Carrefour Holandesa      lata        33 cl   \n",
       "4  No promotion  Estrella Galicia especial   botella        25 cl   \n",
       "\n",
       "  quantity_pack                                          image_url supermarket  \n",
       "0            18  https://static.carrefour.es/hd_280x_/img_pim_f...   Carrefour  \n",
       "1            28  https://static.carrefour.es/hd_280x_/img_pim_f...   Carrefour  \n",
       "2            10  https://static.carrefour.es/hd_280x_/img_pim_f...   Carrefour  \n",
       "3             1  https://static.carrefour.es/hd_280x_/img_pim_f...   Carrefour  \n",
       "4            24  https://static.carrefour.es/hd_280x_/img_pim_f...   Carrefour  "
      ]
     },
     "execution_count": 426,
     "metadata": {},
     "output_type": "execute_result"
    }
   ],
   "source": [
    "data_beer_carrefour.head()"
   ]
  },
  {
   "cell_type": "code",
   "execution_count": 139,
   "metadata": {},
   "outputs": [
    {
     "data": {
      "text/plain": [
       "903.6500000000004"
      ]
     },
     "execution_count": 139,
     "metadata": {},
     "output_type": "execute_result"
    }
   ],
   "source": [
    "sum(data_beer_carrefour['price'])"
   ]
  },
  {
   "cell_type": "code",
   "execution_count": null,
   "metadata": {},
   "outputs": [],
   "source": []
  },
  {
   "cell_type": "code",
   "execution_count": null,
   "metadata": {},
   "outputs": [],
   "source": []
  },
  {
   "cell_type": "code",
   "execution_count": 99,
   "metadata": {},
   "outputs": [],
   "source": [
    "list_pages_alcampo = list(range(0,10))\n",
    "table_pages_alcampo=[]\n",
    "for number in list_pages_alcampo:\n",
    "    url_alcampo = f'https://www.alcampo.es/compra-online/bebidas/cervezas/c/W1107?q=%3Arelevance&page={number}'\n",
    "    html = requests.get(url_alcampo, headers=header).text\n",
    "    soup_alcampo = BeautifulSoup(html, 'lxml')\n",
    "    table_alcampo = soup_alcampo.find_all('div',{'class':'productGridItem'})\n",
    "    table_pages_alcampo.append(table_alcampo)\n"
   ]
  },
  {
   "cell_type": "code",
   "execution_count": 100,
   "metadata": {},
   "outputs": [
    {
     "data": {
      "text/plain": [
       "48"
      ]
     },
     "execution_count": 100,
     "metadata": {},
     "output_type": "execute_result"
    }
   ],
   "source": [
    "len(table_pages_alcampo[0])"
   ]
  },
  {
   "cell_type": "code",
   "execution_count": 101,
   "metadata": {},
   "outputs": [
    {
     "data": {
      "text/plain": [
       "10"
      ]
     },
     "execution_count": 101,
     "metadata": {},
     "output_type": "execute_result"
    }
   ],
   "source": [
    "len(table_pages_alcampo)"
   ]
  },
  {
   "cell_type": "code",
   "execution_count": 102,
   "metadata": {},
   "outputs": [],
   "source": [
    "data_raw_alcampo=[]\n",
    "for i in range(len(table_pages_alcampo)):\n",
    "    for j in range(len(table_pages_alcampo[i])):\n",
    "        rows_alcampo = table_pages_alcampo[i][j].find_all(['span','div'],{'class': ['price',\n",
    "                                                                                    'productName',\n",
    "                                                                                    'thumb cut-alt-img']})\n",
    "        promotion_alcampo = table_pages_alcampo[i][j].find_all('div', {'class': 'financiacionMensual'})\n",
    "        if len(rows_alcampo) != 0:\n",
    "            if len(promotion_alcampo) != 0:\n",
    "                data_raw_alcampo.append(rows_alcampo + promotion_alcampo)\n",
    "            else:\n",
    "                data_raw_alcampo.append(rows_alcampo)\n",
    "                "
   ]
  },
  {
   "cell_type": "code",
   "execution_count": 103,
   "metadata": {},
   "outputs": [
    {
     "data": {
      "text/plain": [
       "430"
      ]
     },
     "execution_count": 103,
     "metadata": {},
     "output_type": "execute_result"
    }
   ],
   "source": [
    "len(data_raw_alcampo)"
   ]
  },
  {
   "cell_type": "code",
   "execution_count": null,
   "metadata": {},
   "outputs": [],
   "source": []
  },
  {
   "cell_type": "code",
   "execution_count": 165,
   "metadata": {},
   "outputs": [],
   "source": [
    "#price alcampo\n",
    "def get_price_alcampo(data_text):\n",
    "    price_raw = data_text.text\n",
    "    price = re.findall('[0-9,]+',price_raw)\n",
    "    return float(re.sub(\",\",'.',price[0]))\n"
   ]
  },
  {
   "cell_type": "code",
   "execution_count": 175,
   "metadata": {},
   "outputs": [],
   "source": [
    "#price_liter alcampo\n",
    "def get_price_liter_alcampo(data_text):\n",
    "    price_raw = data_text.text\n",
    "    price = re.findall('[0-9,]+',price_raw)\n",
    "    if len(price)==1:\n",
    "        return float(re.sub(\",\",'.',price[0]))\n",
    "    else:\n",
    "        return float(re.sub(\",\",'.',price[1]))\n"
   ]
  },
  {
   "cell_type": "code",
   "execution_count": 187,
   "metadata": {},
   "outputs": [],
   "source": [
    "#title alcampo\n",
    "def get_tittle_alcampo(data_text):\n",
    "    tittle_raw = data_text.text\n",
    "    tittle = re.sub('\\n','',tittle_raw)\n",
    "    return tittle\n"
   ]
  },
  {
   "cell_type": "code",
   "execution_count": 394,
   "metadata": {},
   "outputs": [],
   "source": [
    "#promotion alcampo\n",
    "def get_promotion_alcampo(data_text):\n",
    "    promotion_raw = data_text.text\n",
    "    promotion = re.sub('\\r\\n\\r\\n\\t\\t\\t\\t\\t\\t\\t\\t\\t\\t','',promotion_raw)\n",
    "    return promotion"
   ]
  },
  {
   "cell_type": "code",
   "execution_count": 422,
   "metadata": {},
   "outputs": [],
   "source": [
    "#brand alcampo\n",
    "def get_brand_alcampo(data_text):\n",
    "    brand_raw = data_text.text\n",
    "    brand = re.sub('\\n','',brand_raw)\n",
    "    brand_2 = re.findall('[A-Z 0-9,À-ÿ]{3,} ',brand)\n",
    "    return brand_2[0]"
   ]
  },
  {
   "cell_type": "code",
   "execution_count": 396,
   "metadata": {},
   "outputs": [],
   "source": [
    "#volumen alcampo\n",
    "def get_volumen_unid_alcampo(data_text):\n",
    "    volumen_raw = data_text.text \n",
    "    volumen = re.findall('[0-9]+ cl',volumen_raw)\n",
    "    if len(volumen)!=0:\n",
    "        return volumen[0]\n",
    "    else:\n",
    "        volumen_l = re.findall('[0-9]+[ mcl]+',volumen_raw)\n",
    "        if len(volumen_l)==2:\n",
    "            return volumen_l[1]\n",
    "        else:\n",
    "            return volumen_l[0]"
   ]
  },
  {
   "cell_type": "code",
   "execution_count": 436,
   "metadata": {},
   "outputs": [],
   "source": [
    "#image alcampo\n",
    "def get_image_alcampo(data_text):\n",
    "    return data_text.find_all('img')[0].get('data-blzsrc')"
   ]
  },
  {
   "cell_type": "code",
   "execution_count": 442,
   "metadata": {},
   "outputs": [
    {
     "data": {
      "text/plain": [
       "<div class=\"productName truncate\">\n",
       "<!-- Inicio UAT-203 -->\n",
       "<span>Cerveza Clásica MAHOU pack de 28 latas de 33 cl.</span>\n",
       "<!-- Fin UAT-203 -->\n",
       "</div>"
      ]
     },
     "execution_count": 442,
     "metadata": {},
     "output_type": "execute_result"
    }
   ],
   "source": [
    "data_raw_alcampo[0][1]"
   ]
  },
  {
   "cell_type": "code",
   "execution_count": 437,
   "metadata": {},
   "outputs": [],
   "source": [
    "data_beer_alcampo= pd.DataFrame(index=range(0,len(data_raw_alcampo)),columns=['price','price_liter',\n",
    "                                                                           'title','promotion','brand',\n",
    "                                                                          'container','volumen_unid',\n",
    "                                                                          'quantity_pack','image_url',\n",
    "                                                                        'supermarket'])\n",
    "for beer_number in range(len(data_raw_alcampo)):\n",
    "    data_beer_alcampo.iloc[beer_number,0] = get_price_alcampo(data_raw_alcampo[beer_number][2])\n",
    "    data_beer_alcampo.iloc[beer_number,1] = get_price_liter_alcampo(data_raw_alcampo[beer_number][2])\n",
    "    data_beer_alcampo.iloc[beer_number,2] = get_tittle_alcampo(data_raw_alcampo[beer_number][1])\n",
    "    data_beer_alcampo.iloc[beer_number,4] = get_brand_alcampo(data_raw_alcampo[beer_number][1])\n",
    "    data_beer_alcampo.iloc[beer_number,5] = get_container(data_raw_alcampo[beer_number][1])\n",
    "    data_beer_alcampo.iloc[beer_number,6] = get_volumen_unid_alcampo(data_raw_alcampo[beer_number][1])\n",
    "    data_beer_alcampo.iloc[beer_number,7] = get_quantity_pack(data_raw_alcampo[beer_number][1])\n",
    "    data_beer_alcampo.iloc[beer_number,8] = get_image_alcampo(data_raw_alcampo[beer_number][0])\n",
    "    data_beer_alcampo.iloc[beer_number,9] = 'Alcampo'\n",
    "    if len(data_raw_alcampo[beer_number]) > 3:\n",
    "        data_beer_alcampo.iloc[beer_number,3] = get_promotion_alcampo(data_raw_alcampo[beer_number][3])\n",
    "    else:\n",
    "        data_beer_alcampo.iloc[beer_number,3] = 'No promotion'"
   ]
  },
  {
   "cell_type": "code",
   "execution_count": 439,
   "metadata": {},
   "outputs": [
    {
     "data": {
      "text/html": [
       "<div>\n",
       "<style scoped>\n",
       "    .dataframe tbody tr th:only-of-type {\n",
       "        vertical-align: middle;\n",
       "    }\n",
       "\n",
       "    .dataframe tbody tr th {\n",
       "        vertical-align: top;\n",
       "    }\n",
       "\n",
       "    .dataframe thead th {\n",
       "        text-align: right;\n",
       "    }\n",
       "</style>\n",
       "<table border=\"1\" class=\"dataframe\">\n",
       "  <thead>\n",
       "    <tr style=\"text-align: right;\">\n",
       "      <th></th>\n",
       "      <th>price</th>\n",
       "      <th>price_liter</th>\n",
       "      <th>title</th>\n",
       "      <th>promotion</th>\n",
       "      <th>brand</th>\n",
       "      <th>container</th>\n",
       "      <th>volumen_unid</th>\n",
       "      <th>quantity_pack</th>\n",
       "      <th>image_url</th>\n",
       "      <th>supermarket</th>\n",
       "    </tr>\n",
       "  </thead>\n",
       "  <tbody>\n",
       "    <tr>\n",
       "      <th>0</th>\n",
       "      <td>10.64</td>\n",
       "      <td>1.15</td>\n",
       "      <td>Cerveza Clásica MAHOU pack de 28 latas de 33 cl.</td>\n",
       "      <td>oferta válida hasta el 14/10/2020</td>\n",
       "      <td>MAHOU</td>\n",
       "      <td>lata</td>\n",
       "      <td>33 cl</td>\n",
       "      <td>28</td>\n",
       "      <td>https://www.alcampo.es/media/ha9/h39/100335357...</td>\n",
       "      <td>Alcampo</td>\n",
       "    </tr>\n",
       "    <tr>\n",
       "      <th>1</th>\n",
       "      <td>13.49</td>\n",
       "      <td>1.45</td>\n",
       "      <td>Cervezas MAHOU 5 ESTRELLAS pack 28 latas x 33 cl.</td>\n",
       "      <td>No promotion</td>\n",
       "      <td>MAHOU 5 ESTRELLAS</td>\n",
       "      <td>lata</td>\n",
       "      <td>33 cl</td>\n",
       "      <td>28</td>\n",
       "      <td>https://www.alcampo.es/media/h11/h90/902116140...</td>\n",
       "      <td>Alcampo</td>\n",
       "    </tr>\n",
       "    <tr>\n",
       "      <th>2</th>\n",
       "      <td>6.47</td>\n",
       "      <td>1.63</td>\n",
       "      <td>Cerveza  HEINEKEN pack de 12 latas de 33 centi...</td>\n",
       "      <td>No promotion</td>\n",
       "      <td>HEINEKEN</td>\n",
       "      <td>lata</td>\n",
       "      <td>33 c</td>\n",
       "      <td>12</td>\n",
       "      <td>https://www.alcampo.es/media/h67/h4f/954684103...</td>\n",
       "      <td>Alcampo</td>\n",
       "    </tr>\n",
       "    <tr>\n",
       "      <th>3</th>\n",
       "      <td>4.54</td>\n",
       "      <td>1.14</td>\n",
       "      <td>Cervezas AMSTEL 100 % MALTA  pack 12 uds, de 3...</td>\n",
       "      <td>No promotion</td>\n",
       "      <td>AMSTEL 100</td>\n",
       "      <td>No specified</td>\n",
       "      <td>33 cl</td>\n",
       "      <td>12</td>\n",
       "      <td>https://www.alcampo.es/media/hbb/h21/104542976...</td>\n",
       "      <td>Alcampo</td>\n",
       "    </tr>\n",
       "    <tr>\n",
       "      <th>4</th>\n",
       "      <td>6.52</td>\n",
       "      <td>1.64</td>\n",
       "      <td>Cervezas  Clásica MAHOU pack de 12 latas de 33...</td>\n",
       "      <td>No promotion</td>\n",
       "      <td>MAHOU</td>\n",
       "      <td>lata</td>\n",
       "      <td>33 c</td>\n",
       "      <td>12</td>\n",
       "      <td>https://www.alcampo.es/media/h64/hc7/965932407...</td>\n",
       "      <td>Alcampo</td>\n",
       "    </tr>\n",
       "  </tbody>\n",
       "</table>\n",
       "</div>"
      ],
      "text/plain": [
       "   price price_liter                                              title  \\\n",
       "0  10.64        1.15   Cerveza Clásica MAHOU pack de 28 latas de 33 cl.   \n",
       "1  13.49        1.45  Cervezas MAHOU 5 ESTRELLAS pack 28 latas x 33 cl.   \n",
       "2   6.47        1.63  Cerveza  HEINEKEN pack de 12 latas de 33 centi...   \n",
       "3   4.54        1.14  Cervezas AMSTEL 100 % MALTA  pack 12 uds, de 3...   \n",
       "4   6.52        1.64  Cervezas  Clásica MAHOU pack de 12 latas de 33...   \n",
       "\n",
       "                           promotion                brand     container  \\\n",
       "0  oferta válida hasta el 14/10/2020               MAHOU           lata   \n",
       "1                       No promotion   MAHOU 5 ESTRELLAS           lata   \n",
       "2                       No promotion            HEINEKEN           lata   \n",
       "3                       No promotion          AMSTEL 100   No specified   \n",
       "4                       No promotion               MAHOU           lata   \n",
       "\n",
       "  volumen_unid quantity_pack  \\\n",
       "0        33 cl            28   \n",
       "1        33 cl            28   \n",
       "2         33 c            12   \n",
       "3        33 cl            12   \n",
       "4         33 c            12   \n",
       "\n",
       "                                           image_url supermarket  \n",
       "0  https://www.alcampo.es/media/ha9/h39/100335357...     Alcampo  \n",
       "1  https://www.alcampo.es/media/h11/h90/902116140...     Alcampo  \n",
       "2  https://www.alcampo.es/media/h67/h4f/954684103...     Alcampo  \n",
       "3  https://www.alcampo.es/media/hbb/h21/104542976...     Alcampo  \n",
       "4  https://www.alcampo.es/media/h64/hc7/965932407...     Alcampo  "
      ]
     },
     "execution_count": 439,
     "metadata": {},
     "output_type": "execute_result"
    }
   ],
   "source": [
    "data_beer_alcampo.head()"
   ]
  },
  {
   "cell_type": "code",
   "execution_count": null,
   "metadata": {},
   "outputs": [],
   "source": []
  },
  {
   "cell_type": "code",
   "execution_count": null,
   "metadata": {},
   "outputs": [],
   "source": []
  },
  {
   "cell_type": "code",
   "execution_count": null,
   "metadata": {},
   "outputs": [],
   "source": []
  }
 ],
 "metadata": {
  "kernelspec": {
   "display_name": "Python [conda env:IronHack_env]",
   "language": "python",
   "name": "conda-env-IronHack_env-py"
  },
  "language_info": {
   "codemirror_mode": {
    "name": "ipython",
    "version": 3
   },
   "file_extension": ".py",
   "mimetype": "text/x-python",
   "name": "python",
   "nbconvert_exporter": "python",
   "pygments_lexer": "ipython3",
   "version": "3.7.7"
  }
 },
 "nbformat": 4,
 "nbformat_minor": 4
}
