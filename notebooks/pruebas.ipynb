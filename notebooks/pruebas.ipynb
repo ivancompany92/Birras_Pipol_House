{
 "cells": [
  {
   "cell_type": "markdown",
   "metadata": {},
   "source": [
    "### prueba scrapear!"
   ]
  },
  {
   "cell_type": "code",
   "execution_count": 1,
   "metadata": {},
   "outputs": [],
   "source": [
    "import pandas as pd\n",
    "import requests\n",
    "from bs4 import BeautifulSoup\n",
    "import re\n",
    "from fake_useragent import UserAgent\n",
    "from selenium import webdriver\n",
    "from selenium.webdriver.firefox.options import Options\n",
    "import time\n",
    "import os"
   ]
  },
  {
   "cell_type": "code",
   "execution_count": 2,
   "metadata": {},
   "outputs": [
    {
     "name": "stderr",
     "output_type": "stream",
     "text": [
      "Error occurred during loading data. Trying to use cache server https://fake-useragent.herokuapp.com/browsers/0.1.11\n",
      "Traceback (most recent call last):\n",
      "  File \"/home/ivan/miniconda3/envs/IronHack_env/lib/python3.7/urllib/request.py\", line 1319, in do_open\n",
      "    encode_chunked=req.has_header('Transfer-encoding'))\n",
      "  File \"/home/ivan/miniconda3/envs/IronHack_env/lib/python3.7/http/client.py\", line 1252, in request\n",
      "    self._send_request(method, url, body, headers, encode_chunked)\n",
      "  File \"/home/ivan/miniconda3/envs/IronHack_env/lib/python3.7/http/client.py\", line 1298, in _send_request\n",
      "    self.endheaders(body, encode_chunked=encode_chunked)\n",
      "  File \"/home/ivan/miniconda3/envs/IronHack_env/lib/python3.7/http/client.py\", line 1247, in endheaders\n",
      "    self._send_output(message_body, encode_chunked=encode_chunked)\n",
      "  File \"/home/ivan/miniconda3/envs/IronHack_env/lib/python3.7/http/client.py\", line 1026, in _send_output\n",
      "    self.send(msg)\n",
      "  File \"/home/ivan/miniconda3/envs/IronHack_env/lib/python3.7/http/client.py\", line 966, in send\n",
      "    self.connect()\n",
      "  File \"/home/ivan/miniconda3/envs/IronHack_env/lib/python3.7/http/client.py\", line 938, in connect\n",
      "    (self.host,self.port), self.timeout, self.source_address)\n",
      "  File \"/home/ivan/miniconda3/envs/IronHack_env/lib/python3.7/socket.py\", line 728, in create_connection\n",
      "    raise err\n",
      "  File \"/home/ivan/miniconda3/envs/IronHack_env/lib/python3.7/socket.py\", line 716, in create_connection\n",
      "    sock.connect(sa)\n",
      "socket.timeout: timed out\n",
      "\n",
      "During handling of the above exception, another exception occurred:\n",
      "\n",
      "Traceback (most recent call last):\n",
      "  File \"/home/ivan/miniconda3/envs/IronHack_env/lib/python3.7/site-packages/fake_useragent/utils.py\", line 67, in get\n",
      "    context=context,\n",
      "  File \"/home/ivan/miniconda3/envs/IronHack_env/lib/python3.7/urllib/request.py\", line 222, in urlopen\n",
      "    return opener.open(url, data, timeout)\n",
      "  File \"/home/ivan/miniconda3/envs/IronHack_env/lib/python3.7/urllib/request.py\", line 525, in open\n",
      "    response = self._open(req, data)\n",
      "  File \"/home/ivan/miniconda3/envs/IronHack_env/lib/python3.7/urllib/request.py\", line 543, in _open\n",
      "    '_open', req)\n",
      "  File \"/home/ivan/miniconda3/envs/IronHack_env/lib/python3.7/urllib/request.py\", line 503, in _call_chain\n",
      "    result = func(*args)\n",
      "  File \"/home/ivan/miniconda3/envs/IronHack_env/lib/python3.7/urllib/request.py\", line 1347, in http_open\n",
      "    return self.do_open(http.client.HTTPConnection, req)\n",
      "  File \"/home/ivan/miniconda3/envs/IronHack_env/lib/python3.7/urllib/request.py\", line 1321, in do_open\n",
      "    raise URLError(err)\n",
      "urllib.error.URLError: <urlopen error timed out>\n",
      "\n",
      "During handling of the above exception, another exception occurred:\n",
      "\n",
      "Traceback (most recent call last):\n",
      "  File \"/home/ivan/miniconda3/envs/IronHack_env/lib/python3.7/site-packages/fake_useragent/utils.py\", line 166, in load\n",
      "    verify_ssl=verify_ssl,\n",
      "  File \"/home/ivan/miniconda3/envs/IronHack_env/lib/python3.7/site-packages/fake_useragent/utils.py\", line 122, in get_browser_versions\n",
      "    verify_ssl=verify_ssl,\n",
      "  File \"/home/ivan/miniconda3/envs/IronHack_env/lib/python3.7/site-packages/fake_useragent/utils.py\", line 84, in get\n",
      "    raise FakeUserAgentError('Maximum amount of retries reached')\n",
      "fake_useragent.errors.FakeUserAgentError: Maximum amount of retries reached\n"
     ]
    }
   ],
   "source": [
    "ua = UserAgent()\n",
    "header = {\"User-Agent\": \"Mozilla/5.0 (X11; CrOS x86_64 12871.102.0) AppleWebKit/537.36 (KHTML, like Gecko) Chrome/81.0.4044.141 Safari/537.36\"}"
   ]
  },
  {
   "cell_type": "markdown",
   "metadata": {},
   "source": [
    "#### carrefour"
   ]
  },
  {
   "cell_type": "code",
   "execution_count": 3,
   "metadata": {},
   "outputs": [],
   "source": [
    "list_pages_carrefour = list(range(0,336,24))\n",
    "table_pages_carrefour=[]\n",
    "for number in list_pages_carrefour:\n",
    "    url_carrefour = f'https://www.carrefour.es/supermercado/bebidas/cerveza/todas-las-cervezas/N-1uq8b5u/c?No={number}'\n",
    "    html = requests.get(url_carrefour, headers=header).text\n",
    "    soup_carrefour = BeautifulSoup(html, 'lxml')\n",
    "    table_carrefour = soup_carrefour.find_all({'article':'product-card-item'})\n",
    "    table_pages_carrefour.append(table_carrefour)"
   ]
  },
  {
   "cell_type": "code",
   "execution_count": 4,
   "metadata": {},
   "outputs": [
    {
     "data": {
      "text/plain": [
       "<article class=\"product-card-item\">\n",
       "<div class=\"right-side\">\n",
       "<div class=\"photo\">\n",
       "<a class=\"js-gap-product-click-super\" data-product-discount=\"\" data-productid=\"521028271\" data-special-campaign=\"\" href=\"/supermercado/cerveza-cruzcampo-pilsen-pack-de-24-botellas-de-25-cl-cruzcampo/R-521028271/p\" title=\"Cerveza Cruzcampo Pilsen pack de 24 botellas de 25 cl.\">\n",
       "<img alt=\"Cerveza Cruzcampo Pilsen pack de 24 botellas de 25 cl.\" aria-describedby=\"product-521028271\" sizes=\"(max-width: 280px) 80px,(max-width: 490px) 100px, (max-width: 768px) 560px, (max-width: 991px) 280px, (max-width: 1280px) 560px\" src=\"https://static.carrefour.es/hd_280x_/img_pim_food/000147_00_1.jpg\" srcset=\"https://static.carrefour.es/hd_560x_/img_pim_food/000147_00_1.jpg 560w, https://static.carrefour.es/hd_280x_/img_pim_food/000147_00_1.jpg 280w, https://static.carrefour.es/hd_100x_/img_pim_food/000147_00_1.jpg 100w, https://static.carrefour.es/hd_100x_/img_pim_food/000147_00_1.jpg  80w\" width=\"100%\"/>\n",
       "</a>\n",
       "</div>\n",
       "</div>\n",
       "<div class=\"text\">\n",
       "<div class=\"price-container\">\n",
       "<span class=\"price\">9,39 €</span>\n",
       "<p class=\"format-price\">\n",
       " Pack 24x25 Cl. |\n",
       "1,57 €/l</p>\n",
       "</div>\n",
       "<div class=\"brand\">\n",
       "<a class=\"js-gap-product-click-super\" data-product-discount=\"\" data-special-campaign=\"\" href=\"/supermercado/cerveza-cruzcampo-pilsen-pack-de-24-botellas-de-25-cl-cruzcampo/R-521028271/p\" title=\"Ir a Cerveza Cruzcampo Pilsen pack de 24 botellas de 25 cl.\">\n",
       "<p class=\"title-product\">\n",
       "Cerveza Cruzcampo Pilsen pack de 24 botellas de 25 cl.</p>\n",
       "</a>\n",
       "</div>\n",
       "<div class=\"product-type\">\n",
       "</div>\n",
       "</div>\n",
       "<div class=\"container-anadir\">\n",
       "<div>\n",
       "</div>\n",
       "<div class=\"container-anadirBTN js-get-data-add-to-cart\" data-ci-id=\"\" data-datalayer='{\"event\":\"ecommerce-add-to-cart\",\"ecommerce\":{\"currencyCode\":\"EUR\",\"add\":{\"products\":[{\"id\":\"[8411090024296, 8411090024135, 8411090024081, 8411090124255]\",\"category\":\"cat20003-bebidas/cat20023-cerveza/cat20189-rubia\",\"name\":\"cerveza-cruzcampo-pilsen-pack-de-24-botellas-de-25-cl\",\"brand\":\"cruzcampo\",\"productDimensions\":{\"ecPageFacet\":\"nn\",\"ecProductInternalId\":\"521028271\",\"ecProductStock\":\"stock-z\",\"ecSpecialCampaign\":\"nn\",\"ecProductSMS\":\"000147\",\"ecPageType\":\"nn\"},\"coupon\":\"nn\",\"variant\":\"24x25-cl-pack\",\"productMetrics\":{\"ecProductDiscount\":\"0.00\"}}]}}}' data-google=\"\" data-price=\"9.39\" data-product-discount=\"\" data-product-id=\"521028271\" data-quantity=\"0\" data-sku-id=\"0001470000\" data-special-campaign=\"\">\n",
       "<button class=\"anadirBTN js-anadirBTN\" data-texto=\"Añadir\">Añadir</button>\n",
       "<div class=\"num-item js-num-item hide\">\n",
       "<span class=\"js-anadirBTN less-units\">\n",
       "<img class=\"js-ico-menos\" src=\"https://static.carrefour.es/supermercado/static/style/css/css-files/gfx/papelera.png\"/>\n",
       "</span>\n",
       "<input class=\"sel-units js-sel-units\" data-text-number=\"Por favor, escribe un número válido.\" data-text-required=\"Este campo es obligatorio.\" maxlength=\"2\" min=\"1\" type=\"num\" value=\"0\"/>\n",
       "<span class=\"js-anadirBTN more-units\">\n",
       "<img src=\"https://static.carrefour.es/supermercado/static/style/css/css-files/gfx/mas.png\"/>\n",
       "</span>\n",
       "</div>\n",
       "</div>\n",
       "</div>\n",
       "</article>"
      ]
     },
     "execution_count": 4,
     "metadata": {},
     "output_type": "execute_result"
    }
   ],
   "source": [
    "table_pages_carrefour[0][23]"
   ]
  },
  {
   "cell_type": "code",
   "execution_count": 5,
   "metadata": {},
   "outputs": [
    {
     "data": {
      "text/plain": [
       "25"
      ]
     },
     "execution_count": 5,
     "metadata": {},
     "output_type": "execute_result"
    }
   ],
   "source": [
    "len(table_pages_carrefour[0])"
   ]
  },
  {
   "cell_type": "code",
   "execution_count": 6,
   "metadata": {},
   "outputs": [],
   "source": [
    "data_raw_carrefour=[]\n",
    "for i in range(len(table_pages_carrefour)):\n",
    "    for j in range(len(table_pages_carrefour[i])):\n",
    "        rows_carrefour = table_pages_carrefour[i][j].find_all(['span','p','a'], {'class': ['price','price-less','format-price','js-gap-product-click-super']})\n",
    "        promotion_carrefour = table_pages_carrefour[i][j].find_all(['p'], {'class': ['promocion-copy']})\n",
    "        if len(rows_carrefour) != 0:\n",
    "            if len(promotion_carrefour) != 0:\n",
    "                data_raw_carrefour.append(rows_carrefour + promotion_carrefour)\n",
    "            else:\n",
    "                data_raw_carrefour.append(rows_carrefour)\n",
    "                \n",
    "            "
   ]
  },
  {
   "cell_type": "code",
   "execution_count": 7,
   "metadata": {},
   "outputs": [
    {
     "data": {
      "text/plain": [
       "[<a class=\"js-gap-product-click-super\" data-product-discount=\"\" data-productid=\"551303025\" data-special-campaign=\"\" href=\"/supermercado/cerveza-amstel-100-malta-pack-de-28-latas-de-33-cl-amstel/R-551303025/p\" title=\"Cerveza Amstel 100% malta pack de 28 latas de 33 cl.\">\n",
       " <img alt=\"Cerveza Amstel 100% malta pack de 28 latas de 33 cl.\" aria-describedby=\"product-551303025\" sizes=\"(max-width: 280px) 80px,(max-width: 490px) 100px, (max-width: 768px) 560px, (max-width: 991px) 280px, (max-width: 1280px) 560px\" src=\"https://static.carrefour.es/hd_280x_/img_pim_food/185128_00_1.jpg\" srcset=\"https://static.carrefour.es/hd_560x_/img_pim_food/185128_00_1.jpg 560w, https://static.carrefour.es/hd_280x_/img_pim_food/185128_00_1.jpg 280w, https://static.carrefour.es/hd_100x_/img_pim_food/185128_00_1.jpg 100w, https://static.carrefour.es/hd_100x_/img_pim_food/185128_00_1.jpg  80w\" width=\"100%\"/>\n",
       " </a>,\n",
       " <span class=\"price\">14,38 €</span>,\n",
       " <p class=\"format-price\">\n",
       "  Pack 28x33 Cl. |\n",
       " 1,56 €/l</p>,\n",
       " <a class=\"js-gap-product-click-super\" data-product-discount=\"\" data-special-campaign=\"\" href=\"/supermercado/cerveza-amstel-100-malta-pack-de-28-latas-de-33-cl-amstel/R-551303025/p\" title=\"Ir a Cerveza Amstel 100% malta pack de 28 latas de 33 cl.\">\n",
       " <p class=\"title-product\">\n",
       " Cerveza Amstel 100% malta pack de 28 latas de 33 cl.</p>\n",
       " </a>]"
      ]
     },
     "execution_count": 7,
     "metadata": {},
     "output_type": "execute_result"
    }
   ],
   "source": [
    "data_raw_carrefour[20]"
   ]
  },
  {
   "cell_type": "code",
   "execution_count": 8,
   "metadata": {},
   "outputs": [
    {
     "data": {
      "text/plain": [
       "333"
      ]
     },
     "execution_count": 8,
     "metadata": {},
     "output_type": "execute_result"
    }
   ],
   "source": [
    "len(data_raw_carrefour)"
   ]
  },
  {
   "cell_type": "code",
   "execution_count": 9,
   "metadata": {},
   "outputs": [],
   "source": [
    "#price in euros\n",
    "# price_raw = data_raw[0][1].text\n",
    "\n",
    "def get_price(data_text):\n",
    "    price_raw = data_text.text\n",
    "    price = re.sub('\\xa0€','',price_raw)\n",
    "    price = re.sub('\\n','',price)\n",
    "    return float(re.sub(\",\",'.',price))"
   ]
  },
  {
   "cell_type": "code",
   "execution_count": 10,
   "metadata": {},
   "outputs": [],
   "source": [
    "#price per liter\n",
    "# price_l_raw = data_raw[0][2].text\n",
    "\n",
    "def get_price_l(data_text):\n",
    "    price_l_raw = data_text.text\n",
    "    price_l = re.findall('[0-9]+,[0-9]+', price_l_raw)\n",
    "    price_liter = re.sub(',','.',price_l[0])\n",
    "    return float(price_liter)"
   ]
  },
  {
   "cell_type": "code",
   "execution_count": 11,
   "metadata": {},
   "outputs": [],
   "source": [
    "#title\n",
    "# title_raw = data_raw[0][3].text\n",
    "\n",
    "def get_title(data_text):\n",
    "    title_raw = data_text.text\n",
    "    title = re.sub(\"\\n\",'',title_raw)\n",
    "    return title"
   ]
  },
  {
   "cell_type": "code",
   "execution_count": 12,
   "metadata": {},
   "outputs": [],
   "source": [
    "#promotion product\n",
    "\n",
    "def get_promotion(data_text):\n",
    "        promotion_raw = data_text.text\n",
    "        promotion = re.sub(\"\\n\",'',promotion_raw)\n",
    "        return promotion\n"
   ]
  },
  {
   "cell_type": "code",
   "execution_count": 13,
   "metadata": {},
   "outputs": [],
   "source": [
    "#brand\n",
    "def get_brand(data_text):\n",
    "    brand_raw = data_text.text\n",
    "    brand = re.split('(Cerveza )|( pack)|( botella)|( lata)+|(cl)',brand_raw)\n",
    "    return brand[6].lower()"
   ]
  },
  {
   "cell_type": "code",
   "execution_count": 14,
   "metadata": {},
   "outputs": [],
   "source": [
    "#container (carrefour  / alcampo)\n",
    "def get_container(data_text):\n",
    "    container_raw = data_text.text\n",
    "    container = re.findall('botella|lata|barril',container_raw)\n",
    "    if len(container)!=0:\n",
    "        return container[0]\n",
    "    else:\n",
    "        return 'No specified'"
   ]
  },
  {
   "cell_type": "code",
   "execution_count": 15,
   "metadata": {},
   "outputs": [],
   "source": [
    "#volumen\n",
    "def get_volumen_unid(data_text):\n",
    "    volumen_raw = data_text.text \n",
    "    volumen = re.findall('[0-9]+ cl',volumen_raw)\n",
    "    if len(volumen)!=0:\n",
    "        return volumen[0]\n",
    "    else:\n",
    "        volumen_l = re.findall('[0-9]+[ mcl]+',volumen_raw)\n",
    "        return volumen_l[0]"
   ]
  },
  {
   "cell_type": "code",
   "execution_count": 16,
   "metadata": {},
   "outputs": [],
   "source": [
    "#quantity (carrefour  / alcampo)\n",
    "def get_quantity_pack(data_text):\n",
    "    quantity_raw = data_text.text\n",
    "    quantity_split = re.split('pack de|pack',quantity_raw)\n",
    "    if len(quantity_split)==2:\n",
    "        quantity = re.findall('[0-9]+',quantity_split[1])\n",
    "        return quantity[0]\n",
    "    else:\n",
    "        return 1"
   ]
  },
  {
   "cell_type": "code",
   "execution_count": 17,
   "metadata": {},
   "outputs": [],
   "source": [
    "#image\n",
    "def get_image(data_text):\n",
    "    return data_text.find_all('img')[0].get('src')"
   ]
  },
  {
   "cell_type": "code",
   "execution_count": 18,
   "metadata": {},
   "outputs": [],
   "source": [
    "data_beer_carrefour = pd.DataFrame(index=range(0,len(data_raw_carrefour)),columns=['price','price_liter',\n",
    "                                                                           'title','promotion','brand',\n",
    "                                                                          'container','volumen_unid',\n",
    "                                                                          'quantity_pack','image_url',\n",
    "                                                                        'supermarket'])\n",
    "for beer_number in range(len(data_raw_carrefour)):\n",
    "    data_beer_carrefour.iloc[beer_number,0] = get_price(data_raw_carrefour[beer_number][1])\n",
    "    data_beer_carrefour.iloc[beer_number,1] = get_price_l(data_raw_carrefour[beer_number][2])\n",
    "    data_beer_carrefour.iloc[beer_number,2] = get_title(data_raw_carrefour[beer_number][3])\n",
    "    data_beer_carrefour.iloc[beer_number,4] = get_brand(data_raw_carrefour[beer_number][3])\n",
    "    data_beer_carrefour.iloc[beer_number,5] = get_container(data_raw_carrefour[beer_number][3])\n",
    "    data_beer_carrefour.iloc[beer_number,6] = get_volumen_unid(data_raw_carrefour[beer_number][3])\n",
    "    data_beer_carrefour.iloc[beer_number,7] = get_quantity_pack(data_raw_carrefour[beer_number][3])\n",
    "    data_beer_carrefour.iloc[beer_number,8] = get_image(data_raw_carrefour[beer_number][0])\n",
    "    data_beer_carrefour.iloc[beer_number,9] = 'Carrefour'\n",
    "    if len(data_raw_carrefour[beer_number]) > 4:\n",
    "        data_beer_carrefour.iloc[beer_number,3] = get_promotion(data_raw_carrefour[beer_number][4])\n",
    "    else:\n",
    "        data_beer_carrefour.iloc[beer_number,3] = 'No promotion'\n"
   ]
  },
  {
   "cell_type": "code",
   "execution_count": 19,
   "metadata": {},
   "outputs": [
    {
     "data": {
      "text/html": [
       "<div>\n",
       "<style scoped>\n",
       "    .dataframe tbody tr th:only-of-type {\n",
       "        vertical-align: middle;\n",
       "    }\n",
       "\n",
       "    .dataframe tbody tr th {\n",
       "        vertical-align: top;\n",
       "    }\n",
       "\n",
       "    .dataframe thead th {\n",
       "        text-align: right;\n",
       "    }\n",
       "</style>\n",
       "<table border=\"1\" class=\"dataframe\">\n",
       "  <thead>\n",
       "    <tr style=\"text-align: right;\">\n",
       "      <th></th>\n",
       "      <th>price</th>\n",
       "      <th>price_liter</th>\n",
       "      <th>title</th>\n",
       "      <th>promotion</th>\n",
       "      <th>brand</th>\n",
       "      <th>container</th>\n",
       "      <th>volumen_unid</th>\n",
       "      <th>quantity_pack</th>\n",
       "      <th>image_url</th>\n",
       "      <th>supermarket</th>\n",
       "    </tr>\n",
       "  </thead>\n",
       "  <tbody>\n",
       "    <tr>\n",
       "      <th>0</th>\n",
       "      <td>11.21</td>\n",
       "      <td>1.89</td>\n",
       "      <td>Cerveza Heineken Lager pack de 18 latas de 33 cl.</td>\n",
       "      <td>No promotion</td>\n",
       "      <td>heineken lager</td>\n",
       "      <td>lata</td>\n",
       "      <td>33 cl</td>\n",
       "      <td>18</td>\n",
       "      <td>https://static.carrefour.es/hd_280x_/img_pim_f...</td>\n",
       "      <td>Carrefour</td>\n",
       "    </tr>\n",
       "    <tr>\n",
       "      <th>1</th>\n",
       "      <td>14.8</td>\n",
       "      <td>1.6</td>\n",
       "      <td>Cerveza Cruzcampo Pilsen pack de 28 latas de 3...</td>\n",
       "      <td>No promotion</td>\n",
       "      <td>cruzcampo pilsen</td>\n",
       "      <td>lata</td>\n",
       "      <td>33 cl</td>\n",
       "      <td>28</td>\n",
       "      <td>https://static.carrefour.es/hd_280x_/img_pim_f...</td>\n",
       "      <td>Carrefour</td>\n",
       "    </tr>\n",
       "    <tr>\n",
       "      <th>2</th>\n",
       "      <td>5.15</td>\n",
       "      <td>1.56</td>\n",
       "      <td>Cerveza El Aguila pack de 10 latas de 33 cl.</td>\n",
       "      <td>No promotion</td>\n",
       "      <td>el aguila</td>\n",
       "      <td>lata</td>\n",
       "      <td>33 cl</td>\n",
       "      <td>10</td>\n",
       "      <td>https://static.carrefour.es/hd_280x_/img_pim_f...</td>\n",
       "      <td>Carrefour</td>\n",
       "    </tr>\n",
       "    <tr>\n",
       "      <th>3</th>\n",
       "      <td>0.25</td>\n",
       "      <td>0.76</td>\n",
       "      <td>Cerveza Carrefour Holandesa lata 33 cl.</td>\n",
       "      <td>No promotion</td>\n",
       "      <td>carrefour holandesa</td>\n",
       "      <td>lata</td>\n",
       "      <td>33 cl</td>\n",
       "      <td>1</td>\n",
       "      <td>https://static.carrefour.es/hd_280x_/img_pim_f...</td>\n",
       "      <td>Carrefour</td>\n",
       "    </tr>\n",
       "    <tr>\n",
       "      <th>4</th>\n",
       "      <td>14.15</td>\n",
       "      <td>1.53</td>\n",
       "      <td>Cerveza Mahou Clásica pack de 28 latas de 33 cl.</td>\n",
       "      <td>No promotion</td>\n",
       "      <td>mahou clásica</td>\n",
       "      <td>lata</td>\n",
       "      <td>33 cl</td>\n",
       "      <td>28</td>\n",
       "      <td>https://static.carrefour.es/hd_280x_/img_pim_f...</td>\n",
       "      <td>Carrefour</td>\n",
       "    </tr>\n",
       "  </tbody>\n",
       "</table>\n",
       "</div>"
      ],
      "text/plain": [
       "   price price_liter                                              title  \\\n",
       "0  11.21        1.89  Cerveza Heineken Lager pack de 18 latas de 33 cl.   \n",
       "1   14.8         1.6  Cerveza Cruzcampo Pilsen pack de 28 latas de 3...   \n",
       "2   5.15        1.56       Cerveza El Aguila pack de 10 latas de 33 cl.   \n",
       "3   0.25        0.76            Cerveza Carrefour Holandesa lata 33 cl.   \n",
       "4  14.15        1.53   Cerveza Mahou Clásica pack de 28 latas de 33 cl.   \n",
       "\n",
       "      promotion                brand container volumen_unid quantity_pack  \\\n",
       "0  No promotion       heineken lager      lata        33 cl            18   \n",
       "1  No promotion     cruzcampo pilsen      lata        33 cl            28   \n",
       "2  No promotion            el aguila      lata        33 cl            10   \n",
       "3  No promotion  carrefour holandesa      lata        33 cl             1   \n",
       "4  No promotion        mahou clásica      lata        33 cl            28   \n",
       "\n",
       "                                           image_url supermarket  \n",
       "0  https://static.carrefour.es/hd_280x_/img_pim_f...   Carrefour  \n",
       "1  https://static.carrefour.es/hd_280x_/img_pim_f...   Carrefour  \n",
       "2  https://static.carrefour.es/hd_280x_/img_pim_f...   Carrefour  \n",
       "3  https://static.carrefour.es/hd_280x_/img_pim_f...   Carrefour  \n",
       "4  https://static.carrefour.es/hd_280x_/img_pim_f...   Carrefour  "
      ]
     },
     "execution_count": 19,
     "metadata": {},
     "output_type": "execute_result"
    }
   ],
   "source": [
    "data_beer_carrefour.head()"
   ]
  },
  {
   "cell_type": "code",
   "execution_count": 20,
   "metadata": {},
   "outputs": [
    {
     "data": {
      "text/plain": [
       "913.0800000000002"
      ]
     },
     "execution_count": 20,
     "metadata": {},
     "output_type": "execute_result"
    }
   ],
   "source": [
    "sum(data_beer_carrefour['price'])"
   ]
  },
  {
   "cell_type": "code",
   "execution_count": null,
   "metadata": {},
   "outputs": [],
   "source": []
  },
  {
   "cell_type": "markdown",
   "metadata": {},
   "source": [
    "## Alcampo"
   ]
  },
  {
   "cell_type": "code",
   "execution_count": 20,
   "metadata": {},
   "outputs": [],
   "source": [
    "list_pages_alcampo = list(range(0,10))\n",
    "table_pages_alcampo=[]\n",
    "for number in list_pages_alcampo:\n",
    "    url_alcampo = f'https://www.alcampo.es/compra-online/bebidas/cervezas/c/W1107?q=%3Arelevance&page={number}'\n",
    "    html = requests.get(url_alcampo, headers=header).text\n",
    "    soup_alcampo = BeautifulSoup(html, 'lxml')\n",
    "    table_alcampo = soup_alcampo.find_all('div',{'class':'productGridItem'})\n",
    "    table_pages_alcampo.append(table_alcampo)\n",
    "    "
   ]
  },
  {
   "cell_type": "code",
   "execution_count": 21,
   "metadata": {},
   "outputs": [
    {
     "data": {
      "text/plain": [
       "48"
      ]
     },
     "execution_count": 21,
     "metadata": {},
     "output_type": "execute_result"
    }
   ],
   "source": [
    "len(table_pages_alcampo[0])"
   ]
  },
  {
   "cell_type": "code",
   "execution_count": 22,
   "metadata": {},
   "outputs": [
    {
     "data": {
      "text/plain": [
       "10"
      ]
     },
     "execution_count": 22,
     "metadata": {},
     "output_type": "execute_result"
    }
   ],
   "source": [
    "len(table_pages_alcampo)"
   ]
  },
  {
   "cell_type": "code",
   "execution_count": 23,
   "metadata": {},
   "outputs": [],
   "source": [
    "data_raw_alcampo=[]\n",
    "for i in range(len(table_pages_alcampo)):\n",
    "    for j in range(len(table_pages_alcampo[i])):\n",
    "        rows_alcampo = table_pages_alcampo[i][j].find_all(['span','div'],{'class': ['price',\n",
    "                                                                                    'productName',\n",
    "                                                                                    'thumb cut-alt-img']})\n",
    "        promotion_alcampo = table_pages_alcampo[i][j].find_all('div', {'class': 'financiacionMensual'})\n",
    "        if len(rows_alcampo) != 0:\n",
    "            if len(promotion_alcampo) != 0:\n",
    "                data_raw_alcampo.append(rows_alcampo + promotion_alcampo)\n",
    "            else:\n",
    "                data_raw_alcampo.append(rows_alcampo)\n",
    "                "
   ]
  },
  {
   "cell_type": "code",
   "execution_count": 26,
   "metadata": {},
   "outputs": [
    {
     "data": {
      "text/plain": [
       "432"
      ]
     },
     "execution_count": 26,
     "metadata": {},
     "output_type": "execute_result"
    }
   ],
   "source": [
    "len(data_raw_alcampo)"
   ]
  },
  {
   "cell_type": "code",
   "execution_count": null,
   "metadata": {},
   "outputs": [],
   "source": []
  },
  {
   "cell_type": "code",
   "execution_count": 27,
   "metadata": {},
   "outputs": [],
   "source": [
    "#price alcampo / corte ingles / Dia\n",
    "def get_price_alcampo(data_text):\n",
    "    price_raw = data_text.text\n",
    "    price = re.findall('[0-9,]+',price_raw)\n",
    "    return float(re.sub(\",\",'.',price[0]))\n"
   ]
  },
  {
   "cell_type": "code",
   "execution_count": 28,
   "metadata": {},
   "outputs": [],
   "source": [
    "#price_liter alcampo / corte ingles / Dia\n",
    "def get_price_liter_alcampo(data_text):\n",
    "    price_raw = data_text.text\n",
    "    price = re.findall('[0-9,]+',price_raw)\n",
    "    if len(price)==1:\n",
    "        return float(re.sub(\",\",'.',price[0]))\n",
    "    else:\n",
    "        return float(re.sub(\",\",'.',price[1]))\n"
   ]
  },
  {
   "cell_type": "code",
   "execution_count": 95,
   "metadata": {},
   "outputs": [],
   "source": [
    "#title alcampo / corte ingles\n",
    "def get_tittle_alcampo(data_text):\n",
    "    tittle_raw = data_text.text\n",
    "    tittle = re.sub('\\n','',tittle_raw)\n",
    "    return tittle.lower()\n"
   ]
  },
  {
   "cell_type": "code",
   "execution_count": 30,
   "metadata": {},
   "outputs": [],
   "source": [
    "#promotion alcampo\n",
    "def get_promotion_alcampo(data_text):\n",
    "    promotion_raw = data_text.text\n",
    "    promotion = re.sub('\\r\\n\\r\\n\\t\\t\\t\\t\\t\\t\\t\\t\\t\\t','',promotion_raw)\n",
    "    return promotion"
   ]
  },
  {
   "cell_type": "code",
   "execution_count": 103,
   "metadata": {},
   "outputs": [],
   "source": [
    "#brand alcampo\n",
    "def get_brand_alcampo(data_text):\n",
    "    brand_raw = data_text.text\n",
    "    brand = re.sub('\\n','',brand_raw)\n",
    "    brand_2 = re.split('0,0',brand)\n",
    "    if len(brand_2)==1:\n",
    "        brand_3 = re.findall(\"[a-zA-Z 0-9,À-ÿ&'-]+ \",brand_2[0])\n",
    "        return brand_3[0].lower()\n",
    "    else:\n",
    "        brand_3 = re.findall(\"[a-zA-Z 0-9,À-ÿ&'-]+ \",brand_2[1])\n",
    "        return brand_3[0].lower()"
   ]
  },
  {
   "cell_type": "code",
   "execution_count": 32,
   "metadata": {},
   "outputs": [],
   "source": [
    "#volumen alcampo\n",
    "def get_volumen_unid_alcampo(data_text):\n",
    "    volumen_raw = data_text.text \n",
    "    volumen = re.findall('[0-9.,]+ cl',volumen_raw)\n",
    "    if len(volumen)!=0:\n",
    "        return volumen[0]\n",
    "    else:\n",
    "        volumen_l = re.findall('[0-9.,]+[ mclL]+',volumen_raw)\n",
    "        if len(volumen_l)==2:\n",
    "            return volumen_l[1]\n",
    "        else:\n",
    "            return volumen_l[0]"
   ]
  },
  {
   "cell_type": "code",
   "execution_count": 33,
   "metadata": {},
   "outputs": [],
   "source": [
    "#image alcampo\n",
    "def get_image_alcampo(data_text):\n",
    "    return data_text.find_all('img')[0].get('data-blzsrc')"
   ]
  },
  {
   "cell_type": "code",
   "execution_count": 34,
   "metadata": {},
   "outputs": [
    {
     "data": {
      "text/plain": [
       "'\\n\\nCerveza artesana Pilsner MADRÍ CHULAPO botella 33 cl. \\n\\n'"
      ]
     },
     "execution_count": 34,
     "metadata": {},
     "output_type": "execute_result"
    }
   ],
   "source": [
    "data_raw_alcampo[338][1].text"
   ]
  },
  {
   "cell_type": "code",
   "execution_count": 104,
   "metadata": {},
   "outputs": [],
   "source": [
    "data_beer_alcampo= pd.DataFrame(index=range(0,len(data_raw_alcampo)),columns=['price','price_liter',\n",
    "                                                                           'title','promotion','brand',\n",
    "                                                                          'container','volumen_unid',\n",
    "                                                                          'quantity_pack','image_url',\n",
    "                                                                        'supermarket'])\n",
    "for beer_number in range(len(data_raw_alcampo)):\n",
    "    data_beer_alcampo.iloc[beer_number,0] = get_price_alcampo(data_raw_alcampo[beer_number][2])\n",
    "    data_beer_alcampo.iloc[beer_number,1] = get_price_liter_alcampo(data_raw_alcampo[beer_number][2])\n",
    "    data_beer_alcampo.iloc[beer_number,2] = get_tittle_alcampo(data_raw_alcampo[beer_number][1])\n",
    "    data_beer_alcampo.iloc[beer_number,4] = get_brand_alcampo(data_raw_alcampo[beer_number][1])\n",
    "    data_beer_alcampo.iloc[beer_number,5] = get_container(data_raw_alcampo[beer_number][1])\n",
    "    data_beer_alcampo.iloc[beer_number,6] = get_volumen_unid_alcampo(data_raw_alcampo[beer_number][1])\n",
    "    data_beer_alcampo.iloc[beer_number,7] = get_quantity_pack(data_raw_alcampo[beer_number][1])\n",
    "    data_beer_alcampo.iloc[beer_number,8] = get_image_alcampo(data_raw_alcampo[beer_number][0])\n",
    "    data_beer_alcampo.iloc[beer_number,9] = 'Alcampo'\n",
    "    if len(data_raw_alcampo[beer_number]) > 3:\n",
    "        data_beer_alcampo.iloc[beer_number,3] = get_promotion_alcampo(data_raw_alcampo[beer_number][3])\n",
    "    else:\n",
    "        data_beer_alcampo.iloc[beer_number,3] = 'No promotion'"
   ]
  },
  {
   "cell_type": "code",
   "execution_count": 105,
   "metadata": {},
   "outputs": [
    {
     "data": {
      "text/html": [
       "<div>\n",
       "<style scoped>\n",
       "    .dataframe tbody tr th:only-of-type {\n",
       "        vertical-align: middle;\n",
       "    }\n",
       "\n",
       "    .dataframe tbody tr th {\n",
       "        vertical-align: top;\n",
       "    }\n",
       "\n",
       "    .dataframe thead th {\n",
       "        text-align: right;\n",
       "    }\n",
       "</style>\n",
       "<table border=\"1\" class=\"dataframe\">\n",
       "  <thead>\n",
       "    <tr style=\"text-align: right;\">\n",
       "      <th></th>\n",
       "      <th>price</th>\n",
       "      <th>price_liter</th>\n",
       "      <th>title</th>\n",
       "      <th>promotion</th>\n",
       "      <th>brand</th>\n",
       "      <th>container</th>\n",
       "      <th>volumen_unid</th>\n",
       "      <th>quantity_pack</th>\n",
       "      <th>image_url</th>\n",
       "      <th>supermarket</th>\n",
       "    </tr>\n",
       "  </thead>\n",
       "  <tbody>\n",
       "    <tr>\n",
       "      <th>0</th>\n",
       "      <td>14.56</td>\n",
       "      <td>1.57</td>\n",
       "      <td>cerveza clásica mahou pack de 28 latas de 33 cl.</td>\n",
       "      <td>oferta válida hasta el 14/10/2020</td>\n",
       "      <td>cerveza clásica mahou pack de 28 latas de 33</td>\n",
       "      <td>lata</td>\n",
       "      <td>33 cl</td>\n",
       "      <td>28</td>\n",
       "      <td>https://www.alcampo.es/media/ha9/h39/100335357...</td>\n",
       "      <td>Alcampo</td>\n",
       "    </tr>\n",
       "    <tr>\n",
       "      <th>1</th>\n",
       "      <td>13.49</td>\n",
       "      <td>1.45</td>\n",
       "      <td>cervezas mahou 5 estrellas pack 28 latas x 33 cl.</td>\n",
       "      <td>No promotion</td>\n",
       "      <td>cervezas mahou 5 estrellas pack 28 latas x 33</td>\n",
       "      <td>lata</td>\n",
       "      <td>33 cl</td>\n",
       "      <td>28</td>\n",
       "      <td>https://www.alcampo.es/media/h11/h90/902116140...</td>\n",
       "      <td>Alcampo</td>\n",
       "    </tr>\n",
       "    <tr>\n",
       "      <th>2</th>\n",
       "      <td>6.36</td>\n",
       "      <td>1.6</td>\n",
       "      <td>cerveza  heineken pack de 12 latas de 33 centi...</td>\n",
       "      <td>No promotion</td>\n",
       "      <td>cerveza  heineken pack de 12 latas de 33</td>\n",
       "      <td>lata</td>\n",
       "      <td>33 c</td>\n",
       "      <td>12</td>\n",
       "      <td>https://www.alcampo.es/media/h67/h4f/954684103...</td>\n",
       "      <td>Alcampo</td>\n",
       "    </tr>\n",
       "    <tr>\n",
       "      <th>3</th>\n",
       "      <td>4.67</td>\n",
       "      <td>1.17</td>\n",
       "      <td>cervezas amstel 100 % malta  pack 12 uds, de 3...</td>\n",
       "      <td>No promotion</td>\n",
       "      <td>cervezas amstel 100</td>\n",
       "      <td>No specified</td>\n",
       "      <td>33 cl</td>\n",
       "      <td>12</td>\n",
       "      <td>https://www.alcampo.es/media/hc9/h32/104726094...</td>\n",
       "      <td>Alcampo</td>\n",
       "    </tr>\n",
       "    <tr>\n",
       "      <th>4</th>\n",
       "      <td>6.36</td>\n",
       "      <td>1.6</td>\n",
       "      <td>cervezas  clásica mahou pack de 12 latas de 33...</td>\n",
       "      <td>No promotion</td>\n",
       "      <td>cervezas  clásica mahou pack de 12 latas de 33</td>\n",
       "      <td>lata</td>\n",
       "      <td>33 c</td>\n",
       "      <td>12</td>\n",
       "      <td>https://www.alcampo.es/media/h64/hc7/965932407...</td>\n",
       "      <td>Alcampo</td>\n",
       "    </tr>\n",
       "    <tr>\n",
       "      <th>...</th>\n",
       "      <td>...</td>\n",
       "      <td>...</td>\n",
       "      <td>...</td>\n",
       "      <td>...</td>\n",
       "      <td>...</td>\n",
       "      <td>...</td>\n",
       "      <td>...</td>\n",
       "      <td>...</td>\n",
       "      <td>...</td>\n",
       "      <td>...</td>\n",
       "    </tr>\n",
       "    <tr>\n",
       "      <th>334</th>\n",
       "      <td>0.99</td>\n",
       "      <td>3</td>\n",
       "      <td>cerveza rubia burro de sancho botella 33 cl.</td>\n",
       "      <td>No promotion</td>\n",
       "      <td>cerveza rubia burro de sancho botella 33</td>\n",
       "      <td>botella</td>\n",
       "      <td>33 cl</td>\n",
       "      <td>1</td>\n",
       "      <td>https://www.alcampo.es/media/he2/h06/889946210...</td>\n",
       "      <td>Alcampo</td>\n",
       "    </tr>\n",
       "    <tr>\n",
       "      <th>335</th>\n",
       "      <td>1.42</td>\n",
       "      <td>4.3</td>\n",
       "      <td>cerveza roja la sagra criolla botella 33 cl.</td>\n",
       "      <td>No promotion</td>\n",
       "      <td>cerveza roja la sagra criolla botella 33</td>\n",
       "      <td>botella</td>\n",
       "      <td>33 cl</td>\n",
       "      <td>1</td>\n",
       "      <td>https://www.alcampo.es/media/h82/he7/100440106...</td>\n",
       "      <td>Alcampo</td>\n",
       "    </tr>\n",
       "    <tr>\n",
       "      <th>336</th>\n",
       "      <td>1.69</td>\n",
       "      <td>5.12</td>\n",
       "      <td>cerveza tipo abadía roja belga tedeum botella ...</td>\n",
       "      <td>No promotion</td>\n",
       "      <td>cerveza tipo abadía roja belga tedeum botella 33</td>\n",
       "      <td>botella</td>\n",
       "      <td>33 cl</td>\n",
       "      <td>1</td>\n",
       "      <td>https://www.alcampo.es/media/h9d/h1e/889732510...</td>\n",
       "      <td>Alcampo</td>\n",
       "    </tr>\n",
       "    <tr>\n",
       "      <th>337</th>\n",
       "      <td>1.3</td>\n",
       "      <td>3.93</td>\n",
       "      <td>cerveza alemana lowenbrau botella 33 cl.</td>\n",
       "      <td>No promotion</td>\n",
       "      <td>cerveza alemana lowenbrau botella 33</td>\n",
       "      <td>botella</td>\n",
       "      <td>33 cl</td>\n",
       "      <td>1</td>\n",
       "      <td>https://www.alcampo.es/media/h83/h8a/889645635...</td>\n",
       "      <td>Alcampo</td>\n",
       "    </tr>\n",
       "    <tr>\n",
       "      <th>338</th>\n",
       "      <td>0.99</td>\n",
       "      <td>3</td>\n",
       "      <td>cerveza artesana pilsner madrí chulapo botella...</td>\n",
       "      <td>No promotion</td>\n",
       "      <td>cerveza artesana pilsner madrí chulapo botella...</td>\n",
       "      <td>botella</td>\n",
       "      <td>33 cl</td>\n",
       "      <td>1</td>\n",
       "      <td>https://www.alcampo.es/media/h6d/h2c/922255409...</td>\n",
       "      <td>Alcampo</td>\n",
       "    </tr>\n",
       "  </tbody>\n",
       "</table>\n",
       "<p>339 rows × 10 columns</p>\n",
       "</div>"
      ],
      "text/plain": [
       "     price price_liter                                              title  \\\n",
       "0    14.56        1.57   cerveza clásica mahou pack de 28 latas de 33 cl.   \n",
       "1    13.49        1.45  cervezas mahou 5 estrellas pack 28 latas x 33 cl.   \n",
       "2     6.36         1.6  cerveza  heineken pack de 12 latas de 33 centi...   \n",
       "3     4.67        1.17  cervezas amstel 100 % malta  pack 12 uds, de 3...   \n",
       "4     6.36         1.6  cervezas  clásica mahou pack de 12 latas de 33...   \n",
       "..     ...         ...                                                ...   \n",
       "334   0.99           3       cerveza rubia burro de sancho botella 33 cl.   \n",
       "335   1.42         4.3       cerveza roja la sagra criolla botella 33 cl.   \n",
       "336   1.69        5.12  cerveza tipo abadía roja belga tedeum botella ...   \n",
       "337    1.3        3.93           cerveza alemana lowenbrau botella 33 cl.   \n",
       "338   0.99           3  cerveza artesana pilsner madrí chulapo botella...   \n",
       "\n",
       "                             promotion  \\\n",
       "0    oferta válida hasta el 14/10/2020   \n",
       "1                         No promotion   \n",
       "2                         No promotion   \n",
       "3                         No promotion   \n",
       "4                         No promotion   \n",
       "..                                 ...   \n",
       "334                       No promotion   \n",
       "335                       No promotion   \n",
       "336                       No promotion   \n",
       "337                       No promotion   \n",
       "338                       No promotion   \n",
       "\n",
       "                                                 brand     container  \\\n",
       "0        cerveza clásica mahou pack de 28 latas de 33           lata   \n",
       "1       cervezas mahou 5 estrellas pack 28 latas x 33           lata   \n",
       "2            cerveza  heineken pack de 12 latas de 33           lata   \n",
       "3                                 cervezas amstel 100   No specified   \n",
       "4      cervezas  clásica mahou pack de 12 latas de 33           lata   \n",
       "..                                                 ...           ...   \n",
       "334          cerveza rubia burro de sancho botella 33        botella   \n",
       "335          cerveza roja la sagra criolla botella 33        botella   \n",
       "336  cerveza tipo abadía roja belga tedeum botella 33        botella   \n",
       "337              cerveza alemana lowenbrau botella 33        botella   \n",
       "338  cerveza artesana pilsner madrí chulapo botella...       botella   \n",
       "\n",
       "    volumen_unid quantity_pack  \\\n",
       "0          33 cl            28   \n",
       "1          33 cl            28   \n",
       "2           33 c            12   \n",
       "3          33 cl            12   \n",
       "4           33 c            12   \n",
       "..           ...           ...   \n",
       "334        33 cl             1   \n",
       "335        33 cl             1   \n",
       "336        33 cl             1   \n",
       "337        33 cl             1   \n",
       "338        33 cl             1   \n",
       "\n",
       "                                             image_url supermarket  \n",
       "0    https://www.alcampo.es/media/ha9/h39/100335357...     Alcampo  \n",
       "1    https://www.alcampo.es/media/h11/h90/902116140...     Alcampo  \n",
       "2    https://www.alcampo.es/media/h67/h4f/954684103...     Alcampo  \n",
       "3    https://www.alcampo.es/media/hc9/h32/104726094...     Alcampo  \n",
       "4    https://www.alcampo.es/media/h64/hc7/965932407...     Alcampo  \n",
       "..                                                 ...         ...  \n",
       "334  https://www.alcampo.es/media/he2/h06/889946210...     Alcampo  \n",
       "335  https://www.alcampo.es/media/h82/he7/100440106...     Alcampo  \n",
       "336  https://www.alcampo.es/media/h9d/h1e/889732510...     Alcampo  \n",
       "337  https://www.alcampo.es/media/h83/h8a/889645635...     Alcampo  \n",
       "338  https://www.alcampo.es/media/h6d/h2c/922255409...     Alcampo  \n",
       "\n",
       "[339 rows x 10 columns]"
      ]
     },
     "execution_count": 105,
     "metadata": {},
     "output_type": "execute_result"
    }
   ],
   "source": [
    "data_beer_alcampo.head(339)"
   ]
  },
  {
   "cell_type": "code",
   "execution_count": null,
   "metadata": {},
   "outputs": [],
   "source": []
  },
  {
   "cell_type": "markdown",
   "metadata": {},
   "source": [
    "## El corte ingles"
   ]
  },
  {
   "cell_type": "code",
   "execution_count": 37,
   "metadata": {},
   "outputs": [],
   "source": [
    "list_pages_corteingles = list(range(1,26))\n",
    "table_pages_corteingles =[]\n",
    "for number in list_pages_corteingles:\n",
    "    url_corteingles = f'https://elcorteingles.es/supermercado/bebidas/cervezas/{number}/'\n",
    "    html = requests.get(url_corteingles, headers=header).text\n",
    "    soup_corteingles= BeautifulSoup(html, 'lxml')\n",
    "    table_corteingles = soup_corteingles.find_all('div',{'class':'grid-item'})\n",
    "    table_pages_corteingles.append(table_corteingles)"
   ]
  },
  {
   "cell_type": "code",
   "execution_count": 38,
   "metadata": {},
   "outputs": [
    {
     "data": {
      "text/plain": [
       "25"
      ]
     },
     "execution_count": 38,
     "metadata": {},
     "output_type": "execute_result"
    }
   ],
   "source": [
    "len(table_pages_corteingles)"
   ]
  },
  {
   "cell_type": "code",
   "execution_count": 39,
   "metadata": {},
   "outputs": [
    {
     "data": {
      "text/plain": [
       "24"
      ]
     },
     "execution_count": 39,
     "metadata": {},
     "output_type": "execute_result"
    }
   ],
   "source": [
    "len(table_pages_corteingles[24])"
   ]
  },
  {
   "cell_type": "code",
   "execution_count": 40,
   "metadata": {},
   "outputs": [],
   "source": [
    "data_raw_corteingles=[]\n",
    "for i in range(len(table_pages_corteingles)):\n",
    "    for j in range(len(table_pages_corteingles[i])):\n",
    "        rows_corteingles = table_pages_corteingles[i][j].find_all(['div','h3'],{'class': ['prices-price',\n",
    "                                                                                    'product_tile-description',\n",
    "                                                                                    'product_tile-image _fade']})\n",
    "        promotion_corteingles = table_pages_corteingles[i][j].find_all('div', {'class': 'product_tile-offer offer'})\n",
    "        if len(rows_corteingles) > 3:\n",
    "            if len(promotion_corteingles) != 0:\n",
    "                data_raw_corteingles.append(rows_corteingles + promotion_corteingles)\n",
    "            else:\n",
    "                data_raw_corteingles.append(rows_corteingles)\n",
    "                "
   ]
  },
  {
   "cell_type": "code",
   "execution_count": 41,
   "metadata": {},
   "outputs": [
    {
     "data": {
      "text/plain": [
       "449"
      ]
     },
     "execution_count": 41,
     "metadata": {},
     "output_type": "execute_result"
    }
   ],
   "source": [
    "len(data_raw_corteingles)"
   ]
  },
  {
   "cell_type": "code",
   "execution_count": 42,
   "metadata": {},
   "outputs": [],
   "source": [
    "for beer in data_raw_corteingles: \n",
    "    verification = re.split('cervez|cider|cl',beer[3].text)\n",
    "    if len(verification)==1:\n",
    "        beer.pop(1)"
   ]
  },
  {
   "cell_type": "code",
   "execution_count": 43,
   "metadata": {},
   "outputs": [],
   "source": [
    "#brand corte ingles\n",
    "def get_brand_corteingles(data_text):\n",
    "    brand_raw = data_text.text\n",
    "    brand = re.split('cervez',brand_raw)\n",
    "    return brand[0].lower()"
   ]
  },
  {
   "cell_type": "code",
   "execution_count": 44,
   "metadata": {},
   "outputs": [],
   "source": [
    "#volumen corte ingles\n",
    "def get_volumen_corteingles(data_text):\n",
    "    brand_raw = data_text.text\n",
    "    brand = re.split('botel',brand_raw)\n",
    "    return brand[0]"
   ]
  },
  {
   "cell_type": "code",
   "execution_count": 45,
   "metadata": {},
   "outputs": [],
   "source": [
    "#image corte ingles\n",
    "def get_image_corteingles(data_text):\n",
    "    return 'https:'+data_text.find_all('img')[0].get('src')"
   ]
  },
  {
   "cell_type": "code",
   "execution_count": 46,
   "metadata": {},
   "outputs": [
    {
     "data": {
      "text/plain": [
       "'LA SAGRA Blue Moon cerveza turbia artesana castellana botella 33 cl '"
      ]
     },
     "execution_count": 46,
     "metadata": {},
     "output_type": "execute_result"
    }
   ],
   "source": [
    "data_raw_corteingles[321][3].text"
   ]
  },
  {
   "cell_type": "code",
   "execution_count": 47,
   "metadata": {},
   "outputs": [],
   "source": [
    "data_beer_corteingles = pd.DataFrame(index=range(0,len(data_raw_corteingles)),columns=['price','price_liter',\n",
    "                                                                           'title','promotion','brand',\n",
    "                                                                          'container','volumen_unid',\n",
    "                                                                          'quantity_pack','image_url',\n",
    "                                                                        'supermarket'])\n",
    "for beer_number in range(len(data_raw_corteingles)):\n",
    "    data_beer_corteingles.iloc[beer_number,0] = get_price_alcampo(data_raw_corteingles[beer_number][1])\n",
    "    data_beer_corteingles.iloc[beer_number,1] = get_price_liter_alcampo(data_raw_corteingles[beer_number][2])\n",
    "    data_beer_corteingles.iloc[beer_number,2] = get_tittle_alcampo(data_raw_corteingles[beer_number][3])\n",
    "    data_beer_corteingles.iloc[beer_number,4] = get_brand_corteingles(data_raw_corteingles[beer_number][3])\n",
    "    data_beer_corteingles.iloc[beer_number,5] = get_container(data_raw_corteingles[beer_number][3])\n",
    "    data_beer_corteingles.iloc[beer_number,6] = get_volumen_unid_alcampo(data_raw_corteingles[beer_number][3])\n",
    "    data_beer_corteingles.iloc[beer_number,7] = get_quantity_pack(data_raw_corteingles[beer_number][3])\n",
    "    data_beer_corteingles.iloc[beer_number,8] = get_image_corteingles(data_raw_corteingles[beer_number][0])\n",
    "    data_beer_corteingles.iloc[beer_number,9] = 'El Corte Ingles'\n",
    "    if len(data_raw_corteingles[beer_number]) > 4:\n",
    "        data_beer_corteingles.iloc[beer_number,3] = get_promotion_alcampo(data_raw_corteingles[beer_number][4])\n",
    "        if len(data_raw_corteingles[beer_number]) > 5:\n",
    "            data_beer_corteingles.iloc[beer_number,3] += '..SECOND OFFERT: '+ get_promotion_alcampo(data_raw_corteingles[beer_number][5])\n",
    "    else:\n",
    "        data_beer_corteingles.iloc[beer_number,3] = 'No promotion'    "
   ]
  },
  {
   "cell_type": "code",
   "execution_count": 48,
   "metadata": {},
   "outputs": [
    {
     "data": {
      "text/html": [
       "<div>\n",
       "<style scoped>\n",
       "    .dataframe tbody tr th:only-of-type {\n",
       "        vertical-align: middle;\n",
       "    }\n",
       "\n",
       "    .dataframe tbody tr th {\n",
       "        vertical-align: top;\n",
       "    }\n",
       "\n",
       "    .dataframe thead th {\n",
       "        text-align: right;\n",
       "    }\n",
       "</style>\n",
       "<table border=\"1\" class=\"dataframe\">\n",
       "  <thead>\n",
       "    <tr style=\"text-align: right;\">\n",
       "      <th></th>\n",
       "      <th>price</th>\n",
       "      <th>price_liter</th>\n",
       "      <th>title</th>\n",
       "      <th>promotion</th>\n",
       "      <th>brand</th>\n",
       "      <th>container</th>\n",
       "      <th>volumen_unid</th>\n",
       "      <th>quantity_pack</th>\n",
       "      <th>image_url</th>\n",
       "      <th>supermarket</th>\n",
       "    </tr>\n",
       "  </thead>\n",
       "  <tbody>\n",
       "    <tr>\n",
       "      <th>0</th>\n",
       "      <td>6.72</td>\n",
       "      <td>1.7</td>\n",
       "      <td>MAHOU CLASICA cerveza rubia original pack 12 l...</td>\n",
       "      <td>21% de descuento por compras superiores a 20 €...</td>\n",
       "      <td>mahou clasica</td>\n",
       "      <td>lata</td>\n",
       "      <td>33 cl</td>\n",
       "      <td>12</td>\n",
       "      <td>https://sgfm.elcorteingles.es/SGFM/dctm/MEDIA0...</td>\n",
       "      <td>El Corte Ingles</td>\n",
       "    </tr>\n",
       "    <tr>\n",
       "      <th>1</th>\n",
       "      <td>14.84</td>\n",
       "      <td>1.61</td>\n",
       "      <td>MAHOU CLASICA cerveza rubia original pack 28 l...</td>\n",
       "      <td>2ª-50%2ª unidad al 50% de descuentoPuedes comb...</td>\n",
       "      <td>mahou clasica</td>\n",
       "      <td>lata</td>\n",
       "      <td>33 cl</td>\n",
       "      <td>28</td>\n",
       "      <td>https://sgfm.elcorteingles.es/SGFM/dctm/MEDIA0...</td>\n",
       "      <td>El Corte Ingles</td>\n",
       "    </tr>\n",
       "    <tr>\n",
       "      <th>2</th>\n",
       "      <td>5</td>\n",
       "      <td>1.67</td>\n",
       "      <td>MAHOU CLASICA cerveza rubia original pack 12 b...</td>\n",
       "      <td>2ª-50%2ª unidad al 50% de descuentoPuedes comb...</td>\n",
       "      <td>mahou clasica</td>\n",
       "      <td>botella</td>\n",
       "      <td>25 cl</td>\n",
       "      <td>12</td>\n",
       "      <td>https://sgfm.elcorteingles.es/SGFM/dctm/MEDIA0...</td>\n",
       "      <td>El Corte Ingles</td>\n",
       "    </tr>\n",
       "    <tr>\n",
       "      <th>3</th>\n",
       "      <td>1.37</td>\n",
       "      <td>1.37</td>\n",
       "      <td>MAHOU CLASICA cerveza rubia original botella 1 l</td>\n",
       "      <td>21% de descuento por compras superiores a 20 €...</td>\n",
       "      <td>mahou clasica</td>\n",
       "      <td>botella</td>\n",
       "      <td>1 l</td>\n",
       "      <td>1</td>\n",
       "      <td>https://sgfm.elcorteingles.es/SGFM/dctm/MEDIA0...</td>\n",
       "      <td>El Corte Ingles</td>\n",
       "    </tr>\n",
       "    <tr>\n",
       "      <th>4</th>\n",
       "      <td>2.68</td>\n",
       "      <td>1.79</td>\n",
       "      <td>MAHOU CLASICA cerveza rubia original pack 6 bo...</td>\n",
       "      <td>21% de descuento por compras superiores a 20 €...</td>\n",
       "      <td>mahou clasica</td>\n",
       "      <td>botella</td>\n",
       "      <td>25 cl</td>\n",
       "      <td>6</td>\n",
       "      <td>https://sgfm.elcorteingles.es/SGFM/dctm/MEDIA0...</td>\n",
       "      <td>El Corte Ingles</td>\n",
       "    </tr>\n",
       "    <tr>\n",
       "      <th>...</th>\n",
       "      <td>...</td>\n",
       "      <td>...</td>\n",
       "      <td>...</td>\n",
       "      <td>...</td>\n",
       "      <td>...</td>\n",
       "      <td>...</td>\n",
       "      <td>...</td>\n",
       "      <td>...</td>\n",
       "      <td>...</td>\n",
       "      <td>...</td>\n",
       "    </tr>\n",
       "    <tr>\n",
       "      <th>145</th>\n",
       "      <td>4.15</td>\n",
       "      <td>27.67</td>\n",
       "      <td>AMBAR EXPORT cerveza rubia nacional extra fuer...</td>\n",
       "      <td>21% de descuento por compras superiores a 20 €...</td>\n",
       "      <td>ambar export</td>\n",
       "      <td>botella</td>\n",
       "      <td>25 cl</td>\n",
       "      <td>6</td>\n",
       "      <td>https://sgfm.elcorteingles.es/SGFM/dctm/MEDIA0...</td>\n",
       "      <td>El Corte Ingles</td>\n",
       "    </tr>\n",
       "    <tr>\n",
       "      <th>146</th>\n",
       "      <td>1.05</td>\n",
       "      <td>3.18</td>\n",
       "      <td>AMBAR EXPORT cerveza rubia Red Brew 3 maltas b...</td>\n",
       "      <td>6x5Lleva 6 y paga 5..SECOND OFFERT: 21% de des...</td>\n",
       "      <td>ambar export</td>\n",
       "      <td>botella</td>\n",
       "      <td>33 cl</td>\n",
       "      <td>1</td>\n",
       "      <td>https://sgfm.elcorteingles.es/SGFM/dctm/MEDIA0...</td>\n",
       "      <td>El Corte Ingles</td>\n",
       "    </tr>\n",
       "    <tr>\n",
       "      <th>147</th>\n",
       "      <td>3.59</td>\n",
       "      <td>2.99</td>\n",
       "      <td>MORITZ cerveza rubia nacional botella Pack 6 b...</td>\n",
       "      <td>21% de descuento por compras superiores a 20 €...</td>\n",
       "      <td>moritz</td>\n",
       "      <td>botella</td>\n",
       "      <td>20 cl</td>\n",
       "      <td>1</td>\n",
       "      <td>https://sgfm.elcorteingles.es/SGFM/dctm/MEDIA0...</td>\n",
       "      <td>El Corte Ingles</td>\n",
       "    </tr>\n",
       "    <tr>\n",
       "      <th>148</th>\n",
       "      <td>1.09</td>\n",
       "      <td>3.3</td>\n",
       "      <td>MORITZ cerveza rubia nacional botella 33 cl</td>\n",
       "      <td>21% de descuento por compras superiores a 20 €...</td>\n",
       "      <td>moritz</td>\n",
       "      <td>botella</td>\n",
       "      <td>33 cl</td>\n",
       "      <td>1</td>\n",
       "      <td>https://sgfm.elcorteingles.es/SGFM/dctm/MEDIA0...</td>\n",
       "      <td>El Corte Ingles</td>\n",
       "    </tr>\n",
       "    <tr>\n",
       "      <th>149</th>\n",
       "      <td>0.77</td>\n",
       "      <td>2.33</td>\n",
       "      <td>MORITZ cerveza rubia nacional lata 33 cl</td>\n",
       "      <td>21% de descuento por compras superiores a 20 €...</td>\n",
       "      <td>moritz</td>\n",
       "      <td>lata</td>\n",
       "      <td>33 cl</td>\n",
       "      <td>1</td>\n",
       "      <td>https://sgfm.elcorteingles.es/SGFM/dctm/MEDIA0...</td>\n",
       "      <td>El Corte Ingles</td>\n",
       "    </tr>\n",
       "  </tbody>\n",
       "</table>\n",
       "<p>150 rows × 10 columns</p>\n",
       "</div>"
      ],
      "text/plain": [
       "     price price_liter                                              title  \\\n",
       "0     6.72         1.7  MAHOU CLASICA cerveza rubia original pack 12 l...   \n",
       "1    14.84        1.61  MAHOU CLASICA cerveza rubia original pack 28 l...   \n",
       "2        5        1.67  MAHOU CLASICA cerveza rubia original pack 12 b...   \n",
       "3     1.37        1.37  MAHOU CLASICA cerveza rubia original botella 1 l    \n",
       "4     2.68        1.79  MAHOU CLASICA cerveza rubia original pack 6 bo...   \n",
       "..     ...         ...                                                ...   \n",
       "145   4.15       27.67  AMBAR EXPORT cerveza rubia nacional extra fuer...   \n",
       "146   1.05        3.18  AMBAR EXPORT cerveza rubia Red Brew 3 maltas b...   \n",
       "147   3.59        2.99  MORITZ cerveza rubia nacional botella Pack 6 b...   \n",
       "148   1.09         3.3       MORITZ cerveza rubia nacional botella 33 cl    \n",
       "149   0.77        2.33          MORITZ cerveza rubia nacional lata 33 cl    \n",
       "\n",
       "                                             promotion           brand  \\\n",
       "0    21% de descuento por compras superiores a 20 €...  mahou clasica    \n",
       "1    2ª-50%2ª unidad al 50% de descuentoPuedes comb...  mahou clasica    \n",
       "2    2ª-50%2ª unidad al 50% de descuentoPuedes comb...  mahou clasica    \n",
       "3    21% de descuento por compras superiores a 20 €...  mahou clasica    \n",
       "4    21% de descuento por compras superiores a 20 €...  mahou clasica    \n",
       "..                                                 ...             ...   \n",
       "145  21% de descuento por compras superiores a 20 €...   ambar export    \n",
       "146  6x5Lleva 6 y paga 5..SECOND OFFERT: 21% de des...   ambar export    \n",
       "147  21% de descuento por compras superiores a 20 €...         moritz    \n",
       "148  21% de descuento por compras superiores a 20 €...         moritz    \n",
       "149  21% de descuento por compras superiores a 20 €...         moritz    \n",
       "\n",
       "    container volumen_unid quantity_pack  \\\n",
       "0        lata        33 cl            12   \n",
       "1        lata        33 cl            28   \n",
       "2     botella        25 cl            12   \n",
       "3     botella         1 l              1   \n",
       "4     botella        25 cl             6   \n",
       "..        ...          ...           ...   \n",
       "145   botella        25 cl             6   \n",
       "146   botella        33 cl             1   \n",
       "147   botella        20 cl             1   \n",
       "148   botella        33 cl             1   \n",
       "149      lata        33 cl             1   \n",
       "\n",
       "                                             image_url      supermarket  \n",
       "0    https://sgfm.elcorteingles.es/SGFM/dctm/MEDIA0...  El Corte Ingles  \n",
       "1    https://sgfm.elcorteingles.es/SGFM/dctm/MEDIA0...  El Corte Ingles  \n",
       "2    https://sgfm.elcorteingles.es/SGFM/dctm/MEDIA0...  El Corte Ingles  \n",
       "3    https://sgfm.elcorteingles.es/SGFM/dctm/MEDIA0...  El Corte Ingles  \n",
       "4    https://sgfm.elcorteingles.es/SGFM/dctm/MEDIA0...  El Corte Ingles  \n",
       "..                                                 ...              ...  \n",
       "145  https://sgfm.elcorteingles.es/SGFM/dctm/MEDIA0...  El Corte Ingles  \n",
       "146  https://sgfm.elcorteingles.es/SGFM/dctm/MEDIA0...  El Corte Ingles  \n",
       "147  https://sgfm.elcorteingles.es/SGFM/dctm/MEDIA0...  El Corte Ingles  \n",
       "148  https://sgfm.elcorteingles.es/SGFM/dctm/MEDIA0...  El Corte Ingles  \n",
       "149  https://sgfm.elcorteingles.es/SGFM/dctm/MEDIA0...  El Corte Ingles  \n",
       "\n",
       "[150 rows x 10 columns]"
      ]
     },
     "execution_count": 48,
     "metadata": {},
     "output_type": "execute_result"
    }
   ],
   "source": [
    "data_beer_corteingles.head(150)"
   ]
  },
  {
   "cell_type": "code",
   "execution_count": null,
   "metadata": {},
   "outputs": [],
   "source": []
  },
  {
   "cell_type": "code",
   "execution_count": null,
   "metadata": {},
   "outputs": [],
   "source": []
  },
  {
   "cell_type": "markdown",
   "metadata": {},
   "source": [
    "## DIA"
   ]
  },
  {
   "cell_type": "code",
   "execution_count": 49,
   "metadata": {},
   "outputs": [],
   "source": [
    "list_pages_dia= list(range(0,3))\n",
    "table_pages_dia =[]\n",
    "for number in list_pages_dia:\n",
    "    url_dia = f'https://www.dia.es/compra-online/productos/bebidas/cervezas/c/WEB.008.064.00000?page={number}&disp='\n",
    "    html = requests.get(url_dia, headers=header).text\n",
    "    soup_dia= BeautifulSoup(html, 'lxml')\n",
    "    table_dia = soup_dia.find_all('div',{'class':'prod_grid'})\n",
    "    table_pages_dia.append(table_dia)"
   ]
  },
  {
   "cell_type": "code",
   "execution_count": 50,
   "metadata": {},
   "outputs": [
    {
     "data": {
      "text/plain": [
       "3"
      ]
     },
     "execution_count": 50,
     "metadata": {},
     "output_type": "execute_result"
    }
   ],
   "source": [
    "len(table_pages_dia)"
   ]
  },
  {
   "cell_type": "code",
   "execution_count": 51,
   "metadata": {},
   "outputs": [
    {
     "data": {
      "text/plain": [
       "21"
      ]
     },
     "execution_count": 51,
     "metadata": {},
     "output_type": "execute_result"
    }
   ],
   "source": [
    "len(table_pages_dia[2])"
   ]
  },
  {
   "cell_type": "code",
   "execution_count": 52,
   "metadata": {},
   "outputs": [],
   "source": [
    "data_raw_dia=[]\n",
    "for i in range(len(table_pages_dia)):\n",
    "    for j in range(len(table_pages_dia[i])):\n",
    "        rows_dia = table_pages_dia[i][j].find_all(['div','span'],{'class': ['price_container','details',\n",
    "                                                                            'thumb']})\n",
    "        if len(rows_dia) > 2:\n",
    "            data_raw_dia.append(rows_dia)\n",
    "                "
   ]
  },
  {
   "cell_type": "code",
   "execution_count": 53,
   "metadata": {},
   "outputs": [
    {
     "data": {
      "text/plain": [
       "68"
      ]
     },
     "execution_count": 53,
     "metadata": {},
     "output_type": "execute_result"
    }
   ],
   "source": [
    "len(data_raw_dia)"
   ]
  },
  {
   "cell_type": "code",
   "execution_count": 54,
   "metadata": {},
   "outputs": [],
   "source": [
    "#title Dia\n",
    "def get_tittle_dia(data_text):\n",
    "    tittle_raw = data_text.text\n",
    "    tittle = re.sub('\\r\\n\\t\\t\\t\\t','',tittle_raw)\n",
    "    return tittle"
   ]
  },
  {
   "cell_type": "code",
   "execution_count": 77,
   "metadata": {},
   "outputs": [],
   "source": [
    "#brand Dia\n",
    "def get_brand_dia(data_text):\n",
    "    brand_raw = data_text.text\n",
    "    brand_sub = re.sub('\\r\\n\\t\\t\\t\\t','',brand_raw)\n",
    "    brand = re.split(' cervez',brand_sub)\n",
    "    return brand[0].lower()"
   ]
  },
  {
   "cell_type": "code",
   "execution_count": 56,
   "metadata": {},
   "outputs": [],
   "source": [
    "#image dia\n",
    "def get_image_dia(data_text):\n",
    "    return data_text.find_all('img')[0].get('data-original')"
   ]
  },
  {
   "cell_type": "code",
   "execution_count": 57,
   "metadata": {},
   "outputs": [
    {
     "data": {
      "text/plain": [
       "'\\n\\r\\n\\t\\t\\t\\t\\t\\r\\n\\t\\t\\t\\t\\t0,35\\xa0€\\n(1,06\\xa0€/l.)\\n'"
      ]
     },
     "execution_count": 57,
     "metadata": {},
     "output_type": "execute_result"
    }
   ],
   "source": [
    "data_raw_dia[24][2].text"
   ]
  },
  {
   "cell_type": "code",
   "execution_count": 78,
   "metadata": {},
   "outputs": [],
   "source": [
    "data_beer_dia= pd.DataFrame(index=range(0,len(data_raw_dia)),columns=['price','price_liter',\n",
    "                                                                           'title','promotion','brand',\n",
    "                                                                          'container','volumen_unid',\n",
    "                                                                          'quantity_pack','image_url',\n",
    "                                                                        'supermarket'])\n",
    "for beer_number in range(len(data_raw_dia)):\n",
    "    data_beer_dia.iloc[beer_number,0] = get_price_alcampo(data_raw_dia[beer_number][2])\n",
    "    data_beer_dia.iloc[beer_number,1] = get_price_liter_alcampo(data_raw_dia[beer_number][2])\n",
    "    data_beer_dia.iloc[beer_number,2] = get_tittle_dia(data_raw_dia[beer_number][1])\n",
    "    data_beer_dia.iloc[beer_number,4] = get_brand_dia(data_raw_dia[beer_number][1])\n",
    "    data_beer_dia.iloc[beer_number,5] = get_container(data_raw_dia[beer_number][1])\n",
    "    data_beer_dia.iloc[beer_number,6] = get_volumen_unid_alcampo(data_raw_dia[beer_number][1])\n",
    "    data_beer_dia.iloc[beer_number,7] = get_quantity_pack(data_raw_dia[beer_number][1])\n",
    "    data_beer_dia.iloc[beer_number,8] = get_image_dia(data_raw_dia[beer_number][0])\n",
    "    data_beer_dia.iloc[beer_number,9] = 'Dia'\n",
    "    if len(data_raw_dia[beer_number]) > 3:\n",
    "        data_beer_dia.iloc[beer_number,3] = get_promotion_alcampo(data_raw_dia[beer_number][3])\n",
    "    else:\n",
    "        data_beer_dia.iloc[beer_number,3] = 'No promotion' "
   ]
  },
  {
   "cell_type": "code",
   "execution_count": 79,
   "metadata": {},
   "outputs": [
    {
     "data": {
      "text/html": [
       "<div>\n",
       "<style scoped>\n",
       "    .dataframe tbody tr th:only-of-type {\n",
       "        vertical-align: middle;\n",
       "    }\n",
       "\n",
       "    .dataframe tbody tr th {\n",
       "        vertical-align: top;\n",
       "    }\n",
       "\n",
       "    .dataframe thead th {\n",
       "        text-align: right;\n",
       "    }\n",
       "</style>\n",
       "<table border=\"1\" class=\"dataframe\">\n",
       "  <thead>\n",
       "    <tr style=\"text-align: right;\">\n",
       "      <th></th>\n",
       "      <th>price</th>\n",
       "      <th>price_liter</th>\n",
       "      <th>title</th>\n",
       "      <th>promotion</th>\n",
       "      <th>brand</th>\n",
       "      <th>container</th>\n",
       "      <th>volumen_unid</th>\n",
       "      <th>quantity_pack</th>\n",
       "      <th>image_url</th>\n",
       "      <th>supermarket</th>\n",
       "    </tr>\n",
       "  </thead>\n",
       "  <tbody>\n",
       "    <tr>\n",
       "      <th>0</th>\n",
       "      <td>0.7</td>\n",
       "      <td>0.7</td>\n",
       "      <td>RAMBLERS cerveza lager botella 1 lt</td>\n",
       "      <td>No promotion</td>\n",
       "      <td>ramblers</td>\n",
       "      <td>botella</td>\n",
       "      <td>1 l</td>\n",
       "      <td>1</td>\n",
       "      <td>https://s0.dia.es/medias/h23/h3e/1023867263388...</td>\n",
       "      <td>Dia</td>\n",
       "    </tr>\n",
       "    <tr>\n",
       "      <th>1</th>\n",
       "      <td>0.43</td>\n",
       "      <td>1.3</td>\n",
       "      <td>AMSTEL cerveza lata 33 cl</td>\n",
       "      <td>No promotion</td>\n",
       "      <td>amstel</td>\n",
       "      <td>lata</td>\n",
       "      <td>33 cl</td>\n",
       "      <td>1</td>\n",
       "      <td>https://s3.dia.es/medias/ha3/hd0/9847080747038...</td>\n",
       "      <td>Dia</td>\n",
       "    </tr>\n",
       "    <tr>\n",
       "      <th>2</th>\n",
       "      <td>6.61</td>\n",
       "      <td>2.2</td>\n",
       "      <td>MAHOU 5 ESTRELLAS cerveza pack 12 botellas 25 cl</td>\n",
       "      <td>No promotion</td>\n",
       "      <td>mahou 5 estrellas</td>\n",
       "      <td>botella</td>\n",
       "      <td>25 cl</td>\n",
       "      <td>12</td>\n",
       "      <td>https://s3.dia.es/medias/ha0/hb5/9847978459166...</td>\n",
       "      <td>Dia</td>\n",
       "    </tr>\n",
       "    <tr>\n",
       "      <th>3</th>\n",
       "      <td>0.45</td>\n",
       "      <td>0.9</td>\n",
       "      <td>DIA cerveza alemana lata 50 cl</td>\n",
       "      <td>No promotion</td>\n",
       "      <td>dia</td>\n",
       "      <td>lata</td>\n",
       "      <td>50 cl</td>\n",
       "      <td>1</td>\n",
       "      <td>https://s0.dia.es/medias/h29/h37/8821852569630...</td>\n",
       "      <td>Dia</td>\n",
       "    </tr>\n",
       "    <tr>\n",
       "      <th>4</th>\n",
       "      <td>1.4</td>\n",
       "      <td>1.4</td>\n",
       "      <td>MAHOU cerveza clásica botella 1 lt</td>\n",
       "      <td>No promotion</td>\n",
       "      <td>mahou</td>\n",
       "      <td>botella</td>\n",
       "      <td>1 l</td>\n",
       "      <td>1</td>\n",
       "      <td>https://s2.dia.es/medias/h5b/hb3/9847977410590...</td>\n",
       "      <td>Dia</td>\n",
       "    </tr>\n",
       "  </tbody>\n",
       "</table>\n",
       "</div>"
      ],
      "text/plain": [
       "  price price_liter                                             title  \\\n",
       "0   0.7         0.7               RAMBLERS cerveza lager botella 1 lt   \n",
       "1  0.43         1.3                         AMSTEL cerveza lata 33 cl   \n",
       "2  6.61         2.2  MAHOU 5 ESTRELLAS cerveza pack 12 botellas 25 cl   \n",
       "3  0.45         0.9                    DIA cerveza alemana lata 50 cl   \n",
       "4   1.4         1.4                MAHOU cerveza clásica botella 1 lt   \n",
       "\n",
       "      promotion              brand container volumen_unid quantity_pack  \\\n",
       "0  No promotion           ramblers   botella          1 l             1   \n",
       "1  No promotion             amstel      lata        33 cl             1   \n",
       "2  No promotion  mahou 5 estrellas   botella        25 cl            12   \n",
       "3  No promotion                dia      lata        50 cl             1   \n",
       "4  No promotion              mahou   botella          1 l             1   \n",
       "\n",
       "                                           image_url supermarket  \n",
       "0  https://s0.dia.es/medias/h23/h3e/1023867263388...         Dia  \n",
       "1  https://s3.dia.es/medias/ha3/hd0/9847080747038...         Dia  \n",
       "2  https://s3.dia.es/medias/ha0/hb5/9847978459166...         Dia  \n",
       "3  https://s0.dia.es/medias/h29/h37/8821852569630...         Dia  \n",
       "4  https://s2.dia.es/medias/h5b/hb3/9847977410590...         Dia  "
      ]
     },
     "execution_count": 79,
     "metadata": {},
     "output_type": "execute_result"
    }
   ],
   "source": [
    "data_beer_dia.head()"
   ]
  },
  {
   "cell_type": "code",
   "execution_count": null,
   "metadata": {},
   "outputs": [],
   "source": []
  },
  {
   "cell_type": "code",
   "execution_count": null,
   "metadata": {},
   "outputs": [],
   "source": []
  },
  {
   "cell_type": "markdown",
   "metadata": {},
   "source": [
    "## Eroski"
   ]
  },
  {
   "cell_type": "code",
   "execution_count": 60,
   "metadata": {},
   "outputs": [],
   "source": [
    "os.environ['PATH'] = f'{os.environ[\"PATH\"]}:{os.getcwd()}'  \n",
    "os.environ['PATH']\n",
    "\n",
    "driver_options = Options()\n",
    "driver_options.headless = True\n",
    "driver = webdriver.Firefox(options=driver_options)\n",
    "\n",
    "driver.get('https://supermercado.eroski.es/es/supermercado/2060211-bebidas/2060233-cervezas/') \n",
    "for i in range(20):\n",
    "    driver.execute_script(\"window.scrollTo(0,document.body.scrollHeight)\")\n",
    "    time.sleep(1.1)\n",
    "    \n",
    "selenium_raw_eroski = driver.find_elements_by_class_name('product-item')"
   ]
  },
  {
   "cell_type": "code",
   "execution_count": 61,
   "metadata": {},
   "outputs": [
    {
     "data": {
      "text/plain": [
       "271"
      ]
     },
     "execution_count": 61,
     "metadata": {},
     "output_type": "execute_result"
    }
   ],
   "source": [
    "len(selenium_raw_eroski)"
   ]
  },
  {
   "cell_type": "code",
   "execution_count": 62,
   "metadata": {},
   "outputs": [],
   "source": [
    "data_raw_eroski = []\n",
    "for i in selenium_raw_eroski:\n",
    "    data_raw_eroski.append(i.text)\n"
   ]
  },
  {
   "cell_type": "code",
   "execution_count": 63,
   "metadata": {},
   "outputs": [],
   "source": [
    "#price eroski\n",
    "\n",
    "def get_price_eroski(data_text):\n",
    "    price = re.findall('[0-9,]+',data_text)\n",
    "    last = len(price)-1\n",
    "    return float(re.sub(\",\",'.',price[last]))"
   ]
  },
  {
   "cell_type": "code",
   "execution_count": 64,
   "metadata": {},
   "outputs": [],
   "source": [
    "#price_liter eroski\n",
    "\n",
    "def get_price_liter_eroski(data_text):\n",
    "    price_raw = re.split(' LITRO A ',data_text)\n",
    "    if len(price_raw)>1:\n",
    "        price = re.findall('[0-9,]+',price_raw[1])\n",
    "    else:\n",
    "        price = re.findall('[0-9,]{2,}',data_text)\n",
    "    return float(re.sub(\",\",'.',price[0]))"
   ]
  },
  {
   "cell_type": "code",
   "execution_count": 65,
   "metadata": {},
   "outputs": [],
   "source": [
    "#title eroski\n",
    "def get_tittle_eroski(data_text):\n",
    "    tittle = re.split('\\n',data_text)\n",
    "    return tittle[1]"
   ]
  },
  {
   "cell_type": "code",
   "execution_count": 82,
   "metadata": {},
   "outputs": [],
   "source": [
    "#brand eroski\n",
    "def get_brand_eroski(data_text):\n",
    "    brand_raw = re.split('erveza |, |ider |idra ',data_text)\n",
    "    return brand_raw[1].lower()"
   ]
  },
  {
   "cell_type": "code",
   "execution_count": 67,
   "metadata": {},
   "outputs": [],
   "source": [
    "#container eroski\n",
    "def get_container_eroski(data_text):\n",
    "    container = re.findall('botella|lata|barril',data_text)\n",
    "    if len(container)!=0:\n",
    "        return container[0]\n",
    "    else:\n",
    "        return 'No specified'"
   ]
  },
  {
   "cell_type": "code",
   "execution_count": 68,
   "metadata": {},
   "outputs": [],
   "source": [
    "#volumen eroski\n",
    "def get_volumen_unid_eroski(data_text):\n",
    "    volumen = re.findall('[0-9.,]+ cl',data_text)\n",
    "    if len(volumen)!=0:\n",
    "        return volumen[0]\n",
    "    else:\n",
    "        volumen_l = re.findall('[0-9.,]+[ mclL]+',data_text)\n",
    "        if len(volumen_l)==2:\n",
    "            return volumen_l[1]\n",
    "        else:\n",
    "            return volumen_l[0]"
   ]
  },
  {
   "cell_type": "code",
   "execution_count": 69,
   "metadata": {},
   "outputs": [],
   "source": [
    "#quantity eroski\n",
    "def get_quantity_pack_eroski(data_text):\n",
    "    quantity_split = re.split('pack de|pack',data_text)\n",
    "    if len(quantity_split)==2:\n",
    "        quantity = re.findall('[0-9]+',quantity_split[1])\n",
    "        return quantity[0]\n",
    "    else:\n",
    "        return 1"
   ]
  },
  {
   "cell_type": "code",
   "execution_count": 70,
   "metadata": {},
   "outputs": [],
   "source": [
    "#promotion eroski\n",
    "\n",
    "def get_promotion_eroski(data_text):\n",
    "        promotion = re.split(\"\\n\",data_text)\n",
    "        if len(promotion)>8:\n",
    "            number = len(promotion)-6\n",
    "            return promotion[number] + ' ' + promotion[number+1]\n",
    "        else:\n",
    "            return 'No promotion'\n"
   ]
  },
  {
   "cell_type": "code",
   "execution_count": 71,
   "metadata": {},
   "outputs": [
    {
     "data": {
      "text/plain": [
       "'  0\\nCider de manzana verde LADRÓN DE MANZANAS, botellín 25 cl\\nCombina con >\\n1 LITRO A 3,96 €\\n2ª unidad\\n-50%\\nAhora\\n0,99 €\\nAñadir\\nAñadir a la lista'"
      ]
     },
     "execution_count": 71,
     "metadata": {},
     "output_type": "execute_result"
    }
   ],
   "source": [
    "data_raw_eroski[198]"
   ]
  },
  {
   "cell_type": "code",
   "execution_count": 72,
   "metadata": {},
   "outputs": [
    {
     "data": {
      "text/plain": [
       "'  0\\nCerveza MAHOU 5 Estrellas, pack 24x33 cl\\n1 LITRO A 0,97 €\\n13,59 €\\nAntes\\nAhora\\n7,75 €\\nAñadir\\nAñadir a la lista'"
      ]
     },
     "execution_count": 72,
     "metadata": {},
     "output_type": "execute_result"
    }
   ],
   "source": [
    "data_raw_eroski[3]"
   ]
  },
  {
   "cell_type": "code",
   "execution_count": 83,
   "metadata": {},
   "outputs": [],
   "source": [
    "data_beer_eroski= pd.DataFrame(index=range(0,len(data_raw_eroski)),columns=['price','price_liter',\n",
    "                                                                           'title','promotion','brand',\n",
    "                                                                          'container','volumen_unid',\n",
    "                                                                          'quantity_pack','image_url',\n",
    "                                                                        'supermarket'])\n",
    "for beer_number in range(len(data_raw_eroski)):\n",
    "    data_beer_eroski.iloc[beer_number,0] = get_price_eroski(data_raw_eroski[beer_number])\n",
    "    data_beer_eroski.iloc[beer_number,1] = get_price_liter_eroski(data_raw_eroski[beer_number])\n",
    "    data_beer_eroski.iloc[beer_number,2] = get_tittle_eroski(data_raw_eroski[beer_number])\n",
    "    data_beer_eroski.iloc[beer_number,3] = get_promotion_eroski(data_raw_eroski[beer_number])\n",
    "    data_beer_eroski.iloc[beer_number,4] = get_brand_eroski(data_raw_eroski[beer_number])\n",
    "    data_beer_eroski.iloc[beer_number,5] = get_container_eroski(data_raw_eroski[beer_number])\n",
    "    data_beer_eroski.iloc[beer_number,6] = get_volumen_unid_eroski(data_raw_eroski[beer_number])\n",
    "    data_beer_eroski.iloc[beer_number,7] = get_quantity_pack_eroski(data_raw_eroski[beer_number])\n",
    "    data_beer_eroski.iloc[beer_number,8] = 'Not image'\n",
    "    data_beer_eroski.iloc[beer_number,9] = 'Eroski'"
   ]
  },
  {
   "cell_type": "code",
   "execution_count": 84,
   "metadata": {},
   "outputs": [
    {
     "data": {
      "text/html": [
       "<div>\n",
       "<style scoped>\n",
       "    .dataframe tbody tr th:only-of-type {\n",
       "        vertical-align: middle;\n",
       "    }\n",
       "\n",
       "    .dataframe tbody tr th {\n",
       "        vertical-align: top;\n",
       "    }\n",
       "\n",
       "    .dataframe thead th {\n",
       "        text-align: right;\n",
       "    }\n",
       "</style>\n",
       "<table border=\"1\" class=\"dataframe\">\n",
       "  <thead>\n",
       "    <tr style=\"text-align: right;\">\n",
       "      <th></th>\n",
       "      <th>price</th>\n",
       "      <th>price_liter</th>\n",
       "      <th>title</th>\n",
       "      <th>promotion</th>\n",
       "      <th>brand</th>\n",
       "      <th>container</th>\n",
       "      <th>volumen_unid</th>\n",
       "      <th>quantity_pack</th>\n",
       "      <th>image_url</th>\n",
       "      <th>supermarket</th>\n",
       "    </tr>\n",
       "  </thead>\n",
       "  <tbody>\n",
       "    <tr>\n",
       "      <th>0</th>\n",
       "      <td>12.59</td>\n",
       "      <td>1.58</td>\n",
       "      <td>Cerveza SAN MIGUEL, pack lata 24x33 cl</td>\n",
       "      <td>No promotion</td>\n",
       "      <td>san miguel</td>\n",
       "      <td>lata</td>\n",
       "      <td>33 cl</td>\n",
       "      <td>24</td>\n",
       "      <td>Not image</td>\n",
       "      <td>Eroski</td>\n",
       "    </tr>\n",
       "    <tr>\n",
       "      <th>1</th>\n",
       "      <td>6.47</td>\n",
       "      <td>1.64</td>\n",
       "      <td>Cerveza SAN MIGUEL, pack lata 12x33 cl</td>\n",
       "      <td>No promotion</td>\n",
       "      <td>san miguel</td>\n",
       "      <td>lata</td>\n",
       "      <td>33 cl</td>\n",
       "      <td>12</td>\n",
       "      <td>Not image</td>\n",
       "      <td>Eroski</td>\n",
       "    </tr>\n",
       "    <tr>\n",
       "      <th>2</th>\n",
       "      <td>6.72</td>\n",
       "      <td>1.7</td>\n",
       "      <td>Cerveza MAHOU Clásica, pack 12x33 cl</td>\n",
       "      <td>No promotion</td>\n",
       "      <td>mahou clásica</td>\n",
       "      <td>No specified</td>\n",
       "      <td>33 cl</td>\n",
       "      <td>12</td>\n",
       "      <td>Not image</td>\n",
       "      <td>Eroski</td>\n",
       "    </tr>\n",
       "    <tr>\n",
       "      <th>3</th>\n",
       "      <td>7.75</td>\n",
       "      <td>0.97</td>\n",
       "      <td>Cerveza MAHOU 5 Estrellas, pack 24x33 cl</td>\n",
       "      <td>13,59 € Antes</td>\n",
       "      <td>mahou 5 estrellas</td>\n",
       "      <td>No specified</td>\n",
       "      <td>33 cl</td>\n",
       "      <td>24</td>\n",
       "      <td>Not image</td>\n",
       "      <td>Eroski</td>\n",
       "    </tr>\n",
       "    <tr>\n",
       "      <th>4</th>\n",
       "      <td>5.31</td>\n",
       "      <td>1.76</td>\n",
       "      <td>Cerveza SAN MIGUEL, pack botellín 12x25 cl</td>\n",
       "      <td>2ª unidad -50%</td>\n",
       "      <td>san miguel</td>\n",
       "      <td>No specified</td>\n",
       "      <td>25 cl</td>\n",
       "      <td>12</td>\n",
       "      <td>Not image</td>\n",
       "      <td>Eroski</td>\n",
       "    </tr>\n",
       "    <tr>\n",
       "      <th>...</th>\n",
       "      <td>...</td>\n",
       "      <td>...</td>\n",
       "      <td>...</td>\n",
       "      <td>...</td>\n",
       "      <td>...</td>\n",
       "      <td>...</td>\n",
       "      <td>...</td>\n",
       "      <td>...</td>\n",
       "      <td>...</td>\n",
       "      <td>...</td>\n",
       "    </tr>\n",
       "    <tr>\n",
       "      <th>266</th>\n",
       "      <td>0.92</td>\n",
       "      <td>1.84</td>\n",
       "      <td>Cerveza especial CRUZCAMPO, lata 50 cl</td>\n",
       "      <td>No promotion</td>\n",
       "      <td>especial cruzcampo</td>\n",
       "      <td>lata</td>\n",
       "      <td>50 cl</td>\n",
       "      <td>1</td>\n",
       "      <td>Not image</td>\n",
       "      <td>Eroski</td>\n",
       "    </tr>\n",
       "    <tr>\n",
       "      <th>267</th>\n",
       "      <td>3.45</td>\n",
       "      <td>10.45</td>\n",
       "      <td>Cerveza roja BELZEBUTH, botellín 33 cl</td>\n",
       "      <td>No promotion</td>\n",
       "      <td>roja belzebuth</td>\n",
       "      <td>No specified</td>\n",
       "      <td>33 cl</td>\n",
       "      <td>1</td>\n",
       "      <td>Not image</td>\n",
       "      <td>Eroski</td>\n",
       "    </tr>\n",
       "    <tr>\n",
       "      <th>268</th>\n",
       "      <td>2.05</td>\n",
       "      <td>6.21</td>\n",
       "      <td>Cerveza Lager LA VIRGEN, botellín 33 cl</td>\n",
       "      <td>No promotion</td>\n",
       "      <td>lager la virgen</td>\n",
       "      <td>No specified</td>\n",
       "      <td>33 cl</td>\n",
       "      <td>1</td>\n",
       "      <td>Not image</td>\n",
       "      <td>Eroski</td>\n",
       "    </tr>\n",
       "    <tr>\n",
       "      <th>269</th>\n",
       "      <td>2.1</td>\n",
       "      <td>4.2</td>\n",
       "      <td>Cerveza ambiciosa roja AMBAR, botellín 33 cl</td>\n",
       "      <td>No promotion</td>\n",
       "      <td>ambiciosa roja ambar</td>\n",
       "      <td>No specified</td>\n",
       "      <td>33 cl</td>\n",
       "      <td>1</td>\n",
       "      <td>Not image</td>\n",
       "      <td>Eroski</td>\n",
       "    </tr>\n",
       "    <tr>\n",
       "      <th>270</th>\n",
       "      <td>1.23</td>\n",
       "      <td>3.73</td>\n",
       "      <td>Cerveza alemana LOWENBRAU HELL, botellín 33 cl</td>\n",
       "      <td>No promotion</td>\n",
       "      <td>alemana lowenbrau hell</td>\n",
       "      <td>No specified</td>\n",
       "      <td>33 cl</td>\n",
       "      <td>1</td>\n",
       "      <td>Not image</td>\n",
       "      <td>Eroski</td>\n",
       "    </tr>\n",
       "  </tbody>\n",
       "</table>\n",
       "<p>271 rows × 10 columns</p>\n",
       "</div>"
      ],
      "text/plain": [
       "     price price_liter                                           title  \\\n",
       "0    12.59        1.58          Cerveza SAN MIGUEL, pack lata 24x33 cl   \n",
       "1     6.47        1.64          Cerveza SAN MIGUEL, pack lata 12x33 cl   \n",
       "2     6.72         1.7            Cerveza MAHOU Clásica, pack 12x33 cl   \n",
       "3     7.75        0.97        Cerveza MAHOU 5 Estrellas, pack 24x33 cl   \n",
       "4     5.31        1.76      Cerveza SAN MIGUEL, pack botellín 12x25 cl   \n",
       "..     ...         ...                                             ...   \n",
       "266   0.92        1.84          Cerveza especial CRUZCAMPO, lata 50 cl   \n",
       "267   3.45       10.45          Cerveza roja BELZEBUTH, botellín 33 cl   \n",
       "268   2.05        6.21         Cerveza Lager LA VIRGEN, botellín 33 cl   \n",
       "269    2.1         4.2    Cerveza ambiciosa roja AMBAR, botellín 33 cl   \n",
       "270   1.23        3.73  Cerveza alemana LOWENBRAU HELL, botellín 33 cl   \n",
       "\n",
       "          promotion                   brand     container volumen_unid  \\\n",
       "0      No promotion              san miguel          lata        33 cl   \n",
       "1      No promotion              san miguel          lata        33 cl   \n",
       "2      No promotion           mahou clásica  No specified        33 cl   \n",
       "3     13,59 € Antes       mahou 5 estrellas  No specified        33 cl   \n",
       "4    2ª unidad -50%              san miguel  No specified        25 cl   \n",
       "..              ...                     ...           ...          ...   \n",
       "266    No promotion      especial cruzcampo          lata        50 cl   \n",
       "267    No promotion          roja belzebuth  No specified        33 cl   \n",
       "268    No promotion         lager la virgen  No specified        33 cl   \n",
       "269    No promotion    ambiciosa roja ambar  No specified        33 cl   \n",
       "270    No promotion  alemana lowenbrau hell  No specified        33 cl   \n",
       "\n",
       "    quantity_pack  image_url supermarket  \n",
       "0              24  Not image      Eroski  \n",
       "1              12  Not image      Eroski  \n",
       "2              12  Not image      Eroski  \n",
       "3              24  Not image      Eroski  \n",
       "4              12  Not image      Eroski  \n",
       "..            ...        ...         ...  \n",
       "266             1  Not image      Eroski  \n",
       "267             1  Not image      Eroski  \n",
       "268             1  Not image      Eroski  \n",
       "269             1  Not image      Eroski  \n",
       "270             1  Not image      Eroski  \n",
       "\n",
       "[271 rows x 10 columns]"
      ]
     },
     "execution_count": 84,
     "metadata": {},
     "output_type": "execute_result"
    }
   ],
   "source": [
    "data_beer_eroski.head(271)"
   ]
  },
  {
   "cell_type": "code",
   "execution_count": null,
   "metadata": {},
   "outputs": [],
   "source": []
  },
  {
   "cell_type": "code",
   "execution_count": 75,
   "metadata": {},
   "outputs": [],
   "source": [
    "def save_df_products(data,name):\n",
    "    data.to_csv(f'../data/processed/data_beer_{name}.csv', index=False)"
   ]
  },
  {
   "cell_type": "code",
   "execution_count": 76,
   "metadata": {},
   "outputs": [],
   "source": [
    "save_df_products(data_beer_carrefour, 'carrefour')\n",
    "save_df_products(data_beer_alcampo, 'alcampo')\n",
    "save_df_products(data_beer_corteingles, 'corteingles')\n",
    "save_df_products(data_beer_dia,'dia')\n",
    "save_df_products(data_beer_eroski,'eroski')"
   ]
  },
  {
   "cell_type": "code",
   "execution_count": 106,
   "metadata": {},
   "outputs": [],
   "source": []
  },
  {
   "cell_type": "code",
   "execution_count": null,
   "metadata": {},
   "outputs": [],
   "source": []
  },
  {
   "cell_type": "code",
   "execution_count": null,
   "metadata": {},
   "outputs": [],
   "source": []
  }
 ],
 "metadata": {
  "kernelspec": {
   "display_name": "Python [conda env:IronHack_env]",
   "language": "python",
   "name": "conda-env-IronHack_env-py"
  },
  "language_info": {
   "codemirror_mode": {
    "name": "ipython",
    "version": 3
   },
   "file_extension": ".py",
   "mimetype": "text/x-python",
   "name": "python",
   "nbconvert_exporter": "python",
   "pygments_lexer": "ipython3",
   "version": "3.7.7"
  }
 },
 "nbformat": 4,
 "nbformat_minor": 4
}
