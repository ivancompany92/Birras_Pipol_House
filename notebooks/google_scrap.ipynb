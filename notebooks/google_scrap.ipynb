{
 "cells": [
  {
   "cell_type": "markdown",
   "metadata": {},
   "source": [
    "### Data Vizualization"
   ]
  },
  {
   "cell_type": "code",
   "execution_count": 16,
   "metadata": {},
   "outputs": [
    {
     "name": "stdout",
     "output_type": "stream",
     "text": [
      "What do you want to download?\n"
     ]
    },
    {
     "name": "stdin",
     "output_type": "stream",
     "text": [
      " cruzcampo cerveza\n"
     ]
    },
    {
     "name": "stdout",
     "output_type": "stream",
     "text": [
      "Images downloaded = 401\r"
     ]
    }
   ],
   "source": [
    "import os\n",
    "from selenium import webdriver\n",
    "from selenium.webdriver.firefox.options import Options\n",
    "from selenium.webdriver.common.keys import Keys\n",
    "# import requests\n",
    "import urllib.request\n",
    "import time\n",
    "# import sys\n",
    "# Making a search taking user input\n",
    "print(\"What do you want to download?\")\n",
    "download = input()\n",
    "site = 'https://www.google.com/search?tbm=isch&q='+download\n",
    "# Creating folder directory (if not exists) with input value\n",
    "folder_name = download.replace(' ','_').lower()\n",
    "path = ('../beer_images/'+folder_name+'/')\n",
    "if not os.path.exists(path):\n",
    "    os.mkdir(path)\n",
    "# Get path of your Firefox/Chrome drivers and make a connection with it\n",
    "os.environ['PATH'] = f'{os.environ[\"PATH\"]}:{os.getcwd()}'  \n",
    "os.environ['PATH']\n",
    "driver_options = Options()\n",
    "driver_options.headless = True\n",
    "driver = webdriver.Firefox(options=driver_options)\n",
    "\n",
    "# passing site url\n",
    "driver.get(site)\n",
    "elm=driver.find_element_by_tag_name('html')\n",
    "i = 0\n",
    "while i<10:  \n",
    "    # for scrolling page to the bottom\n",
    "#     driver.execute_script(\"window.scrollBy(0,document.body.scrollHeight)\")\n",
    "    elm=driver.find_element_by_tag_name('html')\n",
    "    elm.send_keys(Keys.END)\n",
    "    try:\n",
    "        # for clicking show more results button\n",
    "        driver.find_element_by_xpath(\"/html/body/div[2]/c-wiz/div[3]/div[1]/div/div/div/div/div[5]/input\").click()\n",
    "    except Exception as e:\n",
    "        pass\n",
    "    time.sleep(1)\n",
    "    i+=1\n",
    "# Identifies the elements to store in a list the url of the images\n",
    "element_1=driver.find_element_by_xpath('//*[@id=\"yDmH0d\"]/div[2]/c-wiz/div[4]')\n",
    "images_google=[]\n",
    "for i in element_1.find_elements_by_css_selector('div.bRMDJf.islir'):\n",
    "    if i.find_element_by_css_selector('img.rg_i.Q4LuWd').get_attribute('src') != None:\n",
    "        images_google.append(i.find_element_by_css_selector('img.rg_i.Q4LuWd').get_attribute('src'))\n",
    "    elif i.find_element_by_css_selector('img.rg_i.Q4LuWd').get_attribute('data-src') != None:\n",
    "        images_google.append(i.find_element_by_css_selector('img.rg_i.Q4LuWd').get_attribute('data-src'))\n",
    "    else:\n",
    "        pass\n",
    "#close connection\n",
    "driver.close()\n",
    "# Extract images to local disk\n",
    "count=1\n",
    "for i in images_google:\n",
    "    urllib.request.urlretrieve(i, path+str('{:d}'.format(count))+\".jpg\")\n",
    "#     urllib.request.urlretrieve(i, path+str('{:d}'.format(count).zfill(6))+\".jpg\")\n",
    "    count += 1\n",
    "    print('Images downloaded = '+str(count),end='\\r')"
   ]
  },
  {
   "cell_type": "code",
   "execution_count": 2,
   "metadata": {},
   "outputs": [],
   "source": []
  },
  {
   "cell_type": "code",
   "execution_count": 3,
   "metadata": {},
   "outputs": [],
   "source": []
  },
  {
   "cell_type": "code",
   "execution_count": null,
   "metadata": {},
   "outputs": [],
   "source": []
  },
  {
   "cell_type": "code",
   "execution_count": null,
   "metadata": {},
   "outputs": [],
   "source": []
  },
  {
   "cell_type": "code",
   "execution_count": 6,
   "metadata": {},
   "outputs": [],
   "source": []
  },
  {
   "cell_type": "code",
   "execution_count": null,
   "metadata": {},
   "outputs": [],
   "source": []
  },
  {
   "cell_type": "code",
   "execution_count": null,
   "metadata": {},
   "outputs": [],
   "source": []
  }
 ],
 "metadata": {
  "kernelspec": {
   "display_name": "Python [conda env:IronHack_env]",
   "language": "python",
   "name": "conda-env-IronHack_env-py"
  },
  "language_info": {
   "codemirror_mode": {
    "name": "ipython",
    "version": 3
   },
   "file_extension": ".py",
   "mimetype": "text/x-python",
   "name": "python",
   "nbconvert_exporter": "python",
   "pygments_lexer": "ipython3",
   "version": "3.7.7"
  }
 },
 "nbformat": 4,
 "nbformat_minor": 4
}
